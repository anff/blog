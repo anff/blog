{
 "cells": [
  {
   "cell_type": "markdown",
   "metadata": {},
   "source": [
    "# `if` Statement"
   ]
  },
  {
   "cell_type": "code",
   "execution_count": 55,
   "metadata": {},
   "outputs": [
    {
     "name": "stdout",
     "output_type": "stream",
     "text": [
      "you can see this\n",
      "you can see this\n"
     ]
    }
   ],
   "source": [
    "%%bash\n",
    "\n",
    "if true\n",
    "then\n",
    "    echo \"you can see this\"\n",
    "fi\n",
    "\n",
    "if false\n",
    "then\n",
    "    echo \"you can't see this\"\n",
    "else\n",
    "    echo \"you can see this\"\n",
    "fi\n",
    "\n"
   ]
  },
  {
   "cell_type": "markdown",
   "metadata": {},
   "source": [
    "# `false` and `true` Command"
   ]
  },
  {
   "cell_type": "code",
   "execution_count": 56,
   "metadata": {},
   "outputs": [
    {
     "name": "stdout",
     "output_type": "stream",
     "text": [
      "false and true are commands\n",
      "they are located at /bin/false and /bin/true\n",
      "false return 1\n",
      "true return 0\n"
     ]
    }
   ],
   "source": [
    "%%bash\n",
    "\n",
    "echo false and true are commands\n",
    "echo they are located at $(which false) and $(which true)\n",
    "false\n",
    "echo false return $?\n",
    "true\n",
    "echo true return $?"
   ]
  },
  {
   "cell_type": "markdown",
   "metadata": {},
   "source": [
    "# `[` Command"
   ]
  },
  {
   "cell_type": "code",
   "execution_count": 57,
   "metadata": {},
   "outputs": [
    {
     "name": "stdout",
     "output_type": "stream",
     "text": [
      "[ is a command\n",
      "it is located at /usr/bin/[\n",
      "it should end with ]\n",
      "empty [ ] return 1\n",
      "white space is needed between [ and ], because [] is not a command\n",
      "[ false ] is 0 or true, since false is not a empty string\n"
     ]
    }
   ],
   "source": [
    "%%bash\n",
    "\n",
    "echo '[' is a command\n",
    "\n",
    "echo it is located at $(which '[')\n",
    "\n",
    "echo it should end with ']'\n",
    "[ ]\n",
    "echo empty [ ] return $?\n",
    "echo white space is needed between '[' and ']', because '[]' is not a command\n",
    "\n",
    "[ false ]\n",
    "echo '[ false ]' is $? or true, since false is not a empty string\n"
   ]
  },
  {
   "cell_type": "markdown",
   "metadata": {},
   "source": [
    "# `for` Statement"
   ]
  },
  {
   "cell_type": "code",
   "execution_count": 58,
   "metadata": {},
   "outputs": [
    {
     "name": "stdout",
     "output_type": "stream",
     "text": [
      "1\n",
      "2\n",
      "3\n"
     ]
    }
   ],
   "source": [
    "%%bash \n",
    "\n",
    "for i in 1 2 3\n",
    "do\n",
    "    echo $i\n",
    "done"
   ]
  },
  {
   "cell_type": "code",
   "execution_count": null,
   "metadata": {},
   "outputs": [],
   "source": []
  }
 ],
 "metadata": {
  "kernelspec": {
   "display_name": "Python 2",
   "language": "python",
   "name": "python2"
  },
  "language_info": {
   "codemirror_mode": {
    "name": "ipython",
    "version": 2
   },
   "file_extension": ".py",
   "mimetype": "text/x-python",
   "name": "python",
   "nbconvert_exporter": "python",
   "pygments_lexer": "ipython2",
   "version": "2.7.16"
  }
 },
 "nbformat": 4,
 "nbformat_minor": 2
}
