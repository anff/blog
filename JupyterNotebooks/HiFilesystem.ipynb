{
 "cells": [
  {
   "cell_type": "markdown",
   "metadata": {
    "toc": true
   },
   "source": [
    "<h1>Table of Contents<span class=\"tocSkip\"></span></h1>\n",
    "<div class=\"toc\"><ul class=\"toc-item\"><li><span><a href=\"#Tools\" data-toc-modified-id=\"Tools-1\"><span class=\"toc-item-num\">1&nbsp;&nbsp;</span>Tools</a></span></li><li><span><a href=\"#path\" data-toc-modified-id=\"path-2\"><span class=\"toc-item-num\">2&nbsp;&nbsp;</span>path</a></span><ul class=\"toc-item\"><li><span><a href=\"#string-and-unicode\" data-toc-modified-id=\"string-and-unicode-2.1\"><span class=\"toc-item-num\">2.1&nbsp;&nbsp;</span>string and unicode</a></span></li><li><span><a href=\"#path()\" data-toc-modified-id=\"path()-2.2\"><span class=\"toc-item-num\">2.2&nbsp;&nbsp;</span>path()</a></span></li><li><span><a href=\"#string()\" data-toc-modified-id=\"string()-2.3\"><span class=\"toc-item-num\">2.3&nbsp;&nbsp;</span>string()</a></span></li></ul></li><li><span><a href=\"#Path-decomposition\" data-toc-modified-id=\"Path-decomposition-3\"><span class=\"toc-item-num\">3&nbsp;&nbsp;</span>Path decomposition</a></span></li><li><span><a href=\"#directory_entry\" data-toc-modified-id=\"directory_entry-4\"><span class=\"toc-item-num\">4&nbsp;&nbsp;</span>directory_entry</a></span></li><li><span><a href=\"#directory_iterator\" data-toc-modified-id=\"directory_iterator-5\"><span class=\"toc-item-num\">5&nbsp;&nbsp;</span>directory_iterator</a></span></li><li><span><a href=\"#Non-member-function\" data-toc-modified-id=\"Non-member-function-6\"><span class=\"toc-item-num\">6&nbsp;&nbsp;</span>Non-member function</a></span></li></ul></div>"
   ]
  },
  {
   "cell_type": "markdown",
   "metadata": {},
   "source": [
    "# Tools"
   ]
  },
  {
   "cell_type": "markdown",
   "metadata": {},
   "source": [
    "```bash\n",
    "sudo add-apt-repository ppa:jonathonf/gcc-9.0\n",
    "sudo apt-get install gcc-9 g++-9\n",
    "sudo update-alternatives --install /usr/bin/gcc gcc /usr/bin/gcc-9 900 --slave /usr/bin/g++ g++ /usr/bin/g++-9\n",
    "```"
   ]
  },
  {
   "cell_type": "code",
   "execution_count": 214,
   "metadata": {},
   "outputs": [
    {
     "name": "stdout",
     "output_type": "stream",
     "text": [
      "g++ (Ubuntu 9-20190428-1ubuntu1~18.04.york0) 9.0.1 20190428 (prerelease) [gcc-9-branch revision 270630]\n"
     ]
    }
   ],
   "source": [
    "%%bash\n",
    "g++ --version | grep g++"
   ]
  },
  {
   "cell_type": "code",
   "execution_count": 215,
   "metadata": {},
   "outputs": [
    {
     "name": "stdout",
     "output_type": "stream",
     "text": [
      "Overwriting cxx.cxx\n"
     ]
    }
   ],
   "source": [
    "%%file cxx.cxx\n",
    "\n",
    "#include <iostream>\n",
    "#include <fstream>\n",
    "#include <string>\n",
    "#include <stdlib.h>\n",
    "\n",
    "bool starts_with(const std::string& str, const std::string& sub) {\n",
    "    return sub.length() <= str.length()\n",
    "        && equal(sub.begin(), sub.end(), str.begin());\n",
    "}\n",
    "\n",
    "int main(int argc, char const *argv[]) {\n",
    "    using namespace std;\n",
    "    \n",
    "    std::string cmd = \"g++\";\n",
    "    cmd.append(\" test.cxx\");\n",
    "    \n",
    "    for(int a = 1; a < argc; a++) {\n",
    "        std::string arg = argv[a];\n",
    "        if(starts_with(arg, \"-std=\")) {\n",
    "            cmd.append(\" \").append(arg);\n",
    "        } else if(starts_with(arg, \"-l\")) {\n",
    "            cmd.append(\" \").append(arg);\n",
    "        } else {\n",
    "            cout << \"unkownn arguments: \" << arg << endl;\n",
    "            return 1;\n",
    "        }\n",
    "    }\n",
    "    \n",
    "    \n",
    "    ofstream of(\"test.cxx\");\n",
    "    for(;cin;) {\n",
    "        std::string line;\n",
    "        getline(cin, line);\n",
    "        of << line << endl;\n",
    "    }\n",
    "    return system((cmd + \" -o test && ./test\").c_str());\n",
    "}"
   ]
  },
  {
   "cell_type": "code",
   "execution_count": 216,
   "metadata": {},
   "outputs": [],
   "source": [
    "%%script bash\n",
    "g++ -std=c++03 cxx.cxx -o cxx"
   ]
  },
  {
   "cell_type": "code",
   "execution_count": 217,
   "metadata": {},
   "outputs": [
    {
     "name": "stdout",
     "output_type": "stream",
     "text": [
      "Overwriting demangle.h\n"
     ]
    }
   ],
   "source": [
    "%%file demangle.h\n",
    "\n",
    "#include <string>\n",
    "#include <cxxabi.h>\n",
    "#include <stdlib.h>\n",
    "\n",
    "inline std::string demangle(char const *name) {\n",
    "    int status;\n",
    "    char * realname = abi::__cxa_demangle(name,0,0, &status);\n",
    "    std::string realname_ = realname;\n",
    "    free(realname);\n",
    "    return realname_;    \n",
    "}"
   ]
  },
  {
   "cell_type": "markdown",
   "metadata": {},
   "source": [
    "# path"
   ]
  },
  {
   "cell_type": "markdown",
   "metadata": {},
   "source": [
    "## string and unicode"
   ]
  },
  {
   "cell_type": "code",
   "execution_count": 223,
   "metadata": {},
   "outputs": [
    {
     "name": "stdout",
     "output_type": "stream",
     "text": [
      "😊\n",
      "char8_t const*\n",
      "0x562e09dab27c\n",
      "0x562e09dab282\n",
      "0x562e09dab288\n",
      "😊\n"
     ]
    }
   ],
   "source": [
    "%%script ./cxx -std=c++2a -lstdc++fs\n",
    "\n",
    "#include <iostream>\n",
    "#include <filesystem>\n",
    "#include <string.h>\n",
    "#include \"demangle.h\"\n",
    "\n",
    "int main() {\n",
    "    using namespace std;\n",
    "    namespace fs = std::filesystem;\n",
    "\n",
    "    const char *ptr = \"\\U0001F60A\";\n",
    "    cout << ptr << endl;\n",
    "\n",
    "    // g++ version <= 8, auto -> char const *\n",
    "    // g++ version >= 9, auto -> char8_t const *\n",
    "    auto u8_ptr = u8\"\\U0001F60A\";\n",
    "    cout << demangle(typeid(u8_ptr).name()) << endl;\n",
    "    // you would see content of string, for g++ version <= 8\n",
    "    // you would see a pointer address, for g++ version >= 8\n",
    "    cout << u8_ptr << endl;\n",
    "\n",
    "    const char16_t *u16_ptr = u\"\\U0001F60A\";\n",
    "    cout << u16_ptr << endl;\n",
    "    \n",
    "    const char32_t *u32_ptr = U\"\\U0001F60A\";\n",
    "    cout << u32_ptr << endl;\n",
    "\n",
    "    std::string str = ptr;\n",
    "    std::u8string u8_str = u8_ptr;\n",
    "    std::u16string u16_str = u16_ptr;\n",
    "    std::u32string u32_str = u32_ptr;\n",
    "     \n",
    "    cout << str << endl;\n",
    "    \n",
    "    // can't use the following, we have no u8cout, u16cout, u32cout\n",
    "    // cout << u8_str << endl;\n",
    "    // cout << u16_str << endl;\n",
    "    // cout << u32_str << endl;\n",
    "}\n"
   ]
  },
  {
   "cell_type": "markdown",
   "metadata": {},
   "source": [
    "## path()"
   ]
  },
  {
   "cell_type": "code",
   "execution_count": 251,
   "metadata": {},
   "outputs": [],
   "source": [
    "%%script ./cxx -std=c++2a -lstdc++fs\n",
    "\n",
    "#include <iostream>\n",
    "#include <filesystem>\n",
    "#include <string.h>\n",
    "#include \"demangle.h\"\n",
    "\n",
    "int main() {\n",
    "    using namespace std;\n",
    "    namespace fs = std::filesystem;\n",
    "    \n",
    "    fs::path path1 { \"\\U0001F60A\" };\n",
    "    fs::path path2 { u8\"\\U0001F60A\" };\n",
    "    \n",
    "    // g++ refuse to convert unicode for UTF-16\n",
    "    fs::path path4 { u\"ascii\" };\n",
    "    // fs::path path4 { u\"\\U0001F60A\" };\n",
    "    fs::path path5 { U\"\\U0001F60A\" };\n",
    "}\n"
   ]
  },
  {
   "cell_type": "markdown",
   "metadata": {},
   "source": [
    "## string()"
   ]
  },
  {
   "cell_type": "code",
   "execution_count": 229,
   "metadata": {},
   "outputs": [
    {
     "name": "stdout",
     "output_type": "stream",
     "text": [
      "\"😊\"\n",
      "😊\n"
     ]
    }
   ],
   "source": [
    "%%script ./cxx -std=c++2a -lstdc++fs\n",
    "\n",
    "#include <iostream>\n",
    "#include <filesystem>\n",
    "#include <string.h>\n",
    "#include \"demangle.h\"\n",
    "\n",
    "int main() {\n",
    "    using namespace std;\n",
    "    namespace fs = std::filesystem;\n",
    "\n",
    "    fs::path path { \"\\U0001F60A\" };\n",
    "    cout << path << endl;\n",
    "    cout << path.string() << endl;\n",
    "    \n",
    "    // If gcc version <= 8, u8string() will return string\n",
    "    // This will change in the future, u8string() will return u8string\n",
    "    // cout << path.u8string() << endl;\n",
    "    \n",
    "    // not working, we have no u16cout, u32cout\n",
    "    // cout << path.u16string() << endl;\n",
    "    // cout << path.u32string() << endl;\n",
    "}"
   ]
  },
  {
   "cell_type": "markdown",
   "metadata": {},
   "source": [
    "# Path decomposition"
   ]
  },
  {
   "cell_type": "code",
   "execution_count": 230,
   "metadata": {},
   "outputs": [
    {
     "name": "stdout",
     "output_type": "stream",
     "text": [
      "\"/home/liangh/projects/blog/JupyterNotebooks/a.b\"\n",
      "\"\"\n",
      "\"/\"\n",
      "\"home/liangh/projects/blog/JupyterNotebooks/a.b\"\n",
      "\"/home/liangh/projects/blog/JupyterNotebooks\"\n",
      "\"a.b\"\n",
      "\"a\"\n",
      "\".b\"\n"
     ]
    }
   ],
   "source": [
    "%%script ./cxx -std=c++17 -lstdc++fs\n",
    "\n",
    "#include <iostream>\n",
    "#include <filesystem>\n",
    "\n",
    "int main() {\n",
    "    using namespace std;\n",
    "    namespace fs = std::filesystem;\n",
    "    \n",
    "    auto path = fs::current_path();\n",
    "    path.append(\"a.b\");\n",
    "    cout <<  path << endl;\n",
    "    cout <<  path.root_name() << endl;\n",
    "    cout <<  path.root_path() << endl;\n",
    "    cout <<  path.relative_path() << endl;\n",
    "    cout <<  path.parent_path() << endl;\n",
    "    cout <<  path.filename() << endl;\n",
    "    cout <<  path.stem() << endl;\n",
    "    cout <<  path.extension() << endl;\n",
    "        \n",
    "}\n"
   ]
  },
  {
   "cell_type": "markdown",
   "metadata": {},
   "source": [
    "# directory_entry"
   ]
  },
  {
   "cell_type": "code",
   "execution_count": 231,
   "metadata": {},
   "outputs": [
    {
     "name": "stdout",
     "output_type": "stream",
     "text": [
      "1\n",
      "1\n",
      "0\n",
      "0\n"
     ]
    }
   ],
   "source": [
    "%%script ./cxx -std=c++17 -lstdc++fs\n",
    "\n",
    "#include <iostream>\n",
    "#include <filesystem>\n",
    "\n",
    "int main() {\n",
    "    using namespace std;\n",
    "    namespace fs = std::filesystem;\n",
    "    \n",
    "    auto path = fs::current_path();\n",
    "    fs::directory_entry de { path };\n",
    "    cout << de.exists() << endl;\n",
    "    cout << de.is_directory() << endl;\n",
    "    cout << de.is_regular_file() << endl;\n",
    "    cout << de.is_symlink() << endl;\n",
    "    try {\n",
    "        cout << de.file_size() << endl;        \n",
    "    } catch(...) {        \n",
    "    }\n",
    "        \n",
    "}\n"
   ]
  },
  {
   "cell_type": "markdown",
   "metadata": {},
   "source": [
    "# directory_iterator"
   ]
  },
  {
   "cell_type": "code",
   "execution_count": 79,
   "metadata": {},
   "outputs": [
    {
     "name": "stdout",
     "output_type": "stream",
     "text": [
      "\"nullptr\"\n",
      "\"structure_binding_tuple.cxx\"\n",
      "\"nullptr\"\n",
      "\"structure_binding_tuple.cxx\"\n"
     ]
    }
   ],
   "source": [
    "%%script ./cxx -std=c++17 -lstdc++fs\n",
    "\n",
    "#include <iostream>\n",
    "#include <filesystem>\n",
    "\n",
    "int main() {\n",
    "    using namespace std;\n",
    "    namespace fs = std::filesystem;\n",
    "    \n",
    "    auto path = fs::current_path();\n",
    "    fs::directory_iterator di { path };\n",
    "    for(int i = 0; di != fs::directory_iterator() && i < 2; ++di, ++i) {\n",
    "        cout << (*di).path().filename() << endl;\n",
    "    }\n",
    " \n",
    "    auto i = 0;\n",
    "    for(auto const &de : fs::directory_iterator(path)) {\n",
    "        // de: const &directory_entry\n",
    "        cout << de.path().filename() << endl;\n",
    "\n",
    "        ++i;\n",
    "        if(i >=2) break;\n",
    "    }\n",
    "}\n"
   ]
  },
  {
   "cell_type": "markdown",
   "metadata": {},
   "source": [
    "# Non-member function"
   ]
  },
  {
   "cell_type": "code",
   "execution_count": 298,
   "metadata": {},
   "outputs": [
    {
     "name": "stdout",
     "output_type": "stream",
     "text": [
      "\"/home/liangh/projects/blog/JupyterNotebooks\"\n",
      "1875T\n",
      "\"/home/liangh/projects/blog/JupyterNotebooks/.\"\n",
      "\"/home/liangh/projects/blog/JupyterNotebooks\"\n",
      "\"/home/liangh/projects/blog/JupyterNotebooks\"\n",
      "\"/home/liangh/projects/blog\"\n",
      "\"..\"\n",
      "1\n",
      "00\n",
      "1\n"
     ]
    }
   ],
   "source": [
    "%%script ./cxx -std=c++17 -lstdc++fs\n",
    "\n",
    "#include <iostream>\n",
    "#include <filesystem>\n",
    "\n",
    "int main() {\n",
    "    using namespace std;\n",
    "    namespace fs = std::filesystem;\n",
    "\n",
    "    cout << fs::current_path() << endl;\n",
    "    cout << fs::space(fs::current_path()).available/(1024*1024*1024) << \"T\" << endl;\n",
    "    \n",
    "    fs::path path { \".\" };\n",
    "    auto parent_path = fs::canonical(path).parent_path();\n",
    "    cout << fs::absolute(path) << endl;\n",
    "    cout << fs::canonical(path) << endl;\n",
    "    cout << fs::weakly_canonical(path) << endl;\n",
    "    cout << (parent_path) << endl;\n",
    "    cout << fs::relative(parent_path) << endl;\n",
    "    \n",
    "    system(\"rm b -rf\");\n",
    "    fs::create_directory(fs::path{\"a\"});\n",
    "    fs::create_directory(fs::path{\"a/1\"});\n",
    "    fs::copy(fs::path{\"a\"}, fs::path{\"b\"}, fs::copy_options::recursive);\n",
    "    cout << exists(fs::path{\"b/1\"}) << endl;\n",
    "    fs::rename(fs::path{\"b/1\"}, fs::path{\"b/2\"});\n",
    "    fs::remove(fs::path{\"b/2\"});\n",
    "    cout << exists(fs::path{\"b/1\"}) << exists(fs::path{\"b/2\"}) << endl;\n",
    "    \n",
    "    cout << fs::is_directory(fs::current_path()) << endl;\n",
    "    \n",
    "    \n",
    "}\n"
   ]
  }
 ],
 "metadata": {
  "kernelspec": {
   "display_name": "Python 3",
   "language": "python",
   "name": "python3"
  },
  "language_info": {
   "codemirror_mode": {
    "name": "ipython",
    "version": 3
   },
   "file_extension": ".py",
   "mimetype": "text/x-python",
   "name": "python",
   "nbconvert_exporter": "python",
   "pygments_lexer": "ipython3",
   "version": "3.7.4"
  },
  "toc": {
   "base_numbering": 1,
   "nav_menu": {},
   "number_sections": true,
   "sideBar": true,
   "skip_h1_title": false,
   "title_cell": "Table of Contents",
   "title_sidebar": "Contents",
   "toc_cell": true,
   "toc_position": {},
   "toc_section_display": true,
   "toc_window_display": false
  }
 },
 "nbformat": 4,
 "nbformat_minor": 2
}
