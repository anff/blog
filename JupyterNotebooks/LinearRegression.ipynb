{
 "cells": [
  {
   "cell_type": "markdown",
   "metadata": {
    "toc": true
   },
   "source": [
    "<h1>Table of Contents<span class=\"tocSkip\"></span></h1>\n",
    "<div class=\"toc\"><ul class=\"toc-item\"><li><span><a href=\"#Implementation\" data-toc-modified-id=\"Implementation-1\"><span class=\"toc-item-num\">1&nbsp;&nbsp;</span>Implementation</a></span></li><li><span><a href=\"#Linear-Regression\" data-toc-modified-id=\"Linear-Regression-2\"><span class=\"toc-item-num\">2&nbsp;&nbsp;</span>Linear Regression</a></span></li><li><span><a href=\"#Ridge-Regression\" data-toc-modified-id=\"Ridge-Regression-3\"><span class=\"toc-item-num\">3&nbsp;&nbsp;</span>Ridge Regression</a></span></li><li><span><a href=\"#Lasso\" data-toc-modified-id=\"Lasso-4\"><span class=\"toc-item-num\">4&nbsp;&nbsp;</span>Lasso</a></span></li><li><span><a href=\"#Comparison\" data-toc-modified-id=\"Comparison-5\"><span class=\"toc-item-num\">5&nbsp;&nbsp;</span>Comparison</a></span></li><li><span><a href=\"#Benchmark\" data-toc-modified-id=\"Benchmark-6\"><span class=\"toc-item-num\">6&nbsp;&nbsp;</span>Benchmark</a></span><ul class=\"toc-item\"><li><span><a href=\"#Linear-Regression\" data-toc-modified-id=\"Linear-Regression-6.1\"><span class=\"toc-item-num\">6.1&nbsp;&nbsp;</span>Linear Regression</a></span></li><li><span><a href=\"#Lasso\" data-toc-modified-id=\"Lasso-6.2\"><span class=\"toc-item-num\">6.2&nbsp;&nbsp;</span>Lasso</a></span></li><li><span><a href=\"#inner-or-sum\" data-toc-modified-id=\"inner-or-sum-6.3\"><span class=\"toc-item-num\">6.3&nbsp;&nbsp;</span><code>inner</code> or <code>sum</code></a></span></li><li><span><a href=\"#einsum-or-sum\" data-toc-modified-id=\"einsum-or-sum-6.4\"><span class=\"toc-item-num\">6.4&nbsp;&nbsp;</span><code>einsum</code> or <code>sum</code></a></span></li></ul></li></ul></div>"
   ]
  },
  {
   "cell_type": "markdown",
   "metadata": {},
   "source": [
    "# Implementation"
   ]
  },
  {
   "cell_type": "code",
   "execution_count": 1,
   "metadata": {},
   "outputs": [],
   "source": [
    "import numpy as np\n",
    "class LinearRegression:\n",
    "    \n",
    "    def __init__(self):\n",
    "        pass\n",
    "     \n",
    "    def fitQR(self, X, y):\n",
    "        X=np.c_[X,np.ones(shape=(X.shape[0],1),dtype=X.dtype)]\n",
    "        Q,R=np.linalg.qr(X, mode='reduced')\n",
    "        W=np.linalg.solve(R, Q.T.dot(y))\n",
    "        self.coeff_=W\n",
    "\n",
    "    def fitSVD(self, X, y):\n",
    "        X=np.c_[X,np.ones(shape=(X.shape[0],1),dtype=X.dtype)]\n",
    "        U,D,VT=np.linalg.svd(X, full_matrices=False)\n",
    "        W=VT.T.dot((1/D*U.T.dot(y)))\n",
    "        self.coeff_=W\n",
    "        \n",
    "    \n",
    "    def fit(self,X,y):\n",
    "        self.fitSVD(X,y)\n",
    "        \n",
    "    def predict(self, X):\n",
    "        X=np.c_[X,np.ones(shape=(X.shape[0],1),dtype=X.dtype)]\n",
    "        return np.dot(X,self.coeff_)\n",
    "        \n",
    "        \n",
    "class Ridge:\n",
    "    \n",
    "    def __init__(self,alpha=0.0):\n",
    "        self.alpha_ = alpha\n",
    "        pass\n",
    "    \n",
    "    def fit(self,X,y):\n",
    "        self.fitSVD(X,y)\n",
    "    \n",
    "\n",
    "    def fitSVD(self, X, y):\n",
    "        X=np.c_[X,np.ones(shape=(X.shape[0],1),dtype=X.dtype)]\n",
    "        U,D,VT=np.linalg.svd(X, full_matrices=False)\n",
    "        invD=1/(np.square(D)+self.alpha_)*D\n",
    "        W=VT.T.dot(invD*U.T.dot(y))\n",
    "        self.coeff_=W\n",
    "                \n",
    "    def predict(self, X):\n",
    "        X=np.c_[X,np.ones(shape=(X.shape[0],1),dtype=X.dtype)]\n",
    "        return np.dot(X,self.coeff_)\n",
    "\n",
    "class Lasso:\n",
    "    \n",
    "    def __init__(self,alpha=0.0):\n",
    "        self.alpha_ = alpha\n",
    "        pass\n",
    "    \n",
    "    def fit(self,X,y):\n",
    "\n",
    "        nfeatures=X.shape[1]\n",
    "        \n",
    "        W=np.zeros(nfeatures,dtype=X.dtype)        \n",
    "        b=0\n",
    "        \n",
    "        XTX=X.T.dot(X)\n",
    "        assert XTX.shape == (nfeatures,nfeatures)\n",
    "        \n",
    "        #Bs=np.einsum(\"ij,ij->j\", X, X)\n",
    "        #assert Bs.shape == (nfeatures,)\n",
    "        \n",
    "        XTy=X.T.dot(y)\n",
    "        assert XTy.shape == (nfeatures,)\n",
    "        \n",
    "        XT1=np.sum(X, axis=0)\n",
    "        assert XT1.shape == (nfeatures,)\n",
    "        \n",
    "        y_mean = np.mean(y)\n",
    "        \n",
    "        for it in range(100):\n",
    "            for f in range(nfeatures):\n",
    "                \n",
    "                A=XTy[f]-XTX[f].dot(W)-b*XT1[f]+XTX[f][f]*W[f]\n",
    "                B=XTX[f][f]                \n",
    "                                \n",
    "                if A > self.alpha_:\n",
    "                    weight=(A-self.alpha_)/B\n",
    "                elif A < -self.alpha_:\n",
    "                    weight=(A+self.alpha_)/B\n",
    "                else:\n",
    "                    weight=0.0\n",
    "                    \n",
    "                W[f]=weight\n",
    "\n",
    "            b=y_mean-XT1.dot(W)/X.shape[0]                \n",
    "            \n",
    "        self.coeff_=np.append(W,b)\n",
    "                            \n",
    "    def predict(self, X):\n",
    "        X=np.c_[X,np.ones(shape=(X.shape[0],1),dtype=X.dtype)]\n",
    "        return np.dot(X,self.coeff_)\n",
    "\n"
   ]
  },
  {
   "cell_type": "markdown",
   "metadata": {},
   "source": [
    "# Linear Regression"
   ]
  },
  {
   "cell_type": "code",
   "execution_count": 2,
   "metadata": {},
   "outputs": [
    {
     "data": {
      "image/png": "[encoded data removed]",
      "text/plain": [
       "<Figure size 432x288 with 1 Axes>"
      ]
     },
     "metadata": {},
     "output_type": "display_data"
    }
   ],
   "source": [
    "import matplotlib.pyplot as plt\n",
    "from mpl_toolkits.mplot3d import Axes3D\n",
    "%matplotlib inline\n",
    "\n",
    "def get_data(M=1,N=100):\n",
    "    np.random.seed(0)\n",
    "    X=np.random.rand(N,M)\n",
    "    w=np.arange(1,M+1)\n",
    "    y=np.sum(w.reshape(1,M)*X, axis=1) + np.random.randn(N)\n",
    "    return X,y,np.append(w,0)\n",
    "\n",
    "def test_learner(lr):\n",
    "        \n",
    "    X,y,w=get_data(1,100)\n",
    "    lr.fit(X,y)\n",
    "\n",
    "    X_plt=np.linspace(0,1,50)\n",
    "    yhat_plt=lr.predict(X_plt)\n",
    "\n",
    "    fig=plt.figure()\n",
    "    plt.scatter(X, y)\n",
    "    plt.plot(X_plt, yhat_plt,label=\"fit\")\n",
    "    plt.plot(X_plt, X_plt[:]*w[0]+w[1],label=\"model\")\n",
    "    plt.legend()\n",
    "    plt.show()\n",
    "\n",
    "lr=LinearRegression()\n",
    "test_learner(lr)\n"
   ]
  },
  {
   "cell_type": "markdown",
   "metadata": {},
   "source": [
    "# Ridge Regression"
   ]
  },
  {
   "cell_type": "code",
   "execution_count": 3,
   "metadata": {},
   "outputs": [
    {
     "data": {
      "image/png": "[encoded data removed]",
      "text/plain": [
       "<Figure size 432x288 with 1 Axes>"
      ]
     },
     "metadata": {},
     "output_type": "display_data"
    },
    {
     "data": {
      "image/png": "[encoded data removed]",
      "text/plain": [
       "<Figure size 432x288 with 1 Axes>"
      ]
     },
     "metadata": {},
     "output_type": "display_data"
    }
   ],
   "source": [
    "test_learner(Ridge())\n",
    "\n",
    "def test_shrinkage(cls):\n",
    "    X,y,w=get_data(2,100)\n",
    "    cs=[]\n",
    "    alphas=[]\n",
    "    for i in range(100):\n",
    "        alpha=100*np.power(0.1, 5*0.01*i)\n",
    "        lr=cls(alpha)\n",
    "        lr.fit(X, y)\n",
    "        cs.append(alpha)\n",
    "        alphas.append(lr.coeff_)\n",
    "\n",
    "    alphas=np.array(alphas)\n",
    "\n",
    "    plt.figure()\n",
    "    plt.loglog(cs, alphas[:,0], label=\"c1\")\n",
    "    plt.loglog(cs, alphas[:,1], label=\"c2\")\n",
    "    plt.loglog(cs, alphas[:,2], label=\"b\")\n",
    "    plt.legend()\n",
    "    plt.show()\n",
    "\n",
    "    \n",
    "test_shrinkage(Ridge)\n"
   ]
  },
  {
   "cell_type": "markdown",
   "metadata": {},
   "source": [
    "# Lasso"
   ]
  },
  {
   "cell_type": "code",
   "execution_count": 4,
   "metadata": {},
   "outputs": [
    {
     "data": {
      "image/png": "[encoded data removed]",
      "text/plain": [
       "<Figure size 432x288 with 1 Axes>"
      ]
     },
     "metadata": {},
     "output_type": "display_data"
    },
    {
     "data": {
      "image/png": "[encoded data removed]",
      "text/plain": [
       "<Figure size 432x288 with 1 Axes>"
      ]
     },
     "metadata": {},
     "output_type": "display_data"
    }
   ],
   "source": [
    "test_learner(Lasso())\n",
    "test_shrinkage(Lasso)"
   ]
  },
  {
   "cell_type": "markdown",
   "metadata": {},
   "source": [
    "# Comparison"
   ]
  },
  {
   "cell_type": "code",
   "execution_count": 5,
   "metadata": {},
   "outputs": [
    {
     "name": "stdout",
     "output_type": "stream",
     "text": [
      "[weights,b] [1 2 0]\n",
      "[0.57370044 2.02957506 0.11450326]\n",
      "[0.57370044 2.02957506 0.11450326]\n",
      "[0.51064036 1.81731532 0.24778687]\n",
      "[0.57370044 2.02957506 0.11450325]\n",
      "[0.43843626 1.89786088 0.24815736]\n"
     ]
    }
   ],
   "source": [
    "X,y,w=get_data(2,100)\n",
    "print(\"[weights,b]\", w)\n",
    "\n",
    "lr=LinearRegression()\n",
    "lr.fit(X,y)\n",
    "print(lr.coeff_)\n",
    "\n",
    "lr=Ridge(0)\n",
    "lr.fit(X,y)\n",
    "print(lr.coeff_)\n",
    "\n",
    "lr=Ridge(1)\n",
    "lr.fit(X,y)\n",
    "print(lr.coeff_)\n",
    "\n",
    "\n",
    "lr=Lasso(0)\n",
    "lr.fit(X,y)\n",
    "print(lr.coeff_)\n",
    "\n",
    "lr=Lasso(1)\n",
    "lr.fit(X,y)\n",
    "print(lr.coeff_)"
   ]
  },
  {
   "cell_type": "markdown",
   "metadata": {},
   "source": [
    "# Benchmark"
   ]
  },
  {
   "cell_type": "markdown",
   "metadata": {},
   "source": [
    "## Linear Regression"
   ]
  },
  {
   "cell_type": "code",
   "execution_count": 6,
   "metadata": {},
   "outputs": [
    {
     "name": "stdout",
     "output_type": "stream",
     "text": [
      "[-0.13699284  1.03452305  1.98131832  2.95835867  3.86685136  5.08281453\n",
      "  5.84551664  7.01901397  7.92140524  8.83446845  0.23926682]\n",
      "[-0.13699284  1.03452305  1.98131832  2.95835867  3.86685136  5.08281453\n",
      "  5.84551664  7.01901397  7.92140524  8.83446845  0.23926682]\n",
      "[-0.13699284  1.03452305  1.98131832  2.95835867  3.86685136  5.08281453\n",
      "  5.84551664  7.01901397  7.92140524  8.83446845  0.23926682]\n",
      "[-0.13699284  1.03452305  1.98131832  2.95835867  3.86685136  5.08281453\n",
      "  5.84551664  7.01901397  7.92140524  8.83446845  0.23926682]\n",
      "[-0.13699284  1.03452305  1.98131832  2.95835867  3.86685136  5.08281453\n",
      "  5.84551664  7.01901397  7.92140524  8.83446845  0.23926682]\n",
      "[-0.13699284  1.03452305  1.98131832  2.95835867  3.86685136  5.08281453\n",
      "  5.84551664  7.01901397  7.92140524  8.83446845  0.23926682]\n",
      "[-0.13699284  1.03452305  1.98131832  2.95835867  3.86685136  5.08281453\n",
      "  5.84551664  7.01901397  7.92140524  8.83446845  0.23926682]\n",
      "[-0.13699284  1.03452305  1.98131832  2.95835867  3.86685136  5.08281453\n",
      "  5.84551664  7.01901397  7.92140524  8.83446845  0.23926682]\n",
      "[-0.13699284  1.03452305  1.98131832  2.95835867  3.86685136  5.08281453\n",
      "  5.84551664  7.01901397  7.92140524  8.83446845  0.23926682]\n",
      "[-0.13694932  1.03451856  1.98128697  2.95814519  3.86692335  5.08312933\n",
      "  5.84598238  7.01970256  7.92231814  8.83593838  0.23739356]\n",
      "LinearRegression\n",
      "201 µs ± 4.27 µs per loop (mean ± std. dev. of 7 runs, 1000 loops each)\n",
      "Ridge\n",
      "210 µs ± 4.48 µs per loop (mean ± std. dev. of 7 runs, 1000 loops each)\n",
      "Lasso\n",
      "2.91 ms ± 96.2 µs per loop (mean ± std. dev. of 7 runs, 100 loops each)\n",
      "sk LinearRegression\n",
      "467 µs ± 10.6 µs per loop (mean ± std. dev. of 7 runs, 1000 loops each)\n",
      "sk Ridge\n",
      "396 µs ± 10.8 µs per loop (mean ± std. dev. of 7 runs, 1000 loops each)\n",
      "sk Lasso\n",
      "345 µs ± 5.79 µs per loop (mean ± std. dev. of 7 runs, 1000 loops each)\n",
      "linear inv XTX\n",
      "85.1 µs ± 1.05 µs per loop (mean ± std. dev. of 7 runs, 10000 loops each)\n",
      "75.2 µs ± 1.14 µs per loop (mean ± std. dev. of 7 runs, 10000 loops each)\n",
      "71.5 µs ± 1.6 µs per loop (mean ± std. dev. of 7 runs, 10000 loops each)\n",
      "linear QR\n",
      "127 µs ± 3.62 µs per loop (mean ± std. dev. of 7 runs, 10000 loops each)\n",
      "138 µs ± 1.79 µs per loop (mean ± std. dev. of 7 runs, 10000 loops each)\n",
      "217 µs ± 4.54 µs per loop (mean ± std. dev. of 7 runs, 1000 loops each)\n",
      "214 µs ± 5.46 µs per loop (mean ± std. dev. of 7 runs, 1000 loops each)\n",
      "linear SVD\n",
      "203 µs ± 2.66 µs per loop (mean ± std. dev. of 7 runs, 10000 loops each)\n",
      "196 µs ± 3.39 µs per loop (mean ± std. dev. of 7 runs, 1000 loops each)\n",
      "203 µs ± 7.01 µs per loop (mean ± std. dev. of 7 runs, 1000 loops each)\n"
     ]
    }
   ],
   "source": [
    "import numpy as np\n",
    "        \n",
    "class LinearRegression1:\n",
    "    \n",
    "    def __init__(self):\n",
    "        pass\n",
    "    \n",
    "    def fit(self,X,y):\n",
    "        fitSVD1(X,y)\n",
    "    \n",
    "    def fitInv1(self, X, y):\n",
    "        '''\n",
    "        W=(X^T X)^-1 X^T y\n",
    "        calculate from left to right\n",
    "        '''\n",
    "        X=np.c_[X,np.ones(shape=(X.shape[0],1),dtype=X.dtype)]\n",
    "        W=np.linalg.inv(X.T.dot(X)).dot(X.T).dot(y)\n",
    "        self.coeff_=W\n",
    "\n",
    "    def fitInv2(self, X, y):        \n",
    "        '''\n",
    "        W=(X^T X)^-1 X^T y\n",
    "        calculate from right to left\n",
    "        '''\n",
    "        X=np.c_[X,np.ones(shape=(X.shape[0],1),dtype=X.dtype)]\n",
    "        W=np.linalg.inv(X.T.dot(X)).dot(X.T.dot(y))\n",
    "        self.coeff_=W\n",
    "\n",
    "    def fitInv3(self, X, y):        \n",
    "        '''\n",
    "        W=(X^T X)^-1 X^T y\n",
    "        calculate from right to left\n",
    "        '''\n",
    "        X=np.c_[X,np.ones(shape=(X.shape[0],1),dtype=X.dtype)]\n",
    "        W=np.linalg.solve(X.T.dot(X), X.T.dot(y))\n",
    "        self.coeff_=W\n",
    "        \n",
    "    def fitQR1(self, X, y):\n",
    "        X=np.c_[X,np.ones(shape=(X.shape[0],1),dtype=X.dtype)]\n",
    "        Q,R=np.linalg.qr(X.T.dot(X))\n",
    "        W=np.linalg.inv(R).dot(Q.T.dot(X.T.dot(y)))\n",
    "        self.coeff_=W\n",
    "\n",
    "    def fitQR2(self, X, y):\n",
    "        X=np.c_[X,np.ones(shape=(X.shape[0],1),dtype=X.dtype)]\n",
    "        Q,R=np.linalg.qr(X, mode='reduced')\n",
    "        W=np.linalg.inv(R).dot(Q.T.dot(y))\n",
    "        self.coeff_=W\n",
    "\n",
    "    def fitQR3(self, X, y):\n",
    "        X=np.c_[X,np.ones(shape=(X.shape[0],1),dtype=X.dtype)]\n",
    "        Q,R=np.linalg.qr(X, mode='reduced')\n",
    "        W=np.linalg.solve(R, Q.T.dot(y))\n",
    "        self.coeff_=W\n",
    "\n",
    "    def fitSVD1(self, X, y):\n",
    "        X=np.c_[X,np.ones(shape=(X.shape[0],1),dtype=X.dtype)]\n",
    "        U,D,VT=np.linalg.svd(X, full_matrices=False)\n",
    "        W=VT.T.dot((1/D*U.T.dot(y)))\n",
    "        self.coeff_=W\n",
    "\n",
    "N=1000\n",
    "M=10\n",
    "np.random.seed(0)\n",
    "X=np.random.rand(N,M)\n",
    "w=np.arange(M)\n",
    "w=np.power(w,1)\n",
    "y=np.sum(w.reshape(1,M)*X, axis=1) + np.random.randn(N)\n",
    "\n",
    "lr=LinearRegression1()\n",
    "\n",
    "lr.fitQR1(X,y)\n",
    "print(lr.coeff_)\n",
    "lr.fitQR2(X,y)\n",
    "print(lr.coeff_)\n",
    "lr.fitQR3(X,y)\n",
    "print(lr.coeff_)\n",
    "\n",
    "lr.fitInv1(X,y)\n",
    "print(lr.coeff_)\n",
    "lr.fitInv2(X,y)\n",
    "print(lr.coeff_)\n",
    "lr.fitInv3(X,y)\n",
    "print(lr.coeff_)\n",
    "\n",
    "lr.fitSVD1(X,y)\n",
    "print(lr.coeff_)\n",
    "\n",
    "linear=LinearRegression()\n",
    "linear.fit(X,y)\n",
    "print(linear.coeff_)\n",
    "\n",
    "ridge=Ridge()\n",
    "ridge.fit(X,y)\n",
    "print(ridge.coeff_)\n",
    "\n",
    "lasso=Lasso()\n",
    "lasso.fit(X,y)\n",
    "print(lasso.coeff_)\n",
    "\n",
    "import sklearn as sk\n",
    "import sklearn.linear_model\n",
    "sklr=sk.linear_model.LinearRegression()\n",
    "sklasso=sk.linear_model.Lasso()\n",
    "skridge=sk.linear_model.Ridge()\n",
    "\n",
    "print(\"LinearRegression\")\n",
    "%timeit linear.fit(X,y)\n",
    "print(\"Ridge\")\n",
    "%timeit ridge.fit(X,y)\n",
    "print(\"Lasso\")\n",
    "%timeit lasso.fit(X,y)\n",
    "print(\"sk LinearRegression\")\n",
    "%timeit sklr.fit(X,y)\n",
    "print(\"sk Ridge\")\n",
    "%timeit skridge.fit(X,y)\n",
    "print(\"sk Lasso\")\n",
    "%timeit sklasso.fit(X,y)\n",
    "\n",
    "\n",
    "print(\"linear inv XTX\")\n",
    "%timeit lr.fitInv1(X,y)\n",
    "%timeit lr.fitInv2(X,y)\n",
    "%timeit lr.fitInv3(X,y)\n",
    "print(\"linear QR\")\n",
    "%timeit np.linalg.qr(X)\n",
    "%timeit lr.fitQR1(X,y)\n",
    "%timeit lr.fitQR2(X,y)\n",
    "%timeit lr.fitQR3(X,y)\n",
    "print(\"linear SVD\")\n",
    "%timeit lr.fitSVD1(X,y)\n",
    "%timeit lr.fitSVD1(X,y)\n",
    "%timeit lr.fitSVD1(X,y)\n"
   ]
  },
  {
   "cell_type": "markdown",
   "metadata": {},
   "source": [
    "## Lasso"
   ]
  },
  {
   "cell_type": "code",
   "execution_count": 7,
   "metadata": {},
   "outputs": [
    {
     "name": "stdout",
     "output_type": "stream",
     "text": [
      "[-0.13694932  1.03451856  1.98128697  2.95814519  3.86692335  5.08312933\n",
      "  5.84598238  7.01970256  7.92231814  8.83593838  0.23739356]\n",
      "[-0.13694932  1.03451856  1.98128697  2.95814519  3.86692335  5.08312933\n",
      "  5.84598238  7.01970256  7.92231814  8.83593838  0.23739356]\n",
      "3.88 ms ± 118 µs per loop (mean ± std. dev. of 7 runs, 100 loops each)\n",
      "27.8 ms ± 463 µs per loop (mean ± std. dev. of 7 runs, 10 loops each)\n"
     ]
    }
   ],
   "source": [
    "class Lasso1:\n",
    "    \n",
    "    def __init__(self,alpha=0.0):\n",
    "        self.alpha_ = alpha\n",
    "        pass\n",
    "                \n",
    "    def fit(self,X,y):\n",
    "\n",
    "        nfeatures=X.shape[1]\n",
    "        \n",
    "        W=np.zeros(nfeatures,dtype=X.dtype)        \n",
    "        b=0\n",
    "        \n",
    "        for it in range(100):\n",
    "            for f in range(nfeatures):\n",
    "                residual=y-X.dot(W)-b+X[:,f]*W[f]\n",
    "                x=X[:,f]\n",
    "                A=np.sum(residual*x)\n",
    "                B=np.sum(np.square(x))\n",
    "                #print('A',A)\n",
    "                #print('B',B)\n",
    "                if A > self.alpha_:\n",
    "                    weight=(A-self.alpha_)/B\n",
    "                elif A < -self.alpha_:\n",
    "                    weight=(A+self.alpha_)/B\n",
    "                else:\n",
    "                    weight=0.0\n",
    "                W[f]=weight\n",
    "\n",
    "            residual=y-X.dot(W)\n",
    "            b=residual.mean()\n",
    "\n",
    "        self.coeff_=np.append(W,b)\n",
    "                \n",
    "    def predict(self, X):\n",
    "        X=np.c_[X,np.ones(shape=(X.shape[0],1),dtype=X.dtype)]\n",
    "        return np.dot(X,self.coeff_)\n",
    "\n",
    "\n",
    "N=1000\n",
    "M=10\n",
    "np.random.seed(0)\n",
    "X=np.random.rand(N,M)\n",
    "w=np.arange(M)\n",
    "w=np.power(w,1)\n",
    "y=np.sum(w.reshape(1,M)*X, axis=1) + np.random.randn(N)\n",
    "\n",
    "lasso0=Lasso()\n",
    "lasso.fit(X,y)\n",
    "print(lasso.coeff_)\n",
    "\n",
    "lasso1=Lasso1()\n",
    "lasso.fit(X,y)\n",
    "print(lasso.coeff_)\n",
    "\n",
    "%timeit lasso.fit(X,y)\n",
    "%timeit lasso1.fit(X,y)"
   ]
  },
  {
   "cell_type": "markdown",
   "metadata": {},
   "source": [
    "## `inner` or `sum`"
   ]
  },
  {
   "cell_type": "code",
   "execution_count": 8,
   "metadata": {},
   "outputs": [
    {
     "name": "stdout",
     "output_type": "stream",
     "text": [
      "4.82 µs ± 90.5 ns per loop (mean ± std. dev. of 7 runs, 100000 loops each)\n",
      "5.1 µs ± 80.9 ns per loop (mean ± std. dev. of 7 runs, 100000 loops each)\n",
      "809 ns ± 6.17 ns per loop (mean ± std. dev. of 7 runs, 1000000 loops each)\n",
      "842 ns ± 7.55 ns per loop (mean ± std. dev. of 7 runs, 1000000 loops each)\n",
      "4.44 µs ± 10.9 ns per loop (mean ± std. dev. of 7 runs, 100000 loops each)\n"
     ]
    }
   ],
   "source": [
    "N=1000\n",
    "x=np.random.randn(N)\n",
    "%timeit np.sum(x*x)\n",
    "%timeit np.sum(np.square(x))\n",
    "%timeit np.dot(x,x)\n",
    "%timeit np.inner(x,x)\n",
    "%timeit np.linalg.norm(x,ord=2)**2\n"
   ]
  },
  {
   "cell_type": "markdown",
   "metadata": {},
   "source": [
    "## `einsum` or `sum` "
   ]
  },
  {
   "cell_type": "code",
   "execution_count": 9,
   "metadata": {},
   "outputs": [
    {
     "name": "stdout",
     "output_type": "stream",
     "text": [
      "[8.31991292 3.78045401]\n",
      "[8.31991292 3.78045401]\n",
      "15.3 µs ± 128 ns per loop (mean ± std. dev. of 7 runs, 100000 loops each)\n",
      "8.32 µs ± 45.4 ns per loop (mean ± std. dev. of 7 runs, 100000 loops each)\n"
     ]
    }
   ],
   "source": [
    "N=2\n",
    "X=np.random.randn(N,N)\n",
    "print(np.sum(X*X, axis=0))\n",
    "print(np.einsum(\"ij,ij->j\",X,X))\n",
    "\n",
    "N=100\n",
    "X=np.random.randn(N,N)\n",
    "%timeit np.sum(X*X, axis=0)\n",
    "%timeit np.einsum(\"ij,ij->j\",X,X)\n"
   ]
  }
 ],
 "metadata": {
  "kernelspec": {
   "display_name": "Python 3",
   "language": "python",
   "name": "python3"
  },
  "language_info": {
   "codemirror_mode": {
    "name": "ipython",
    "version": 3
   },
   "file_extension": ".py",
   "mimetype": "text/x-python",
   "name": "python",
   "nbconvert_exporter": "python",
   "pygments_lexer": "ipython3",
   "version": "3.6.7"
  },
  "toc": {
   "base_numbering": 1,
   "nav_menu": {},
   "number_sections": true,
   "sideBar": true,
   "skip_h1_title": false,
   "title_cell": "Table of Contents",
   "title_sidebar": "Contents",
   "toc_cell": true,
   "toc_position": {},
   "toc_section_display": true,
   "toc_window_display": false
  }
 },
 "nbformat": 4,
 "nbformat_minor": 2
}
