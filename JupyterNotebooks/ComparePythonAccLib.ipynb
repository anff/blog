{
 "cells": [
  {
   "cell_type": "markdown",
   "metadata": {
    "toc": true
   },
   "source": [
    "<h1>Table of Contents<span class=\"tocSkip\"></span></h1>\n",
    "<div class=\"toc\"><ul class=\"toc-item\"><li><span><a href=\"#Diffusion-equation\" data-toc-modified-id=\"Diffusion-equation-1\"><span class=\"toc-item-num\">1&nbsp;&nbsp;</span>Diffusion equation</a></span></li><li><span><a href=\"#implementations\" data-toc-modified-id=\"implementations-2\"><span class=\"toc-item-num\">2&nbsp;&nbsp;</span>implementations</a></span><ul class=\"toc-item\"><li><span><a href=\"#Environment\" data-toc-modified-id=\"Environment-2.1\"><span class=\"toc-item-num\">2.1&nbsp;&nbsp;</span>Environment</a></span></li><li><span><a href=\"#Python:-list[]\" data-toc-modified-id=\"Python:-list[]-2.2\"><span class=\"toc-item-num\">2.2&nbsp;&nbsp;</span>Python: <code>list[]</code></a></span></li><li><span><a href=\"#Python:-ndarray[]\" data-toc-modified-id=\"Python:-ndarray[]-2.3\"><span class=\"toc-item-num\">2.3&nbsp;&nbsp;</span>Python: <code>ndarray[]</code></a></span></li><li><span><a href=\"#Numpy\" data-toc-modified-id=\"Numpy-2.4\"><span class=\"toc-item-num\">2.4&nbsp;&nbsp;</span>Numpy</a></span></li><li><span><a href=\"#Numba\" data-toc-modified-id=\"Numba-2.5\"><span class=\"toc-item-num\">2.5&nbsp;&nbsp;</span>Numba</a></span></li><li><span><a href=\"#Cython:-exact-python\" data-toc-modified-id=\"Cython:-exact-python-2.6\"><span class=\"toc-item-num\">2.6&nbsp;&nbsp;</span>Cython: exact python</a></span></li><li><span><a href=\"#Cython:-with-type-annotation\" data-toc-modified-id=\"Cython:-with-type-annotation-2.7\"><span class=\"toc-item-num\">2.7&nbsp;&nbsp;</span>Cython: with type annotation</a></span></li><li><span><a href=\"#Cython:-optimized-for-strides\" data-toc-modified-id=\"Cython:-optimized-for-strides-2.8\"><span class=\"toc-item-num\">2.8&nbsp;&nbsp;</span>Cython: optimized for strides</a></span></li><li><span><a href=\"#Cython:-C\" data-toc-modified-id=\"Cython:-C-2.9\"><span class=\"toc-item-num\">2.9&nbsp;&nbsp;</span>Cython: C</a></span></li><li><span><a href=\"#C/C++\" data-toc-modified-id=\"C/C++-2.10\"><span class=\"toc-item-num\">2.10&nbsp;&nbsp;</span>C/C++</a></span></li><li><span><a href=\"#Test-the-correctness\" data-toc-modified-id=\"Test-the-correctness-2.11\"><span class=\"toc-item-num\">2.11&nbsp;&nbsp;</span>Test the correctness</a></span></li></ul></li><li><span><a href=\"#Have-a-break:-Visualization-of-the-temperature\" data-toc-modified-id=\"Have-a-break:-Visualization-of-the-temperature-3\"><span class=\"toc-item-num\">3&nbsp;&nbsp;</span>Have a break: Visualization of the temperature</a></span></li><li><span><a href=\"#Test-speed\" data-toc-modified-id=\"Test-speed-4\"><span class=\"toc-item-num\">4&nbsp;&nbsp;</span>Test speed</a></span><ul class=\"toc-item\"><li><span><a href=\"#Discussion\" data-toc-modified-id=\"Discussion-4.1\"><span class=\"toc-item-num\">4.1&nbsp;&nbsp;</span>Discussion</a></span><ul class=\"toc-item\"><li><span><a href=\"#CPython\" data-toc-modified-id=\"CPython-4.1.1\"><span class=\"toc-item-num\">4.1.1&nbsp;&nbsp;</span>CPython</a></span></li><li><span><a href=\"#numpy\" data-toc-modified-id=\"numpy-4.1.2\"><span class=\"toc-item-num\">4.1.2&nbsp;&nbsp;</span>numpy</a></span></li><li><span><a href=\"#Cython\" data-toc-modified-id=\"Cython-4.1.3\"><span class=\"toc-item-num\">4.1.3&nbsp;&nbsp;</span>Cython</a></span></li><li><span><a href=\"#numba\" data-toc-modified-id=\"numba-4.1.4\"><span class=\"toc-item-num\">4.1.4&nbsp;&nbsp;</span>numba</a></span></li></ul></li></ul></li><li><span><a href=\"#Some-optimization\" data-toc-modified-id=\"Some-optimization-5\"><span class=\"toc-item-num\">5&nbsp;&nbsp;</span>Some optimization</a></span><ul class=\"toc-item\"><li><span><a href=\"#Pingpong\" data-toc-modified-id=\"Pingpong-5.1\"><span class=\"toc-item-num\">5.1&nbsp;&nbsp;</span>Pingpong</a></span></li><li><span><a href=\"#Backup-one-line\" data-toc-modified-id=\"Backup-one-line-5.2\"><span class=\"toc-item-num\">5.2&nbsp;&nbsp;</span>Backup one line</a></span></li><li><span><a href=\"#An-in-equivalent-algorithm\" data-toc-modified-id=\"An-in-equivalent-algorithm-5.3\"><span class=\"toc-item-num\">5.3&nbsp;&nbsp;</span>An in-equivalent algorithm</a></span></li></ul></li></ul></div>"
   ]
  },
  {
   "cell_type": "markdown",
   "metadata": {},
   "source": [
    "# Diffusion equation"
   ]
  },
  {
   "cell_type": "markdown",
   "metadata": {},
   "source": [
    "Stationary diffusion equation\n",
    "$$\\frac{\\partial^2 \\phi}{\\partial^2 x} + \\frac{\\partial^2 \\phi}{\\partial^2 y} = -4\\rho$$\n",
    "where the $\\rho$ is the source, $\\phi$ is the density.\n",
    "\n",
    "In the heat transfer example, the heat source is the source, and the temperature is the \"heat density\".\n",
    "\n",
    "We can descrese the equation as\n",
    "$$\n",
    "\\frac{\\phi(x+\\Delta x,y) + \\phi(x-\\Delta x,y) + \\phi(x,y+\\Delta x) + \\phi(x,y-\\Delta x) - 4\\phi(x,y)}{(\\Delta x) ^2} =  -4\\rho\n",
    "$$\n",
    "where $\\Delta x = \\Delta y$\n",
    "Then we can write down the iteration equation\n",
    "$$\n",
    "\\phi(x,y) = \\frac{\\phi(x+\\Delta x,y) + \\phi(x-\\Delta x,y) + \\phi(x,y+\\Delta x) + \\phi(x,y-\\Delta x)}{4} + (\\Delta x) ^2 \\rho\n",
    "$$"
   ]
  },
  {
   "cell_type": "markdown",
   "metadata": {},
   "source": [
    "# implementations"
   ]
  },
  {
   "cell_type": "markdown",
   "metadata": {},
   "source": [
    "## Environment"
   ]
  },
  {
   "cell_type": "code",
   "execution_count": 1,
   "metadata": {
    "ExecuteTime": {
     "end_time": "2019-12-02T15:19:11.490000Z",
     "start_time": "2019-12-02T15:19:11.484000Z"
    }
   },
   "outputs": [
    {
     "name": "stdout",
     "output_type": "stream",
     "text": [
      "3.6.7 |Anaconda, Inc.| (default, Dec 10 2018, 20:35:02) [MSC v.1915 64 bit (AMD64)]\n"
     ]
    }
   ],
   "source": [
    "import sys\n",
    "print(sys.version)"
   ]
  },
  {
   "cell_type": "code",
   "execution_count": 2,
   "metadata": {
    "ExecuteTime": {
     "end_time": "2019-12-02T15:19:11.500500Z",
     "start_time": "2019-12-02T15:19:11.491500Z"
    }
   },
   "outputs": [],
   "source": [
    "import numpy as np\n",
    "def test_speed(solver, n_updates=1000, array=\"ndarray\"):\n",
    "\n",
    "    print(\"benchmarking: %s\" % solver.__name__)\n",
    "    ns = 10**np.linspace(1.5, 3, 10)\n",
    "    ans = []\n",
    "\n",
    "    for n_float in ns:\n",
    "\n",
    "        n = int(n_float)\n",
    "        rho = np.zeros((n, n), dtype=np.float64)\n",
    "        phi = np.zeros((n, n), dtype=np.float64)\n",
    "\n",
    "        if array == \"ndarray\":\n",
    "            t=%timeit -q -r3 -o solver(phi, rho, 1, 0.1, n_updates)\n",
    "        else:\n",
    "            phi = phi.tolist()\n",
    "            rho = rho.tolist()\n",
    "            t=%timeit -q -r3 -o solver(phi, rho, 1, 0.1, n_updates)\n",
    "\n",
    "        ans.append(t)\n",
    "\n",
    "        time = t.average\n",
    "        print(\"Average (%5d loops) time of %10.4f s for %4d updates on grid of %dx%d\" %\n",
    "              (t.loops, float(time), n_updates, int(n), int(n)))\n",
    "\n",
    "    return ans"
   ]
  },
  {
   "cell_type": "markdown",
   "metadata": {},
   "source": [
    "## Python: `list[]`"
   ]
  },
  {
   "cell_type": "code",
   "execution_count": 3,
   "metadata": {},
   "outputs": [],
   "source": [
    "#%%writefile temp_list.py\n",
    "\n",
    "import copy\n",
    "\n",
    "def temperature_python_list(phi, rho, alpha, dx, n_iter):\n",
    "    # phi[0,:] the left boundary, not update\n",
    "    # phi[phi.shape[0]-1,:] the right boundary, not update\n",
    "    # phi[0,:] the left boundary, not update\n",
    "    # phi[:,phi.shape[1]-1] the top boundary, not update\n",
    "\n",
    "    # a buffer is needed\n",
    "    # we don't want to refer the updated result\n",
    "    # when we write e.g. phi[i-1,j]\n",
    "    phi_update = copy.deepcopy(phi)\n",
    "    M = len(phi)\n",
    "    N = len(phi[0])\n",
    "    for it in range(n_iter):\n",
    "        for i in range(1, M - 1):\n",
    "            for j in range(1, N - 1):\n",
    "                phi_update[i][j] = 0.25 * (phi[i - 1][j] + phi[i + 1][j]\\\n",
    "                    + phi[i][j - 1] + phi[i][j + 1])\\\n",
    "                    + dx*dx * rho[i][j]\n",
    "\n",
    "        for i in range(1, M - 1):\n",
    "            for j in range(1, N - 1):\n",
    "                phi[i][j] = phi_update[i][j]"
   ]
  },
  {
   "cell_type": "code",
   "execution_count": 4,
   "metadata": {},
   "outputs": [
    {
     "name": "stdout",
     "output_type": "stream",
     "text": [
      "benchmarking: temperature_python_list\n",
      "Average ( 1000 loops) time of     0.0009 s for    1 updates on grid of 31x31\n",
      "Average ( 1000 loops) time of     0.0019 s for    1 updates on grid of 46x46\n",
      "Average (  100 loops) time of     0.0042 s for    1 updates on grid of 68x68\n",
      "Average (  100 loops) time of     0.0090 s for    1 updates on grid of 100x100\n",
      "Average (  100 loops) time of     0.0193 s for    1 updates on grid of 146x146\n",
      "Average (   10 loops) time of     0.0419 s for    1 updates on grid of 215x215\n",
      "Average (   10 loops) time of     0.0920 s for    1 updates on grid of 316x316\n",
      "Average (    1 loops) time of     0.2048 s for    1 updates on grid of 464x464\n",
      "Average (    1 loops) time of     0.4512 s for    1 updates on grid of 681x681\n",
      "Average (    1 loops) time of     0.9893 s for    1 updates on grid of 1000x1000\n"
     ]
    }
   ],
   "source": [
    "t_python_list=test_speed(temperature_python_list, n_updates=1, array=\"list\")"
   ]
  },
  {
   "cell_type": "markdown",
   "metadata": {},
   "source": [
    "## Python: `ndarray[]`"
   ]
  },
  {
   "cell_type": "code",
   "execution_count": 5,
   "metadata": {
    "ExecuteTime": {
     "end_time": "2019-12-02T15:19:11.605000Z",
     "start_time": "2019-12-02T15:19:11.502500Z"
    }
   },
   "outputs": [],
   "source": [
    "#%%writefile temp.py\n",
    "import numpy as np\n",
    "\n",
    "\n",
    "def temperature_python(phi, rho, alpha, dx, n_iter):\n",
    "    # phi[0,:] the left boundary, not update\n",
    "    # phi[phi.shape[0]-1,:] the right boundary, not update\n",
    "    # phi[0,:] the left boundary, not update\n",
    "    # phi[:,phi.shape[1]-1] the top boundary, not update\n",
    "\n",
    "    # a buffer is needed\n",
    "    # we don't want to refer the updated result\n",
    "    # when we write e.g. phi[i-1,j]\n",
    "    phi_update = np.empty_like(phi)\n",
    "    for it in range(n_iter):\n",
    "        for i in range(1, phi.shape[0] - 1):\n",
    "            for j in range(1, phi.shape[1] - 1):\n",
    "                phi_update[i, j] = 0.25 * (phi[i - 1,j] + phi[i + 1,j]\\\n",
    "                    + phi[i, j - 1] + phi[i, j + 1])\\\n",
    "                    + dx*dx * rho[i, j]\n",
    "\n",
    "        for i in range(1, phi.shape[0] - 1):\n",
    "            for j in range(1, phi.shape[1] - 1):\n",
    "                phi[i, j] = phi_update[i, j]"
   ]
  },
  {
   "cell_type": "code",
   "execution_count": 6,
   "metadata": {
    "ExecuteTime": {
     "end_time": "2019-12-02T15:19:58.921500Z",
     "start_time": "2019-12-02T15:19:11.606000Z"
    }
   },
   "outputs": [
    {
     "name": "stdout",
     "output_type": "stream",
     "text": [
      "benchmarking: temperature_python\n",
      "Average ( 1000 loops) time of     0.0015 s for    1 updates on grid of 31x31\n",
      "Average (  100 loops) time of     0.0035 s for    1 updates on grid of 46x46\n",
      "Average (  100 loops) time of     0.0078 s for    1 updates on grid of 68x68\n",
      "Average (  100 loops) time of     0.0171 s for    1 updates on grid of 100x100\n",
      "Average (   10 loops) time of     0.0370 s for    1 updates on grid of 146x146\n",
      "Average (   10 loops) time of     0.0807 s for    1 updates on grid of 215x215\n",
      "Average (   10 loops) time of     0.1772 s for    1 updates on grid of 316x316\n",
      "Average (    1 loops) time of     0.4068 s for    1 updates on grid of 464x464\n",
      "Average (    1 loops) time of     0.8633 s for    1 updates on grid of 681x681\n",
      "Average (    1 loops) time of     1.8699 s for    1 updates on grid of 1000x1000\n"
     ]
    }
   ],
   "source": [
    "t_python_ndarray=test_speed(temperature_python, n_updates=1)"
   ]
  },
  {
   "cell_type": "markdown",
   "metadata": {
    "ExecuteTime": {
     "end_time": "2019-12-01T08:21:19.056500Z",
     "start_time": "2019-12-01T08:21:19.054000Z"
    }
   },
   "source": [
    "## Numpy"
   ]
  },
  {
   "cell_type": "code",
   "execution_count": 7,
   "metadata": {
    "ExecuteTime": {
     "end_time": "2019-12-02T15:19:58.928500Z",
     "start_time": "2019-12-02T15:19:58.923500Z"
    }
   },
   "outputs": [],
   "source": [
    "def temperature_numpy(phi, rho, alpha, dx, n_iter):\n",
    "\n",
    "    M = phi.shape[0]\n",
    "    N = phi.shape[1]\n",
    "    rho = dx**2 * rho[1:M - 1, 1:N - 1]\n",
    "    for _ in range(n_iter):\n",
    "        phi[1:M - 1, 1:N - 1] = 0.25*(phi[0:M - 2, 1:N - 1]\\\n",
    "            + phi[2:M, 1:N - 1]\\\n",
    "            + phi[1:M-1, 0:N - 2]\\\n",
    "            + phi[1:M-1, 2:N])\\\n",
    "            + rho"
   ]
  },
  {
   "cell_type": "code",
   "execution_count": 8,
   "metadata": {
    "ExecuteTime": {
     "end_time": "2019-12-02T15:22:09.715500Z",
     "start_time": "2019-12-02T15:19:58.930000Z"
    }
   },
   "outputs": [
    {
     "name": "stdout",
     "output_type": "stream",
     "text": [
      "benchmarking: temperature_numpy\n",
      "Average (  100 loops) time of     0.0119 s for 1000 updates on grid of 31x31\n",
      "Average (  100 loops) time of     0.0160 s for 1000 updates on grid of 46x46\n",
      "Average (   10 loops) time of     0.0285 s for 1000 updates on grid of 68x68\n",
      "Average (   10 loops) time of     0.0480 s for 1000 updates on grid of 100x100\n",
      "Average (   10 loops) time of     0.0855 s for 1000 updates on grid of 146x146\n",
      "Average (   10 loops) time of     0.1713 s for 1000 updates on grid of 215x215\n",
      "Average (    1 loops) time of     0.3376 s for 1000 updates on grid of 316x316\n",
      "Average (    1 loops) time of     2.6493 s for 1000 updates on grid of 464x464\n",
      "Average (    1 loops) time of     6.5440 s for 1000 updates on grid of 681x681\n",
      "Average (    1 loops) time of    15.4005 s for 1000 updates on grid of 1000x1000\n"
     ]
    }
   ],
   "source": [
    "t_numpy=test_speed(temperature_numpy)"
   ]
  },
  {
   "cell_type": "markdown",
   "metadata": {},
   "source": [
    "## Numba"
   ]
  },
  {
   "cell_type": "code",
   "execution_count": 9,
   "metadata": {
    "ExecuteTime": {
     "end_time": "2019-12-02T15:22:10.095000Z",
     "start_time": "2019-12-02T15:22:09.717000Z"
    }
   },
   "outputs": [],
   "source": [
    "import numba as nb\n",
    "#parallel=True not work in this case\n",
    "temperature_numba = nb.jit(nopython=True)(temperature_python)\n",
    "temperature_numba_numpy = nb.jit(nopython=True)(temperature_numpy)"
   ]
  },
  {
   "cell_type": "code",
   "execution_count": 10,
   "metadata": {
    "ExecuteTime": {
     "end_time": "2019-12-02T15:23:55.362000Z",
     "start_time": "2019-12-02T15:22:10.096500Z"
    }
   },
   "outputs": [
    {
     "name": "stdout",
     "output_type": "stream",
     "text": [
      "benchmarking: temperature_python\n",
      "Average (    1 loops) time of     0.0009 s for 1000 updates on grid of 31x31\n",
      "Average ( 1000 loops) time of     0.0019 s for 1000 updates on grid of 46x46\n",
      "Average (  100 loops) time of     0.0034 s for 1000 updates on grid of 68x68\n",
      "Average (  100 loops) time of     0.0072 s for 1000 updates on grid of 100x100\n",
      "Average (  100 loops) time of     0.0177 s for 1000 updates on grid of 146x146\n",
      "Average (   10 loops) time of     0.0362 s for 1000 updates on grid of 215x215\n",
      "Average (   10 loops) time of     0.0782 s for 1000 updates on grid of 316x316\n",
      "Average (    1 loops) time of     0.2111 s for 1000 updates on grid of 464x464\n",
      "Average (    1 loops) time of     0.7326 s for 1000 updates on grid of 681x681\n",
      "Average (    1 loops) time of     2.0023 s for 1000 updates on grid of 1000x1000\n",
      "benchmarking: temperature_numpy\n",
      "Average (    1 loops) time of     0.0051 s for 1000 updates on grid of 31x31\n",
      "Average (  100 loops) time of     0.0114 s for 1000 updates on grid of 46x46\n",
      "Average (   10 loops) time of     0.0253 s for 1000 updates on grid of 68x68\n",
      "Average (   10 loops) time of     0.0554 s for 1000 updates on grid of 100x100\n",
      "Average (   10 loops) time of     0.1188 s for 1000 updates on grid of 146x146\n",
      "Average (    1 loops) time of     0.2582 s for 1000 updates on grid of 215x215\n",
      "Average (    1 loops) time of     0.5611 s for 1000 updates on grid of 316x316\n",
      "Average (    1 loops) time of     1.5509 s for 1000 updates on grid of 464x464\n",
      "Average (    1 loops) time of     3.4315 s for 1000 updates on grid of 681x681\n",
      "Average (    1 loops) time of     7.6515 s for 1000 updates on grid of 1000x1000\n"
     ]
    }
   ],
   "source": [
    "t_numba=test_speed(temperature_numba)\n",
    "t_numba_numpy=test_speed(temperature_numba_numpy)"
   ]
  },
  {
   "cell_type": "markdown",
   "metadata": {
    "ExecuteTime": {
     "end_time": "2019-12-01T09:46:12.506500Z",
     "start_time": "2019-12-01T09:46:12.501500Z"
    }
   },
   "source": [
    "## Cython: exact python"
   ]
  },
  {
   "cell_type": "code",
   "execution_count": 11,
   "metadata": {
    "ExecuteTime": {
     "end_time": "2019-12-02T15:23:55.761500Z",
     "start_time": "2019-12-02T15:23:55.363500Z"
    }
   },
   "outputs": [],
   "source": [
    "# please install cython\n",
    "# >>> conda install cython\n",
    "%load_ext cython"
   ]
  },
  {
   "cell_type": "markdown",
   "metadata": {},
   "source": [
    "We compile the python to C code. The only optimization is avoiding the reading the bytecode and parsing. Because, in this mode, we still use CPython runtime and the CPython runtime is the slowest part. We except there is no acceleration."
   ]
  },
  {
   "cell_type": "code",
   "execution_count": 12,
   "metadata": {
    "ExecuteTime": {
     "end_time": "2019-12-02T15:23:55.769500Z",
     "start_time": "2019-12-02T15:23:55.763000Z"
    }
   },
   "outputs": [],
   "source": [
    "%%cython\n",
    "#%load temp.py\n",
    "import numpy as np\n",
    "\n",
    "def temperature_cython_python(phi, rho, alpha, dx, n_iter):\n",
    "    # phi[0,:] the left boundary, not update\n",
    "    # phi[phi.shape[0]-1,:] the right boundary, not update\n",
    "    # phi[0,:] the left boundary, not update\n",
    "    # phi[:,phi.shape[1]-1] the top boundary, not update\n",
    "    \n",
    "    # a buffer is needed\n",
    "    # we don't want to refer the updated result\n",
    "    # when we write e.g. phi[i-1,j]\n",
    "    phi_update = np.empty_like(phi)\n",
    "    for it in range(n_iter):\n",
    "        for i in range(1, phi.shape[0] - 1):\n",
    "            for j in range(1, phi.shape[1] - 1):\n",
    "                phi_update[i, j] = 0.25 * (phi[i - 1,j] + phi[i + 1,j]\\\n",
    "                    + phi[i, j - 1] + phi[i, j + 1])\\\n",
    "                    + dx**2 * rho[i, j]\n",
    "\n",
    "        for i in range(1, phi.shape[0] - 1):\n",
    "            for j in range(1, phi.shape[1] - 1):\n",
    "                phi[i, j] = phi_update[i, j]"
   ]
  },
  {
   "cell_type": "code",
   "execution_count": 13,
   "metadata": {
    "ExecuteTime": {
     "end_time": "2019-12-02T15:24:35.119500Z",
     "start_time": "2019-12-02T15:23:55.771500Z"
    }
   },
   "outputs": [
    {
     "name": "stdout",
     "output_type": "stream",
     "text": [
      "benchmarking: temperature_cython_python\n",
      "Average ( 1000 loops) time of     0.0013 s for    1 updates on grid of 31x31\n",
      "Average (  100 loops) time of     0.0031 s for    1 updates on grid of 46x46\n",
      "Average (  100 loops) time of     0.0071 s for    1 updates on grid of 68x68\n",
      "Average (  100 loops) time of     0.0157 s for    1 updates on grid of 100x100\n",
      "Average (   10 loops) time of     0.0338 s for    1 updates on grid of 146x146\n",
      "Average (   10 loops) time of     0.0737 s for    1 updates on grid of 215x215\n",
      "Average (   10 loops) time of     0.1625 s for    1 updates on grid of 316x316\n",
      "Average (    1 loops) time of     0.3451 s for    1 updates on grid of 464x464\n",
      "Average (    1 loops) time of     0.7489 s for    1 updates on grid of 681x681\n",
      "Average (    1 loops) time of     1.6727 s for    1 updates on grid of 1000x1000\n"
     ]
    }
   ],
   "source": [
    "t_cython_python=test_speed(temperature_cython_python,n_updates=1)"
   ]
  },
  {
   "cell_type": "markdown",
   "metadata": {},
   "source": [
    "## Cython: with type annotation"
   ]
  },
  {
   "cell_type": "markdown",
   "metadata": {
    "ExecuteTime": {
     "end_time": "2019-12-01T09:22:25.671500Z",
     "start_time": "2019-12-01T09:22:25.664000Z"
    }
   },
   "source": [
    "Cypton is new to me. I hope writing this simple example doesn't require a Cython expert. However, it seems not the case. I looked into the generated c code (via `cython -a`). The generated code doesn't assume the strides to be 1. The code even uses a function to calculate the address from indices. I don't how much the calculation will effect."
   ]
  },
  {
   "cell_type": "code",
   "execution_count": 14,
   "metadata": {
    "ExecuteTime": {
     "end_time": "2019-12-02T15:24:35.124500Z",
     "start_time": "2019-12-02T15:24:35.120500Z"
    }
   },
   "outputs": [],
   "source": [
    "%%cython\n",
    "import numpy as np\n",
    "cimport numpy as np\n",
    "cimport cython\n",
    "\n",
    "\n",
    "@cython.boundscheck(False)\n",
    "@cython.wraparound(False)\n",
    "def temperature_cython_typed(np.ndarray[np.float64_t, ndim=2, mode=\"c\"] phi,\n",
    "                             np.ndarray[np.float64_t, ndim=2, mode=\"c\"] rho,\n",
    "                             double alpha, double dx,int n_iter):\n",
    "    \n",
    "    cdef np.ndarray[np.float64_t, ndim=2, mode=\"c\"] phi_update = np.empty_like(phi)\n",
    "    cdef int M = phi.shape[0]\n",
    "    cdef int N = phi.shape[1]\n",
    "    cdef int i = 0\n",
    "    cdef int j = 0\n",
    "            \n",
    "    for it in range(n_iter):\n",
    "        for i in range(1, M-1):\n",
    "            for j in range(1, N-1):\n",
    "                phi_update[i, j] = 0.25 * (phi[i - 1, j] + phi[i + 1,j]\\\n",
    "                    + phi[i, j - 1] + phi[i, j + 1])\\\n",
    "                    + dx**2 * rho[i, j]\n",
    "\n",
    "        for i in range(1, M-1):\n",
    "            for j in range(1, N-1):     \n",
    "                phi[i,j] = phi_update[i,j]\n",
    "                "
   ]
  },
  {
   "cell_type": "code",
   "execution_count": 15,
   "metadata": {
    "ExecuteTime": {
     "end_time": "2019-12-02T15:25:11.713500Z",
     "start_time": "2019-12-02T15:24:35.127000Z"
    }
   },
   "outputs": [
    {
     "name": "stdout",
     "output_type": "stream",
     "text": [
      "benchmarking: temperature_cython_typed\n",
      "Average (  100 loops) time of     0.0032 s for 1000 updates on grid of 31x31\n",
      "Average (  100 loops) time of     0.0065 s for 1000 updates on grid of 46x46\n",
      "Average (  100 loops) time of     0.0126 s for 1000 updates on grid of 68x68\n",
      "Average (   10 loops) time of     0.0246 s for 1000 updates on grid of 100x100\n",
      "Average (   10 loops) time of     0.0499 s for 1000 updates on grid of 146x146\n",
      "Average (   10 loops) time of     0.1034 s for 1000 updates on grid of 215x215\n",
      "Average (    1 loops) time of     0.2206 s for 1000 updates on grid of 316x316\n",
      "Average (    1 loops) time of     0.5129 s for 1000 updates on grid of 464x464\n",
      "Average (    1 loops) time of     1.1999 s for 1000 updates on grid of 681x681\n",
      "Average (    1 loops) time of     2.8026 s for 1000 updates on grid of 1000x1000\n"
     ]
    }
   ],
   "source": [
    "t_cython_typed=test_speed(temperature_cython_typed)"
   ]
  },
  {
   "cell_type": "markdown",
   "metadata": {},
   "source": [
    "## Cython: optimized for strides"
   ]
  },
  {
   "cell_type": "markdown",
   "metadata": {},
   "source": [
    "Now, I tell the cython, the array is indeed a continuous `c` array. The function call for the calculation of index is avoid now."
   ]
  },
  {
   "cell_type": "code",
   "execution_count": 16,
   "metadata": {
    "ExecuteTime": {
     "end_time": "2019-12-02T15:25:11.720000Z",
     "start_time": "2019-12-02T15:25:11.715000Z"
    }
   },
   "outputs": [],
   "source": [
    "%%cython\n",
    "import numpy as np\n",
    "cimport numpy as np\n",
    "cimport cython\n",
    "\n",
    "\n",
    "@cython.boundscheck(False)\n",
    "@cython.wraparound(False)\n",
    "def temperature_cython_optimized(np.ndarray[np.float64_t, ndim=2, mode=\"c\"] phi_,\n",
    "                             np.ndarray[np.float64_t, ndim=2, mode=\"c\"] rho_,\n",
    "                             double alpha, double dx,int n_iter):\n",
    "    \n",
    "    cdef np.ndarray[np.float64_t, ndim=2, mode=\"c\"] phi_update_ = np.empty_like(phi_)    \n",
    "    cdef int M = phi_.shape[0]\n",
    "    cdef int N = phi_.shape[1]\n",
    "    cdef int i = 0\n",
    "    cdef int j = 0\n",
    "    \n",
    "    #####################\n",
    "    # we assume it is continious c array\n",
    "    #####################\n",
    "    \n",
    "    cdef double[:,::1] phi = phi_\n",
    "    cdef double[:,::1] rho = rho_\n",
    "    cdef double[:,::1] phi_update = phi_update_\n",
    "            \n",
    "    for it in range(n_iter):\n",
    "        for i in range(1, M-1):\n",
    "            for j in range(1, N-1):\n",
    "                phi_update[i, j] = 0.25 * (phi[i - 1, j] + phi[i + 1,j]\\\n",
    "                    + phi[i, j - 1] + phi[i, j + 1])\\\n",
    "                    + dx**2 * rho[i, j]\n",
    "\n",
    "        for i in range(1, M-1):\n",
    "            for j in range(1, N-1):     \n",
    "                phi[i,j] = phi_update[i,j]\n",
    "                "
   ]
  },
  {
   "cell_type": "code",
   "execution_count": 17,
   "metadata": {
    "ExecuteTime": {
     "end_time": "2019-12-02T15:25:51.485500Z",
     "start_time": "2019-12-02T15:25:11.721500Z"
    }
   },
   "outputs": [
    {
     "name": "stdout",
     "output_type": "stream",
     "text": [
      "benchmarking: temperature_cython_optimized\n",
      "Average (  100 loops) time of     0.0024 s for 1000 updates on grid of 31x31\n",
      "Average (  100 loops) time of     0.0049 s for 1000 updates on grid of 46x46\n",
      "Average (  100 loops) time of     0.0088 s for 1000 updates on grid of 68x68\n",
      "Average (  100 loops) time of     0.0177 s for 1000 updates on grid of 100x100\n",
      "Average (   10 loops) time of     0.0354 s for 1000 updates on grid of 146x146\n",
      "Average (   10 loops) time of     0.0723 s for 1000 updates on grid of 215x215\n",
      "Average (   10 loops) time of     0.1512 s for 1000 updates on grid of 316x316\n",
      "Average (    1 loops) time of     0.3408 s for 1000 updates on grid of 464x464\n",
      "Average (    1 loops) time of     0.9169 s for 1000 updates on grid of 681x681\n",
      "Average (    1 loops) time of     2.2813 s for 1000 updates on grid of 1000x1000\n"
     ]
    }
   ],
   "source": [
    "t_cython_optimized=test_speed(temperature_cython_optimized)"
   ]
  },
  {
   "cell_type": "markdown",
   "metadata": {},
   "source": [
    "## Cython: C"
   ]
  },
  {
   "cell_type": "code",
   "execution_count": 18,
   "metadata": {
    "ExecuteTime": {
     "end_time": "2019-12-02T15:25:51.491000Z",
     "start_time": "2019-12-02T15:25:51.487000Z"
    }
   },
   "outputs": [
    {
     "name": "stdout",
     "output_type": "stream",
     "text": [
      "Overwriting temperature_c.c\n"
     ]
    }
   ],
   "source": [
    "%%writefile temperature_c.c\n",
    "\n",
    "#define INDEX(i,j) ((i)*N + (j))\n",
    "\n",
    "void temperature_c(double * phi, double *phi_update, double * rho,\n",
    "    int M, int N, double alpha, double dx, int n_iter) {\n",
    "\n",
    "    // We will not reuse INDEX(i, j)\n",
    "    // test the compiler!\n",
    "\n",
    "    for (int it = 0; it < n_iter; ++it) {\n",
    "        for (int i = 1; i < M - 1; ++i) {\n",
    "            for (int j = 1; j < N - 1; ++j) {\n",
    "                phi_update[INDEX(i, j)] = 0.25*(phi[INDEX(i, j - 1)] + phi[INDEX(i, j + 1)]\n",
    "                    + phi[INDEX(i - 1, j)] + phi[INDEX(i + 1, j)]) + dx * dx*rho[INDEX(i, j)];\n",
    "            }\n",
    "        }\n",
    "        for (int i = 1; i < M - 1; ++i) {\n",
    "            for (int j = 1; j < N - 1; ++j) {\n",
    "                phi[INDEX(i, j)] = phi_update[INDEX(i, j)];\n",
    "            }\n",
    "        }\n",
    "    }\n",
    "}\n"
   ]
  },
  {
   "cell_type": "markdown",
   "metadata": {
    "ExecuteTime": {
     "end_time": "2019-12-01T20:05:38.974500Z",
     "start_time": "2019-12-01T20:05:38.968000Z"
    }
   },
   "source": [
    "Copy file to the directory that contains `*.pyx`. So the compiler can find our C code."
   ]
  },
  {
   "cell_type": "code",
   "execution_count": 19,
   "metadata": {
    "ExecuteTime": {
     "end_time": "2019-12-02T15:25:51.499000Z",
     "start_time": "2019-12-02T15:25:51.492500Z"
    }
   },
   "outputs": [],
   "source": [
    "import os.path, shutil\n",
    "from sys import platform\n",
    "\n",
    "if platform == \"linux\" or platform == \"linux2\":\n",
    "    # linux\n",
    "    pyx_dir=os.path.join(os.path.expanduser('~'), \".cache/ipython/cython/\")\n",
    "    shutil.copy(\"temperature_c.c\", pyx_dir)\n",
    "elif platform == \"darwin\":\n",
    "    # OS X\n",
    "    # I don't have mac ...\n",
    "    # Try fix this by yourself\n",
    "    pass\n",
    "elif platform == \"win32\":\n",
    "    # Windows...\n",
    "    pyx_dir=os.path.join(os.path.expanduser('~'), \".ipython\\cython\")\n",
    "    shutil.copy(\"temperature_c.c\", pyx_dir)"
   ]
  },
  {
   "cell_type": "markdown",
   "metadata": {},
   "source": [
    "In the '.pyx' part, we transform `ndarray` to C pointer, then call the temperature_c."
   ]
  },
  {
   "cell_type": "code",
   "execution_count": 20,
   "metadata": {
    "ExecuteTime": {
     "end_time": "2019-12-02T15:25:51.510000Z",
     "start_time": "2019-12-02T15:25:51.500500Z"
    }
   },
   "outputs": [],
   "source": [
    "%%cython\n",
    "\n",
    "import numpy as np\n",
    "cimport numpy as np\n",
    "cimport cython\n",
    "\n",
    "cdef extern from \"temperature_c.c\":\n",
    "    # C is include here so that it doesn't need to be compiled externally\n",
    "    pass\n",
    "\n",
    "cdef extern void temperature_c(double *,double *,double *rho, int, int, double, double, int)\n",
    "\n",
    "@cython.boundscheck(False)\n",
    "@cython.wraparound(False)\n",
    "def temperature_cython_c(np.ndarray[np.float64_t, ndim=2, mode=\"c\"] phi_,\n",
    "                             np.ndarray[np.float64_t, ndim=2, mode=\"c\"] rho_,\n",
    "                             double alpha, double dx,int n_iter):\n",
    "    \n",
    "    cdef np.ndarray[np.float64_t, ndim=2, mode=\"c\"] phi_update_ = np.empty_like(phi_)    \n",
    "    cdef int M = phi_.shape[0]\n",
    "    cdef int N = phi_.shape[1]\n",
    "    cdef int i = 0\n",
    "    cdef int j = 0\n",
    "    \n",
    "    #####################\n",
    "    # we assume it is continious c array\n",
    "    #####################\n",
    "    \n",
    "    cdef double[:,::1] phi = phi_\n",
    "    cdef double[:,::1] rho = rho_\n",
    "    cdef double[:,::1] phi_update = phi_update_\n",
    "    \n",
    "    temperature_c(&(phi[0,0]), &(phi_update[0,0]), &(rho[0,0]), M, N, alpha, dx, n_iter)\n",
    "            "
   ]
  },
  {
   "cell_type": "code",
   "execution_count": 21,
   "metadata": {
    "ExecuteTime": {
     "end_time": "2019-12-02T15:26:29.721500Z",
     "start_time": "2019-12-02T15:25:51.512000Z"
    }
   },
   "outputs": [
    {
     "name": "stdout",
     "output_type": "stream",
     "text": [
      "benchmarking: temperature_cython_c\n",
      "Average ( 1000 loops) time of     0.0011 s for 1000 updates on grid of 31x31\n",
      "Average (  100 loops) time of     0.0026 s for 1000 updates on grid of 46x46\n",
      "Average (  100 loops) time of     0.0060 s for 1000 updates on grid of 68x68\n",
      "Average (  100 loops) time of     0.0131 s for 1000 updates on grid of 100x100\n",
      "Average (   10 loops) time of     0.0289 s for 1000 updates on grid of 146x146\n",
      "Average (   10 loops) time of     0.0621 s for 1000 updates on grid of 215x215\n",
      "Average (   10 loops) time of     0.1376 s for 1000 updates on grid of 316x316\n",
      "Average (    1 loops) time of     0.3549 s for 1000 updates on grid of 464x464\n",
      "Average (    1 loops) time of     0.9250 s for 1000 updates on grid of 681x681\n",
      "Average (    1 loops) time of     2.2969 s for 1000 updates on grid of 1000x1000\n"
     ]
    }
   ],
   "source": [
    "t_cython_c=test_speed(temperature_cython_c)"
   ]
  },
  {
   "cell_type": "markdown",
   "metadata": {},
   "source": [
    "## C/C++"
   ]
  },
  {
   "cell_type": "markdown",
   "metadata": {
    "ExecuteTime": {
     "end_time": "2019-12-01T15:19:14.781500Z",
     "start_time": "2019-12-01T15:19:14.774000Z"
    }
   },
   "source": [
    "It's not convient to use numpy in python's C++ extension. I wrote a standalone C++ program. \n",
    "\n",
    "- I don't do any manually optimization\n",
    "- However, I will enable all possible optimization with my machine and compiler."
   ]
  },
  {
   "cell_type": "code",
   "execution_count": 22,
   "metadata": {
    "ExecuteTime": {
     "end_time": "2019-12-02T15:26:29.727000Z",
     "start_time": "2019-12-02T15:26:29.723000Z"
    }
   },
   "outputs": [
    {
     "name": "stdout",
     "output_type": "stream",
     "text": [
      "Overwriting temp.cxx\n"
     ]
    }
   ],
   "source": [
    "%%writefile temp.cxx\n",
    "\n",
    "#include <stdio.h>\n",
    "#include <vector>\n",
    "#include <chrono>\n",
    "#include <iostream>\n",
    "#include <math.h>\n",
    "\n",
    "\n",
    "#define INDEX(i,j) ((i)*N + (j))\n",
    "\n",
    "void temperature_cpp(double *  phi, double const * rho,\n",
    "    int M, int N, double alpha, double dx, int n_iter) {\n",
    "\n",
    "    std::vector<double> phi_update_(M*N);\n",
    "    double *phi_update = phi_update_.data();\n",
    "\n",
    "\n",
    "    // We will not reuse INDEX(i, j)\n",
    "    // test the compiler!\n",
    "\n",
    "    for (int it = 0; it < n_iter; ++it) {\n",
    "        for (int i = 1; i < M - 1; ++i) {\n",
    "            for (int j = 1; j < N - 1; ++j) {\n",
    "                phi_update[INDEX(i, j)] = 0.25*(phi[INDEX(i, j - 1)] + phi[INDEX(i, j + 1)]\n",
    "                    + phi[INDEX(i - 1, j)] + phi[INDEX(i + 1, j)]) + dx * dx*rho[INDEX(i, j)];\n",
    "            }\n",
    "        }\n",
    "        for (int i = 1; i < M - 1; ++i) {\n",
    "            for (int j = 1; j < N - 1; ++j) {\n",
    "                phi[INDEX(i, j)] = phi_update[INDEX(i, j)];\n",
    "            }\n",
    "        }\n",
    "    }\n",
    "}\n",
    "\n",
    "int main()\n",
    "{\n",
    "\n",
    "    for (int d = 0; d < 10; ++d) {\n",
    "        int M = (int)pow(10, 1.5 + (3.0 - 1.5)*d / 9);\n",
    "\n",
    "        int N = M;\n",
    "        std::vector<double> phi(M*N);\n",
    "        std::vector<double> rho(M*N);\n",
    "\n",
    "        for (int i = 0; i < M; ++i) {\n",
    "            for (int j = 0; j < N; ++j) {\n",
    "                double x = (i - M / 2) * 0.1;\n",
    "                double y = (j - N / 2) * 0.1;\n",
    "                rho[INDEX(i, j)] = x * x + y * y;\n",
    "            }\n",
    "        }\n",
    "\n",
    "        int repeat = 200;\n",
    "        int loops = repeat * 100 * 100 / (N + 1) / (M + 1) + 1;\n",
    "        auto t0 = std::chrono::high_resolution_clock::now();\n",
    "        for (int i = 0; i < loops; ++i) {\n",
    "            temperature_cpp(phi.data(), rho.data(), M, N, 1., 0.1, 1000);\n",
    "        }\n",
    "        auto t1 = std::chrono::high_resolution_clock::now();\n",
    "        auto period = std::chrono::duration_cast<std::chrono::microseconds>(t1 - t0);\n",
    "        std::cout << loops << \" \" << M << \" \" << period.count() / (1000.0 * 1000.0 * loops) << \"\\n\";\n",
    "\n",
    "    }\n",
    "}\n"
   ]
  },
  {
   "cell_type": "markdown",
   "metadata": {},
   "source": [
    "Build and run"
   ]
  },
  {
   "cell_type": "code",
   "execution_count": 23,
   "metadata": {
    "ExecuteTime": {
     "end_time": "2019-12-02T15:27:02.548500Z",
     "start_time": "2019-12-02T15:26:29.728500Z"
    },
    "scrolled": false
   },
   "outputs": [
    {
     "name": "stdout",
     "output_type": "stream",
     "text": [
      "**********************************************************************\n",
      "** Visual Studio 2017 Developer Command Prompt v15.7.5\n",
      "** Copyright (c) 2017 Microsoft Corporation\n",
      "**********************************************************************\n",
      "[vcvarsall.bat] Environment initialized for: 'x86_x64'\n",
      "temp.cxx\n"
     ]
    }
   ],
   "source": [
    "from sys import platform\n",
    "\n",
    "if platform == \"linux\" or platform == \"linux2\":\n",
    "    # linux\n",
    "    !g++ temp.cxx -O3 -o temp.exe\n",
    "    cpp_result = !./temp.exe\n",
    "elif platform == \"darwin\":\n",
    "    # OS X\n",
    "    # I don't have mac ...\n",
    "    # Try fix this by yourself\n",
    "    pass\n",
    "elif platform == \"win32\":\n",
    "    # For windows and VS2017\n",
    "    !\"C:\\Program Files (x86)\\Microsoft Visual Studio\\2017\\Community\\VC\\Auxiliary\\Build\\vcvarsall.bat\" x86_amd64 \\\n",
    "    && cl /EHsc /Ox /arch:AVX2 /nologo temp.cxx\n",
    "    cpp_result = !temp.exe\n"
   ]
  },
  {
   "cell_type": "code",
   "execution_count": 24,
   "metadata": {
    "ExecuteTime": {
     "end_time": "2019-12-02T15:27:02.555000Z",
     "start_time": "2019-12-02T15:27:02.550000Z"
    },
    "scrolled": false
   },
   "outputs": [
    {
     "name": "stdout",
     "output_type": "stream",
     "text": [
      "Average time of     0.00 s for 1000 updates on grid of 31x31\n",
      "Average time of     0.00 s for 1000 updates on grid of 46x46\n",
      "Average time of     0.01 s for 1000 updates on grid of 68x68\n",
      "Average time of     0.01 s for 1000 updates on grid of 100x100\n",
      "Average time of     0.03 s for 1000 updates on grid of 146x146\n",
      "Average time of     0.06 s for 1000 updates on grid of 215x215\n",
      "Average time of     0.14 s for 1000 updates on grid of 316x316\n",
      "Average time of     0.35 s for 1000 updates on grid of 464x464\n",
      "Average time of     0.91 s for 1000 updates on grid of 681x681\n",
      "Average time of     2.32 s for 1000 updates on grid of 1000x1000\n"
     ]
    }
   ],
   "source": [
    "def print_cpp_result():\n",
    "    \n",
    "    ans=[]\n",
    "    for r in cpp_result:\n",
    "        loops,dim,time=r.split()\n",
    "        print(\"Average time of %8.2f s for 1000 updates on grid of %dx%d\"%(float(time), int(dim), int(dim)))\n",
    "        class TimeResult:\n",
    "            def __init__(self, time):\n",
    "                self.average=float(time)\n",
    "                \n",
    "        ans.append(TimeResult(time))\n",
    "    global t_cpp\n",
    "    t_cpp=ans\n",
    "    \n",
    "        \n",
    "print_cpp_result()"
   ]
  },
  {
   "cell_type": "markdown",
   "metadata": {},
   "source": [
    "## Test the correctness"
   ]
  },
  {
   "cell_type": "code",
   "execution_count": 25,
   "metadata": {
    "ExecuteTime": {
     "end_time": "2019-12-02T15:27:02.582000Z",
     "start_time": "2019-12-02T15:27:02.557000Z"
    }
   },
   "outputs": [],
   "source": [
    "def test_they_are_same():\n",
    "    \n",
    "    nx = 50\n",
    "    rho = np.zeros((nx, nx), dtype=np.float64)\n",
    "    \n",
    "    xx, yy = np.meshgrid(np.linspace(-1, 1, nx), np.linspace(-1, 1, nx))\n",
    "    rho[:, :] = np.abs(np.sqrt(xx**2 + yy**2) - 0.3) < 0.1\n",
    "\n",
    "    \n",
    "    n_iter=2\n",
    "    # python\n",
    "    phi_python = np.zeros((nx, nx), dtype=np.float64)\n",
    "    temperature_numpy(phi_python, rho, 1, 0.1, n_iter)\n",
    "    \n",
    "    # numpy\n",
    "    phi_numpy = np.zeros((nx, nx), dtype=np.float64)\n",
    "    temperature_numpy(phi_numpy, rho, 1, 0.1, n_iter)\n",
    "\n",
    "    assert np.allclose(phi_numpy, phi_numpy)\n",
    "    \n",
    "    # numba\n",
    "    phi_numba = np.zeros((nx, nx), dtype=np.float64)\n",
    "    temperature_numba(phi_numba, rho, 1, 0.1, n_iter)\n",
    "        \n",
    "    phi_numba_numpy = np.zeros((nx, nx), dtype=np.float64)\n",
    "    temperature_numba_numpy(phi_numba_numpy, rho, 1, 0.1, n_iter)\n",
    "\n",
    "    assert np.allclose(phi_numba, phi_numpy)\n",
    "    assert np.allclose(phi_numba_numpy, phi_numpy)\n",
    "    \n",
    "    # cython\n",
    "    phi_cython_python = np.zeros((nx, nx), dtype=np.float64)\n",
    "    temperature_cython_python(phi_cython_python, rho, 1, 0.1, n_iter)\n",
    "\n",
    "    phi_cython_typed = np.zeros((nx, nx), dtype=np.float64)\n",
    "    temperature_cython_typed(phi_cython_typed, rho, 1, 0.1, n_iter)\n",
    "\n",
    "    phi_cython_optimized = np.zeros((nx, nx), dtype=np.float64)\n",
    "    temperature_cython_optimized(phi_cython_optimized, rho, 1, 0.1, n_iter)\n",
    "\n",
    "    phi_cython_c = np.zeros((nx, nx), dtype=np.float64)\n",
    "    temperature_cython_c(phi_cython_c, rho, 1, 0.1, n_iter)    \n",
    "    \n",
    "    assert np.allclose(phi_cython_python, phi_numpy)\n",
    "    assert np.allclose(phi_cython_typed, phi_numpy)\n",
    "    assert np.allclose(phi_cython_optimized, phi_numpy)\n",
    "    assert np.allclose(phi_cython_c, phi_numpy)\n",
    "\n",
    "test_they_are_same()"
   ]
  },
  {
   "cell_type": "markdown",
   "metadata": {},
   "source": [
    "# Have a break: Visualization of the temperature"
   ]
  },
  {
   "cell_type": "markdown",
   "metadata": {
    "ExecuteTime": {
     "end_time": "2019-12-01T14:45:45.406500Z",
     "start_time": "2019-12-01T14:45:45.400000Z"
    }
   },
   "source": [
    "Now, see the results. ^_^ "
   ]
  },
  {
   "cell_type": "code",
   "execution_count": 26,
   "metadata": {
    "ExecuteTime": {
     "end_time": "2019-12-02T15:27:03.052000Z",
     "start_time": "2019-12-02T15:27:02.584500Z"
    },
    "scrolled": false
   },
   "outputs": [
    {
     "data": {
      "image/png": "[encoded data removed]",
      "text/plain": [
       "<Figure size 432x288 with 1 Axes>"
      ]
     },
     "metadata": {
      "needs_background": "light"
     },
     "output_type": "display_data"
    },
    {
     "data": {
      "image/png": "[encoded data removed]",
      "text/plain": [
       "<Figure size 432x288 with 1 Axes>"
      ]
     },
     "metadata": {
      "needs_background": "light"
     },
     "output_type": "display_data"
    }
   ],
   "source": [
    "import matplotlib.pyplot as plt\n",
    "%matplotlib inline\n",
    "\n",
    "\n",
    "def plot():\n",
    "    \n",
    "    nx = 50\n",
    "    rho = np.zeros((nx, nx), dtype=np.float64)\n",
    "    \n",
    "    xx, yy = np.meshgrid(np.linspace(-1, 1, nx), np.linspace(-1, 1, nx))\n",
    "    rho[:, :] = np.abs(np.sqrt(xx**2 + yy**2) - 0.3) < 0.1\n",
    "\n",
    "    plt.figure()\n",
    "    plt.imshow(rho)\n",
    "    plt.xlabel(\"x\")\n",
    "    plt.ylabel(\"y\")\n",
    "    plt.title(\"heat source\")\n",
    "    plt.show()\n",
    "\n",
    "    n_iter=1000\n",
    "            \n",
    "    phi_numpy = np.zeros((nx, nx), dtype=np.float64)\n",
    "    temperature_numpy(phi_numpy, rho, 1, 0.1, n_iter)\n",
    "    \n",
    "    plt.figure()\n",
    "    plt.imshow(phi_numpy)\n",
    "    plt.xlabel(\"x\")\n",
    "    plt.ylabel(\"y\")\n",
    "    plt.title(\"temperature\")\n",
    "    plt.show()\n",
    "    \n",
    "plot()"
   ]
  },
  {
   "cell_type": "markdown",
   "metadata": {},
   "source": [
    "# Test speed"
   ]
  },
  {
   "cell_type": "code",
   "execution_count": 27,
   "metadata": {
    "ExecuteTime": {
     "end_time": "2019-12-02T15:27:03.679000Z",
     "start_time": "2019-12-02T15:27:03.053500Z"
    }
   },
   "outputs": [
    {
     "data": {
      "image/png": "[encoded data removed]",
      "text/plain": [
       "<Figure size 648x504 with 1 Axes>"
      ]
     },
     "metadata": {
      "needs_background": "light"
     },
     "output_type": "display_data"
    }
   ],
   "source": [
    "def plot_figure():\n",
    "\n",
    "    ns = 10**np.linspace(1.5, 3, 10)\n",
    "    ng = (ns - 2) * (ns - 2) * 1000\n",
    "\n",
    "    a_python_list = [t.average for t in t_python_list]\n",
    "    a_python_ndarray = [t.average for t in t_python_ndarray]\n",
    "    a_numpy = [t.average for t in t_numpy]\n",
    "\n",
    "    a_numba = [t.average for t in t_numba]\n",
    "    a_numba_numpy = [t.average for t in t_numba_numpy]\n",
    "\n",
    "    a_cython_python = [t.average for t in t_cython_python]\n",
    "    a_cython_typed = [t.average for t in t_cython_typed]\n",
    "    a_cython_optimzed = [t.average for t in t_cython_optimized]\n",
    "    a_cython_c = [t.average for t in t_cython_c]\n",
    "\n",
    "    a_cpp = [t.average for t in t_cpp]\n",
    "\n",
    "    plt.figure(figsize=(9, 7))\n",
    "    plt.yscale('log')\n",
    "    plt.xscale('log')\n",
    "\n",
    "    plt.plot(ns, a_python_list / ng * 1000, label=\"python list\", color=\"green\")\n",
    "    plt.plot(ns,\n",
    "             a_python_ndarray / ng * 1000,\n",
    "             label=\"python ndarray\",\n",
    "             color=\"green\",\n",
    "             linestyle='-.')\n",
    "\n",
    "    plt.plot(ns, a_numpy / ng, label=\"numpy\", color=\"gray\")\n",
    "\n",
    "    plt.plot(ns,\n",
    "             a_cython_python / ng * 1000,\n",
    "             label=\"cython python mode\",\n",
    "             color=\"red\")\n",
    "    plt.plot(ns,\n",
    "             a_cython_typed / ng,\n",
    "             label=\"cython typed\",\n",
    "             color=\"red\",\n",
    "             linestyle='--')\n",
    "    plt.plot(ns,\n",
    "             a_cython_optimzed / ng,\n",
    "             label=\"cython typed assume cont. c array\",\n",
    "             color=\"red\",\n",
    "             linestyle='-.')\n",
    "    plt.plot(ns,\n",
    "             a_cython_c / ng,\n",
    "             label=\"cython + pure C\",\n",
    "             color=\"red\",\n",
    "             linestyle=':')\n",
    "\n",
    "    plt.plot(ns, a_numba / ng, label=\"numba\", color=\"black\")\n",
    "    plt.plot(ns,\n",
    "             a_numba_numpy / ng,\n",
    "             label=\"numba + numpy\",\n",
    "             color=\"black\",\n",
    "             linestyle=\"--\")\n",
    "\n",
    "    plt.plot(ns, a_cpp / ng, label=\"C++\", color=\"purple\")\n",
    "\n",
    "    plt.xlabel(\"# of grid in x (= # of grid in y)\")\n",
    "    plt.ylabel(\"time [s]\")\n",
    "    #plt.ylim((5E-7, 5E-3))\n",
    "    plt.legend()\n",
    "    plt.title(\"time per update per grid point\")\n",
    "    plt.show()    \n",
    "\n",
    "\n",
    "plot_figure()"
   ]
  },
  {
   "cell_type": "markdown",
   "metadata": {},
   "source": [
    "## Discussion"
   ]
  },
  {
   "cell_type": "markdown",
   "metadata": {},
   "source": [
    "### CPython\n",
    "\n",
    "- CPython就是单纯的慢。CPython大多时间花费在了CPython的运行时上。而CPython运行时之所以慢是因为大多数时间用在了类型检查上。花费在单位格点上的时间和格点的数量无关，这是因为CPython运行时太慢了，运行总时间和cpu缓存等等基本没有关系。\n",
    "\n",
    "\n",
    "- python使用list+`[]`会比numpy+`[]`更快。numpy是为矢量化操作优化的，对于这种频繁使用`[]`取出scalar的程序，性能会比使用原始Python list更慢。\n",
    "\n",
    "### numpy\n",
    "\n",
    "- numpy的性能是很不错的，与C/C++和cython相比，性能大概在一个数量级，但是慢了大概2-5倍。如果不自己写循环，numba对numpy没有加速。\n",
    "\n",
    "\n",
    "### Cython\n",
    "- Cython的纯python模式的速度和CPython的python模式的速度相近。Cython依然使用了CPython的运行时。Cython主要是节省了读取bytecode，解析bytecode的时间。而这一部分时间很少。大部分时间还是花费在了CPtyon的运行时上。\n",
    "\n",
    "\n",
    "- 对带类型标记的cython：在Windows上，对连续数组的手动优化有用。在linux上，对连续数组的手动优化没有用。注意，无论是cython + C，还是纯C/C++代码都假定了数组是连续的C数组。所以为了公平起见，作比较的时候，我们应该和带类型标记的cython + 连续数组优化的情况相比。下文中，带类型标记的cython都是指做了连续数组优化的情况。\n",
    "\n",
    "\n",
    "- 在Windows上，带类型标记的`cython`和`C/C++`相比，速度要慢，但是慢很少。在linux上，带类型的标记的`cython`和`C/C++`相比，速度要快。 两者从原理上看，前者是`cython`编译器生成的`C`代码，后者是用户自己写的。编译器对两种代码的优化能力可能有区别。\n",
    "\n",
    "\n",
    "- `cython` + `C`和`C/C++`都是C/C++代码，所以性能应当一样快。在Windows上，两者速度几乎完全一样。在linux上cython + C要稍微慢一些。（代码是几乎一样的。性能有差异，可能是我使用了虚拟机的缘故。如果使用虚拟机，开启-march=native开关后，代码会变慢，而cython + C很可能使用了-march=native)\n",
    "\n",
    "\n",
    "### numba\n",
    "- `numba`对于所以格点数量都是最优秀的。`numba`的速度比没有做低阶优化的C/C++还要快。（对C/C++仔细调优后，可能结果会不一样）。但是随着格点数量增加，缓存速度成为速度瓶颈，无论是带类型标记cython,  C/C++还是numba速度都趋于相同。\n"
   ]
  },
  {
   "cell_type": "markdown",
   "metadata": {},
   "source": [
    "# Some optimization\n",
    "\n",
    "The algorithm used in speed test is not the optimal. Even for this algorithm, my code is not optimal. I will do some optimzation using numba. Note these optimzation can also used in other code."
   ]
  },
  {
   "cell_type": "markdown",
   "metadata": {},
   "source": [
    "## Pingpong\n",
    "\n",
    "Eliminate the additional copy."
   ]
  },
  {
   "cell_type": "code",
   "execution_count": 28,
   "metadata": {},
   "outputs": [],
   "source": [
    "import numba\n",
    "\n",
    "@numba.njit\n",
    "def temperature_numba_algopt(phi, rho, alpha, dx, n_iter):\n",
    "\n",
    "    phi_update = np.empty_like(phi)\n",
    "    \n",
    "    for it in range(n_iter//2):\n",
    "        for i in range(1, phi.shape[0] - 1):\n",
    "            for j in range(1, phi.shape[1] - 1):\n",
    "                phi_update[i, j] = 0.25 * (phi[i - 1,j] + phi[i + 1,j]\\\n",
    "                    + phi[i, j - 1] + phi[i, j + 1])\\\n",
    "                    + dx*dx * rho[i, j]\n",
    "\n",
    "        for i in range(1, phi.shape[0] - 1):\n",
    "            for j in range(1, phi.shape[1] - 1):\n",
    "                phi[i, j] = 0.25 * (phi_update[i - 1,j] + phi_update[i + 1,j]\\\n",
    "                    + phi_update[i, j - 1] + phi_update[i, j + 1])\\\n",
    "                    + dx*dx * rho[i, j]\n",
    "                \n",
    "    if n_iter%2:\n",
    "        for i in range(1, phi.shape[0] - 1):\n",
    "            for j in range(1, phi.shape[1] - 1):\n",
    "                phi[i, j] = phi_update[i, j]      \n",
    "                \n",
    "            "
   ]
  },
  {
   "cell_type": "markdown",
   "metadata": {},
   "source": [
    "## Backup one line"
   ]
  },
  {
   "cell_type": "markdown",
   "metadata": {},
   "source": [
    "Cache friendly and stopp uncrolling the loop."
   ]
  },
  {
   "cell_type": "code",
   "execution_count": 29,
   "metadata": {},
   "outputs": [],
   "source": [
    "@numba.njit\n",
    "def temperature_numba_algopt2(phi, rho, alpha, dx, n_iter):\n",
    "\n",
    "    phi_backup = np.empty(phi.shape[1])\n",
    "\n",
    "    for it in range(n_iter):\n",
    "\n",
    "        for j in range(1, phi.shape[1] - 1):\n",
    "            phi_backup[j] = phi[0, j]\n",
    "\n",
    "        for i in range(1, phi.shape[0] - 1):\n",
    "\n",
    "            for j in range(1, phi.shape[1] - 1):\n",
    "\n",
    "                t = phi_backup[j]\n",
    "\n",
    "                phi_backup[j] = phi[i, j]\n",
    "\n",
    "                phi[i, j] = 0.25 * (t + phi[i + 1,j]\\\n",
    "                    + phi_backup[j-1] + phi[i, j + 1])\\\n",
    "                    + dx*dx * rho[i, j]"
   ]
  },
  {
   "cell_type": "markdown",
   "metadata": {},
   "source": [
    "## An in-equivalent algorithm\n",
    "uncrolling the loop."
   ]
  },
  {
   "cell_type": "code",
   "execution_count": 30,
   "metadata": {},
   "outputs": [],
   "source": [
    "@numba.njit\n",
    "def temperature_numba_algopt3(phi, rho, alpha, dx, n_iter):\n",
    "\n",
    "    for it in range(n_iter):\n",
    "        for i in range(1, phi.shape[0] - 1):\n",
    "            for j in range(1, phi.shape[1] - 1):\n",
    "                phi[i, j] = 0.25 * (phi[i-1,j] + phi[i + 1,j]\\\n",
    "                    + phi[i, j - 1] + phi[i, j + 1])\\\n",
    "                    + dx*dx * rho[i, j]"
   ]
  },
  {
   "cell_type": "code",
   "execution_count": 31,
   "metadata": {},
   "outputs": [
    {
     "name": "stdout",
     "output_type": "stream",
     "text": [
      "benchmarking: temperature_numba_algopt2\n",
      "Average (    1 loops) time of     0.0011 s for 1000 updates on grid of 31x31\n",
      "Average (  100 loops) time of     0.0025 s for 1000 updates on grid of 46x46\n",
      "Average (  100 loops) time of     0.0052 s for 1000 updates on grid of 68x68\n",
      "Average (  100 loops) time of     0.0118 s for 1000 updates on grid of 100x100\n",
      "Average (   10 loops) time of     0.0254 s for 1000 updates on grid of 146x146\n",
      "Average (   10 loops) time of     0.0547 s for 1000 updates on grid of 215x215\n",
      "Average (   10 loops) time of     0.1185 s for 1000 updates on grid of 316x316\n",
      "Average (    1 loops) time of     0.2570 s for 1000 updates on grid of 464x464\n",
      "Average (    1 loops) time of     0.5920 s for 1000 updates on grid of 681x681\n",
      "Average (    1 loops) time of     1.4269 s for 1000 updates on grid of 1000x1000\n",
      "benchmarking: temperature_numba_algopt\n",
      "Average (    1 loops) time of     0.0006 s for 1000 updates on grid of 31x31\n",
      "Average ( 1000 loops) time of     0.0014 s for 1000 updates on grid of 46x46\n",
      "Average (  100 loops) time of     0.0027 s for 1000 updates on grid of 68x68\n",
      "Average (  100 loops) time of     0.0053 s for 1000 updates on grid of 100x100\n",
      "Average (  100 loops) time of     0.0113 s for 1000 updates on grid of 146x146\n",
      "Average (   10 loops) time of     0.0238 s for 1000 updates on grid of 215x215\n",
      "Average (   10 loops) time of     0.0522 s for 1000 updates on grid of 316x316\n",
      "Average (   10 loops) time of     0.1334 s for 1000 updates on grid of 464x464\n",
      "Average (    1 loops) time of     0.4790 s for 1000 updates on grid of 681x681\n",
      "Average (    1 loops) time of     1.3274 s for 1000 updates on grid of 1000x1000\n",
      "benchmarking: temperature_numba_algopt3\n",
      "Average (  100 loops) time of     0.0026 s for 1000 updates on grid of 31x31\n",
      "Average (  100 loops) time of     0.0071 s for 1000 updates on grid of 46x46\n",
      "Average (  100 loops) time of     0.0172 s for 1000 updates on grid of 68x68\n",
      "Average (   10 loops) time of     0.0404 s for 1000 updates on grid of 100x100\n",
      "Average (   10 loops) time of     0.0896 s for 1000 updates on grid of 146x146\n",
      "Average (    1 loops) time of     0.1993 s for 1000 updates on grid of 215x215\n",
      "Average (    1 loops) time of     0.4430 s for 1000 updates on grid of 316x316\n",
      "Average (    1 loops) time of     0.9640 s for 1000 updates on grid of 464x464\n",
      "Average (    1 loops) time of     2.1127 s for 1000 updates on grid of 681x681\n",
      "Average (    1 loops) time of     4.5952 s for 1000 updates on grid of 1000x1000\n"
     ]
    }
   ],
   "source": [
    "import numba as nb\n",
    "t_numba_algopt2=test_speed(temperature_numba_algopt2)\n",
    "t_numba_algopt=test_speed(temperature_numba_algopt)\n",
    "t_numba_algopt3=test_speed(temperature_numba_algopt3)"
   ]
  },
  {
   "cell_type": "code",
   "execution_count": 32,
   "metadata": {},
   "outputs": [
    {
     "data": {
      "image/png": "[encoded data removed]",
      "text/plain": [
       "<Figure size 648x504 with 1 Axes>"
      ]
     },
     "metadata": {
      "needs_background": "light"
     },
     "output_type": "display_data"
    }
   ],
   "source": [
    "def plot_figure():\n",
    "\n",
    "    ns = 10**np.linspace(1.5, 3, 10)\n",
    "    ng = (ns - 2) * (ns - 2) * 1000\n",
    "\n",
    "    a_numba = [t.average for t in t_numba]\n",
    "    a_numba_algopt = [t.average for t in t_numba_algopt]\n",
    "    a_numba_algopt2 = [t.average for t in t_numba_algopt2]\n",
    "    a_numba_algopt3 = [t.average for t in t_numba_algopt3]\n",
    "\n",
    "    a_cython_optimzed = [t.average for t in t_cython_optimized]\n",
    "    a_cython_c = [t.average for t in t_cython_c]\n",
    "\n",
    "    a_cpp = [t.average for t in t_cpp]\n",
    "\n",
    "    plt.figure(figsize=(9, 7))\n",
    "    plt.yscale('log')\n",
    "    plt.xscale('log')\n",
    "\n",
    "    plt.plot(ns,\n",
    "             a_cython_optimzed / ng,\n",
    "             label=\"cython typed assume cont. c array\",\n",
    "             color=\"red\",\n",
    "             linestyle='-.')\n",
    "    plt.plot(ns,\n",
    "             a_cython_c / ng,\n",
    "             label=\"cython + pure C\",\n",
    "             color=\"red\",\n",
    "             linestyle=':')\n",
    "\n",
    "    plt.plot(ns, a_numba / ng, label=\"numba\", color=\"black\")\n",
    "    plt.plot(ns,\n",
    "             a_numba_algopt / ng,\n",
    "             label=\"numba 1\",\n",
    "             color=\"black\",\n",
    "             linestyle=\"-.\")\n",
    "    plt.plot(ns,\n",
    "             a_numba_algopt2 / ng,\n",
    "             label=\"numba 2\",\n",
    "             color=\"black\",\n",
    "             linestyle=\"--\")\n",
    "    plt.plot(ns,\n",
    "             a_numba_algopt3 / ng,\n",
    "             label=\"numba 3\",\n",
    "             color=\"black\",\n",
    "             linestyle=\":\")\n",
    "\n",
    "    plt.plot(ns, a_cpp /     , label=\"C++\", color=\"purple\")\n",
    "\n",
    "    plt.xlabel(\"# of grid in x (= # of grid in y)\")\n",
    "    plt.ylabel(\"time [s]\")\n",
    "    #plt.ylim((5E-7, 5E-3))\n",
    "    plt.legend()\n",
    "    plt.title(\"time per update per grid point\")\n",
    "    plt.show()\n",
    "\n",
    "\n",
    "plot_figure()"
   ]
  }
 ],
 "metadata": {
  "hide_input": false,
  "kernelspec": {
   "display_name": "Python 3",
   "language": "python",
   "name": "python3"
  },
  "language_info": {
   "codemirror_mode": {
    "name": "ipython",
    "version": 3
   },
   "file_extension": ".py",
   "mimetype": "text/x-python",
   "name": "python",
   "nbconvert_exporter": "python",
   "pygments_lexer": "ipython3",
   "version": "3.6.7"
  },
  "toc": {
   "base_numbering": 1,
   "nav_menu": {},
   "number_sections": true,
   "sideBar": true,
   "skip_h1_title": false,
   "title_cell": "Table of Contents",
   "title_sidebar": "Contents",
   "toc_cell": true,
   "toc_position": {
    "height": "calc(100% - 180px)",
    "left": "10px",
    "top": "150px",
    "width": "301.354px"
   },
   "toc_section_display": true,
   "toc_window_display": true
  },
  "varInspector": {
   "cols": {
    "lenName": "24",
    "lenType": "16",
    "lenVar": 40
   },
   "kernels_config": {
    "python": {
     "delete_cmd_postfix": "",
     "delete_cmd_prefix": "del ",
     "library": "var_list.py",
     "varRefreshCmd": "print(var_dic_list())"
    },
    "r": {
     "delete_cmd_postfix": ") ",
     "delete_cmd_prefix": "rm(",
     "library": "var_list.r",
     "varRefreshCmd": "cat(var_dic_list()) "
    }
   },
   "position": {
    "height": "419.886px",
    "left": "1383.28px",
    "right": "20px",
    "top": "120px",
    "width": "339.332px"
   },
   "types_to_exclude": [
    "module",
    "function",
    "builtin_function_or_method",
    "instance",
    "_Feature"
   ],
   "window_display": false
  }
 },
 "nbformat": 4,
 "nbformat_minor": 2
}
