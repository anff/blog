{
 "cells": [
  {
   "cell_type": "markdown",
   "metadata": {
    "toc": true
   },
   "source": [
    "<h1>Table of Contents<span class=\"tocSkip\"></span></h1>\n",
    "<div class=\"toc\"><ul class=\"toc-item\"><li><span><a href=\"#Diffusion-equation\" data-toc-modified-id=\"Diffusion-equation-1\"><span class=\"toc-item-num\">1&nbsp;&nbsp;</span>Diffusion equation</a></span></li><li><span><a href=\"#implementations\" data-toc-modified-id=\"implementations-2\"><span class=\"toc-item-num\">2&nbsp;&nbsp;</span>implementations</a></span><ul class=\"toc-item\"><li><span><a href=\"#Python:-explicit-[]\" data-toc-modified-id=\"Python:-explicit-[]-2.1\"><span class=\"toc-item-num\">2.1&nbsp;&nbsp;</span>Python: explicit <code>[]</code></a></span></li><li><span><a href=\"#Numpy\" data-toc-modified-id=\"Numpy-2.2\"><span class=\"toc-item-num\">2.2&nbsp;&nbsp;</span>Numpy</a></span></li><li><span><a href=\"#Numba\" data-toc-modified-id=\"Numba-2.3\"><span class=\"toc-item-num\">2.3&nbsp;&nbsp;</span>Numba</a></span></li><li><span><a href=\"#Cython:-exact-python\" data-toc-modified-id=\"Cython:-exact-python-2.4\"><span class=\"toc-item-num\">2.4&nbsp;&nbsp;</span>Cython: exact python</a></span></li><li><span><a href=\"#Cython:-with-type-annotation\" data-toc-modified-id=\"Cython:-with-type-annotation-2.5\"><span class=\"toc-item-num\">2.5&nbsp;&nbsp;</span>Cython: with type annotation</a></span></li><li><span><a href=\"#Cython:-optimized-for-strides\" data-toc-modified-id=\"Cython:-optimized-for-strides-2.6\"><span class=\"toc-item-num\">2.6&nbsp;&nbsp;</span>Cython: optimized for strides</a></span></li><li><span><a href=\"#Cython:-C\" data-toc-modified-id=\"Cython:-C-2.7\"><span class=\"toc-item-num\">2.7&nbsp;&nbsp;</span>Cython: C</a></span></li><li><span><a href=\"#C/C++\" data-toc-modified-id=\"C/C++-2.8\"><span class=\"toc-item-num\">2.8&nbsp;&nbsp;</span>C/C++</a></span><ul class=\"toc-item\"><li><span><a href=\"#Compile-and-run\" data-toc-modified-id=\"Compile-and-run-2.8.1\"><span class=\"toc-item-num\">2.8.1&nbsp;&nbsp;</span>Compile and run</a></span></li></ul></li><li><span><a href=\"#Test-the-correctness\" data-toc-modified-id=\"Test-the-correctness-2.9\"><span class=\"toc-item-num\">2.9&nbsp;&nbsp;</span>Test the correctness</a></span></li></ul></li><li><span><a href=\"#Have-a-break:-Visualization-of-the-temperature\" data-toc-modified-id=\"Have-a-break:-Visualization-of-the-temperature-3\"><span class=\"toc-item-num\">3&nbsp;&nbsp;</span>Have a break: Visualization of the temperature</a></span></li><li><span><a href=\"#Test-speed\" data-toc-modified-id=\"Test-speed-4\"><span class=\"toc-item-num\">4&nbsp;&nbsp;</span>Test speed</a></span><ul class=\"toc-item\"><li><span><a href=\"#Discussion\" data-toc-modified-id=\"Discussion-4.1\"><span class=\"toc-item-num\">4.1&nbsp;&nbsp;</span>Discussion</a></span></li></ul></li></ul></div>"
   ]
  },
  {
   "cell_type": "markdown",
   "metadata": {},
   "source": [
    "# Diffusion equation"
   ]
  },
  {
   "cell_type": "markdown",
   "metadata": {},
   "source": [
    "Stationary diffusion equation\n",
    "$$\\frac{\\partial^2 \\phi}{\\partial^2 x} + \\frac{\\partial^2 \\phi}{\\partial^2 y} = -\\rho$$\n",
    "where the $\\rho$ is the source, $\\phi$ is the density.\n",
    "\n",
    "In the heat transfer example, the heat source is the source, and the temperature is the \"heat density\".\n",
    "\n",
    "We can descrese the equation as\n",
    "$$\n",
    "\\frac{\\phi(x+\\Delta x,y) + \\phi(x-\\Delta x,y) + \\phi(x,y+\\Delta x) + \\phi(x,y-\\Delta x) - 4\\phi(x,y)}{(\\Delta x) ^2} =  -\\rho\n",
    "$$\n",
    "where $\\Delta x = \\Delta y$\n",
    "Then we can write down the iteration equation\n",
    "$$\n",
    "\\phi(x,y) = \\frac{\\phi(x+\\Delta x,y) + \\phi(x-\\Delta x,y) + \\phi(x,y+\\Delta x) + \\phi(x,y-\\Delta x)}{4} + (\\Delta x) ^2 \\rho\n",
    "$$"
   ]
  },
  {
   "cell_type": "markdown",
   "metadata": {},
   "source": [
    "# implementations"
   ]
  },
  {
   "cell_type": "code",
   "execution_count": 1,
   "metadata": {
    "ExecuteTime": {
     "end_time": "2019-12-02T15:19:11.490000Z",
     "start_time": "2019-12-02T15:19:11.484000Z"
    }
   },
   "outputs": [
    {
     "name": "stdout",
     "output_type": "stream",
     "text": [
      "3.6.7 |Anaconda, Inc.| (default, Dec 10 2018, 20:35:02) [MSC v.1915 64 bit (AMD64)]\n"
     ]
    }
   ],
   "source": [
    "import sys\n",
    "print(sys.version)"
   ]
  },
  {
   "cell_type": "code",
   "execution_count": 2,
   "metadata": {
    "ExecuteTime": {
     "end_time": "2019-12-02T15:19:11.500500Z",
     "start_time": "2019-12-02T15:19:11.491500Z"
    }
   },
   "outputs": [],
   "source": [
    "def test_speed(solver, n_updates=1000):\n",
    "    \n",
    "    print(\"benchmarking: %s\"%solver.__name__)\n",
    "    ns = 10 ** np.linspace(1.5, 3, 10)\n",
    "    ans=[]\n",
    "    \n",
    "    for n_float in ns:\n",
    "        \n",
    "        n = int(n_float)\n",
    "        rho = np.zeros((n, n), dtype=np.float64)\n",
    "        phi = np.zeros((n, n), dtype=np.float64)\n",
    "        t=%timeit -r3 -o solver(phi, rho, 1, 0.1, n_updates)\n",
    "        ans.append(t)\n",
    "        \n",
    "        time = t.average\n",
    "        print(\"Average time of %10.4f s for %4d updates on grid of %dx%d\"%(float(time), n_updates, int(n), int(n)))\n",
    "    \n",
    "    return ans"
   ]
  },
  {
   "cell_type": "markdown",
   "metadata": {},
   "source": [
    "## Python: explicit `[]`"
   ]
  },
  {
   "cell_type": "code",
   "execution_count": 3,
   "metadata": {
    "ExecuteTime": {
     "end_time": "2019-12-02T15:19:11.605000Z",
     "start_time": "2019-12-02T15:19:11.502500Z"
    }
   },
   "outputs": [],
   "source": [
    "#%%writefile temp.py\n",
    "import numpy as np\n",
    "\n",
    "\n",
    "def temperature_python(phi, rho, alpha, dx, n_iter):\n",
    "    # phi[0,:] the left boundary, not update\n",
    "    # phi[phi.shape[0]-1,:] the right boundary, not update\n",
    "    # phi[0,:] the left boundary, not update\n",
    "    # phi[:,phi.shape[1]-1] the top boundary, not update\n",
    "\n",
    "    # a buffer is needed\n",
    "    # we don't want to refer the updated result\n",
    "    # when we write e.g. phi[i-1,j]\n",
    "    phi_update = np.empty_like(phi)\n",
    "    for it in range(n_iter):\n",
    "        for i in range(1, phi.shape[0] - 1):\n",
    "            for j in range(1, phi.shape[1] - 1):\n",
    "                phi_update[i, j] = 0.25 * (phi[i - 1,j] + phi[i + 1,j]\\\n",
    "                    + phi[i, j - 1] + phi[i, j + 1])\\\n",
    "                    + dx**2 * rho[i, j]\n",
    "\n",
    "        for i in range(1, phi.shape[0] - 1):\n",
    "            for j in range(1, phi.shape[1] - 1):\n",
    "                phi[i, j] = phi_update[i, j]"
   ]
  },
  {
   "cell_type": "code",
   "execution_count": 4,
   "metadata": {
    "ExecuteTime": {
     "end_time": "2019-12-02T15:19:58.921500Z",
     "start_time": "2019-12-02T15:19:11.606000Z"
    }
   },
   "outputs": [
    {
     "name": "stdout",
     "output_type": "stream",
     "text": [
      "benchmarking: temperature_python\n",
      "1.63 ms ± 10.8 µs per loop (mean ± std. dev. of 3 runs, 1000 loops each)\n",
      "Average time of     0.0016 s for    1 updates on grid of 31x31\n",
      "3.87 ms ± 91.6 µs per loop (mean ± std. dev. of 3 runs, 100 loops each)\n",
      "Average time of     0.0039 s for    1 updates on grid of 46x46\n",
      "9.3 ms ± 285 µs per loop (mean ± std. dev. of 3 runs, 100 loops each)\n",
      "Average time of     0.0093 s for    1 updates on grid of 68x68\n",
      "19.1 ms ± 218 µs per loop (mean ± std. dev. of 3 runs, 100 loops each)\n",
      "Average time of     0.0191 s for    1 updates on grid of 100x100\n",
      "41.6 ms ± 208 µs per loop (mean ± std. dev. of 3 runs, 10 loops each)\n",
      "Average time of     0.0416 s for    1 updates on grid of 146x146\n",
      "88.9 ms ± 289 µs per loop (mean ± std. dev. of 3 runs, 10 loops each)\n",
      "Average time of     0.0889 s for    1 updates on grid of 215x215\n",
      "199 ms ± 653 µs per loop (mean ± std. dev. of 3 runs, 10 loops each)\n",
      "Average time of     0.1986 s for    1 updates on grid of 316x316\n",
      "425 ms ± 4.14 ms per loop (mean ± std. dev. of 3 runs, 1 loop each)\n",
      "Average time of     0.4247 s for    1 updates on grid of 464x464\n",
      "914 ms ± 7.81 ms per loop (mean ± std. dev. of 3 runs, 1 loop each)\n",
      "Average time of     0.9143 s for    1 updates on grid of 681x681\n",
      "2.09 s ± 26.9 ms per loop (mean ± std. dev. of 3 runs, 1 loop each)\n",
      "Average time of     2.0887 s for    1 updates on grid of 1000x1000\n"
     ]
    }
   ],
   "source": [
    "t_python=test_speed(temperature_python, n_updates=1)"
   ]
  },
  {
   "cell_type": "markdown",
   "metadata": {
    "ExecuteTime": {
     "end_time": "2019-12-01T08:21:19.056500Z",
     "start_time": "2019-12-01T08:21:19.054000Z"
    }
   },
   "source": [
    "## Numpy"
   ]
  },
  {
   "cell_type": "code",
   "execution_count": 5,
   "metadata": {
    "ExecuteTime": {
     "end_time": "2019-12-02T15:19:58.928500Z",
     "start_time": "2019-12-02T15:19:58.923500Z"
    }
   },
   "outputs": [],
   "source": [
    "def temperature_numpy(phi, rho, alpha, dx, n_iter):\n",
    "\n",
    "    M = phi.shape[0]\n",
    "    N = phi.shape[1]\n",
    "    rho = dx**2 * rho[1:M - 1, 1:N - 1]\n",
    "    for _ in range(n_iter):\n",
    "        phi[1:M - 1, 1:N - 1] = 0.25*(phi[0:M - 2, 1:N - 1]\\\n",
    "            + phi[2:M, 1:N - 1]\\\n",
    "            + phi[1:M-1, 0:N - 2]\\\n",
    "            + phi[1:M-1, 2:N])\\\n",
    "            + rho"
   ]
  },
  {
   "cell_type": "code",
   "execution_count": 6,
   "metadata": {
    "ExecuteTime": {
     "end_time": "2019-12-02T15:22:09.715500Z",
     "start_time": "2019-12-02T15:19:58.930000Z"
    }
   },
   "outputs": [
    {
     "name": "stdout",
     "output_type": "stream",
     "text": [
      "benchmarking: temperature_numpy\n",
      "12.4 ms ± 173 µs per loop (mean ± std. dev. of 3 runs, 100 loops each)\n",
      "Average time of     0.0124 s for 1000 updates on grid of 31x31\n",
      "16.2 ms ± 121 µs per loop (mean ± std. dev. of 3 runs, 100 loops each)\n",
      "Average time of     0.0162 s for 1000 updates on grid of 46x46\n",
      "29 ms ± 1.05 ms per loop (mean ± std. dev. of 3 runs, 10 loops each)\n",
      "Average time of     0.0290 s for 1000 updates on grid of 68x68\n",
      "50.2 ms ± 1.58 ms per loop (mean ± std. dev. of 3 runs, 10 loops each)\n",
      "Average time of     0.0502 s for 1000 updates on grid of 100x100\n",
      "90.1 ms ± 1.07 ms per loop (mean ± std. dev. of 3 runs, 10 loops each)\n",
      "Average time of     0.0901 s for 1000 updates on grid of 146x146\n",
      "173 ms ± 3.67 ms per loop (mean ± std. dev. of 3 runs, 10 loops each)\n",
      "Average time of     0.1725 s for 1000 updates on grid of 215x215\n",
      "750 ms ± 22.8 ms per loop (mean ± std. dev. of 3 runs, 1 loop each)\n",
      "Average time of     0.7500 s for 1000 updates on grid of 316x316\n",
      "2.91 s ± 35.3 ms per loop (mean ± std. dev. of 3 runs, 1 loop each)\n",
      "Average time of     2.9131 s for 1000 updates on grid of 464x464\n",
      "6.97 s ± 177 ms per loop (mean ± std. dev. of 3 runs, 1 loop each)\n",
      "Average time of     6.9741 s for 1000 updates on grid of 681x681\n",
      "15.7 s ± 177 ms per loop (mean ± std. dev. of 3 runs, 1 loop each)\n",
      "Average time of    15.6924 s for 1000 updates on grid of 1000x1000\n"
     ]
    }
   ],
   "source": [
    "t_numpy=test_speed(temperature_numpy)"
   ]
  },
  {
   "cell_type": "markdown",
   "metadata": {},
   "source": [
    "## Numba"
   ]
  },
  {
   "cell_type": "code",
   "execution_count": 7,
   "metadata": {
    "ExecuteTime": {
     "end_time": "2019-12-02T15:22:10.095000Z",
     "start_time": "2019-12-02T15:22:09.717000Z"
    }
   },
   "outputs": [],
   "source": [
    "import numba as nb\n",
    "#parallel=True not work in this case\n",
    "temperature_numba = nb.jit(nopython=True)(temperature_python)\n",
    "temperature_numba_numpy = nb.jit(nopython=True)(temperature_numpy)"
   ]
  },
  {
   "cell_type": "code",
   "execution_count": 8,
   "metadata": {
    "ExecuteTime": {
     "end_time": "2019-12-02T15:23:55.362000Z",
     "start_time": "2019-12-02T15:22:10.096500Z"
    }
   },
   "outputs": [
    {
     "name": "stdout",
     "output_type": "stream",
     "text": [
      "benchmarking: temperature_python\n",
      "990 µs ± 37.5 µs per loop (mean ± std. dev. of 3 runs, 1 loop each)\n",
      "Average time of     0.0010 s for 1000 updates on grid of 31x31\n",
      "2.12 ms ± 70.9 µs per loop (mean ± std. dev. of 3 runs, 100 loops each)\n",
      "Average time of     0.0021 s for 1000 updates on grid of 46x46\n",
      "3.65 ms ± 80.5 µs per loop (mean ± std. dev. of 3 runs, 100 loops each)\n",
      "Average time of     0.0037 s for 1000 updates on grid of 68x68\n",
      "8.05 ms ± 299 µs per loop (mean ± std. dev. of 3 runs, 100 loops each)\n",
      "Average time of     0.0081 s for 1000 updates on grid of 100x100\n",
      "19.1 ms ± 342 µs per loop (mean ± std. dev. of 3 runs, 100 loops each)\n",
      "Average time of     0.0191 s for 1000 updates on grid of 146x146\n",
      "40.4 ms ± 639 µs per loop (mean ± std. dev. of 3 runs, 10 loops each)\n",
      "Average time of     0.0404 s for 1000 updates on grid of 215x215\n",
      "88.8 ms ± 1.46 ms per loop (mean ± std. dev. of 3 runs, 10 loops each)\n",
      "Average time of     0.0888 s for 1000 updates on grid of 316x316\n",
      "251 ms ± 8.15 ms per loop (mean ± std. dev. of 3 runs, 1 loop each)\n",
      "Average time of     0.2508 s for 1000 updates on grid of 464x464\n",
      "905 ms ± 33.3 ms per loop (mean ± std. dev. of 3 runs, 1 loop each)\n",
      "Average time of     0.9054 s for 1000 updates on grid of 681x681\n",
      "2.39 s ± 35.8 ms per loop (mean ± std. dev. of 3 runs, 1 loop each)\n",
      "Average time of     2.3923 s for 1000 updates on grid of 1000x1000\n",
      "benchmarking: temperature_numpy\n",
      "5.14 ms ± 147 µs per loop (mean ± std. dev. of 3 runs, 1 loop each)\n",
      "Average time of     0.0051 s for 1000 updates on grid of 31x31\n",
      "11.7 ms ± 27.5 µs per loop (mean ± std. dev. of 3 runs, 100 loops each)\n",
      "Average time of     0.0117 s for 1000 updates on grid of 46x46\n",
      "26 ms ± 279 µs per loop (mean ± std. dev. of 3 runs, 10 loops each)\n",
      "Average time of     0.0260 s for 1000 updates on grid of 68x68\n",
      "57.6 ms ± 161 µs per loop (mean ± std. dev. of 3 runs, 10 loops each)\n",
      "Average time of     0.0576 s for 1000 updates on grid of 100x100\n",
      "124 ms ± 1.26 ms per loop (mean ± std. dev. of 3 runs, 10 loops each)\n",
      "Average time of     0.1237 s for 1000 updates on grid of 146x146\n",
      "282 ms ± 11.1 ms per loop (mean ± std. dev. of 3 runs, 1 loop each)\n",
      "Average time of     0.2825 s for 1000 updates on grid of 215x215\n",
      "591 ms ± 4.25 ms per loop (mean ± std. dev. of 3 runs, 1 loop each)\n",
      "Average time of     0.5914 s for 1000 updates on grid of 316x316\n",
      "1.69 s ± 40.8 ms per loop (mean ± std. dev. of 3 runs, 1 loop each)\n",
      "Average time of     1.6945 s for 1000 updates on grid of 464x464\n",
      "3.69 s ± 28.4 ms per loop (mean ± std. dev. of 3 runs, 1 loop each)\n",
      "Average time of     3.6870 s for 1000 updates on grid of 681x681\n",
      "8.11 s ± 64.6 ms per loop (mean ± std. dev. of 3 runs, 1 loop each)\n",
      "Average time of     8.1111 s for 1000 updates on grid of 1000x1000\n"
     ]
    }
   ],
   "source": [
    "t_numba=test_speed(temperature_numba)\n",
    "t_numba_numpy=test_speed(temperature_numba_numpy)"
   ]
  },
  {
   "cell_type": "markdown",
   "metadata": {
    "ExecuteTime": {
     "end_time": "2019-12-01T09:46:12.506500Z",
     "start_time": "2019-12-01T09:46:12.501500Z"
    }
   },
   "source": [
    "## Cython: exact python"
   ]
  },
  {
   "cell_type": "code",
   "execution_count": 9,
   "metadata": {
    "ExecuteTime": {
     "end_time": "2019-12-02T15:23:55.761500Z",
     "start_time": "2019-12-02T15:23:55.363500Z"
    }
   },
   "outputs": [],
   "source": [
    "# please install cython\n",
    "# >>> conda install cython\n",
    "%load_ext cython"
   ]
  },
  {
   "cell_type": "markdown",
   "metadata": {},
   "source": [
    "We compile the python to C code. The only optimization is avoiding the reading the bytecode and parsing. Because, in this mode, we still use CPython runtime and the CPython runtime is the slowest part. We except there is no acceleration."
   ]
  },
  {
   "cell_type": "code",
   "execution_count": 10,
   "metadata": {
    "ExecuteTime": {
     "end_time": "2019-12-02T15:23:55.769500Z",
     "start_time": "2019-12-02T15:23:55.763000Z"
    }
   },
   "outputs": [],
   "source": [
    "%%cython\n",
    "#%load temp.py\n",
    "import numpy as np\n",
    "\n",
    "def temperature_cython_python(phi, rho, alpha, dx, n_iter):\n",
    "    # phi[0,:] the left boundary, not update\n",
    "    # phi[phi.shape[0]-1,:] the right boundary, not update\n",
    "    # phi[0,:] the left boundary, not update\n",
    "    # phi[:,phi.shape[1]-1] the top boundary, not update\n",
    "    \n",
    "    # a buffer is needed\n",
    "    # we don't want to refer the updated result\n",
    "    # when we write e.g. phi[i-1,j]\n",
    "    phi_update = np.empty_like(phi)\n",
    "    for it in range(n_iter):\n",
    "        for i in range(1, phi.shape[0] - 1):\n",
    "            for j in range(1, phi.shape[1] - 1):\n",
    "                phi_update[i, j] = 0.25 * (phi[i - 1,j] + phi[i + 1,j]\\\n",
    "                    + phi[i, j - 1] + phi[i, j + 1])\\\n",
    "                    + dx**2 * rho[i, j]\n",
    "\n",
    "        for i in range(1, phi.shape[0] - 1):\n",
    "            for j in range(1, phi.shape[1] - 1):\n",
    "                phi[i, j] = phi_update[i, j]"
   ]
  },
  {
   "cell_type": "code",
   "execution_count": 11,
   "metadata": {
    "ExecuteTime": {
     "end_time": "2019-12-02T15:24:35.119500Z",
     "start_time": "2019-12-02T15:23:55.771500Z"
    }
   },
   "outputs": [
    {
     "name": "stdout",
     "output_type": "stream",
     "text": [
      "benchmarking: temperature_cython_python\n",
      "1.43 ms ± 13.9 µs per loop (mean ± std. dev. of 3 runs, 1000 loops each)\n",
      "Average time of     0.0014 s for    1 updates on grid of 31x31\n",
      "3.12 ms ± 20.6 µs per loop (mean ± std. dev. of 3 runs, 100 loops each)\n",
      "Average time of     0.0031 s for    1 updates on grid of 46x46\n",
      "7.29 ms ± 26.2 µs per loop (mean ± std. dev. of 3 runs, 100 loops each)\n",
      "Average time of     0.0073 s for    1 updates on grid of 68x68\n",
      "16.1 ms ± 88.5 µs per loop (mean ± std. dev. of 3 runs, 100 loops each)\n",
      "Average time of     0.0161 s for    1 updates on grid of 100x100\n",
      "34.7 ms ± 277 µs per loop (mean ± std. dev. of 3 runs, 10 loops each)\n",
      "Average time of     0.0347 s for    1 updates on grid of 146x146\n",
      "74.7 ms ± 144 µs per loop (mean ± std. dev. of 3 runs, 10 loops each)\n",
      "Average time of     0.0747 s for    1 updates on grid of 215x215\n",
      "166 ms ± 1.86 ms per loop (mean ± std. dev. of 3 runs, 10 loops each)\n",
      "Average time of     0.1662 s for    1 updates on grid of 316x316\n",
      "360 ms ± 731 µs per loop (mean ± std. dev. of 3 runs, 1 loop each)\n",
      "Average time of     0.3597 s for    1 updates on grid of 464x464\n",
      "748 ms ± 1.36 ms per loop (mean ± std. dev. of 3 runs, 1 loop each)\n",
      "Average time of     0.7483 s for    1 updates on grid of 681x681\n",
      "1.7 s ± 3.33 ms per loop (mean ± std. dev. of 3 runs, 1 loop each)\n",
      "Average time of     1.7013 s for    1 updates on grid of 1000x1000\n"
     ]
    }
   ],
   "source": [
    "t_cython_python=test_speed(temperature_cython_python,n_updates=1)"
   ]
  },
  {
   "cell_type": "markdown",
   "metadata": {},
   "source": [
    "## Cython: with type annotation"
   ]
  },
  {
   "cell_type": "markdown",
   "metadata": {
    "ExecuteTime": {
     "end_time": "2019-12-01T09:22:25.671500Z",
     "start_time": "2019-12-01T09:22:25.664000Z"
    }
   },
   "source": [
    "Cypton is new to me. I hope writing this simple example doesn't require a Cython expert. However, it seems not the case. I looked into the generated c code (via `cython -a`). The generated code doesn't assume the strides to be 1. The code even uses a function to calculate the address from indices. I don't how much the calculation will effect."
   ]
  },
  {
   "cell_type": "code",
   "execution_count": 12,
   "metadata": {
    "ExecuteTime": {
     "end_time": "2019-12-02T15:24:35.124500Z",
     "start_time": "2019-12-02T15:24:35.120500Z"
    }
   },
   "outputs": [],
   "source": [
    "%%cython\n",
    "import numpy as np\n",
    "cimport numpy as np\n",
    "cimport cython\n",
    "\n",
    "\n",
    "@cython.boundscheck(False)\n",
    "@cython.wraparound(False)\n",
    "def temperature_cython_typed(np.ndarray[np.float64_t, ndim=2, mode=\"c\"] phi,\n",
    "                             np.ndarray[np.float64_t, ndim=2, mode=\"c\"] rho,\n",
    "                             double alpha, double dx,int n_iter):\n",
    "    \n",
    "    cdef np.ndarray[np.float64_t, ndim=2, mode=\"c\"] phi_update = np.empty_like(phi)\n",
    "    cdef int M = phi.shape[0]\n",
    "    cdef int N = phi.shape[1]\n",
    "    cdef int i = 0\n",
    "    cdef int j = 0\n",
    "            \n",
    "    for it in range(n_iter):\n",
    "        for i in range(1, M-1):\n",
    "            for j in range(1, N-1):\n",
    "                phi_update[i, j] = 0.25 * (phi[i - 1, j] + phi[i + 1,j]\\\n",
    "                    + phi[i, j - 1] + phi[i, j + 1])\\\n",
    "                    + dx**2 * rho[i, j]\n",
    "\n",
    "        for i in range(1, M-1):\n",
    "            for j in range(1, N-1):     \n",
    "                phi[i,j] = phi_update[i,j]\n",
    "                "
   ]
  },
  {
   "cell_type": "code",
   "execution_count": 13,
   "metadata": {
    "ExecuteTime": {
     "end_time": "2019-12-02T15:25:11.713500Z",
     "start_time": "2019-12-02T15:24:35.127000Z"
    }
   },
   "outputs": [
    {
     "name": "stdout",
     "output_type": "stream",
     "text": [
      "benchmarking: temperature_cython_typed\n",
      "3.2 ms ± 45.7 µs per loop (mean ± std. dev. of 3 runs, 100 loops each)\n",
      "Average time of     0.0032 s for 1000 updates on grid of 31x31\n",
      "6.33 ms ± 6.82 µs per loop (mean ± std. dev. of 3 runs, 100 loops each)\n",
      "Average time of     0.0063 s for 1000 updates on grid of 46x46\n",
      "12.5 ms ± 86.4 µs per loop (mean ± std. dev. of 3 runs, 100 loops each)\n",
      "Average time of     0.0125 s for 1000 updates on grid of 68x68\n",
      "25 ms ± 240 µs per loop (mean ± std. dev. of 3 runs, 10 loops each)\n",
      "Average time of     0.0250 s for 1000 updates on grid of 100x100\n",
      "50.4 ms ± 247 µs per loop (mean ± std. dev. of 3 runs, 10 loops each)\n",
      "Average time of     0.0504 s for 1000 updates on grid of 146x146\n",
      "104 ms ± 340 µs per loop (mean ± std. dev. of 3 runs, 10 loops each)\n",
      "Average time of     0.1042 s for 1000 updates on grid of 215x215\n",
      "223 ms ± 1.58 ms per loop (mean ± std. dev. of 3 runs, 1 loop each)\n",
      "Average time of     0.2231 s for 1000 updates on grid of 316x316\n",
      "522 ms ± 8.58 ms per loop (mean ± std. dev. of 3 runs, 1 loop each)\n",
      "Average time of     0.5225 s for 1000 updates on grid of 464x464\n",
      "1.25 s ± 24.7 ms per loop (mean ± std. dev. of 3 runs, 1 loop each)\n",
      "Average time of     1.2531 s for 1000 updates on grid of 681x681\n",
      "3.03 s ± 22.7 ms per loop (mean ± std. dev. of 3 runs, 1 loop each)\n",
      "Average time of     3.0308 s for 1000 updates on grid of 1000x1000\n"
     ]
    }
   ],
   "source": [
    "t_cython_typed=test_speed(temperature_cython_typed)"
   ]
  },
  {
   "cell_type": "markdown",
   "metadata": {},
   "source": [
    "## Cython: optimized for strides"
   ]
  },
  {
   "cell_type": "markdown",
   "metadata": {},
   "source": [
    "Now, I tell the cython, the array is indeed a continuous `c` array. The function call for the calculation of index is avoid now."
   ]
  },
  {
   "cell_type": "code",
   "execution_count": 14,
   "metadata": {
    "ExecuteTime": {
     "end_time": "2019-12-02T15:25:11.720000Z",
     "start_time": "2019-12-02T15:25:11.715000Z"
    }
   },
   "outputs": [],
   "source": [
    "%%cython\n",
    "import numpy as np\n",
    "cimport numpy as np\n",
    "cimport cython\n",
    "\n",
    "\n",
    "@cython.boundscheck(False)\n",
    "@cython.wraparound(False)\n",
    "def temperature_cython_optimized(np.ndarray[np.float64_t, ndim=2, mode=\"c\"] phi_,\n",
    "                             np.ndarray[np.float64_t, ndim=2, mode=\"c\"] rho_,\n",
    "                             double alpha, double dx,int n_iter):\n",
    "    \n",
    "    cdef np.ndarray[np.float64_t, ndim=2, mode=\"c\"] phi_update_ = np.empty_like(phi_)    \n",
    "    cdef int M = phi_.shape[0]\n",
    "    cdef int N = phi_.shape[1]\n",
    "    cdef int i = 0\n",
    "    cdef int j = 0\n",
    "    \n",
    "    #####################\n",
    "    # we assume it is continious c array\n",
    "    #####################\n",
    "    \n",
    "    cdef double[:,::1] phi = phi_\n",
    "    cdef double[:,::1] rho = rho_\n",
    "    cdef double[:,::1] phi_update = phi_update_\n",
    "            \n",
    "    for it in range(n_iter):\n",
    "        for i in range(1, M-1):\n",
    "            for j in range(1, N-1):\n",
    "                phi_update[i, j] = 0.25 * (phi[i - 1, j] + phi[i + 1,j]\\\n",
    "                    + phi[i, j - 1] + phi[i, j + 1])\\\n",
    "                    + dx**2 * rho[i, j]\n",
    "\n",
    "        for i in range(1, M-1):\n",
    "            for j in range(1, N-1):     \n",
    "                phi[i,j] = phi_update[i,j]\n",
    "                "
   ]
  },
  {
   "cell_type": "code",
   "execution_count": 15,
   "metadata": {
    "ExecuteTime": {
     "end_time": "2019-12-02T15:25:51.485500Z",
     "start_time": "2019-12-02T15:25:11.721500Z"
    }
   },
   "outputs": [
    {
     "name": "stdout",
     "output_type": "stream",
     "text": [
      "benchmarking: temperature_cython_optimized\n",
      "2.45 ms ± 39.9 µs per loop (mean ± std. dev. of 3 runs, 100 loops each)\n",
      "Average time of     0.0025 s for 1000 updates on grid of 31x31\n",
      "4.68 ms ± 72.7 µs per loop (mean ± std. dev. of 3 runs, 100 loops each)\n",
      "Average time of     0.0047 s for 1000 updates on grid of 46x46\n",
      "9.11 ms ± 15.8 µs per loop (mean ± std. dev. of 3 runs, 100 loops each)\n",
      "Average time of     0.0091 s for 1000 updates on grid of 68x68\n",
      "18.1 ms ± 65.9 µs per loop (mean ± std. dev. of 3 runs, 100 loops each)\n",
      "Average time of     0.0181 s for 1000 updates on grid of 100x100\n",
      "35.6 ms ± 97.3 µs per loop (mean ± std. dev. of 3 runs, 10 loops each)\n",
      "Average time of     0.0356 s for 1000 updates on grid of 146x146\n",
      "72.9 ms ± 94 µs per loop (mean ± std. dev. of 3 runs, 10 loops each)\n",
      "Average time of     0.0729 s for 1000 updates on grid of 215x215\n",
      "152 ms ± 416 µs per loop (mean ± std. dev. of 3 runs, 10 loops each)\n",
      "Average time of     0.1521 s for 1000 updates on grid of 316x316\n",
      "353 ms ± 18.6 ms per loop (mean ± std. dev. of 3 runs, 1 loop each)\n",
      "Average time of     0.3530 s for 1000 updates on grid of 464x464\n",
      "960 ms ± 23.6 ms per loop (mean ± std. dev. of 3 runs, 1 loop each)\n",
      "Average time of     0.9599 s for 1000 updates on grid of 681x681\n",
      "2.42 s ± 19.6 ms per loop (mean ± std. dev. of 3 runs, 1 loop each)\n",
      "Average time of     2.4245 s for 1000 updates on grid of 1000x1000\n"
     ]
    }
   ],
   "source": [
    "t_cython_optimized=test_speed(temperature_cython_optimized)"
   ]
  },
  {
   "cell_type": "markdown",
   "metadata": {},
   "source": [
    "## Cython: C"
   ]
  },
  {
   "cell_type": "code",
   "execution_count": 16,
   "metadata": {
    "ExecuteTime": {
     "end_time": "2019-12-02T15:25:51.491000Z",
     "start_time": "2019-12-02T15:25:51.487000Z"
    }
   },
   "outputs": [
    {
     "name": "stdout",
     "output_type": "stream",
     "text": [
      "Overwriting temperature_c.c\n"
     ]
    }
   ],
   "source": [
    "%%writefile temperature_c.c\n",
    "\n",
    "#define INDEX(i,j) ((i)*N + (j))\n",
    "\n",
    "void temperature_c(double * phi, double *phi_update, double * rho,\n",
    "    int M, int N, double alpha, double dx, int n_iter) {\n",
    "\n",
    "    // We will not reuse INDEX(i, j)\n",
    "    // test the compiler!\n",
    "\n",
    "    for (int it = 0; it < n_iter; ++it) {\n",
    "        for (int i = 1; i < M - 1; ++i) {\n",
    "            for (int j = 1; j < N - 1; ++j) {\n",
    "                phi_update[INDEX(i, j)] = 0.25*(phi[INDEX(i, j - 1)] + phi[INDEX(i, j + 1)]\n",
    "                    + phi[INDEX(i - 1, j)] + phi[INDEX(i + 1, j)]) + dx * dx*rho[INDEX(i, j)];\n",
    "            }\n",
    "        }\n",
    "        for (int i = 1; i < M - 1; ++i) {\n",
    "            for (int j = 1; j < N - 1; ++j) {\n",
    "                phi[INDEX(i, j)] = phi_update[INDEX(i, j)];\n",
    "            }\n",
    "        }\n",
    "    }\n",
    "}\n"
   ]
  },
  {
   "cell_type": "markdown",
   "metadata": {
    "ExecuteTime": {
     "end_time": "2019-12-01T20:05:38.974500Z",
     "start_time": "2019-12-01T20:05:38.968000Z"
    }
   },
   "source": [
    "Copy file to the directory that contains `*.pyx`. So the compiler can find our C code."
   ]
  },
  {
   "cell_type": "code",
   "execution_count": 17,
   "metadata": {
    "ExecuteTime": {
     "end_time": "2019-12-02T15:25:51.499000Z",
     "start_time": "2019-12-02T15:25:51.492500Z"
    }
   },
   "outputs": [],
   "source": [
    "import os.path, shutil\n",
    "from sys import platform\n",
    "\n",
    "if platform == \"linux\" or platform == \"linux2\":\n",
    "    # linux\n",
    "    pyx_dir=os.path.join(os.path.expanduser('~'), \".cache/ipython/cython/\")\n",
    "    shutil.copy(\"temperature_c.c\", pyx_dir)\n",
    "elif platform == \"darwin\":\n",
    "    # OS X\n",
    "    # I don't have mac ...\n",
    "    # Try fix this by yourself\n",
    "    pass\n",
    "elif platform == \"win32\":\n",
    "    # Windows...\n",
    "    pyx_dir=os.path.join(os.path.expanduser('~'), \".ipython\\cython\")\n",
    "    shutil.copy(\"temperature_c.c\", pyx_dir)"
   ]
  },
  {
   "cell_type": "markdown",
   "metadata": {},
   "source": [
    "In the '.pyx' part, we transform `ndarray` to C pointer, then call the temperature_c."
   ]
  },
  {
   "cell_type": "code",
   "execution_count": 18,
   "metadata": {
    "ExecuteTime": {
     "end_time": "2019-12-02T15:25:51.510000Z",
     "start_time": "2019-12-02T15:25:51.500500Z"
    }
   },
   "outputs": [],
   "source": [
    "%%cython\n",
    "\n",
    "import numpy as np\n",
    "cimport numpy as np\n",
    "cimport cython\n",
    "\n",
    "cdef extern from \"temperature_c.c\":\n",
    "    # C is include here so that it doesn't need to be compiled externally\n",
    "    pass\n",
    "\n",
    "cdef extern void temperature_c(double *,double *,double *rho, int, int, double, double, int)\n",
    "\n",
    "@cython.boundscheck(False)\n",
    "@cython.wraparound(False)\n",
    "def temperature_cython_c(np.ndarray[np.float64_t, ndim=2, mode=\"c\"] phi_,\n",
    "                             np.ndarray[np.float64_t, ndim=2, mode=\"c\"] rho_,\n",
    "                             double alpha, double dx,int n_iter):\n",
    "    \n",
    "    cdef np.ndarray[np.float64_t, ndim=2, mode=\"c\"] phi_update_ = np.empty_like(phi_)    \n",
    "    cdef int M = phi_.shape[0]\n",
    "    cdef int N = phi_.shape[1]\n",
    "    cdef int i = 0\n",
    "    cdef int j = 0\n",
    "    \n",
    "    #####################\n",
    "    # we assume it is continious c array\n",
    "    #####################\n",
    "    \n",
    "    cdef double[:,::1] phi = phi_\n",
    "    cdef double[:,::1] rho = rho_\n",
    "    cdef double[:,::1] phi_update = phi_update_\n",
    "    \n",
    "    temperature_c(&(phi[0,0]), &(phi_update[0,0]), &(rho[0,0]), M, N, alpha, dx, n_iter)\n",
    "            "
   ]
  },
  {
   "cell_type": "code",
   "execution_count": 19,
   "metadata": {
    "ExecuteTime": {
     "end_time": "2019-12-02T15:26:29.721500Z",
     "start_time": "2019-12-02T15:25:51.512000Z"
    }
   },
   "outputs": [
    {
     "name": "stdout",
     "output_type": "stream",
     "text": [
      "benchmarking: temperature_cython_c\n",
      "1.15 ms ± 2.89 µs per loop (mean ± std. dev. of 3 runs, 1000 loops each)\n",
      "Average time of     0.0012 s for 1000 updates on grid of 31x31\n",
      "2.64 ms ± 36.3 µs per loop (mean ± std. dev. of 3 runs, 100 loops each)\n",
      "Average time of     0.0026 s for 1000 updates on grid of 46x46\n",
      "6.04 ms ± 24.2 µs per loop (mean ± std. dev. of 3 runs, 100 loops each)\n",
      "Average time of     0.0060 s for 1000 updates on grid of 68x68\n",
      "13.3 ms ± 57.4 µs per loop (mean ± std. dev. of 3 runs, 100 loops each)\n",
      "Average time of     0.0133 s for 1000 updates on grid of 100x100\n",
      "29.7 ms ± 353 µs per loop (mean ± std. dev. of 3 runs, 10 loops each)\n",
      "Average time of     0.0297 s for 1000 updates on grid of 146x146\n",
      "62.6 ms ± 211 µs per loop (mean ± std. dev. of 3 runs, 10 loops each)\n",
      "Average time of     0.0626 s for 1000 updates on grid of 215x215\n",
      "137 ms ± 265 µs per loop (mean ± std. dev. of 3 runs, 10 loops each)\n",
      "Average time of     0.1371 s for 1000 updates on grid of 316x316\n",
      "360 ms ± 13.2 ms per loop (mean ± std. dev. of 3 runs, 1 loop each)\n",
      "Average time of     0.3601 s for 1000 updates on grid of 464x464\n",
      "963 ms ± 29.4 ms per loop (mean ± std. dev. of 3 runs, 1 loop each)\n",
      "Average time of     0.9629 s for 1000 updates on grid of 681x681\n",
      "2.42 s ± 16.1 ms per loop (mean ± std. dev. of 3 runs, 1 loop each)\n",
      "Average time of     2.4199 s for 1000 updates on grid of 1000x1000\n"
     ]
    }
   ],
   "source": [
    "t_cython_c=test_speed(temperature_cython_c)"
   ]
  },
  {
   "cell_type": "markdown",
   "metadata": {},
   "source": [
    "## C/C++"
   ]
  },
  {
   "cell_type": "markdown",
   "metadata": {
    "ExecuteTime": {
     "end_time": "2019-12-01T15:19:14.781500Z",
     "start_time": "2019-12-01T15:19:14.774000Z"
    }
   },
   "source": [
    "It's not convient to use numpy in python's C++ extension. I wrote a standalone C++ program. \n",
    "\n",
    "- I don't do any manually optimization\n",
    "- However, I will enable all possible optimization with my machine and compiler."
   ]
  },
  {
   "cell_type": "code",
   "execution_count": 20,
   "metadata": {
    "ExecuteTime": {
     "end_time": "2019-12-02T15:26:29.727000Z",
     "start_time": "2019-12-02T15:26:29.723000Z"
    }
   },
   "outputs": [
    {
     "name": "stdout",
     "output_type": "stream",
     "text": [
      "Overwriting temp.cxx\n"
     ]
    }
   ],
   "source": [
    "%%writefile temp.cxx\n",
    "\n",
    "#include <stdio.h>\n",
    "#include <vector>\n",
    "#include <chrono>\n",
    "#include <iostream>\n",
    "\n",
    "\n",
    "#define INDEX(i,j) ((i)*N + (j))\n",
    "\n",
    "void temperature_cpp(double *  phi, double const * rho,\n",
    "    int M, int N, double alpha, double dx, int n_iter) {\n",
    "\n",
    "    std::vector<double> phi_update_(M*N);\n",
    "    double *phi_update = phi_update_.data();\n",
    "\n",
    "\n",
    "    // We will not reuse INDEX(i, j)\n",
    "    // test the compiler!\n",
    "\n",
    "    for (int it = 0; it < n_iter; ++it) {\n",
    "        for (int i = 1; i < M - 1; ++i) {\n",
    "            for (int j = 1; j < N - 1; ++j) {\n",
    "                phi_update[INDEX(i, j)] = 0.25*(phi[INDEX(i, j - 1)] + phi[INDEX(i, j + 1)]\n",
    "                    + phi[INDEX(i - 1, j)] + phi[INDEX(i + 1, j)]) + dx * dx*rho[INDEX(i, j)];\n",
    "            }\n",
    "        }\n",
    "        for (int i = 1; i < M - 1; ++i) {\n",
    "            for (int j = 1; j < N - 1; ++j) {\n",
    "                phi[INDEX(i, j)] = phi_update[INDEX(i, j)];\n",
    "            }\n",
    "        }\n",
    "    }\n",
    "}\n",
    "\n",
    "int main()\n",
    "{\n",
    "\n",
    "    for (int d = 0; d < 10; ++d) {\n",
    "        int M = (int)pow(10, 1.5 + (3.0 - 1.5)*d / 9);\n",
    "\n",
    "        int N = M;\n",
    "        std::vector<double> phi(M*N);\n",
    "        std::vector<double> rho(M*N);\n",
    "\n",
    "        for (int i = 0; i < M; ++i) {\n",
    "            for (int j = 0; j < N; ++j) {\n",
    "                double x = (i - M / 2) * 0.1;\n",
    "                double y = (j - N / 2) * 0.1;\n",
    "                rho[INDEX(i, j)] = x * x + y * y;\n",
    "            }\n",
    "        }\n",
    "\n",
    "        int repeat = 200;\n",
    "        int loops = repeat * 100 * 100 / (N + 1) / (M + 1) + 1;\n",
    "        auto t0 = std::chrono::high_resolution_clock::now();\n",
    "        for (int i = 0; i < loops; ++i) {\n",
    "            temperature_cpp(phi.data(), rho.data(), M, N, 1., 0.1, 1000);\n",
    "        }\n",
    "        auto t1 = std::chrono::high_resolution_clock::now();\n",
    "        auto period = std::chrono::duration_cast<std::chrono::microseconds>(t1 - t0);\n",
    "        std::cout << loops << \" \" << M << \" \" << period.count() / (1000.0 * 1000.0 * loops) << \"\\n\";\n",
    "\n",
    "    }\n",
    "}\n"
   ]
  },
  {
   "cell_type": "markdown",
   "metadata": {},
   "source": [
    "### Compile and run"
   ]
  },
  {
   "cell_type": "markdown",
   "metadata": {},
   "source": [
    "Build and run"
   ]
  },
  {
   "cell_type": "code",
   "execution_count": 21,
   "metadata": {
    "ExecuteTime": {
     "end_time": "2019-12-02T15:27:02.548500Z",
     "start_time": "2019-12-02T15:26:29.728500Z"
    }
   },
   "outputs": [
    {
     "name": "stdout",
     "output_type": "stream",
     "text": [
      "**********************************************************************\n",
      "** Visual Studio 2017 Developer Command Prompt v15.7.5\n",
      "** Copyright (c) 2017 Microsoft Corporation\n",
      "**********************************************************************\n",
      "[vcvarsall.bat] Environment initialized for: 'x86_x64'\n",
      "temp.cxx\n"
     ]
    }
   ],
   "source": [
    "from sys import platform\n",
    "\n",
    "if platform == \"linux\" or platform == \"linux2\":\n",
    "    # linux\n",
    "    !g++ temp.cxx -O3 -o temp.exe\n",
    "    cpp_result = !./temp.exe\n",
    "elif platform == \"darwin\":\n",
    "    # OS X\n",
    "    # I don't have mac ...\n",
    "    # Try fix this by yourself\n",
    "    pass\n",
    "elif platform == \"win32\":\n",
    "    # For windows and VS2017\n",
    "    !\"C:\\Program Files (x86)\\Microsoft Visual Studio\\2017\\Community\\VC\\Auxiliary\\Build\\vcvarsall.bat\" x86_amd64 \\\n",
    "    && cl /EHsc /Ox /arch:AVX2 /nologo temp.cxx\n",
    "    cpp_result = !temp.exe\n"
   ]
  },
  {
   "cell_type": "code",
   "execution_count": 22,
   "metadata": {
    "ExecuteTime": {
     "end_time": "2019-12-02T15:27:02.555000Z",
     "start_time": "2019-12-02T15:27:02.550000Z"
    },
    "scrolled": true
   },
   "outputs": [
    {
     "name": "stdout",
     "output_type": "stream",
     "text": [
      "Average time of     0.00 s for 1000 updates on grid of 31x31\n",
      "Average time of     0.00 s for 1000 updates on grid of 46x46\n",
      "Average time of     0.01 s for 1000 updates on grid of 68x68\n",
      "Average time of     0.01 s for 1000 updates on grid of 100x100\n",
      "Average time of     0.03 s for 1000 updates on grid of 146x146\n",
      "Average time of     0.06 s for 1000 updates on grid of 215x215\n",
      "Average time of     0.14 s for 1000 updates on grid of 316x316\n",
      "Average time of     0.35 s for 1000 updates on grid of 464x464\n",
      "Average time of     0.94 s for 1000 updates on grid of 681x681\n",
      "Average time of     2.54 s for 1000 updates on grid of 1000x1000\n"
     ]
    }
   ],
   "source": [
    "def print_cpp_result():\n",
    "    \n",
    "    ans=[]\n",
    "    for r in cpp_result:\n",
    "        loops,dim,time=r.split()\n",
    "        print(\"Average time of %8.2f s for 1000 updates on grid of %dx%d\"%(float(time), int(dim), int(dim)))\n",
    "        class TimeResult:\n",
    "            def __init__(self, time):\n",
    "                self.average=float(time)\n",
    "                \n",
    "        ans.append(TimeResult(time))\n",
    "    global t_cpp\n",
    "    t_cpp=ans\n",
    "    \n",
    "        \n",
    "print_cpp_result()"
   ]
  },
  {
   "cell_type": "markdown",
   "metadata": {},
   "source": [
    "## Test the correctness"
   ]
  },
  {
   "cell_type": "code",
   "execution_count": 23,
   "metadata": {
    "ExecuteTime": {
     "end_time": "2019-12-02T15:27:02.582000Z",
     "start_time": "2019-12-02T15:27:02.557000Z"
    }
   },
   "outputs": [],
   "source": [
    "def test_they_are_same():\n",
    "    \n",
    "    nx = 50\n",
    "    rho = np.zeros((nx, nx), dtype=np.float64)\n",
    "    \n",
    "    xx, yy = np.meshgrid(np.linspace(-1, 1, nx), np.linspace(-1, 1, nx))\n",
    "    rho[:, :] = np.abs(np.sqrt(xx**2 + yy**2) - 0.3) < 0.1\n",
    "\n",
    "    \n",
    "    n_iter=2\n",
    "    # python\n",
    "    phi_python = np.zeros((nx, nx), dtype=np.float64)\n",
    "    temperature_numpy(phi_python, rho, 1, 0.1, n_iter)\n",
    "    \n",
    "    # numpy\n",
    "    phi_numpy = np.zeros((nx, nx), dtype=np.float64)\n",
    "    temperature_numpy(phi_numpy, rho, 1, 0.1, n_iter)\n",
    "\n",
    "    assert np.allclose(phi_numpy, phi_numpy)\n",
    "    \n",
    "    # numba\n",
    "    phi_numba = np.zeros((nx, nx), dtype=np.float64)\n",
    "    temperature_numba(phi_numba, rho, 1, 0.1, n_iter)\n",
    "        \n",
    "    phi_numba_numpy = np.zeros((nx, nx), dtype=np.float64)\n",
    "    temperature_numba_numpy(phi_numba_numpy, rho, 1, 0.1, n_iter)\n",
    "\n",
    "    assert np.allclose(phi_numba, phi_numpy)\n",
    "    assert np.allclose(phi_numba_numpy, phi_numpy)\n",
    "    \n",
    "    # cython\n",
    "    phi_cython_python = np.zeros((nx, nx), dtype=np.float64)\n",
    "    temperature_cython_python(phi_cython_python, rho, 1, 0.1, n_iter)\n",
    "\n",
    "    phi_cython_typed = np.zeros((nx, nx), dtype=np.float64)\n",
    "    temperature_cython_typed(phi_cython_typed, rho, 1, 0.1, n_iter)\n",
    "\n",
    "    phi_cython_optimized = np.zeros((nx, nx), dtype=np.float64)\n",
    "    temperature_cython_optimized(phi_cython_optimized, rho, 1, 0.1, n_iter)\n",
    "\n",
    "    phi_cython_c = np.zeros((nx, nx), dtype=np.float64)\n",
    "    temperature_cython_c(phi_cython_c, rho, 1, 0.1, n_iter)    \n",
    "    \n",
    "    assert np.allclose(phi_cython_python, phi_numpy)\n",
    "    assert np.allclose(phi_cython_typed, phi_numpy)\n",
    "    assert np.allclose(phi_cython_optimized, phi_numpy)\n",
    "    assert np.allclose(phi_cython_c, phi_numpy)\n",
    "\n",
    "test_they_are_same()"
   ]
  },
  {
   "cell_type": "markdown",
   "metadata": {},
   "source": [
    "# Have a break: Visualization of the temperature"
   ]
  },
  {
   "cell_type": "markdown",
   "metadata": {
    "ExecuteTime": {
     "end_time": "2019-12-01T14:45:45.406500Z",
     "start_time": "2019-12-01T14:45:45.400000Z"
    }
   },
   "source": [
    "Now, see the results. ^_^ "
   ]
  },
  {
   "cell_type": "code",
   "execution_count": 24,
   "metadata": {
    "ExecuteTime": {
     "end_time": "2019-12-02T15:27:03.052000Z",
     "start_time": "2019-12-02T15:27:02.584500Z"
    },
    "scrolled": false
   },
   "outputs": [
    {
     "data": {
      "image/png": "[encoded data removed]",
      "text/plain": [
       "<Figure size 432x288 with 1 Axes>"
      ]
     },
     "metadata": {
      "needs_background": "light"
     },
     "output_type": "display_data"
    },
    {
     "data": {
      "image/png": "[encoded data removed]",
      "text/plain": [
       "<Figure size 432x288 with 1 Axes>"
      ]
     },
     "metadata": {
      "needs_background": "light"
     },
     "output_type": "display_data"
    }
   ],
   "source": [
    "import matplotlib.pyplot as plt\n",
    "%matplotlib inline\n",
    "\n",
    "\n",
    "def plot():\n",
    "    \n",
    "    nx = 50\n",
    "    rho = np.zeros((nx, nx), dtype=np.float64)\n",
    "    \n",
    "    xx, yy = np.meshgrid(np.linspace(-1, 1, nx), np.linspace(-1, 1, nx))\n",
    "    rho[:, :] = np.abs(np.sqrt(xx**2 + yy**2) - 0.3) < 0.1\n",
    "\n",
    "    plt.figure()\n",
    "    plt.imshow(rho)\n",
    "    plt.xlabel(\"x\")\n",
    "    plt.ylabel(\"y\")\n",
    "    plt.title(\"heat source\")\n",
    "    plt.show()\n",
    "\n",
    "    n_iter=1000\n",
    "            \n",
    "    phi_numpy = np.zeros((nx, nx), dtype=np.float64)\n",
    "    temperature_numpy(phi_numpy, rho, 1, 0.1, n_iter)\n",
    "    \n",
    "    plt.figure()\n",
    "    plt.imshow(phi_numpy)\n",
    "    plt.xlabel(\"x\")\n",
    "    plt.ylabel(\"y\")\n",
    "    plt.title(\"temperature\")\n",
    "    plt.show()\n",
    "    \n",
    "plot()"
   ]
  },
  {
   "cell_type": "markdown",
   "metadata": {},
   "source": [
    "# Test speed"
   ]
  },
  {
   "cell_type": "code",
   "execution_count": 25,
   "metadata": {
    "ExecuteTime": {
     "end_time": "2019-12-02T15:27:03.679000Z",
     "start_time": "2019-12-02T15:27:03.053500Z"
    }
   },
   "outputs": [
    {
     "data": {
      "image/png": "[encoded data removed]",
      "text/plain": [
       "<Figure size 648x504 with 1 Axes>"
      ]
     },
     "metadata": {
      "needs_background": "light"
     },
     "output_type": "display_data"
    }
   ],
   "source": [
    "def plot_figure():\n",
    "    \n",
    "    ns = 10 ** np.linspace(1.5, 3, 10)\n",
    "    ng = ns * ns\n",
    "    \n",
    "    a_python = [t.average for t in t_python]\n",
    "    a_numpy = [t.average for t in t_numpy]\n",
    "    \n",
    "    a_numba = [t.average for t in t_numba]\n",
    "    a_numba_numpy = [t.average for t in t_numba_numpy]\n",
    "    \n",
    "    a_cython_python = [t.average for t in t_cython_python]\n",
    "    a_cython_typed = [t.average for t in t_cython_typed]\n",
    "    a_cython_optimzed = [t.average for t in t_cython_optimized]\n",
    "    a_cython_c = [t.average for t in t_cython_c]\n",
    "\n",
    "    a_cpp = [t.average for t in t_cpp]\n",
    "    \n",
    "    plt.figure(figsize=(9,7))\n",
    "    plt.yscale('log')\n",
    "    plt.xscale('log')\n",
    "    \n",
    "    plt.plot(ns, a_python/ng * 10, label=\"python $\\\\times 10^{-2}$\", color=\"green\")\n",
    "    \n",
    "    plt.plot(ns, a_numpy/ng, label=\"numpy\", color=\"gray\")\n",
    "    \n",
    "    plt.plot(ns, a_cython_python/ng * 10, label=\"cython python mode $\\\\times 10^{-2}$\", color=\"red\")\n",
    "    plt.plot(ns, a_cython_typed/ng, label=\"cython typed\", color=\"red\", linestyle='--')\n",
    "    plt.plot(ns, a_cython_optimzed/ng, label=\"cython typed assume cont. c array\", color=\"red\", linestyle='-.')\n",
    "    plt.plot(ns, a_cython_c/ng, label=\"cython + pure C\", color=\"red\", linestyle=':')\n",
    "    \n",
    "    plt.plot(ns, a_numba/ng, label=\"numba\", color=\"black\")\n",
    "    plt.plot(ns, a_numba_numpy/ng, label=\"numba + numpy\", color=\"black\", linestyle=\"--\")\n",
    "    \n",
    "    plt.plot(ns, a_cpp/ng, label=\"C++\", color=\"purple\")\n",
    "    \n",
    "    plt.xlabel(\"# of grid in x (= # of grid in y)\")\n",
    "    plt.ylim((5E-7,5E-4))\n",
    "    plt.legend()\n",
    "    plt.show()\n",
    "    \n",
    "plot_figure()"
   ]
  },
  {
   "cell_type": "markdown",
   "metadata": {},
   "source": [
    "## Discussion"
   ]
  },
  {
   "cell_type": "markdown",
   "metadata": {},
   "source": [
    "- Python就是单纯的慢。Python大多时间花费在了CPython的运行时上。而CPython运行时之所以慢是因为大多数时间用在了类型检查上。花费在单位格点上的时间和格点的数量无关，因为CPython运行时太慢了，运行总时间和cpu缓存等等基本没有关系。\n",
    "\n",
    "\n",
    "- Cython的纯python模式的速度和CPython的python模式的速度相近。Cython主要是节省了读取bytecode，解析bytecode的时间。而这一部分时间很少。\n",
    "\n",
    "\n",
    "- 如果自己写循环的话，`numpy`的性能是很不错，与`C/C++`语言或者在一个数量级。如果不自己写循环，`numba`对`numpy`没有加速。\n",
    "\n",
    "\n",
    "- `cython` + pure `C`和`C/C++`几乎一样快。他们使用了同一个编译器（编译选项可能也一样），所以性能相同。\n",
    "\n",
    "\n",
    "- `numba`对于所以格点数量都是最优秀的。`numba`的速度比没有做低阶优化的`C++`或者`C`还要快。但是随着格点数量增加，缓存速度成为速度瓶颈，无论是`cython`,  `C/C++`还是`numba`速度都趋于相同。\n"
   ]
  }
 ],
 "metadata": {
  "hide_input": false,
  "kernelspec": {
   "display_name": "Python 3",
   "language": "python",
   "name": "python3"
  },
  "language_info": {
   "codemirror_mode": {
    "name": "ipython",
    "version": 3
   },
   "file_extension": ".py",
   "mimetype": "text/x-python",
   "name": "python",
   "nbconvert_exporter": "python",
   "pygments_lexer": "ipython3",
   "version": "3.6.7"
  },
  "toc": {
   "base_numbering": 1,
   "nav_menu": {},
   "number_sections": true,
   "sideBar": true,
   "skip_h1_title": false,
   "title_cell": "Table of Contents",
   "title_sidebar": "Contents",
   "toc_cell": true,
   "toc_position": {
    "height": "calc(100% - 180px)",
    "left": "10px",
    "top": "150px",
    "width": "335.688px"
   },
   "toc_section_display": true,
   "toc_window_display": false
  },
  "varInspector": {
   "cols": {
    "lenName": "24",
    "lenType": "16",
    "lenVar": 40
   },
   "kernels_config": {
    "python": {
     "delete_cmd_postfix": "",
     "delete_cmd_prefix": "del ",
     "library": "var_list.py",
     "varRefreshCmd": "print(var_dic_list())"
    },
    "r": {
     "delete_cmd_postfix": ") ",
     "delete_cmd_prefix": "rm(",
     "library": "var_list.r",
     "varRefreshCmd": "cat(var_dic_list()) "
    }
   },
   "position": {
    "height": "419.886px",
    "left": "1383.28px",
    "right": "20px",
    "top": "120px",
    "width": "339.332px"
   },
   "types_to_exclude": [
    "module",
    "function",
    "builtin_function_or_method",
    "instance",
    "_Feature"
   ],
   "window_display": false
  }
 },
 "nbformat": 4,
 "nbformat_minor": 2
}
