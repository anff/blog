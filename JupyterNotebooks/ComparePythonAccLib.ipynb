{
 "cells": [
  {
   "cell_type": "markdown",
   "metadata": {
    "toc": true
   },
   "source": [
    "<h1>Table of Contents<span class=\"tocSkip\"></span></h1>\n",
    "<div class=\"toc\"><ul class=\"toc-item\"><li><span><a href=\"#Diffusion-equation\" data-toc-modified-id=\"Diffusion-equation-1\"><span class=\"toc-item-num\">1&nbsp;&nbsp;</span>Diffusion equation</a></span></li><li><span><a href=\"#implementations\" data-toc-modified-id=\"implementations-2\"><span class=\"toc-item-num\">2&nbsp;&nbsp;</span>implementations</a></span><ul class=\"toc-item\"><li><span><a href=\"#Python:-explicit-[]\" data-toc-modified-id=\"Python:-explicit-[]-2.1\"><span class=\"toc-item-num\">2.1&nbsp;&nbsp;</span>Python: explicit <code>[]</code></a></span></li><li><span><a href=\"#Numpy\" data-toc-modified-id=\"Numpy-2.2\"><span class=\"toc-item-num\">2.2&nbsp;&nbsp;</span>Numpy</a></span></li><li><span><a href=\"#Numba\" data-toc-modified-id=\"Numba-2.3\"><span class=\"toc-item-num\">2.3&nbsp;&nbsp;</span>Numba</a></span></li><li><span><a href=\"#Cyton:-exact-python\" data-toc-modified-id=\"Cyton:-exact-python-2.4\"><span class=\"toc-item-num\">2.4&nbsp;&nbsp;</span>Cyton: exact python</a></span></li><li><span><a href=\"#Cyton:-with-type-annotation\" data-toc-modified-id=\"Cyton:-with-type-annotation-2.5\"><span class=\"toc-item-num\">2.5&nbsp;&nbsp;</span>Cyton: with type annotation</a></span></li><li><span><a href=\"#Cython:-optimized-for-strides\" data-toc-modified-id=\"Cython:-optimized-for-strides-2.6\"><span class=\"toc-item-num\">2.6&nbsp;&nbsp;</span>Cython: optimized for strides</a></span></li><li><span><a href=\"#Cython:-C\" data-toc-modified-id=\"Cython:-C-2.7\"><span class=\"toc-item-num\">2.7&nbsp;&nbsp;</span>Cython: C</a></span></li><li><span><a href=\"#C/C++\" data-toc-modified-id=\"C/C++-2.8\"><span class=\"toc-item-num\">2.8&nbsp;&nbsp;</span>C/C++</a></span><ul class=\"toc-item\"><li><span><a href=\"#Compile-and-run\" data-toc-modified-id=\"Compile-and-run-2.8.1\"><span class=\"toc-item-num\">2.8.1&nbsp;&nbsp;</span>Compile and run</a></span></li></ul></li></ul></li><li><span><a href=\"#Have-a-break:-Visualization-of-the-temperature\" data-toc-modified-id=\"Have-a-break:-Visualization-of-the-temperature-3\"><span class=\"toc-item-num\">3&nbsp;&nbsp;</span>Have a break: Visualization of the temperature</a></span></li><li><span><a href=\"#Test-speed\" data-toc-modified-id=\"Test-speed-4\"><span class=\"toc-item-num\">4&nbsp;&nbsp;</span>Test speed</a></span></li></ul></div>"
   ]
  },
  {
   "cell_type": "markdown",
   "metadata": {},
   "source": [
    "# Diffusion equation"
   ]
  },
  {
   "cell_type": "markdown",
   "metadata": {},
   "source": [
    "Stationary diffusion equation\n",
    "$$\\frac{\\partial^2 \\phi}{\\partial^2 x} + \\frac{\\partial^2 \\phi}{\\partial^2 y} = -\\rho$$\n",
    "where the $\\rho$ is the source, $\\phi$ is the density.\n",
    "\n",
    "In the heat transfer example, the heat source is the source, and the temperature is the \"heat density\".\n",
    "\n",
    "We can descrese the equation as\n",
    "$$\n",
    "\\frac{\\phi(x+\\Delta x,y) + \\phi(x-\\Delta x,y) + \\phi(x,y+\\Delta x) + \\phi(x,y-\\Delta x) - 4\\phi(x,y)}{(\\Delta x) ^2} =  -\\rho\n",
    "$$\n",
    "where $\\Delta x = \\Delta y$\n",
    "Then we can write down the iteration equation\n",
    "$$\n",
    "\\phi(x,y) = \\frac{\\phi(x+\\Delta x,y) + \\phi(x-\\Delta x,y) + \\phi(x,y+\\Delta x) + \\phi(x,y-\\Delta x)}{4} + (\\Delta x) ^2 \\rho\n",
    "$$"
   ]
  },
  {
   "cell_type": "markdown",
   "metadata": {},
   "source": [
    "# implementations"
   ]
  },
  {
   "cell_type": "code",
   "execution_count": 1,
   "metadata": {
    "ExecuteTime": {
     "end_time": "2019-12-01T20:37:34.817500Z",
     "start_time": "2019-12-01T20:37:34.812500Z"
    }
   },
   "outputs": [
    {
     "name": "stdout",
     "output_type": "stream",
     "text": [
      "3.7.4 (default, Aug 13 2019, 20:35:49) \n",
      "[GCC 7.3.0]\n"
     ]
    }
   ],
   "source": [
    "import sys\n",
    "print(sys.version)"
   ]
  },
  {
   "cell_type": "markdown",
   "metadata": {},
   "source": [
    "## Python: explicit `[]`"
   ]
  },
  {
   "cell_type": "code",
   "execution_count": 2,
   "metadata": {
    "ExecuteTime": {
     "end_time": "2019-12-01T20:37:34.921500Z",
     "start_time": "2019-12-01T20:37:34.819000Z"
    }
   },
   "outputs": [],
   "source": [
    "#%%writefile temp.py\n",
    "import numpy as np\n",
    "\n",
    "\n",
    "def temperature_python(phi, rho, alpha, dx, n_iter):\n",
    "    # phi[0,:] the left boundary, not update\n",
    "    # phi[phi.shape[0]-1,:] the right boundary, not update\n",
    "    # phi[0,:] the left boundary, not update\n",
    "    # phi[:,phi.shape[1]-1] the top boundary, not update\n",
    "\n",
    "    # a buffer is needed\n",
    "    # we don't want to refer the updated result\n",
    "    # when we write e.g. phi[i-1,j]\n",
    "    phi_update = np.empty_like(phi)\n",
    "    for it in range(n_iter):\n",
    "        for i in range(1, phi.shape[0] - 1):\n",
    "            for j in range(1, phi.shape[1] - 1):\n",
    "                phi_update[i, j] = 0.25 * (phi[i - 1,j] + phi[i + 1,j]\\\n",
    "                    + phi[i, j - 1] + phi[i, j + 1])\\\n",
    "                    + dx**2 * rho[i, j]\n",
    "\n",
    "        for i in range(1, phi.shape[0] - 1):\n",
    "            for j in range(1, phi.shape[1] - 1):\n",
    "                phi[i, j] = phi_update[i, j]"
   ]
  },
  {
   "cell_type": "markdown",
   "metadata": {
    "ExecuteTime": {
     "end_time": "2019-12-01T08:21:19.056500Z",
     "start_time": "2019-12-01T08:21:19.054000Z"
    }
   },
   "source": [
    "## Numpy"
   ]
  },
  {
   "cell_type": "code",
   "execution_count": 3,
   "metadata": {
    "ExecuteTime": {
     "end_time": "2019-12-01T20:37:34.928000Z",
     "start_time": "2019-12-01T20:37:34.923500Z"
    }
   },
   "outputs": [],
   "source": [
    "def temperature_numpy(phi, rho, alpha, dx, n_iter):\n",
    "\n",
    "    M = phi.shape[0]\n",
    "    N = phi.shape[1]\n",
    "    rho = dx**2 * rho[1:M - 1, 1:N - 1]\n",
    "    for _ in range(n_iter):\n",
    "        phi[1:M - 1, 1:N - 1] = 0.25*(phi[0:M - 2, 1:N - 1]\\\n",
    "            + phi[2:M, 1:N - 1]\\\n",
    "            + phi[1:M-1, 0:N - 2]\\\n",
    "            + phi[1:M-1, 2:N])\\\n",
    "            + rho"
   ]
  },
  {
   "cell_type": "markdown",
   "metadata": {},
   "source": [
    "## Numba"
   ]
  },
  {
   "cell_type": "code",
   "execution_count": 4,
   "metadata": {
    "ExecuteTime": {
     "end_time": "2019-12-01T20:37:35.282000Z",
     "start_time": "2019-12-01T20:37:34.930500Z"
    }
   },
   "outputs": [],
   "source": [
    "import numba as nb\n",
    "#parallel=True not work in this case\n",
    "temperature_numba = nb.jit(nopython=True)(temperature_python)\n",
    "temperature_numba_numpy = nb.jit(nopython=True)(temperature_numpy)"
   ]
  },
  {
   "cell_type": "markdown",
   "metadata": {
    "ExecuteTime": {
     "end_time": "2019-12-01T09:46:12.506500Z",
     "start_time": "2019-12-01T09:46:12.501500Z"
    }
   },
   "source": [
    "## Cyton: exact python"
   ]
  },
  {
   "cell_type": "code",
   "execution_count": 5,
   "metadata": {
    "ExecuteTime": {
     "end_time": "2019-12-01T20:37:35.637000Z",
     "start_time": "2019-12-01T20:37:35.283000Z"
    }
   },
   "outputs": [],
   "source": [
    "# please install cython\n",
    "# >>> conda install cython\n",
    "%load_ext cython"
   ]
  },
  {
   "cell_type": "markdown",
   "metadata": {},
   "source": [
    "We compile the python to C code. The only optimization is avoiding the reading the bytecode and parsing. Because, in this mode, we still use CPython runtime and the CPython runtime is the slowest part. We except there is no acceleration."
   ]
  },
  {
   "cell_type": "code",
   "execution_count": 6,
   "metadata": {
    "ExecuteTime": {
     "end_time": "2019-12-01T20:37:35.644000Z",
     "start_time": "2019-12-01T20:37:35.638000Z"
    }
   },
   "outputs": [],
   "source": [
    "%%cython\n",
    "#%load temp.py\n",
    "import numpy as np\n",
    "\n",
    "def temperature_cython_python(phi, rho, alpha, dx, n_iter):\n",
    "    # phi[0,:] the left boundary, not update\n",
    "    # phi[phi.shape[0]-1,:] the right boundary, not update\n",
    "    # phi[0,:] the left boundary, not update\n",
    "    # phi[:,phi.shape[1]-1] the top boundary, not update\n",
    "    \n",
    "    # a buffer is needed\n",
    "    # we don't want to refer the updated result\n",
    "    # when we write e.g. phi[i-1,j]\n",
    "    phi_update = np.empty_like(phi)\n",
    "    for it in range(n_iter):\n",
    "        for i in range(1, phi.shape[0] - 1):\n",
    "            for j in range(1, phi.shape[1] - 1):\n",
    "                phi_update[i, j] = 0.25 * (phi[i - 1,j] + phi[i + 1,j]\\\n",
    "                    + phi[i, j - 1] + phi[i, j + 1])\\\n",
    "                    + dx**2 * rho[i, j]\n",
    "\n",
    "        for i in range(1, phi.shape[0] - 1):\n",
    "            for j in range(1, phi.shape[1] - 1):\n",
    "                phi[i, j] = phi_update[i, j]"
   ]
  },
  {
   "cell_type": "markdown",
   "metadata": {},
   "source": [
    "## Cyton: with type annotation"
   ]
  },
  {
   "cell_type": "markdown",
   "metadata": {
    "ExecuteTime": {
     "end_time": "2019-12-01T09:22:25.671500Z",
     "start_time": "2019-12-01T09:22:25.664000Z"
    }
   },
   "source": [
    "Cypton is new to me. I hope writing this simple example doesn't require a Cython expert. However, it seems not the case. I looked into the generated c code (via `cython -a`). The generated code doesn't assume the strides to be 1. The code even uses a function to calculate the address from indices. I don't how much the calculation will effect."
   ]
  },
  {
   "cell_type": "code",
   "execution_count": 7,
   "metadata": {
    "ExecuteTime": {
     "end_time": "2019-12-01T20:37:35.650500Z",
     "start_time": "2019-12-01T20:37:35.646000Z"
    }
   },
   "outputs": [],
   "source": [
    "%%cython\n",
    "import numpy as np\n",
    "cimport numpy as np\n",
    "cimport cython\n",
    "\n",
    "\n",
    "@cython.boundscheck(False)\n",
    "@cython.wraparound(False)\n",
    "def temperature_cython_typed(np.ndarray[np.float64_t, ndim=2, mode=\"c\"] phi,\n",
    "                             np.ndarray[np.float64_t, ndim=2, mode=\"c\"] rho,\n",
    "                             double alpha, double dx,int n_iter):\n",
    "    \n",
    "    cdef np.ndarray[np.float64_t, ndim=2, mode=\"c\"] phi_update = np.empty_like(phi)\n",
    "    cdef int M = phi.shape[0]\n",
    "    cdef int N = phi.shape[1]\n",
    "    cdef int i = 0\n",
    "    cdef int j = 0\n",
    "            \n",
    "    for it in range(n_iter):\n",
    "        for i in range(1, M-1):\n",
    "            for j in range(1, N-1):\n",
    "                phi_update[i, j] = 0.25 * (phi[i - 1, j] + phi[i + 1,j]\\\n",
    "                    + phi[i, j - 1] + phi[i, j + 1])\\\n",
    "                    + dx**2 * rho[i, j]\n",
    "\n",
    "        for i in range(1, M-1):\n",
    "            for j in range(1, N-1):     \n",
    "                phi[i,j] = phi_update[i,j]\n",
    "                "
   ]
  },
  {
   "cell_type": "markdown",
   "metadata": {},
   "source": [
    "## Cython: optimized for strides"
   ]
  },
  {
   "cell_type": "markdown",
   "metadata": {},
   "source": [
    "Now, I tell the cython, the array is indeed a continuous `c` array. The function call for the calculation of index is avoid now."
   ]
  },
  {
   "cell_type": "code",
   "execution_count": 8,
   "metadata": {
    "ExecuteTime": {
     "end_time": "2019-12-01T20:37:35.657000Z",
     "start_time": "2019-12-01T20:37:35.652500Z"
    }
   },
   "outputs": [],
   "source": [
    "%%cython\n",
    "import numpy as np\n",
    "cimport numpy as np\n",
    "cimport cython\n",
    "\n",
    "\n",
    "@cython.boundscheck(False)\n",
    "@cython.wraparound(False)\n",
    "def temperature_cython_optimized(np.ndarray[np.float64_t, ndim=2, mode=\"c\"] phi_,\n",
    "                             np.ndarray[np.float64_t, ndim=2, mode=\"c\"] rho_,\n",
    "                             double alpha, double dx,int n_iter):\n",
    "    \n",
    "    cdef np.ndarray[np.float64_t, ndim=2, mode=\"c\"] phi_update_ = np.empty_like(phi_)    \n",
    "    cdef int M = phi_.shape[0]\n",
    "    cdef int N = phi_.shape[1]\n",
    "    cdef int i = 0\n",
    "    cdef int j = 0\n",
    "    \n",
    "    #####################\n",
    "    # we assume it is continious c array\n",
    "    #####################\n",
    "    \n",
    "    cdef double[:,::1] phi = phi_\n",
    "    cdef double[:,::1] rho = rho_\n",
    "    cdef double[:,::1] phi_update = phi_update_\n",
    "            \n",
    "    for it in range(n_iter):\n",
    "        for i in range(1, M-1):\n",
    "            for j in range(1, N-1):\n",
    "                phi_update[i, j] = 0.25 * (phi[i - 1, j] + phi[i + 1,j]\\\n",
    "                    + phi[i, j - 1] + phi[i, j + 1])\\\n",
    "                    + dx**2 * rho[i, j]\n",
    "\n",
    "        for i in range(1, M-1):\n",
    "            for j in range(1, N-1):     \n",
    "                phi[i,j] = phi_update[i,j]\n",
    "                "
   ]
  },
  {
   "cell_type": "markdown",
   "metadata": {},
   "source": [
    "## Cython: C"
   ]
  },
  {
   "cell_type": "code",
   "execution_count": 9,
   "metadata": {
    "ExecuteTime": {
     "end_time": "2019-12-01T20:37:35.665500Z",
     "start_time": "2019-12-01T20:37:35.658500Z"
    }
   },
   "outputs": [
    {
     "name": "stdout",
     "output_type": "stream",
     "text": [
      "Overwriting temperature_c.c\n"
     ]
    }
   ],
   "source": [
    "%%writefile temperature_c.c\n",
    "\n",
    "#define INDEX(i,j) ((i)*N + (j))\n",
    "\n",
    "void temperature_c(double * phi, double *phi_update, double * rho,\n",
    "\tint M, int N, double alpha, double dx, int n_iter) {        \n",
    "\n",
    "\t// We will not reuse INDEX(i, j)\n",
    "\t// test the compiler!\n",
    "\n",
    "\tfor (int it = 0; it < n_iter; ++it) {\n",
    "\t\tfor (int i = 1; i < M - 1; ++i) {\n",
    "\t\t\tfor (int j = 1; j < N - 1; ++j) {\n",
    "\t\t\t\tphi_update[INDEX(i, j)] = 0.25*(phi[INDEX(i, j - 1)] + phi[INDEX(i, j + 1)]\n",
    "\t\t\t\t\t+ phi[INDEX(i - 1, j)] + phi[INDEX(i + 1, j)]) + dx * dx*rho[INDEX(i, j)];\n",
    "\t\t\t}\n",
    "\t\t}\n",
    "\t\tfor (int i = 1; i < M - 1; ++i) {\n",
    "\t\t\tfor (int j = 1; j < N - 1; ++j) {\n",
    "\t\t\t\tphi[INDEX(i, j)] = phi_update[INDEX(i, j)];\n",
    "\t\t\t}\n",
    "\t\t}\n",
    "\t}\n",
    "}\n"
   ]
  },
  {
   "cell_type": "markdown",
   "metadata": {
    "ExecuteTime": {
     "end_time": "2019-12-01T20:05:38.974500Z",
     "start_time": "2019-12-01T20:05:38.968000Z"
    }
   },
   "source": [
    "Copy file to the directory that contains `*.pyx`. So the compiler can find our C code."
   ]
  },
  {
   "cell_type": "code",
   "execution_count": 10,
   "metadata": {
    "ExecuteTime": {
     "end_time": "2019-12-01T20:37:35.671000Z",
     "start_time": "2019-12-01T20:37:35.667000Z"
    }
   },
   "outputs": [],
   "source": [
    "import os.path, shutil\n",
    "from sys import platform\n",
    "\n",
    "if platform == \"linux\" or platform == \"linux2\":\n",
    "    # linux\n",
    "    pyx_dir=os.path.join(os.path.expanduser('~'), \".cache/ipython/cython/\")\n",
    "    shutil.copy(\"temperature_c.c\", pyx_dir)\n",
    "elif platform == \"darwin\":\n",
    "    # OS X\n",
    "    # I don't have mac ...\n",
    "    # Try fix this by yourself\n",
    "    pass\n",
    "elif platform == \"win32\":\n",
    "    # Windows...\n",
    "    pyx_dir=os.path.join(os.path.expanduser('~'), \".ipython\\cython\")\n",
    "    shutil.copy(\"temperature_c.c\", pyx_dir)"
   ]
  },
  {
   "cell_type": "markdown",
   "metadata": {},
   "source": [
    "In the '.pyx' part, we transform `ndarray` to C pointer, then call the temperature_c."
   ]
  },
  {
   "cell_type": "code",
   "execution_count": 11,
   "metadata": {
    "ExecuteTime": {
     "end_time": "2019-12-01T20:37:35.677500Z",
     "start_time": "2019-12-01T20:37:35.672500Z"
    }
   },
   "outputs": [],
   "source": [
    "%%cython\n",
    "\n",
    "import numpy as np\n",
    "cimport numpy as np\n",
    "cimport cython\n",
    "\n",
    "cdef extern from \"temperature_c.c\":\n",
    "    # C is include here so that it doesn't need to be compiled externally\n",
    "    pass\n",
    "\n",
    "cdef extern void temperature_c(double *,double *,double *rho, int, int, double, double, int)\n",
    "\n",
    "@cython.boundscheck(False)\n",
    "@cython.wraparound(False)\n",
    "def temperature_cython_c(np.ndarray[np.float64_t, ndim=2, mode=\"c\"] phi_,\n",
    "                             np.ndarray[np.float64_t, ndim=2, mode=\"c\"] rho_,\n",
    "                             double alpha, double dx,int n_iter):\n",
    "    \n",
    "    cdef np.ndarray[np.float64_t, ndim=2, mode=\"c\"] phi_update_ = np.empty_like(phi_)    \n",
    "    cdef int M = phi_.shape[0]\n",
    "    cdef int N = phi_.shape[1]\n",
    "    cdef int i = 0\n",
    "    cdef int j = 0\n",
    "    \n",
    "    #####################\n",
    "    # we assume it is continious c array\n",
    "    #####################\n",
    "    \n",
    "    cdef double[:,::1] phi = phi_\n",
    "    cdef double[:,::1] rho = rho_\n",
    "    cdef double[:,::1] phi_update = phi_update_\n",
    "    \n",
    "    temperature_c(&(phi[0,0]), &(phi_update[0,0]), &(rho[0,0]), M, N, alpha, dx, n_iter)\n",
    "            "
   ]
  },
  {
   "cell_type": "code",
   "execution_count": 12,
   "metadata": {
    "ExecuteTime": {
     "end_time": "2019-12-01T20:37:35.683000Z",
     "start_time": "2019-12-01T20:37:35.679000Z"
    }
   },
   "outputs": [],
   "source": [
    "def test_cython_compile():\n",
    "    #del temperature_cython_c\n",
    "    nx = 10\n",
    "    n_iter = 10\n",
    "    rho = np.zeros((nx, nx), dtype=np.float64)\n",
    "    phi_cython_c = np.zeros((nx, nx), dtype=np.float64)\n",
    "    temperature_cython_c(phi_cython_c, rho, 1, 0.1, n_iter)\n",
    "\n",
    "\n",
    "test_cython_compile()"
   ]
  },
  {
   "cell_type": "markdown",
   "metadata": {},
   "source": [
    "## C/C++"
   ]
  },
  {
   "cell_type": "markdown",
   "metadata": {
    "ExecuteTime": {
     "end_time": "2019-12-01T15:19:14.781500Z",
     "start_time": "2019-12-01T15:19:14.774000Z"
    }
   },
   "source": [
    "It's not convient to use numpy in python's C++ extension. I wrote a standalone C++ program. \n",
    "\n",
    "- I don't do any manually optimization\n",
    "- However, I will enable all possible optimization with my machine and compiler."
   ]
  },
  {
   "cell_type": "code",
   "execution_count": 13,
   "metadata": {
    "ExecuteTime": {
     "end_time": "2019-12-01T20:37:35.691000Z",
     "start_time": "2019-12-01T20:37:35.685000Z"
    }
   },
   "outputs": [
    {
     "name": "stdout",
     "output_type": "stream",
     "text": [
      "Overwriting temp.cxx\n"
     ]
    }
   ],
   "source": [
    "%%writefile temp.cxx\n",
    "\n",
    "#include <stdio.h>\n",
    "#include <vector>\n",
    "#include <chrono>\n",
    "#include <iostream>\n",
    "\n",
    "\n",
    "#define INDEX(i,j) ((i)*N + (j))\n",
    "\n",
    "void temperature_cpp(double *  phi, double const * rho,\n",
    "\tint M, int N, double alpha, double dx, int n_iter) {        \n",
    "\n",
    "\tstd::vector<double> phi_update_(M*N);\n",
    "\tdouble *phi_update = phi_update_.data();\n",
    "\n",
    "\n",
    "\t// We will not reuse INDEX(i, j)\n",
    "\t// test the compiler!\n",
    "\n",
    "\tfor (int it = 0; it < n_iter; ++it) {\n",
    "\t\tfor (int i = 1; i < M - 1; ++i) {\n",
    "\t\t\tfor (int j = 1; j < N - 1; ++j) {\n",
    "\t\t\t\tphi_update[INDEX(i, j)] = 0.25*(phi[INDEX(i, j - 1)] + phi[INDEX(i, j + 1)]\n",
    "\t\t\t\t\t+ phi[INDEX(i - 1, j)] + phi[INDEX(i + 1, j)]) + dx * dx*rho[INDEX(i, j)];\n",
    "\t\t\t}\n",
    "\t\t}\n",
    "\t\tfor (int i = 1; i < M - 1; ++i) {\n",
    "\t\t\tfor (int j = 1; j < N - 1; ++j) {\n",
    "\t\t\t\tphi[INDEX(i, j)] = phi_update[INDEX(i, j)];\n",
    "\t\t\t}\n",
    "\t\t}\n",
    "\t}\n",
    "}\n",
    "\n",
    "int main()\n",
    "{\n",
    "\n",
    "\tint M = 100;\n",
    "\tint N = 100;\n",
    "\tstd::vector<double> phi(M*N);\n",
    "\tstd::vector<double> rho(M*N);\n",
    "\n",
    "\tfor (int i = 0; i < M; ++i) {\n",
    "\t\tfor (int j = 0; j < N; ++j) {\n",
    "\t\t\tdouble x = (i - M/2) * 0.1;\n",
    "\t\t\tdouble y = (j - N/2) * 0.1;\n",
    "\t\t\trho[INDEX(i, j)] = x * x + y * y;\n",
    "\t\t}\n",
    "\t}\n",
    "\n",
    "\tauto t0 = std::chrono::high_resolution_clock::now();\n",
    "\tfor (int i = 0; i < 100; ++i) {\n",
    "\t\ttemperature_cpp(phi.data(), rho.data(), M, N, 1., 0.1, 1000);\n",
    "\t}\n",
    "\tauto t1 = std::chrono::high_resolution_clock::now();\n",
    "\tauto period = std::chrono::duration_cast<std::chrono::microseconds>(t1 - t0);\n",
    "\tstd::cout << M << \" \" << period.count() / (1000 * 100.0) << std::ends;\n",
    "}\n"
   ]
  },
  {
   "cell_type": "markdown",
   "metadata": {},
   "source": [
    "### Compile and run"
   ]
  },
  {
   "cell_type": "markdown",
   "metadata": {},
   "source": [
    "Build and run"
   ]
  },
  {
   "cell_type": "code",
   "execution_count": 14,
   "metadata": {
    "ExecuteTime": {
     "end_time": "2019-12-01T20:37:36.894000Z",
     "start_time": "2019-12-01T20:37:35.692000Z"
    }
   },
   "outputs": [],
   "source": [
    "from sys import platform\n",
    "\n",
    "if platform == \"linux\" or platform == \"linux2\":\n",
    "    # linux\n",
    "    !g++ temp.cxx -O3 -o temp.exe\n",
    "    cpp_result = !./temp.exe\n",
    "elif platform == \"darwin\":\n",
    "    # OS X\n",
    "    # I don't have mac ...\n",
    "    # Try fix this by yourself\n",
    "    pass\n",
    "elif platform == \"win32\":\n",
    "    # For windows and VS2017\n",
    "    !\"C:\\Program Files (x86)\\Microsoft Visual Studio\\2017\\Community\\VC\\Auxiliary\\Build\\vcvarsall.bat\" x86_amd64\\\n",
    "    && cl /Ox /arch:AVX2 /nologo temp.cxx\n",
    "    cpp_result = !temp.exe\n"
   ]
  },
  {
   "cell_type": "code",
   "execution_count": 15,
   "metadata": {
    "ExecuteTime": {
     "end_time": "2019-12-01T20:37:38.270500Z",
     "start_time": "2019-12-01T20:37:36.895000Z"
    }
   },
   "outputs": [
    {
     "name": "stdout",
     "output_type": "stream",
     "text": [
      "Average time of 10.020900 ms for 1000 iterations and grid of 100x100\n"
     ]
    }
   ],
   "source": [
    "dim,time=cpp_result[0][:-1].split()\n",
    "print(\"Average time of %f ms for 1000 iterations and grid of %dx%d\"%(float(time), int(dim), int(dim)))"
   ]
  },
  {
   "cell_type": "markdown",
   "metadata": {},
   "source": [
    "# Have a break: Visualization of the temperature"
   ]
  },
  {
   "cell_type": "markdown",
   "metadata": {
    "ExecuteTime": {
     "end_time": "2019-12-01T14:45:45.406500Z",
     "start_time": "2019-12-01T14:45:45.400000Z"
    }
   },
   "source": [
    "Now, see the results. ^_^ "
   ]
  },
  {
   "cell_type": "code",
   "execution_count": null,
   "metadata": {
    "ExecuteTime": {
     "end_time": "2019-12-01T20:37:44.147000Z",
     "start_time": "2019-12-01T20:37:38.272000Z"
    },
    "scrolled": false
   },
   "outputs": [
    {
     "data": {
      "image/png": "[encoded data removed]",
      "text/plain": [
       "<Figure size 432x288 with 1 Axes>"
      ]
     },
     "metadata": {
      "needs_background": "light"
     },
     "output_type": "display_data"
    },
    {
     "data": {
      "image/png": "[encoded data removed]",
      "text/plain": [
       "<Figure size 432x288 with 1 Axes>"
      ]
     },
     "metadata": {
      "needs_background": "light"
     },
     "output_type": "display_data"
    }
   ],
   "source": [
    "import matplotlib.pyplot as plt\n",
    "%matplotlib inline\n",
    "\n",
    "\n",
    "def plot():\n",
    "    \n",
    "    nx = 50\n",
    "    rho = np.zeros((nx, nx), dtype=np.float64)\n",
    "    \n",
    "    xx, yy = np.meshgrid(np.linspace(-1, 1, nx), np.linspace(-1, 1, nx))\n",
    "    rho[:, :] = np.abs(np.sqrt(xx**2 + yy**2) - 0.3) < 0.1\n",
    "\n",
    "    plt.figure()\n",
    "    plt.imshow(rho)\n",
    "    plt.xlabel(\"x\")\n",
    "    plt.ylabel(\"y\")\n",
    "    plt.title(\"heat source\")\n",
    "    plt.show()\n",
    "\n",
    "    n_iter=1000\n",
    "            \n",
    "\n",
    "    phi_numpy = np.zeros((nx, nx), dtype=np.float64)\n",
    "    temperature_numpy(phi_numpy, rho, 1, 0.1, n_iter)\n",
    "    \n",
    "    plt.figure()\n",
    "    plt.imshow(phi_numpy)\n",
    "    plt.xlabel(\"x\")\n",
    "    plt.ylabel(\"y\")\n",
    "    plt.title(\"temperature\")\n",
    "    plt.show()\n",
    "    \n",
    "    \n",
    "    phi_numba = np.zeros((nx, nx), dtype=np.float64)\n",
    "    temperature_numba(phi_numba, rho, 1, 0.1, n_iter)\n",
    "        \n",
    "    phi_numba_numpy = np.zeros((nx, nx), dtype=np.float64)\n",
    "    temperature_numba_numpy(phi_numba_numpy, rho, 1, 0.1, n_iter)\n",
    "\n",
    "    \n",
    "    phi_cython_python = np.zeros((nx, nx), dtype=np.float64)\n",
    "    temperature_cython_python(phi_cython_python, rho, 1, 0.1, n_iter)\n",
    "\n",
    "    phi_cython_typed = np.zeros((nx, nx), dtype=np.float64)\n",
    "    temperature_cython_typed(phi_cython_typed, rho, 1, 0.1, n_iter)\n",
    "\n",
    "    phi_cython_optimized = np.zeros((nx, nx), dtype=np.float64)\n",
    "    temperature_cython_optimized(phi_cython_optimized, rho, 1, 0.1, n_iter)\n",
    "\n",
    "    phi_cython_c = np.zeros((nx, nx), dtype=np.float64)\n",
    "    temperature_cython_c(phi_cython_c, rho, 1, 0.1, n_iter)\n",
    "    \n",
    "    #assert np.allclose(phi_numpy, phi_numpy)\n",
    "    \n",
    "    assert np.allclose(phi_numba, phi_numpy)\n",
    "    assert np.allclose(phi_numba_numpy, phi_numpy)\n",
    "    \n",
    "    assert np.allclose(phi_cython_python, phi_numpy)\n",
    "    assert np.allclose(phi_cython_typed, phi_numpy)\n",
    "    assert np.allclose(phi_cython_optimized, phi_numpy)\n",
    "    assert np.allclose(phi_cython_c, phi_numpy)\n",
    "\n",
    "plot()"
   ]
  },
  {
   "cell_type": "markdown",
   "metadata": {},
   "source": [
    "# Test speed"
   ]
  },
  {
   "cell_type": "code",
   "execution_count": null,
   "metadata": {
    "ExecuteTime": {
     "end_time": "2019-12-01T20:38:53.681000Z",
     "start_time": "2019-12-01T20:37:44.148000Z"
    }
   },
   "outputs": [],
   "source": [
    "def benchmark():\n",
    "    \n",
    "    rho = np.zeros((100, 100), dtype=np.float64)\n",
    "\n",
    "    n_iter= 1000\n",
    "       \n",
    "    \n",
    "    \n",
    "    # python\n",
    "    phi = np.zeros((100, 100), dtype=np.float64)\n",
    "    %timeit temperature_python(phi, rho, 1, 0.1, n_iter//1000)\n",
    "    \n",
    "\n",
    "    # numpy\n",
    "    phi = np.zeros((100, 100), dtype=np.float64)\n",
    "    %timeit temperature_numpy(phi, rho, 1, 0.1, n_iter)\n",
    "    \n",
    "    \n",
    "    \n",
    "    # cython\n",
    "    phi = np.zeros((100, 100), dtype=np.float64)\n",
    "    %timeit temperature_cython_python(phi, rho, 1, 0.1, n_iter//1000)\n",
    "    \n",
    "    phi = np.zeros((100, 100), dtype=np.float64)\n",
    "    %timeit temperature_cython_typed(phi, rho, 1, 0.1, n_iter)\n",
    "    \n",
    "    phi = np.zeros((100, 100), dtype=np.float64)\n",
    "    %timeit temperature_cython_optimized(phi, rho, 1, 0.1, n_iter)\n",
    "    \n",
    "    phi = np.zeros((100, 100), dtype=np.float64)\n",
    "    %timeit temperature_cython_c(phi, rho, 1, 0.1, n_iter)\n",
    "\n",
    "    \n",
    "    # numba\n",
    "    # JIT compile\n",
    "    phi = np.zeros((100, 100), dtype=np.float64)\n",
    "    temperature_numba(phi, rho, 1, 0.1, 1)\n",
    "    phi = np.zeros((100, 100), dtype=np.float64)\n",
    "    temperature_numba_numpy(phi, rho, 1, 0.1, 1)\n",
    "    \n",
    "    phi = np.zeros((100, 100), dtype=np.float64)\n",
    "    %timeit temperature_numba(phi, rho, 1, 0.1, n_iter)\n",
    "    \n",
    "    phi = np.zeros((100, 100), dtype=np.float64)\n",
    "    %timeit temperature_numba_numpy(phi, rho, 1, 0.1, n_iter)\n",
    "            \n",
    "benchmark()"
   ]
  }
 ],
 "metadata": {
  "hide_input": false,
  "kernelspec": {
   "display_name": "Python 3",
   "language": "python",
   "name": "python3"
  },
  "language_info": {
   "codemirror_mode": {
    "name": "ipython",
    "version": 3
   },
   "file_extension": ".py",
   "mimetype": "text/x-python",
   "name": "python",
   "nbconvert_exporter": "python",
   "pygments_lexer": "ipython3",
   "version": "3.7.4"
  },
  "toc": {
   "base_numbering": 1,
   "nav_menu": {},
   "number_sections": true,
   "sideBar": true,
   "skip_h1_title": false,
   "title_cell": "Table of Contents",
   "title_sidebar": "Contents",
   "toc_cell": true,
   "toc_position": {
    "height": "calc(100% - 180px)",
    "left": "10px",
    "top": "150px",
    "width": "335.696px"
   },
   "toc_section_display": true,
   "toc_window_display": true
  },
  "varInspector": {
   "cols": {
    "lenName": "24",
    "lenType": "16",
    "lenVar": 40
   },
   "kernels_config": {
    "python": {
     "delete_cmd_postfix": "",
     "delete_cmd_prefix": "del ",
     "library": "var_list.py",
     "varRefreshCmd": "print(var_dic_list())"
    },
    "r": {
     "delete_cmd_postfix": ") ",
     "delete_cmd_prefix": "rm(",
     "library": "var_list.r",
     "varRefreshCmd": "cat(var_dic_list()) "
    }
   },
   "position": {
    "height": "419.886px",
    "left": "1383.28px",
    "right": "20px",
    "top": "120px",
    "width": "339.332px"
   },
   "types_to_exclude": [
    "module",
    "function",
    "builtin_function_or_method",
    "instance",
    "_Feature"
   ],
   "window_display": false
  }
 },
 "nbformat": 4,
 "nbformat_minor": 2
}
