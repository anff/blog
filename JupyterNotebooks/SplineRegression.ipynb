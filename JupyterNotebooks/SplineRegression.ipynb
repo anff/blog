{
 "cells": [
  {
   "cell_type": "markdown",
   "metadata": {
    "toc": true
   },
   "source": [
    "<h1>Table of Contents<span class=\"tocSkip\"></span></h1>\n",
    "<div class=\"toc\"><ul class=\"toc-item\"><li><span><a href=\"#implmentation\" data-toc-modified-id=\"implmentation-1\"><span class=\"toc-item-num\">1&nbsp;&nbsp;</span>implmentation</a></span><ul class=\"toc-item\"><li><span><a href=\"#1D\" data-toc-modified-id=\"1D-1.1\"><span class=\"toc-item-num\">1.1&nbsp;&nbsp;</span>1D</a></span></li><li><span><a href=\"#1-knot\" data-toc-modified-id=\"1-knot-1.2\"><span class=\"toc-item-num\">1.2&nbsp;&nbsp;</span>1 knot</a></span></li><li><span><a href=\"#2-knots\" data-toc-modified-id=\"2-knots-1.3\"><span class=\"toc-item-num\">1.3&nbsp;&nbsp;</span>2 knots</a></span></li><li><span><a href=\"#3-knots\" data-toc-modified-id=\"3-knots-1.4\"><span class=\"toc-item-num\">1.4&nbsp;&nbsp;</span>3 knots</a></span></li></ul></li><li><span><a href=\"#2D-fit\" data-toc-modified-id=\"2D-fit-2\"><span class=\"toc-item-num\">2&nbsp;&nbsp;</span>2D fit</a></span><ul class=\"toc-item\"><li><span><a href=\"#1-knot\" data-toc-modified-id=\"1-knot-2.1\"><span class=\"toc-item-num\">2.1&nbsp;&nbsp;</span>1 knot</a></span></li></ul></li><li><span><a href=\"#2x2-knots\" data-toc-modified-id=\"2x2-knots-3\"><span class=\"toc-item-num\">3&nbsp;&nbsp;</span>2x2 knots</a></span><ul class=\"toc-item\"><li><span><a href=\"#first-four-basis\" data-toc-modified-id=\"first-four-basis-3.1\"><span class=\"toc-item-num\">3.1&nbsp;&nbsp;</span>first four basis</a></span></li></ul></li><li><span><a href=\"#5Dfit\" data-toc-modified-id=\"5Dfit-4\"><span class=\"toc-item-num\">4&nbsp;&nbsp;</span>5Dfit</a></span><ul class=\"toc-item\"><li><span><a href=\"#obviously-over-fit,-have-so-many-basis,-set-alpha->-0-for-a-better-result\" data-toc-modified-id=\"obviously-over-fit,-have-so-many-basis,-set-alpha->-0-for-a-better-result-4.1\"><span class=\"toc-item-num\">4.1&nbsp;&nbsp;</span>obviously over fit, have so many basis, set alpha &gt; 0 for a better result</a></span></li></ul></li></ul></div>"
   ]
  },
  {
   "cell_type": "markdown",
   "metadata": {},
   "source": [
    "# implmentation"
   ]
  },
  {
   "cell_type": "code",
   "execution_count": null,
   "metadata": {
    "scrolled": false
   },
   "outputs": [],
   "source": [
    "import numpy as np\n",
    "\n",
    "class QuadraticSplineRegression:\n",
    "    \n",
    "    def __init__(self, knots, alpha=1E-6):\n",
    "        if alpha is None:\n",
    "            alpha = 1E-6\n",
    "        self.alpha = alpha\n",
    "        \n",
    "        assert knots is not None\n",
    "            \n",
    "        all_is_scalar=True\n",
    "        all_is_list=True\n",
    "        for item in knots:\n",
    "            all_is_scalar = all_is_scalar and np.isscalar(item)\n",
    "            all_is_list = all_is_list and np.ndim(item) == 1\n",
    "            \n",
    "        if all_is_scalar:\n",
    "            if len(knots) < 1:\n",
    "                raise Exception(\"At lease one knot\")\n",
    "            knots = np.array(knots).reshape(1,-1)\n",
    "        elif all_is_list:\n",
    "            pass\n",
    "        else:\n",
    "            raise Exception('''1d array or 2d array knots needed, format: [xi0, xi1, ...] or \\\n",
    "                [[xi00, xi01, ...],\\\n",
    "                [xi10, xi11, ..],\\\n",
    "                ...]''')\n",
    "        \n",
    "        self.knots = knots\n",
    "        \n",
    "        \n",
    "        # h0(x) = 1\n",
    "        # h1(x) = x     \n",
    "        # if N_hnots >= 2\n",
    "            # i >= 0 && i+1 <= N_hnots-1\n",
    "            # h(2+i)(x) = (x-xi_i)_+^2+ - (x-xi_(i+1))_+^2\n",
    "            # h(2+i)(x) = 0,  x <  x_i\n",
    "            #             (x-xi_i)^2,   xi_i < x < xi_i+1\n",
    "            #             (x_(i+1)-x_i)(2x - x_i - xi_(i+1)), xi_i+1 < x\n",
    "        self.N_splines = QuadraticSplineRegression.cal_N_splines(knots)\n",
    "        #print(\"splines%d:\", self.N_splines)\n",
    "        \n",
    "    @staticmethod\n",
    "    def cal_N_splines(knots):\n",
    "        N_splines = 1\n",
    "        for knots_1D in knots:\n",
    "            N_knots_1D = len(knots_1D)\n",
    "            assert N_knots_1D >= 1            \n",
    "            N_splines_1D = N_knots_1D + 1\n",
    "            N_splines *= N_splines_1D\n",
    "        \n",
    "        return N_splines\n",
    "    \n",
    "    def get_H(self, X):\n",
    "        knots = self.knots\n",
    "        Ndata = X.shape[0]\n",
    "        \n",
    "        N_splines = self.N_splines\n",
    "        \n",
    "        #print(\"N_splines\", N_splines)\n",
    "        #print(\"Ndata\", Ndata)\n",
    "                \n",
    "        H = np.ones((N_splines, Ndata))\n",
    "        \n",
    "        dim_in = 1\n",
    "        for d in range(X.shape[1]):\n",
    "            x = X[:, d]\n",
    "            knots_1D = knots[d]\n",
    "            N_knots_1D = len(knots_1D)\n",
    "            assert N_knots_1D >= 1\n",
    "            \n",
    "            N_splines_1D = N_knots_1D + 1\n",
    "            \n",
    "            h = np.zeros((N_splines_1D, Ndata))\n",
    "\n",
    "            #print(\"knots_1D:\", knots_1D)\n",
    "            #print(\"N_splines_1D:\", N_splines_1D)\n",
    "            knots_1D = np.sort(knots_1D)\n",
    "            xi_max = np.max(knots_1D)\n",
    "            \n",
    "            h[0,:] = 1\n",
    "            h[1,:] = x\n",
    "            for i in range(2, N_splines_1D):\n",
    "                xi = knots_1D[i-2]\n",
    "                xiplus1 = knots_1D[i-1]\n",
    "                h[i, :] = np.where(x < xi, 0.0,\\\n",
    "                                np.where(x < xiplus1,  (x-xi)**2, (xiplus1-xi)*(2*x - xi - xiplus1)  )) \n",
    "                assert xiplus1 - xi > 0\n",
    "                assert 2*xi_max - xi - xiplus1 > 0\n",
    "                h[i, :] /= (xiplus1 - xi)*(2*xi_max - xi - xiplus1)\n",
    "                    \n",
    "            # H[i][j][k] = h1[i]h2[j]h3[k]\n",
    "            # H[i*JK + j*K + k] = h1[i]h2[j]h3[k]\n",
    "            # H[i*JK+ j*stride + offset] = ... h2[j]...            \n",
    "            dim_out =  N_splines//N_splines_1D//dim_in\n",
    "            #print(\"d\", d)\n",
    "            #print(\"N_splines\", N_splines)\n",
    "            #print(\"dim_in\", dim_in)\n",
    "            #print(\"N_splines_1D\", N_splines_1D)\n",
    "            H = np.reshape(H, (dim_out, N_splines_1D, dim_in, Ndata))\n",
    "            H[:,:,:,:] *= h[:,np.newaxis,:]\n",
    "                \n",
    "            dim_in *= N_splines_1D\n",
    "            \n",
    "        H = H.reshape(-1, Ndata).transpose()\n",
    "        return H\n",
    "    \n",
    "        \n",
    "    def fit(self, X, y):\n",
    "        alpha = self.alpha\n",
    "        knots = self.knots\n",
    "        \n",
    "        X = np.array(X, dtype=np.float_)\n",
    "        if X.ndim == 1:\n",
    "            X = X.reshape(-1, 1)\n",
    "        if np.shape(knots)[0] != X.shape[1]:\n",
    "            raise Exception(\"dimension of knots not match %d != %d\"%(np.shape(knots)[0], X.shape[1]))\n",
    "\n",
    "            \n",
    "        y = np.array(y, dtype=np.float_)\n",
    "        assert np.ndim(y) == 1\n",
    "        \n",
    "        Ndata = np.shape(X)[0] \n",
    "        H = self.get_H(X)\n",
    "        \n",
    "        # remove bias term        \n",
    "        # we will handle it by ourselves\n",
    "        H =  H[:, 1:]\n",
    "        \n",
    "        # center data\n",
    "        y_mean = np.mean(y)\n",
    "        y -= y_mean\n",
    "        H_mean = np.mean(H, axis=0)\n",
    "        H -= H_mean\n",
    "\n",
    "        # needed for L2 regularization\n",
    "        # but this don't work\n",
    "        #H_scale = 1/np.sqrt(H.var(axis=0))\n",
    "        #H = H_scale*H        \n",
    "        #self.H_scale = H_scale\n",
    "        \n",
    "        \n",
    "        # H[:,0] is special, no L2 applied on it\n",
    "        \n",
    "        # now we fit\n",
    "        #   sum_j (y_j - sum_i H_i(X_j) beta_i)^2 + alpha sum_i beta_i^2\n",
    "        #   U S VT = H_i\n",
    "        #   beta_i = V (alpha*I + S^T S)^-1 S^T U y\n",
    "        \n",
    "        if H.shape[0] == 1 and False:\n",
    "            # only 1 row\n",
    "            norm = np.sqrt(np.square(H).sum())\n",
    "            U=H/norm\n",
    "            D=np.array(norm)\n",
    "            VT=np.array([[1]])\n",
    "        else:\n",
    "            U,D,VT = np.linalg.svd(H, full_matrices=False)\n",
    "        lamb = alpha*Ndata\n",
    "        invD = D/(np.square(D) + lamb)            \n",
    "        beta = VT.T.dot((invD * U.T.dot(y)))\n",
    "        \n",
    "        # bias calculate here, not by fit\n",
    "        self.bias = y_mean - H_mean.dot(beta)\n",
    "        self.beta = beta\n",
    "        \n",
    "    def predict(self, X):\n",
    "        knots = self.knots\n",
    "        \n",
    "        X = np.array(X, dtype=np.float_)\n",
    "        if X.ndim == 1:\n",
    "            X = X.reshape(-1, 1)\n",
    "            \n",
    "        if np.shape(knots)[0] != X.shape[1]:\n",
    "            raise Exception(\"dimension of knots not match %d != %d\"%(np.shape(knots)[0], X.shape[1]))\n",
    "        \n",
    "        #   y = sum_i H_i(x) beta_i + b\n",
    "        H = self.get_H(X)\n",
    "        # we don't need this\n",
    "        H =  H[:, 1:]\n",
    "        #H = self.H_scale * H\n",
    "        yhat = H.dot(self.beta) + self.bias\n",
    "        return yhat\n",
    "    \n",
    "    \n",
    "    \n"
   ]
  },
  {
   "cell_type": "markdown",
   "metadata": {},
   "source": [
    "## 1D"
   ]
  },
  {
   "cell_type": "markdown",
   "metadata": {},
   "source": [
    "## 1 knot"
   ]
  },
  {
   "cell_type": "code",
   "execution_count": null,
   "metadata": {},
   "outputs": [],
   "source": [
    "import matplotlib.pyplot as plt\n",
    "%matplotlib inline\n",
    "\n",
    "def fit_plot(X_train, y_train, knots, xlim, ax):    \n",
    "    X_plt = np.linspace(xlim[0], xlim[1], 100)\n",
    "    reg = QuadraticSplineRegression(knots=knots)\n",
    "    reg.fit(X_train, y_train)\n",
    "    ax.scatter(X_train, y_train)\n",
    "    ax.plot(X_plt, reg.predict(X_plt))\n",
    "    #print(reg.beta)\n",
    "    #print(reg.bias)\n",
    "    for knot in knots:\n",
    "        ax.plot([knot, knot],[-4,4], linestyle=\"--\", color=\"blue\")\n",
    "    ax.set_xlabel(\"$x$\")\n",
    "    ax.set_ylabel(\"$y$\")\n",
    "    \n",
    "    \n",
    "fig, (ax1,ax2,ax3) = plt.subplots(1,3,figsize=(12,4))\n",
    "fit_plot(X_train = [0.5], y_train = [1], xlim=(-1,2), knots=[0], ax=ax1)\n",
    "fit_plot(X_train = [0.5, 1.5], y_train = [1,2], xlim=(-1,2), knots=[0], ax=ax2)\n",
    "fit_plot(X_train = [-0.5, 0.5, 1.5], y_train = [1,2,2], xlim=(-1,2), knots=[0], ax=ax3)\n",
    "plt.show()"
   ]
  },
  {
   "cell_type": "markdown",
   "metadata": {},
   "source": [
    "## 2 knots"
   ]
  },
  {
   "cell_type": "code",
   "execution_count": null,
   "metadata": {
    "scrolled": true
   },
   "outputs": [],
   "source": [
    "fig, (ax1,ax2,ax3) = plt.subplots(1,3,figsize=(12,4))\n",
    "fit_plot(X_train = [0.5], y_train = [1], xlim=(-1,2), knots=[0,1], ax=ax1)\n",
    "fit_plot(X_train = [0.5, 1.5], y_train = [1,2], xlim=(-1,2), knots=[0,1],ax=ax2)\n",
    "fit_plot(X_train = [-0.5, 0.5, 1.5], y_train = [1,2,1], xlim=(-1,2), knots=[0,1],ax=ax3)\n",
    "plt.show()"
   ]
  },
  {
   "cell_type": "markdown",
   "metadata": {},
   "source": [
    "## 3 knots"
   ]
  },
  {
   "cell_type": "code",
   "execution_count": null,
   "metadata": {},
   "outputs": [],
   "source": [
    "fig, (ax1, ax2, ax3, ax4) = plt.subplots(1,4,figsize=(16,4))\n",
    "fit_plot(X_train = [0.5], y_train = [1], xlim=(-1,3), knots=[0,1,2], ax=ax1)\n",
    "fit_plot(X_train = [0.5, 1.5], y_train = [1,2], xlim=(-1,3), knots=[0,1,2],ax=ax2)\n",
    "fit_plot(X_train = [-0.5, 0.5, 1.5], y_train = [1,2,1], xlim=(-1,3), knots=[0,1,2],ax=ax3)\n",
    "X=np.linspace(0,2,10)\n",
    "y=X*X-2*X\n",
    "fit_plot(X_train = X, y_train=y+0.2*np.random.randn(10), xlim=(-1,3), knots=[0,1,2],ax=ax4)\n",
    "ax4.plot(X, y, label=\"truth\")\n",
    "plt.legend(loc=\"upper right\")\n",
    "plt.show()"
   ]
  },
  {
   "cell_type": "markdown",
   "metadata": {},
   "source": [
    "# 2D fit"
   ]
  },
  {
   "cell_type": "markdown",
   "metadata": {},
   "source": [
    "## 1 knot"
   ]
  },
  {
   "cell_type": "code",
   "execution_count": null,
   "metadata": {
    "scrolled": false
   },
   "outputs": [],
   "source": [
    "from mpl_toolkits.mplot3d.axes3d import get_test_data\n",
    "\n",
    "def fit_plot3d(X_train, y_train, knots, xlim=(-2,2), ylim=(-2,2), zlim=(-2,2), ax=None, sz=20, alpha=None):    \n",
    "    X_train = np.array(X_train)\n",
    "    \n",
    "    x_plt = np.linspace(xlim[0], xlim[1], 100)\n",
    "    y_plt = np.linspace(ylim[0], ylim[1], 100)\n",
    "    xx, yy = np.meshgrid(x_plt, y_plt)\n",
    "    reg = QuadraticSplineRegression(knots=knots, alpha=alpha)\n",
    "    reg.fit(X_train, y_train)\n",
    "    #print(reg.beta)\n",
    "    #print(reg.bias)\n",
    "    ax.scatter(X_train[:,0], X_train[:,1], y_train, s=sz)\n",
    "    \n",
    "    from matplotlib import cm\n",
    "    ax.plot_surface(xx, yy, reg.predict(np.c_[xx.ravel(), yy.ravel()]).reshape(100,100), alpha=0.2, cmap=cm.coolwarm)\n",
    "    \n",
    "    for k1 in knots[0]:\n",
    "        ax.plot([k1, k1],[-2,2],[0,0], linestyle=\"--\", color=\"blue\")\n",
    "    for k2 in knots[1]:\n",
    "        ax.plot([-2, 2],[k2, k2],[0,0], linestyle=\"--\", color=\"blue\")\n",
    "        \n",
    "    ax.set_xlabel(\"$x$\")\n",
    "    ax.set_ylabel(\"$y$\")\n",
    "    ax.set_zlabel(\"$z$\")\n",
    "    ax.set_xlim(xlim)\n",
    "    ax.set_ylim(ylim)\n",
    "    ax.set_zlim(zlim)\n",
    "    mse = np.sqrt(np.square(y_train-reg.predict(X_train)).mean())\n",
    "    ax.set_title(\"MSE(Training) = %.1E, Nsplines = %3d\"%(mse, reg.N_splines))\n",
    "    \n",
    "    return reg\n",
    "\n",
    "    \n",
    "fig=plt.figure(figsize=(12,4))\n",
    "ax1 = fig.add_subplot(1,3,1, projection=\"3d\")\n",
    "fit_plot3d(X_train = [[1,1]], y_train = [1], xlim=(-2,2), knots=[[0],[0]], ax=ax1)\n",
    "ax2 = fig.add_subplot(1,3,2, projection=\"3d\")\n",
    "fit_plot3d(X_train = [[0,0], [1,1]], y_train = [0, 1], xlim=(-2,2), knots=[[0],[0]], ax=ax2)\n",
    "ax3 = fig.add_subplot(1,3,3, projection=\"3d\")\n",
    "fit_plot3d(X_train = [[-1,0], [0,0], [1,1]], y_train = [1, 1, 2], xlim=(-2,2), knots=[[0],[0]], ax=ax3)\n",
    "plt.tight_layout()\n",
    "plt.show()\n"
   ]
  },
  {
   "cell_type": "markdown",
   "metadata": {},
   "source": [
    "# 2x2 knots"
   ]
  },
  {
   "cell_type": "markdown",
   "metadata": {},
   "source": [
    "## first four basis"
   ]
  },
  {
   "cell_type": "code",
   "execution_count": null,
   "metadata": {
    "scrolled": false
   },
   "outputs": [],
   "source": [
    "def fit_plot3d_i(knots, i, xlim=(-2,2), ylim=(-2,2), zlim=(-2,2), ax=None, sz=20, alpha=None):    \n",
    "    \n",
    "    x_plt = np.linspace(xlim[0], xlim[1], 100)\n",
    "    y_plt = np.linspace(ylim[0], ylim[1], 100)\n",
    "    xx, yy = np.meshgrid(x_plt, y_plt)\n",
    "    reg = QuadraticSplineRegression(knots=knots, alpha=alpha)\n",
    "    #beta = reg.beta[i]\n",
    "    reg.beta = np.zeros(reg.N_splines-1)\n",
    "    reg.beta[i] = 1\n",
    "    reg.bias=0\n",
    "    #print(reg.beta)\n",
    "    #print(reg.bias)\n",
    "    \n",
    "    from matplotlib import cm\n",
    "    ax.plot_surface(xx, yy, reg.predict(np.c_[xx.ravel(), yy.ravel()]).reshape(100,100), alpha=0.2, cmap=cm.coolwarm)\n",
    "    \n",
    "    for k1 in knots[0]:\n",
    "        ax.plot([k1, k1],[-2,2],[0,0], linestyle=\"--\", color=\"blue\")\n",
    "    for k2 in knots[1]:\n",
    "        ax.plot([-2, 2],[k2, k2],[0,0], linestyle=\"--\", color=\"blue\")\n",
    "        \n",
    "    ax.set_xlabel(\"$x$\")\n",
    "    ax.set_ylabel(\"$y$\")\n",
    "    ax.set_zlabel(\"$z$\")\n",
    "    ax.set_xlim(xlim)\n",
    "    ax.set_ylim(ylim)\n",
    "    ax.set_zlim(zlim)\n",
    "    ax.set_title(\"Spline %d\"%(i+1))\n",
    "    \n",
    "    return reg\n",
    "\n",
    "\n",
    "\n",
    "fig=plt.figure(figsize=(16,4))\n",
    "ax1 = fig.add_subplot(1,4,1, projection=\"3d\")\n",
    "reg = fit_plot3d_i(i=0, zlim=(-2,2), knots=[np.linspace(-2,2,3)]*2, ax=ax1, sz=10)\n",
    "ax2 = fig.add_subplot(1,4,2, projection=\"3d\")\n",
    "reg = fit_plot3d_i(i=1,  zlim=(-2,2), knots=[np.linspace(-2,2,3)]*2, ax=ax2, sz=10)\n",
    "ax3 = fig.add_subplot(1,4,3, projection=\"3d\")\n",
    "reg = fit_plot3d_i(i=2, zlim=(-2,2), knots=[np.linspace(-2,2,3)]*2, ax=ax3, sz=10)\n",
    "ax4 = fig.add_subplot(1,4,4, projection=\"3d\")\n",
    "reg = fit_plot3d_i(i=3, zlim=(-2,2), knots=[np.linspace(-2,2,3)]*2, ax=ax4, sz=10)\n",
    "plt.tight_layout()\n",
    "plt.show()\n"
   ]
  },
  {
   "cell_type": "code",
   "execution_count": null,
   "metadata": {},
   "outputs": [],
   "source": [
    "X_train=4*np.random.rand(1000, 2)-2\n",
    "y_train=  X_train[:,0]*X_train[:,0] + 1/2*X_train[:,1]**3 + 0*np.random.randn(X_train.shape[0])\n",
    "\n",
    "fig=plt.figure(figsize=(16,4))\n",
    "ax1 = fig.add_subplot(1,4,1, projection=\"3d\")\n",
    "reg = fit_plot3d(X_train = X_train, y_train = y_train, zlim=(-5,5), knots=[np.linspace(-2,2,2)]*2, ax=ax1, sz=10)\n",
    "ax2 = fig.add_subplot(1,4,2, projection=\"3d\")\n",
    "reg = fit_plot3d(X_train = X_train, y_train = y_train, zlim=(-5,5), knots=[np.linspace(-2,2,3)]*2, ax=ax2, sz=10)\n",
    "ax3 = fig.add_subplot(1,4,3, projection=\"3d\")\n",
    "reg = fit_plot3d(X_train = X_train, y_train = y_train, zlim=(-5,5), knots=[np.linspace(-2,2,4)]*2, ax=ax3, sz=10)\n",
    "ax4 = fig.add_subplot(1,4,4, projection=\"3d\")\n",
    "reg = fit_plot3d(X_train = X_train, y_train = y_train, zlim=(-5,5), knots=[np.linspace(-2,2,5)]*2, ax=ax4, sz=10)\n",
    "plt.tight_layout()\n",
    "plt.show()\n"
   ]
  },
  {
   "cell_type": "markdown",
   "metadata": {},
   "source": [
    "# 5Dfit"
   ]
  },
  {
   "cell_type": "markdown",
   "metadata": {},
   "source": [
    "## obviously over fit, have so many basis, set alpha > 0 for a better result"
   ]
  },
  {
   "cell_type": "code",
   "execution_count": null,
   "metadata": {},
   "outputs": [],
   "source": [
    "N=5\n",
    "def f6(X):\n",
    "    return X[:,0] + X[:,1]**3   \\\n",
    "    + 0.25*1/(1+0.2*X[:,2]) + 0.25*1/(1+0.3*X[:,3])/(1+0.3*X[:,4])\n",
    "\n",
    "\n",
    "X = 2 * np.random.rand(3*3*8*8*8, N) - 1\n",
    "y = f6(X) + 0.0 * np.random.randn(3*3*8*8*8)\n",
    "\n",
    "X_train = X[0::2,:]\n",
    "y_train = y[0::2]\n",
    "X_test = X[1::2,:]\n",
    "y_test = y[1::2]\n",
    "\n",
    "mse_train=[]\n",
    "mse_test=[]\n",
    "alphas=np.power(10, np.linspace(-10, -3, 10))\n",
    "for alpha in alphas:\n",
    "    qsr = QuadraticSplineRegression(knots=[np.linspace(-1,1,3)]*N, alpha=alpha)\n",
    "    qsr.fit(X_train, y_train)\n",
    "    mse_test.append(np.sqrt(np.square(y_test - qsr.predict(X_test)).mean()))\n",
    "    mse_train.append(np.sqrt(np.square(y_train - qsr.predict(X_train)).mean()))\n",
    "      \n",
    "print(\"No. of splines \", qsr.N_splines)\n",
    "print(\"No. of Points \", X.shape[0])\n",
    "plt.figure(figsize=(4,4))\n",
    "plt.plot(alphas, mse_train, label=\"train\")\n",
    "plt.plot(alphas, mse_test, label=\"test\")\n",
    "plt.xscale(\"log\")\n",
    "plt.yscale(\"log\")\n",
    "plt.xlabel(r\"$\\alpha$\")\n",
    "plt.ylabel(\"MSE\")\n",
    "plt.legend()\n",
    "plt.show()"
   ]
  }
 ],
 "metadata": {
  "hide_input": false,
  "kernelspec": {
   "display_name": "Python 3",
   "language": "python",
   "name": "python3"
  },
  "language_info": {
   "codemirror_mode": {
    "name": "ipython",
    "version": 3
   },
   "file_extension": ".py",
   "mimetype": "text/x-python",
   "name": "python",
   "nbconvert_exporter": "python",
   "pygments_lexer": "ipython3",
   "version": "3.6.7"
  },
  "toc": {
   "base_numbering": 1,
   "nav_menu": {},
   "number_sections": true,
   "sideBar": true,
   "skip_h1_title": false,
   "title_cell": "Table of Contents",
   "title_sidebar": "Contents",
   "toc_cell": true,
   "toc_position": {
    "height": "calc(100% - 180px)",
    "left": "10px",
    "top": "150px",
    "width": "307.2px"
   },
   "toc_section_display": true,
   "toc_window_display": true
  },
  "varInspector": {
   "cols": {
    "lenName": "24",
    "lenType": "16",
    "lenVar": 40
   },
   "kernels_config": {
    "python": {
     "delete_cmd_postfix": "",
     "delete_cmd_prefix": "del ",
     "library": "var_list.py",
     "varRefreshCmd": "print(var_dic_list())"
    },
    "r": {
     "delete_cmd_postfix": ") ",
     "delete_cmd_prefix": "rm(",
     "library": "var_list.r",
     "varRefreshCmd": "cat(var_dic_list()) "
    }
   },
   "types_to_exclude": [
    "module",
    "function",
    "builtin_function_or_method",
    "instance",
    "_Feature"
   ],
   "window_display": false
  }
 },
 "nbformat": 4,
 "nbformat_minor": 2
}
