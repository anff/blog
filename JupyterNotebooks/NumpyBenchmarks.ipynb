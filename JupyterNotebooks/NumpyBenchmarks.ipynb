{
 "cells": [
  {
   "cell_type": "markdown",
   "metadata": {
    "toc": true
   },
   "source": [
    "<h1>Table of Contents<span class=\"tocSkip\"></span></h1>\n",
    "<div class=\"toc\"><ul class=\"toc-item\"><li><span><a href=\"#my_timeit\" data-toc-modified-id=\"my_timeit-1\"><span class=\"toc-item-num\">1&nbsp;&nbsp;</span>my_timeit</a></span></li><li><span><a href=\"#inner-vs.-dot-vs.-product-then-sum\" data-toc-modified-id=\"inner-vs.-dot-vs.-product-then-sum-2\"><span class=\"toc-item-num\">2&nbsp;&nbsp;</span><code>inner</code> vs. <code>dot</code> vs. product then <code>sum</code></a></span></li><li><span><a href=\"#dot-vs.-einsum\" data-toc-modified-id=\"dot-vs.-einsum-3\"><span class=\"toc-item-num\">3&nbsp;&nbsp;</span><code>dot</code> vs. <code>einsum</code></a></span></li><li><span><a href=\"#einsum-vs.--product-then-sum\" data-toc-modified-id=\"einsum-vs.--product-then-sum-4\"><span class=\"toc-item-num\">4&nbsp;&nbsp;</span><code>einsum</code> vs.  product then <code>sum</code></a></span></li></ul></div>"
   ]
  },
  {
   "cell_type": "code",
   "execution_count": 120,
   "metadata": {},
   "outputs": [
    {
     "name": "stdout",
     "output_type": "stream",
     "text": [
      "3.6.7 |Anaconda, Inc.| (default, Dec 10 2018, 20:35:02) [MSC v.1915 64 bit (AMD64)]\n",
      "sys.version_info(major=3, minor=6, micro=7, releaselevel='final', serial=0)\n"
     ]
    }
   ],
   "source": [
    "import numpy as np\n",
    "import sys\n",
    "print(sys.version)\n",
    "print(sys.version_info)"
   ]
  },
  {
   "cell_type": "markdown",
   "metadata": {
    "deletable": false,
    "editable": false,
    "run_control": {
     "frozen": true
    }
   },
   "source": [
    "## my_timeit"
   ]
  },
  {
   "cell_type": "code",
   "execution_count": 107,
   "metadata": {},
   "outputs": [],
   "source": [
    "import timeit\n",
    "\n",
    "\n",
    "def my_timeit(stat):\n",
    "    timer = timeit.Timer(stat, globals={\"np\": np, \"X\": X, \"x\": x, \"Y\": Y})\n",
    "    n, time = timer.autorange()\n",
    "    time = time / n\n",
    "    if time < 1E-3:\n",
    "        print(\"%-30s [%.1f µs]\" % (stat, time * 1E6))\n",
    "    elif time < 1:\n",
    "        print(\"%-30s [%.1f ms]\" % (stat, time * 1E3))\n",
    "    else:\n",
    "        print(\"%-30s [%.1f s]\" % (stat, time))"
   ]
  },
  {
   "cell_type": "markdown",
   "metadata": {
    "deletable": false,
    "editable": false,
    "run_control": {
     "frozen": true
    }
   },
   "source": [
    "## `inner` vs. `dot` vs. product then `sum`"
   ]
  },
  {
   "cell_type": "code",
   "execution_count": 108,
   "metadata": {},
   "outputs": [
    {
     "name": "stdout",
     "output_type": "stream",
     "text": [
      "np.dot(x,x)                    [1.1 µs]\n",
      "np.inner(x,x)                  [1.2 µs]\n",
      "np.linalg.norm(x, ord=2)       [4.9 µs]\n",
      "np.linalg.norm(x, ord=2)**2    [5.4 µs]\n"
     ]
    }
   ],
   "source": [
    "N = 1000\n",
    "x = np.random.randn(N)\n",
    "my_timeit(\"np.dot(x,x)\")\n",
    "my_timeit(\"np.inner(x,x)\")\n",
    "my_timeit(\"np.linalg.norm(x, ord=2)\")\n",
    "my_timeit(\"np.linalg.norm(x, ord=2)**2\")"
   ]
  },
  {
   "cell_type": "markdown",
   "metadata": {
    "deletable": false,
    "editable": false,
    "run_control": {
     "frozen": true
    }
   },
   "source": [
    "## `dot` vs. `einsum`"
   ]
  },
  {
   "cell_type": "code",
   "execution_count": 118,
   "metadata": {},
   "outputs": [
    {
     "name": "stdout",
     "output_type": "stream",
     "text": [
      "np.sum(X*Y, axis=0)            [3.9 ms]\n",
      "np.einsum(\"ij,ij->j\",X, Y)     [1.0 ms]\n"
     ]
    }
   ],
   "source": [
    "N = 1000\n",
    "M = 999\n",
    "X = np.random.randn(N, M)\n",
    "Y = np.random.randn(N, M)\n",
    "assert np.allclose(X.dot(Y.T), np.einsum(\"ij,kj->ik\", X, Y))\n",
    "\n",
    "my_timeit(\"np.sum(X*Y, axis=0)\")\n",
    "my_timeit('np.einsum(\"ij,ij->j\",X, Y)')"
   ]
  },
  {
   "cell_type": "markdown",
   "metadata": {
    "deletable": false,
    "editable": false,
    "run_control": {
     "frozen": true
    }
   },
   "source": [
    "## `einsum` vs.  product then `sum` "
   ]
  },
  {
   "cell_type": "code",
   "execution_count": 114,
   "metadata": {
    "scrolled": true
   },
   "outputs": [
    {
     "name": "stdout",
     "output_type": "stream",
     "text": [
      "np.sum(X*Y, axis=0)            [3.7 ms]\n",
      "np.einsum(\"ij,ij->j\",X, Y)     [976.3 µs]\n"
     ]
    }
   ],
   "source": [
    "N = 1000\n",
    "M = 999\n",
    "X = np.random.randn(N, M)\n",
    "Y = np.random.randn(N, M)\n",
    "assert np.allclose(np.sum(X * Y, axis=0), np.einsum(\"ij,ij->j\", X, Y))\n",
    "\n",
    "my_timeit(\"np.sum(X*Y, axis=0)\")\n",
    "my_timeit('np.einsum(\"ij,ij->j\",X, Y)')"
   ]
  }
 ],
 "metadata": {
  "hide_input": false,
  "kernelspec": {
   "display_name": "Python 3",
   "language": "python",
   "name": "python3"
  },
  "language_info": {
   "codemirror_mode": {
    "name": "ipython",
    "version": 3
   },
   "file_extension": ".py",
   "mimetype": "text/x-python",
   "name": "python",
   "nbconvert_exporter": "python",
   "pygments_lexer": "ipython3",
   "version": "3.6.7"
  },
  "toc": {
   "base_numbering": 1,
   "nav_menu": {},
   "number_sections": true,
   "sideBar": true,
   "skip_h1_title": false,
   "title_cell": "Table of Contents",
   "title_sidebar": "Contents",
   "toc_cell": true,
   "toc_position": {},
   "toc_section_display": true,
   "toc_window_display": false
  },
  "varInspector": {
   "cols": {
    "lenName": "24",
    "lenType": "16",
    "lenVar": 40
   },
   "kernels_config": {
    "python": {
     "delete_cmd_postfix": "",
     "delete_cmd_prefix": "del ",
     "library": "var_list.py",
     "varRefreshCmd": "print(var_dic_list())"
    },
    "r": {
     "delete_cmd_postfix": ") ",
     "delete_cmd_prefix": "rm(",
     "library": "var_list.r",
     "varRefreshCmd": "cat(var_dic_list()) "
    }
   },
   "types_to_exclude": [
    "module",
    "function",
    "builtin_function_or_method",
    "instance",
    "_Feature"
   ],
   "window_display": false
  }
 },
 "nbformat": 4,
 "nbformat_minor": 4
}
