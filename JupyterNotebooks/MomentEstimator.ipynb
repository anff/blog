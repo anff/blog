{
 "cells": [
  {
   "cell_type": "markdown",
   "metadata": {
    "toc": true
   },
   "source": [
    "<h1>Table of Contents<span class=\"tocSkip\"></span></h1>\n",
    "<div class=\"toc\"><ul class=\"toc-item\"><li><span><a href=\"#Moment-estimation\" data-toc-modified-id=\"Moment-estimation-1\"><span class=\"toc-item-num\">1&nbsp;&nbsp;</span>Moment estimation</a></span></li><li><span><a href=\"#Experiments\" data-toc-modified-id=\"Experiments-2\"><span class=\"toc-item-num\">2&nbsp;&nbsp;</span>Experiments</a></span><ul class=\"toc-item\"><li><span><a href=\"#The-statistical-properties-from-p.d.f\" data-toc-modified-id=\"The-statistical-properties-from-p.d.f-2.1\"><span class=\"toc-item-num\">2.1&nbsp;&nbsp;</span>The statistical properties from p.d.f</a></span></li><li><span><a href=\"#The-estimation-of-statistical-properties-from-data\" data-toc-modified-id=\"The-estimation-of-statistical-properties-from-data-2.2\"><span class=\"toc-item-num\">2.2&nbsp;&nbsp;</span>The estimation of statistical properties from data</a></span></li><li><span><a href=\"#Eestimator-of-mean,-$\\hat{\\mu}$\" data-toc-modified-id=\"Eestimator-of-mean,-$\\hat{\\mu}$-2.3\"><span class=\"toc-item-num\">2.3&nbsp;&nbsp;</span>Eestimator of mean, $\\hat{\\mu}$</a></span><ul class=\"toc-item\"><li><span><a href=\"#Expectation-of-$\\hat{\\mu}$,-$\\mathrm{E}[\\hat{\\mu}]$\" data-toc-modified-id=\"Expectation-of-$\\hat{\\mu}$,-$\\mathrm{E}[\\hat{\\mu}]$-2.3.1\"><span class=\"toc-item-num\">2.3.1&nbsp;&nbsp;</span>Expectation of $\\hat{\\mu}$, $\\mathrm{E}[\\hat{\\mu}]$</a></span></li><li><span><a href=\"#Variance-of-$\\hat{\\mu}$,-$\\mathrm{Var}[\\hat{\\mu}]$\" data-toc-modified-id=\"Variance-of-$\\hat{\\mu}$,-$\\mathrm{Var}[\\hat{\\mu}]$-2.3.2\"><span class=\"toc-item-num\">2.3.2&nbsp;&nbsp;</span>Variance of $\\hat{\\mu}$, $\\mathrm{Var}[\\hat{\\mu}]$</a></span></li></ul></li><li><span><a href=\"#Estimator-of-variance-$\\hat{\\sigma^2}$\" data-toc-modified-id=\"Estimator-of-variance-$\\hat{\\sigma^2}$-2.4\"><span class=\"toc-item-num\">2.4&nbsp;&nbsp;</span>Estimator of variance $\\hat{\\sigma^2}$</a></span><ul class=\"toc-item\"><li><span><a href=\"#Expectation-of-$\\hat{\\sigma^2}$,-$\\mathrm{E}[\\hat{\\sigma^2}]$\" data-toc-modified-id=\"Expectation-of-$\\hat{\\sigma^2}$,-$\\mathrm{E}[\\hat{\\sigma^2}]$-2.4.1\"><span class=\"toc-item-num\">2.4.1&nbsp;&nbsp;</span>Expectation of $\\hat{\\sigma^2}$, $\\mathrm{E}[\\hat{\\sigma^2}]$</a></span></li><li><span><a href=\"#Variance-of-$\\hat{\\sigma^2}$,-$\\mathrm{Var}[\\hat{\\sigma^2}]$\" data-toc-modified-id=\"Variance-of-$\\hat{\\sigma^2}$,-$\\mathrm{Var}[\\hat{\\sigma^2}]$-2.4.2\"><span class=\"toc-item-num\">2.4.2&nbsp;&nbsp;</span>Variance of $\\hat{\\sigma^2}$, $\\mathrm{Var}[\\hat{\\sigma^2}]$</a></span></li></ul></li><li><span><a href=\"#Third-central-moment-$\\hat{\\mu_3}$\" data-toc-modified-id=\"Third-central-moment-$\\hat{\\mu_3}$-2.5\"><span class=\"toc-item-num\">2.5&nbsp;&nbsp;</span>Third central moment $\\hat{\\mu_3}$</a></span><ul class=\"toc-item\"><li><span><a href=\"#Expectation-of--$\\hat{\\mu_3}$,-$\\mathrm{E}[-\\hat{\\mu_3}]$\" data-toc-modified-id=\"Expectation-of--$\\hat{\\mu_3}$,-$\\mathrm{E}[-\\hat{\\mu_3}]$-2.5.1\"><span class=\"toc-item-num\">2.5.1&nbsp;&nbsp;</span>Expectation of  $\\hat{\\mu_3}$, $\\mathrm{E}[ \\hat{\\mu_3}]$</a></span></li></ul></li><li><span><a href=\"#Fourth-central-moment-$\\hat{\\mu_4}$\" data-toc-modified-id=\"Fourth-central-moment-$\\hat{\\mu_4}$-2.6\"><span class=\"toc-item-num\">2.6&nbsp;&nbsp;</span>Fourth central moment $\\hat{\\mu_4}$</a></span><ul class=\"toc-item\"><li><span><a href=\"#Expectation-of--$\\hat{\\mu_4}$,-$\\mathrm{E}[-\\hat{\\mu_4}]$\" data-toc-modified-id=\"Expectation-of--$\\hat{\\mu_4}$,-$\\mathrm{E}[-\\hat{\\mu_4}]$-2.6.1\"><span class=\"toc-item-num\">2.6.1&nbsp;&nbsp;</span>Expectation of  $\\hat{\\mu_4}$, $\\mathrm{E}[ \\hat{\\mu_4}]$</a></span></li></ul></li><li><span><a href=\"#Estimator-of-variance--of-$\\hat{\\mu}$\" data-toc-modified-id=\"Estimator-of-variance--of-$\\hat{\\mu}$-2.7\"><span class=\"toc-item-num\">2.7&nbsp;&nbsp;</span>Estimator of variance  of $\\hat{\\mu}$</a></span></li><li><span><a href=\"#Estimator-of-variance-of-$\\hat{\\sigma^2}$\" data-toc-modified-id=\"Estimator-of-variance-of-$\\hat{\\sigma^2}$-2.8\"><span class=\"toc-item-num\">2.8&nbsp;&nbsp;</span>Estimator of variance of $\\hat{\\sigma^2}$</a></span></li></ul></li></ul></div>"
   ]
  },
  {
   "cell_type": "markdown",
   "metadata": {},
   "source": [
    "# Moment estimation"
   ]
  },
  {
   "cell_type": "markdown",
   "metadata": {},
   "source": [
    "This is a summary of the paper \"Optimal unbiased estimation of some population\n",
    "central moments\". Assuming we have $n$ examples in a dataset."
   ]
  },
  {
   "cell_type": "markdown",
   "metadata": {},
   "source": [
    "|  <div style=\"width:150px\">  </div> | <div style=\"width:150px\"> symbol </div> |  <div style=\"width:400px\"> formula </div> |\n",
    "| - | - |    -    |\n",
    "| expectation,mean|   $\\mu$   | $\\mathrm{E}[x]$ |\n",
    "| variance|   $\\sigma^2$ | $\\mathrm{E}[(x-\\mu)^2]$|\n",
    "| third central moment|  $\\mu_3$  |    $\\mathrm{E}[(x-\\mu)^3]$  |\n",
    "| fourth central moment|  $\\mu_4$  |    $\\mathrm{E}[(x-\\mu)^4]$  |\n",
    "| estimator of mean | $\\hat{\\mu}$ | $\\frac{1}{n} \\sum_i x_i$  |\n",
    "| estimator of variance | $\\hat{\\sigma^2}$ | $ \\frac{1}{n-1}\\sum_i (x_i - \\hat{\\mu})^2 $\n",
    "| estimator of $\\mu_3$ | $\\hat{\\mu_3}$ | $ \\frac{n}{(n-1)(n-2)}\\sum_i (x_i - \\hat{\\mu})^3 $\n",
    "| estimator of $\\mu_4$ | $\\hat{\\mu_4}$ | $  \\frac{n(n^2-2 n+3)}{(n-1)(n-2)(n-3)}m_4 +\\frac{(n-1)(3-2 n)}{n(n-2)(n-3)}\\hat{\\sigma^2}^2 $\n",
    "||$m_4$ | $\\frac{1}{n}\\sum_i (x-\\hat{\\mu})^4$|\n",
    "| variance of estimator of mean |${\\rm Var}[\\hat{\\mu}]$| $\\frac{\\sigma^2}{n}$|\n",
    "| variance of estimator of variance | ${\\rm Var}[\\hat{\\sigma^2}]$ | $ \\frac{\\mu_4}{n}-\\frac{ (n-3)\\sigma^4}{n(n-1)} $\n",
    "| estimator of estimator of mean |$\\hat{{\\rm Var}}[\\hat{\\mu}]$| $\\frac{\\hat{\\sigma^2}}{n}$|\n",
    "| estimator of estimator of variance | $\\hat{{\\rm Var}}[\\hat{\\sigma^2}]$ | $ \\frac{n-1}{n^2-2 n + 3}{\\hat{\\mu_4}}- \\frac{n-3}{n^2-2 n+3}{\\hat{\\sigma^2}}^2$\n"
   ]
  },
  {
   "cell_type": "markdown",
   "metadata": {},
   "source": [
    "The original formula in paper of $\\hat{\\mu_3}$ is\n",
    "$$\n",
    "\\hat{\\mu_3} = \\frac{n^2}{n^2-3 n+2}\\left(\\frac{1}{n}\\sum_i{x_i^3}\n",
    "-\\frac{3}{n}\\sum_i{x_i^2}\\hat{\\mu} + 2 \\hat{\\mu}^3\\right)\n",
    "$$\n",
    "\n",
    "The original formula in paper of $\\hat{\\mu_4}$ is\n",
    "$$\n",
    "\\hat{\\mu_4} = \\left(1-\\frac{3}{c n}\\right)^{-1}\n",
    "\\left\\{ \n",
    "\\frac{n}{n-1} m_4 + 3 \\left(\\frac{n-1}{n} - \\frac{1}{c}\\right){\\hat{\\sigma^2}}^2\n",
    "\\right\\}\n",
    "$$\n",
    "where\n",
    "$$\n",
    "c = \\frac{n^2-2 n+3}{n(n-1)}\n",
    "$$\n"
   ]
  },
  {
   "cell_type": "markdown",
   "metadata": {},
   "source": [
    "# Experiments"
   ]
  },
  {
   "cell_type": "markdown",
   "metadata": {},
   "source": [
    "We generate 100000 datasets. In each dataset, we generated 4 examples, i.e $n=4$. Each of 4 examples obey the p.d.f of\n",
    "$k x^2$ where $(0\\le x \\le 1)$ and $k$ is the normalization factor. Four examples are independent to each other."
   ]
  },
  {
   "cell_type": "code",
   "execution_count": 1,
   "metadata": {},
   "outputs": [
    {
     "data": {
      "image/png": "[encoded data removed]",
      "text/plain": [
       "<Figure size 432x288 with 1 Axes>"
      ]
     },
     "metadata": {
      "needs_background": "light"
     },
     "output_type": "display_data"
    }
   ],
   "source": [
    "import numpy as np\n",
    "import scipy.integrate as integrate\n",
    "import matplotlib.pyplot as plt\n",
    "%matplotlib inline\n",
    "\n",
    "pow_n = 3\n",
    "\n",
    "\n",
    "def pdf(x):\n",
    "    return np.where(x < 0, 0, np.where(x > 1, 0, pow_n * x**(pow_n - 1)))\n",
    "\n",
    "\n",
    "plt.figure()\n",
    "plt.hist(np.random.power(pow_n, size=(100000)), density=True, bins=100)\n",
    "plt.plot(np.linspace(0, 1, 100), pdf(np.linspace(0, 1, 100)))\n",
    "plt.show()\n",
    "\n",
    "\n",
    "def gen_data():\n",
    "    n = 4\n",
    "    N = 10000000\n",
    "    X = np.random.power(pow_n, size=(N, n))\n",
    "    return X\n",
    "\n",
    "\n",
    "X = gen_data()"
   ]
  },
  {
   "cell_type": "markdown",
   "metadata": {},
   "source": [
    "## The statistical properties from p.d.f"
   ]
  },
  {
   "cell_type": "markdown",
   "metadata": {},
   "source": [
    "In the class `OneVariableStat`, we calculate the mean $\\mu$, standard deviation $\\sigma^2$, third and fourth central momenta $\\mu_3$, $\\mu_4$ of the **p.d.f.** ."
   ]
  },
  {
   "cell_type": "code",
   "execution_count": 2,
   "metadata": {},
   "outputs": [
    {
     "name": "stdout",
     "output_type": "stream",
     "text": [
      "mu 0.7500000000000001\n",
      "s2 0.037500000000000006\n",
      "mu_3 -0.006250000000000011\n",
      "mu_4 0.004352678571428575\n",
      "variance of mean for 4 variables 0.009375000000000001\n",
      "variance of variance for 4 variables 0.0009709821428571438\n"
     ]
    }
   ],
   "source": [
    "class OneVariableStat:\n",
    "    def __init__(self, pdf):\n",
    "        def quad(pdf):\n",
    "            return integrate.quad(pdf, -np.inf, +np.inf)[0]\n",
    "\n",
    "        # the mean of variable\n",
    "        self.mu = quad(lambda x: pdf(x) * x)\n",
    "        # the sigma^2 of variable\n",
    "        self.s2 = quad(lambda x: pdf(x) * (x - self.mu)**2)\n",
    "        # the third central momentum of variable\n",
    "        self.mu_3 = quad(lambda x: pdf(x) * (x - self.mu)**3)\n",
    "        # the third central momentum of variable\n",
    "        self.mu_4 = quad(lambda x: pdf(x) * (x - self.mu)**4)\n",
    "        \n",
    "    def mean(self):\n",
    "        return self.mu\n",
    "    \n",
    "    def variance(self):\n",
    "        return self.s2\n",
    "\n",
    "class NVariablesStat(OneVariableStat):\n",
    "    \n",
    "    def __init__(self, pdf, n):\n",
    "        super().__init__(pdf)\n",
    "        self.n=n\n",
    "        \n",
    "    # the variance of the means of n variables\n",
    "    def variance_of_mean(self):\n",
    "        n=self.n\n",
    "        return self.s2/n\n",
    "    \n",
    "    # the variance of the variances of n variables\n",
    "    def variance_of_variance(self):\n",
    "        n=self.n\n",
    "        mu_4 = self.mu_4\n",
    "        sigma2 = self.s2\n",
    "\n",
    "        var_of_var = mu_4 / n - sigma2**2 * (n - 3) / (n * (n - 1))\n",
    "        return var_of_var\n",
    "\n",
    "\n",
    "stat = NVariablesStat(pdf, 4)\n",
    "print(\"mu\", stat.mu)\n",
    "print(\"s2\", stat.variance())\n",
    "print(\"mu_3\", stat.mu_3)\n",
    "print(\"mu_4\", stat.mu_4)\n",
    "print(\"variance of mean for 4 variables\", stat.variance_of_mean())\n",
    "print(\"variance of variance for 4 variables\", stat.variance_of_variance())"
   ]
  },
  {
   "cell_type": "markdown",
   "metadata": {},
   "source": [
    "## The estimation of statistical properties from data"
   ]
  },
  {
   "cell_type": "code",
   "execution_count": 3,
   "metadata": {},
   "outputs": [],
   "source": [
    "class DatasetStat:\n",
    "            \n",
    "    # the mean of dataset(s)\n",
    "    def mean(self, X, keepdims=False):\n",
    "        ans = np.mean(X, axis=-1, keepdims=keepdims)\n",
    "        return ans\n",
    "\n",
    "    # the variance of dataset(s)\n",
    "    def variance(self, X, keepdims=False):\n",
    "        mu = self.mean(X, keepdims=True)\n",
    "        n = X.shape[-1]\n",
    "        ans = n / (n - 1) * np.mean((X - mu)**2, axis=-1, keepdims=keepdims)\n",
    "        return ans\n",
    "\n",
    "    def third_central_moment(self, X, keepdims=False):\n",
    "        mu = self.mean(X, keepdims=True)\n",
    "        n = X.shape[-1]\n",
    "        assert n > 2\n",
    "        # we change a little of the form\n",
    "        return n * n / ((n - 1) * (n - 2)) * np.mean(\n",
    "            (X - mu)**3, axis=-1, keepdims=keepdims)\n",
    "\n",
    "    def fourth_central_moment(self, X, keepdims=False):\n",
    "        mu = self.mean(X, keepdims=True)\n",
    "        n = X.shape[-1]\n",
    "        assert n > 3\n",
    "\n",
    "        m4 = np.mean((X - mu)**4, axis=-1, keepdims=keepdims)\n",
    "\n",
    "        s2 = n / (n - 1) * np.mean((X - mu)**2, axis=-1, keepdims=keepdims)\n",
    "\n",
    "        #c = (n * n - 2 * n + 3) / (n * (n - 1))\n",
    "        #k = 1 / (1 - 3 / (c * n))\n",
    "        #return 1.0 * k * (n / (n - 1) * m4 + 3 * (1 - 1 / n - 1 / c) * s2**2)\n",
    "        #print(k)\n",
    "\n",
    "        k = 1 / ((n - 3) * (n - 2) * (n - 1) * n)\n",
    "\n",
    "        return k * (n * n * (n * (n - 2) + 3) * m4 + \\\n",
    "            3 * (n - 1) * (n - 1) * (3 - 2 * n) * s2 * s2)\n",
    "\n",
    "    def variance_of_mean(self, X, keepdims=False):    \n",
    "        return self.variance(X, keepdims=keepdims) / X.shape[-1]\n",
    "\n",
    "    \n",
    "    def variance_of_variance(self, X, keepdims=False):\n",
    "        n = X.shape[1]\n",
    "        assert n > 1\n",
    "        mu = np.mean(X, axis=-1, keepdims=True)\n",
    "        mu_4 = self.fourth_central_moment(X, keepdims=keepdims)\n",
    "        sigma2 = n / (n - 1) * np.mean((X - mu)**2, axis=-1, keepdims=keepdims)\n",
    "\n",
    "        var_of_var = ((n - 1) * mu_4 - (n - 3) * sigma2**2) / (n * (n - 2) + 3)\n",
    "        return var_of_var\n",
    "\n",
    "datastat = DatasetStat()"
   ]
  },
  {
   "cell_type": "markdown",
   "metadata": {},
   "source": [
    "## Eestimator of mean, $\\hat{\\mu}$"
   ]
  },
  {
   "cell_type": "markdown",
   "metadata": {},
   "source": [
    "The estimator of mean, $\\hat{\\mu}$, is a formula to calculate mean of the **p.d.f**, $\\mu$, from the **one** dataset, or $n$ examples. We have 10000000 datasets. We have **one** value of $\\hat{\\mu}$ for **one** dataset, and 10000000 values of $\\hat{\\mu}$ for 10000000 datasets."
   ]
  },
  {
   "cell_type": "code",
   "execution_count": 4,
   "metadata": {},
   "outputs": [
    {
     "data": {
      "image/png": "[encoded data removed]",
      "text/plain": [
       "<Figure size 432x288 with 1 Axes>"
      ]
     },
     "metadata": {
      "needs_background": "light"
     },
     "output_type": "display_data"
    }
   ],
   "source": [
    "plt.figure()\n",
    "plt.hist(datastat.mean(X), bins=10, density=True)\n",
    "plt.xlabel(\"$\\\\hat{\\\\mu}$\")\n",
    "plt.ylabel(\"p.d.f\")\n",
    "plt.show()"
   ]
  },
  {
   "cell_type": "markdown",
   "metadata": {},
   "source": [
    "### Expectation of $\\hat{\\mu}$, $\\mathrm{E}[\\hat{\\mu}]$"
   ]
  },
  {
   "cell_type": "markdown",
   "metadata": {},
   "source": [
    "We can calculate the mean of the $\\hat{\\mu}$ over the 10000000 datasets. This should be very close to the expectation of $\\hat{\\mu}$, $E[\\hat{\\mu}]$, and the difference vanish when 10000000 becomes infinity. If and only if $E[\\hat{\\mu}]$ is the same as $\\mu$, they are both not random variables, we say the estimator $\\hat{\\mu}$ is unbiased."
   ]
  },
  {
   "cell_type": "code",
   "execution_count": 5,
   "metadata": {},
   "outputs": [
    {
     "name": "stdout",
     "output_type": "stream",
     "text": [
      "data: 0.7499706408051892\n",
      "model: 0.7500000000000001\n"
     ]
    }
   ],
   "source": [
    "print(\"data:\", datastat.mean(X).mean())\n",
    "print(\"model:\", stat.mu)"
   ]
  },
  {
   "cell_type": "markdown",
   "metadata": {},
   "source": [
    "###  Variance of $\\hat{\\mu}$, $\\mathrm{Var}[\\hat{\\mu}]$"
   ]
  },
  {
   "cell_type": "markdown",
   "metadata": {},
   "source": [
    "We can also calculate the variance of the $\\hat{\\mu}$ over the 10000000 datasets. This should be very close to the variance of $\\hat{\\mu}$, $Var[\\hat{\\mu}]$, and the difference vanish when 10000000 becomes infinity."
   ]
  },
  {
   "cell_type": "code",
   "execution_count": 6,
   "metadata": {},
   "outputs": [
    {
     "name": "stdout",
     "output_type": "stream",
     "text": [
      "data: 0.009369455928682838\n",
      "model: 0.009375000000000001\n"
     ]
    }
   ],
   "source": [
    "print(\"data:\", datastat.mean(X).var())\n",
    "print(\"model:\", stat.variance_of_mean())"
   ]
  },
  {
   "cell_type": "markdown",
   "metadata": {},
   "source": [
    "## Estimator of variance $\\hat{\\sigma^2}$"
   ]
  },
  {
   "cell_type": "code",
   "execution_count": 7,
   "metadata": {},
   "outputs": [
    {
     "data": {
      "image/png": "[encoded data removed]",
      "text/plain": [
       "<Figure size 432x288 with 1 Axes>"
      ]
     },
     "metadata": {
      "needs_background": "light"
     },
     "output_type": "display_data"
    }
   ],
   "source": [
    "plt.figure()\n",
    "plt.hist(datastat.variance(X), bins=10, density=True)\n",
    "plt.xlabel(\"$\\\\hat{\\\\sigma^2}$\")\n",
    "plt.ylabel(\"p.d.f\")\n",
    "plt.show()"
   ]
  },
  {
   "cell_type": "markdown",
   "metadata": {},
   "source": [
    "### Expectation of $\\hat{\\sigma^2}$, $\\mathrm{E}[\\hat{\\sigma^2}]$"
   ]
  },
  {
   "cell_type": "code",
   "execution_count": 8,
   "metadata": {},
   "outputs": [
    {
     "name": "stdout",
     "output_type": "stream",
     "text": [
      "data: 0.03750385384977899\n",
      "model: 0.037500000000000006\n"
     ]
    }
   ],
   "source": [
    "print(\"data:\", datastat.variance(X).mean())\n",
    "print(\"model:\", stat.variance())"
   ]
  },
  {
   "cell_type": "markdown",
   "metadata": {},
   "source": [
    "### Variance of $\\hat{\\sigma^2}$, $\\mathrm{Var}[\\hat{\\sigma^2}]$"
   ]
  },
  {
   "cell_type": "code",
   "execution_count": 9,
   "metadata": {},
   "outputs": [
    {
     "name": "stdout",
     "output_type": "stream",
     "text": [
      "data: 0.0009706055834814339\n",
      "model: 0.0009709821428571438\n"
     ]
    }
   ],
   "source": [
    "print(\"data:\", datastat.variance(X).var())\n",
    "print(\"model:\", stat.variance_of_variance())"
   ]
  },
  {
   "cell_type": "markdown",
   "metadata": {},
   "source": [
    "## Third central moment $\\hat{\\mu_3}$"
   ]
  },
  {
   "cell_type": "code",
   "execution_count": 10,
   "metadata": {},
   "outputs": [
    {
     "data": {
      "image/png": "[encoded data removed]",
      "text/plain": [
       "<Figure size 432x288 with 1 Axes>"
      ]
     },
     "metadata": {
      "needs_background": "light"
     },
     "output_type": "display_data"
    }
   ],
   "source": [
    "plt.figure()\n",
    "plt.hist(datastat.third_central_moment(X), bins=10, density=True)\n",
    "plt.xlabel(\"$\\\\hat{\\\\mu_3}$\")\n",
    "plt.ylabel(\"p.d.f\") \n",
    "plt.show()"
   ]
  },
  {
   "cell_type": "markdown",
   "metadata": {},
   "source": [
    "### Expectation of  $\\hat{\\mu_3}$, $\\mathrm{E}[ \\hat{\\mu_3}]$"
   ]
  },
  {
   "cell_type": "code",
   "execution_count": 11,
   "metadata": {},
   "outputs": [
    {
     "name": "stdout",
     "output_type": "stream",
     "text": [
      "data: -0.006245517454442277\n",
      "model: -0.006250000000000011\n"
     ]
    }
   ],
   "source": [
    "print(\"data:\", datastat.third_central_moment(X).mean())\n",
    "print(\"model:\", stat.mu_3)"
   ]
  },
  {
   "cell_type": "markdown",
   "metadata": {},
   "source": [
    "## Fourth central moment $\\hat{\\mu_4}$"
   ]
  },
  {
   "cell_type": "code",
   "execution_count": 12,
   "metadata": {},
   "outputs": [
    {
     "data": {
      "image/png": "[encoded data removed]",
      "text/plain": [
       "<Figure size 432x288 with 1 Axes>"
      ]
     },
     "metadata": {
      "needs_background": "light"
     },
     "output_type": "display_data"
    }
   ],
   "source": [
    "plt.figure()\n",
    "plt.hist(datastat.fourth_central_moment(X), bins=50, density=True)\n",
    "plt.xlabel(\"$\\\\hat{\\\\mu_4}$\")\n",
    "plt.ylabel(\"p.d.f\")\n",
    "plt.show()"
   ]
  },
  {
   "cell_type": "markdown",
   "metadata": {},
   "source": [
    "### Expectation of  $\\hat{\\mu_4}$, $\\mathrm{E}[ \\hat{\\mu_4}]$"
   ]
  },
  {
   "cell_type": "code",
   "execution_count": 13,
   "metadata": {},
   "outputs": [
    {
     "name": "stdout",
     "output_type": "stream",
     "text": [
      "data: 0.004351385474335943\n",
      "model: 0.004352678571428575\n"
     ]
    }
   ],
   "source": [
    "print(\"data:\", datastat.fourth_central_moment(X).mean())\n",
    "print(\"model:\", stat.mu_4)"
   ]
  },
  {
   "cell_type": "markdown",
   "metadata": {},
   "source": [
    "## Estimator of variance  of $\\hat{\\mu}$"
   ]
  },
  {
   "cell_type": "code",
   "execution_count": 14,
   "metadata": {},
   "outputs": [
    {
     "name": "stdout",
     "output_type": "stream",
     "text": [
      "E[estimation for variance of mean of n examples]: 0.009375963462444747\n",
      "Var[mean of n examples] experiment: 0.009369455928682838\n",
      "Var[mean of n examples] model: 0.009375000000000001\n"
     ]
    }
   ],
   "source": [
    "print(\"E[estimation for variance of mean of n examples]:\", datastat.variance_of_mean(X).mean())\n",
    "print(\"Var[mean of n examples] experiment:\", datastat.mean(X).var())\n",
    "print(\"Var[mean of n examples] model:\", stat.variance_of_mean())"
   ]
  },
  {
   "cell_type": "markdown",
   "metadata": {},
   "source": [
    "## Estimator of variance of $\\hat{\\sigma^2}$"
   ]
  },
  {
   "cell_type": "code",
   "execution_count": 15,
   "metadata": {},
   "outputs": [
    {
     "name": "stdout",
     "output_type": "stream",
     "text": [
      "E[estimation for variance of variance of n examples]: 0.0009706374350855271\n",
      "Var[variance of n examples] experiment: 0.0009706055834814339\n",
      "Var[variance of n examples] model: 0.0009709821428571438\n"
     ]
    }
   ],
   "source": [
    "print(\"E[estimation for variance of variance of n examples]:\", datastat.variance_of_variance(X).mean())\n",
    "print(\"Var[variance of n examples] experiment:\", datastat.variance(X).var())\n",
    "print(\"Var[variance of n examples] model:\", stat.variance_of_variance())"
   ]
  }
 ],
 "metadata": {
  "hide_input": false,
  "kernelspec": {
   "display_name": "Python 3",
   "language": "python",
   "name": "python3"
  },
  "language_info": {
   "codemirror_mode": {
    "name": "ipython",
    "version": 3
   },
   "file_extension": ".py",
   "mimetype": "text/x-python",
   "name": "python",
   "nbconvert_exporter": "python",
   "pygments_lexer": "ipython3",
   "version": "3.6.7"
  },
  "toc": {
   "base_numbering": 1,
   "nav_menu": {},
   "number_sections": true,
   "sideBar": true,
   "skip_h1_title": false,
   "title_cell": "Table of Contents",
   "title_sidebar": "Contents",
   "toc_cell": true,
   "toc_position": {
    "height": "calc(100% - 180px)",
    "left": "10px",
    "top": "150px",
    "width": "349.091px"
   },
   "toc_section_display": true,
   "toc_window_display": false
  },
  "varInspector": {
   "cols": {
    "lenName": "24",
    "lenType": "16",
    "lenVar": 40
   },
   "kernels_config": {
    "python": {
     "delete_cmd_postfix": "",
     "delete_cmd_prefix": "del ",
     "library": "var_list.py",
     "varRefreshCmd": "print(var_dic_list())"
    },
    "r": {
     "delete_cmd_postfix": ") ",
     "delete_cmd_prefix": "rm(",
     "library": "var_list.r",
     "varRefreshCmd": "cat(var_dic_list()) "
    }
   },
   "position": {
    "height": "335.4px",
    "left": "414.2px",
    "right": "20px",
    "top": "120px",
    "width": "307.4px"
   },
   "types_to_exclude": [
    "module",
    "function",
    "builtin_function_or_method",
    "instance",
    "_Feature"
   ],
   "window_display": false
  }
 },
 "nbformat": 4,
 "nbformat_minor": 2
}
