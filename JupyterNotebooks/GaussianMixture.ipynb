{
 "cells": [
  {
   "cell_type": "markdown",
   "metadata": {
    "toc": true
   },
   "source": [
    "<h1>Table of Contents<span class=\"tocSkip\"></span></h1>\n",
    "<div class=\"toc\"><ul class=\"toc-item\"><li><span><a href=\"#Gaussian-mixture\" data-toc-modified-id=\"Gaussian-mixture-1\"><span class=\"toc-item-num\">1&nbsp;&nbsp;</span>Gaussian mixture</a></span></li><li><span><a href=\"#Data-generation-and-plot\" data-toc-modified-id=\"Data-generation-and-plot-2\"><span class=\"toc-item-num\">2&nbsp;&nbsp;</span>Data generation and plot</a></span></li><li><span><a href=\"#Testing\" data-toc-modified-id=\"Testing-3\"><span class=\"toc-item-num\">3&nbsp;&nbsp;</span>Testing</a></span></li></ul></div>"
   ]
  },
  {
   "cell_type": "markdown",
   "metadata": {},
   "source": [
    "# Gaussian mixture"
   ]
  },
  {
   "cell_type": "markdown",
   "metadata": {},
   "source": [
    "This is the implementation of our full gaussian mixture algorithm.\n",
    "The best lecture I found is http://people.csail.mit.edu/dsontag/courses/ml12/slides/lecture21.pdf .\n",
    "In guassian mixture model, we assume the all examples are generated in probability of $n$ components\n",
    "\n",
    "$$\n",
    "\\sum_k^n \\frac{p_k}{2\\pi\\sqrt{|\\sigma_k|}}e^{-(X-\\mu_k)^T\\sigma^{-1}_k(X-\\mu_k)}\n",
    "$$\n",
    "where \n",
    "$p_k$ is a probability of $k$ components. And we have $\\sum_k p_k = 1$.\n",
    "The $\\sigma_k$ is $n_f\\times n_f$ semi-defined matrix. where $n_f$ is the number of features, or the dimension of an example. The $|\\sigma_k|$ is the determine of $\\sigma_k$.\n",
    "\n",
    "\n",
    "The optimization problems is solved EM algorithm."
   ]
  },
  {
   "cell_type": "code",
   "execution_count": 1,
   "metadata": {},
   "outputs": [],
   "source": [
    "import numpy as np\n",
    "class GaussianMixture:\n",
    "    def __init__(self, n_components=1,max_iter=100,random_state=42):\n",
    "        self.n_components=n_components\n",
    "        self.max_iter=max_iter\n",
    "        self.random_state=np.random.RandomState(random_state)\n",
    "        \n",
    "        \n",
    "    def cal_com_weights(self, X, ps, mus, sigmas):\n",
    "        ncom= ps.shape[-1]\n",
    "        nfeature = X.shape[-1]\n",
    "        ndata = X.shape[-2]\n",
    "        \n",
    "        # [ndata, ncom, nfeature]\n",
    "        xd = X[:,np.newaxis,:] - mus\n",
    "        assert xd.shape == (ndata, ncom, nfeature)\n",
    "        # [ncom, nfeature, nfeature]\n",
    "        invsigmas = np.linalg.inv(sigmas)\n",
    "        assert invsigmas.shape == (ncom, nfeature, nfeature)\n",
    "\n",
    "        # [ndata, ncom, nfeature]\n",
    "        invxd = np.sum(invsigmas*xd[:,:,np.newaxis,:], axis=-1)            \n",
    "        assert invxd.shape == (ndata, ncom, nfeature), invxd.shape\n",
    "\n",
    "        det = np.linalg.det(sigmas)\n",
    "\n",
    "        # [ndata, ncom]\n",
    "        g = ps/np.sqrt(det)*np.exp(-np.sum(xd*invxd, axis=-1))\n",
    "        assert g.shape == (ndata, ncom), g.shape\n",
    "\n",
    "        # [ndata]\n",
    "        n = np.sum(g, axis=-1)\n",
    "        assert n.shape == (ndata,), n.shape\n",
    "        # [ndata, ncom]\n",
    "        P = g / n[:,np.newaxis]\n",
    "        #print(\"P\", P)\n",
    "        return P\n",
    "        \n",
    "    def fit(self,X):\n",
    "        # [ndata, nfeature]\n",
    "        # X\n",
    "        assert X.ndim >= 2        \n",
    "        means=np.mean(X, axis=-2)\n",
    "        stds = np.std(X, axis=-2)\n",
    "        n_components = self.n_components\n",
    "        ncom= n_components\n",
    "        nfeature = X.shape[-1]\n",
    "        ndata = X.shape[-2]\n",
    "        \n",
    "        # [ncom, nfeature]\n",
    "        mus = means + stds*self.random_state.randn(n_components, means.shape[-1])        \n",
    "        #print(mus)\n",
    "        # [ncom]\n",
    "        ps = np.ones(n_components)/n_components        \n",
    "        # [ncom, nfeature, nfeature]\n",
    "        sigmas = np.tile(np.diag(stds), (n_components, 1, 1))\n",
    "        #print(sigmas)\n",
    "        \n",
    "        \n",
    "        # the best lecture I found http://people.csail.mit.edu/dsontag/courses/ml12/slides/lecture21.pdf        \n",
    "        for n_iter in range(self.max_iter):\n",
    "            \n",
    "            # [ndata, ncom, nfeature]\n",
    "            xd = X[:,np.newaxis,:] - mus\n",
    "            \n",
    "            # [ndata, ncom]\n",
    "            P = self.cal_com_weights(X, ps, mus, sigmas)\n",
    "            # [ncom]\n",
    "            N = np.sum(P, axis=-2)\n",
    "                       \n",
    "            ps = N/X.shape[-2]            \n",
    "            #print(\"ps\", ps)\n",
    "            \n",
    "            # [ncom, nfeature]\n",
    "            mus = np.einsum(\"ij,ik->jk\", P, X) / N[:,np.newaxis]\n",
    "            #print(mus)\n",
    "                        \n",
    "            \n",
    "            #[ndata, ncom, nfeature, nfeature]\n",
    "            xcov = np.einsum(\"ijk,ijl->ijkl\", xd, xd)\n",
    "            assert xcov.shape == (ndata, ncom, nfeature, nfeature), xcov.shape\n",
    "            sigmas = np.einsum(\"ij,ijkl->jkl\", P, xcov) / N[:,np.newaxis, np.newaxis]\n",
    "            #print(sigmas)\n",
    "            \n",
    "        self.weights_ = ps\n",
    "        self.means_ = mus\n",
    "        self.covariances_ = sigmas\n",
    "        \n",
    "    def predict(self, X):\n",
    "        # [ndata, ncom]\n",
    "        P = self.cal_com_weights(X, self.weights_, self.means_, self.covariances_)\n",
    "        argmax = np.argmax(P, axis=-1)\n",
    "        return argmax\n",
    "        \n",
    "        \n",
    "    \n",
    "    "
   ]
  },
  {
   "cell_type": "markdown",
   "metadata": {},
   "source": [
    "# Data generation and plot"
   ]
  },
  {
   "cell_type": "code",
   "execution_count": 2,
   "metadata": {},
   "outputs": [],
   "source": [
    "import numpy as np\n",
    "import matplotlib.pyplot as plt\n",
    "%matplotlib inline\n",
    "\n",
    "def gen_data(center, n=200, random_state=1):\n",
    "    rnd = np.random.RandomState(random_state)\n",
    "\n",
    "    if isinstance(n, int):\n",
    "        Xs = [rnd.randn(n, 2) + c for c in center]\n",
    "        ys = [np.full(n, i) for i in range(len(center))]\n",
    "    else:\n",
    "        assert len(n) == len(center), n\n",
    "        Xs = [rnd.randn(n_, 2) + c for c, n_ in zip(center, n)]\n",
    "        ys = [np.full(n_, i) for i, n_ in enumerate(n)]\n",
    "\n",
    "    X = np.vstack(Xs)\n",
    "    y = np.hstack(ys)\n",
    "    pert = np.random.permutation(X.shape[0])\n",
    "    X = X[pert]\n",
    "    y = y[pert]\n",
    "\n",
    "    return X, y\n",
    "\n",
    "\n",
    "def plot_data(X, y):\n",
    "    plt.figure(figsize=(5, 5))\n",
    "    nlabels = int(np.amax(y) + 1)\n",
    "    for i in range(nlabels):\n",
    "        plt.scatter(X[y == i, 0], X[y == i, 1])\n",
    "\n",
    "    plt.show()\n"
   ]
  },
  {
   "cell_type": "markdown",
   "metadata": {},
   "source": [
    "# Testing"
   ]
  },
  {
   "cell_type": "markdown",
   "metadata": {},
   "source": [
    "We generate a dataset in four categories. In each category, the examples are distributed in gaussian distribution. Then we use our `GaussianMixture` class to classify all examples into four categories without seeing the actual labels."
   ]
  },
  {
   "cell_type": "code",
   "execution_count": 3,
   "metadata": {},
   "outputs": [
    {
     "data": {
      "image/png": "[encoded data removed]",
      "text/plain": [
       "<Figure size 360x360 with 1 Axes>"
      ]
     },
     "metadata": {
      "needs_background": "light"
     },
     "output_type": "display_data"
    },
    {
     "data": {
      "image/png": "[encoded data removed]",
      "text/plain": [
       "<Figure size 360x360 with 1 Axes>"
      ]
     },
     "metadata": {
      "needs_background": "light"
     },
     "output_type": "display_data"
    }
   ],
   "source": [
    "def test_GaussianMixture(center):\n",
    "    X,y=gen_data(center, n=200)\n",
    "    plot_data(X, y)\n",
    "    gm=GaussianMixture(n_components=4, max_iter=100)\n",
    "    gm.fit(X)\n",
    "    y=gm.predict(X)\n",
    "    plot_data(X, y)\n",
    "    \n",
    "test_GaussianMixture(np.array([[-3,0],[3,0],[0,3],[0,-3]]))"
   ]
  }
 ],
 "metadata": {
  "hide_input": false,
  "kernelspec": {
   "display_name": "Python 3",
   "language": "python",
   "name": "python3"
  },
  "language_info": {
   "codemirror_mode": {
    "name": "ipython",
    "version": 3
   },
   "file_extension": ".py",
   "mimetype": "text/x-python",
   "name": "python",
   "nbconvert_exporter": "python",
   "pygments_lexer": "ipython3",
   "version": "3.6.7"
  },
  "toc": {
   "base_numbering": 1,
   "nav_menu": {},
   "number_sections": true,
   "sideBar": true,
   "skip_h1_title": false,
   "title_cell": "Table of Contents",
   "title_sidebar": "Contents",
   "toc_cell": true,
   "toc_position": {},
   "toc_section_display": true,
   "toc_window_display": false
  },
  "varInspector": {
   "cols": {
    "lenName": "24",
    "lenType": "16",
    "lenVar": 40
   },
   "kernels_config": {
    "python": {
     "delete_cmd_postfix": "",
     "delete_cmd_prefix": "del ",
     "library": "var_list.py",
     "varRefreshCmd": "print(var_dic_list())"
    },
    "r": {
     "delete_cmd_postfix": ") ",
     "delete_cmd_prefix": "rm(",
     "library": "var_list.r",
     "varRefreshCmd": "cat(var_dic_list()) "
    }
   },
   "types_to_exclude": [
    "module",
    "function",
    "builtin_function_or_method",
    "instance",
    "_Feature"
   ],
   "window_display": false
  }
 },
 "nbformat": 4,
 "nbformat_minor": 2
}
