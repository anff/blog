{
 "cells": [
  {
   "cell_type": "markdown",
   "metadata": {},
   "source": [
    "\n"
   ]
  },
  {
   "cell_type": "code",
   "execution_count": 98,
   "metadata": {},
   "outputs": [
    {
     "name": "stdout",
     "output_type": "stream",
     "text": [
      "<class 'range'>\n"
     ]
    }
   ],
   "source": [
    "# range(...)是range对象\n",
    "print(type(range(100)))"
   ]
  },
  {
   "cell_type": "code",
   "execution_count": 99,
   "metadata": {},
   "outputs": [
    {
     "name": "stdout",
     "output_type": "stream",
     "text": [
      "True\n",
      "False\n"
     ]
    }
   ],
   "source": [
    "# range对象是iterative对象\n",
    "# iterative对象(定义为)具有iter方法，没有next方法\n",
    "print('__iter__' in dir(range))\n",
    "print('__next__' in dir(range))"
   ]
  },
  {
   "cell_type": "code",
   "execution_count": 100,
   "metadata": {},
   "outputs": [
    {
     "name": "stdout",
     "output_type": "stream",
     "text": [
      "0 1 2 3 4 5 6 7 8 9 "
     ]
    }
   ],
   "source": [
    "# iterative对象可以用于for循环\n",
    "for i in range(10):\n",
    "    print(i,end=' ')"
   ]
  },
  {
   "cell_type": "code",
   "execution_count": 101,
   "metadata": {},
   "outputs": [
    {
     "name": "stdout",
     "output_type": "stream",
     "text": [
      "<class 'range_iterator'>\n"
     ]
    }
   ],
   "source": [
    "# iter(range(...))对象是一个range_iterator对象\n",
    "print(type(iter(range(100))))"
   ]
  },
  {
   "cell_type": "code",
   "execution_count": 102,
   "metadata": {},
   "outputs": [
    {
     "name": "stdout",
     "output_type": "stream",
     "text": [
      "True\n",
      "True\n"
     ]
    }
   ],
   "source": [
    "# range_iterator对象是iterator对象\n",
    "# iterator对象(定义为)具有iter方法和next方法\n",
    "print('__iter__' in dir(type(iter(range(100)))))\n",
    "print('__next__' in dir(type(iter(range(100)))))"
   ]
  },
  {
   "cell_type": "code",
   "execution_count": 103,
   "metadata": {},
   "outputs": [
    {
     "name": "stdout",
     "output_type": "stream",
     "text": [
      "<class 'range_iterator'>\n",
      "True\n"
     ]
    }
   ],
   "source": [
    "# iter(range_iterator)依然是range_iterator\n",
    "# 实际上是同一对象\n",
    "a=iter(range(10))\n",
    "print(type(iter(a)))\n",
    "print(a==iter(a))"
   ]
  },
  {
   "cell_type": "code",
   "execution_count": 104,
   "metadata": {},
   "outputs": [
    {
     "name": "stdout",
     "output_type": "stream",
     "text": [
      "0 1 2 3 4 5 6 7 8 9 "
     ]
    }
   ],
   "source": [
    "# iterator对象可以用于for循环\n",
    "for i in iter(range(10)):\n",
    "    print(i, end=' ')    \n"
   ]
  },
  {
   "cell_type": "code",
   "execution_count": 105,
   "metadata": {},
   "outputs": [
    {
     "name": "stdout",
     "output_type": "stream",
     "text": [
      "<class 'generator'>\n",
      "<class 'generator'>\n"
     ]
    }
   ],
   "source": [
    "# yield定义generator\n",
    "def gen():\n",
    "    for i in range(10):\n",
    "        yield i\n",
    "# 别表表达式定义定义generator\n",
    "a=(i for i in range(10))\n",
    "print(type(gen()))\n",
    "print(type(a))\n"
   ]
  },
  {
   "cell_type": "code",
   "execution_count": 106,
   "metadata": {},
   "outputs": [
    {
     "name": "stdout",
     "output_type": "stream",
     "text": [
      "True\n",
      "True\n"
     ]
    }
   ],
   "source": [
    "# generator是iterator\n",
    "print('__iter__' in dir(type(gen())))\n",
    "print('__next__' in dir(type(gen())))"
   ]
  },
  {
   "cell_type": "code",
   "execution_count": 107,
   "metadata": {},
   "outputs": [
    {
     "name": "stdout",
     "output_type": "stream",
     "text": [
      "0 1 2 3 4 5 6 7 8 9 "
     ]
    }
   ],
   "source": [
    "# generator(是iterator,所以)可以用于循环\n",
    "for i in gen():\n",
    "    print(i, end=' ')\n"
   ]
  }
 ],
 "metadata": {
  "kernelspec": {
   "display_name": "Python 3",
   "language": "python",
   "name": "python3"
  },
  "language_info": {
   "codemirror_mode": {
    "name": "ipython",
    "version": 3
   },
   "file_extension": ".py",
   "mimetype": "text/x-python",
   "name": "python",
   "nbconvert_exporter": "python",
   "pygments_lexer": "ipython3",
   "version": "3.6.7"
  }
 },
 "nbformat": 4,
 "nbformat_minor": 2
}
