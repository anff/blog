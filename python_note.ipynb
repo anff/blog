{
 "cells": [
  {
   "cell_type": "markdown",
   "metadata": {
    "toc": true
   },
   "source": [
    "<h1>Table of Contents<span class=\"tocSkip\"></span></h1>\n",
    "<div class=\"toc\"><ul class=\"toc-item\"><li><span><a href=\"#Python-Note\" data-toc-modified-id=\"Python-Note-1\"><span class=\"toc-item-num\">1&nbsp;&nbsp;</span>Python Note</a></span></li><li><span><a href=\"#Slice\" data-toc-modified-id=\"Slice-2\"><span class=\"toc-item-num\">2&nbsp;&nbsp;</span>Slice</a></span><ul class=\"toc-item\"><li><span><a href=\"#define-a-slice-with-[start:end:step]\" data-toc-modified-id=\"define-a-slice-with-[start:end:step]-2.1\"><span class=\"toc-item-num\">2.1&nbsp;&nbsp;</span>define a slice with [start:end:step]</a></span></li><li><span><a href=\"#define-a-slice-with-slice()\" data-toc-modified-id=\"define-a-slice-with-slice()-2.2\"><span class=\"toc-item-num\">2.2&nbsp;&nbsp;</span>define a slice with slice()</a></span></li></ul></li><li><span><a href=\"#1.-Indexing\" data-toc-modified-id=\"1.-Indexing-3\"><span class=\"toc-item-num\">3&nbsp;&nbsp;</span>1. Indexing</a></span><ul class=\"toc-item\"><li><span><a href=\"#自定义index\" data-toc-modified-id=\"自定义index-3.1\"><span class=\"toc-item-num\">3.1&nbsp;&nbsp;</span>自定义index</a></span></li><li><span><a href=\"#Index-with-dict\" data-toc-modified-id=\"Index-with-dict-3.2\"><span class=\"toc-item-num\">3.2&nbsp;&nbsp;</span>Index with dict</a></span></li></ul></li><li><span><a href=\"#id\" data-toc-modified-id=\"id-4\"><span class=\"toc-item-num\">4&nbsp;&nbsp;</span><code>id</code></a></span><ul class=\"toc-item\"><li><span><a href=\"#True-is-always-True,-False-is-always-False\" data-toc-modified-id=\"True-is-always-True,-False-is-always-False-4.1\"><span class=\"toc-item-num\">4.1&nbsp;&nbsp;</span>True is always True, False is always False</a></span></li><li><span><a href=\"#'==-True'-is-not-equal-to-'is-True'\" data-toc-modified-id=\"'==-True'-is-not-equal-to-'is-True'-4.2\"><span class=\"toc-item-num\">4.2&nbsp;&nbsp;</span><code>'== True'</code> is not equal to <code>'is True'</code></a></span></li><li><span><a href=\"#Often,-'a'-is-'a'\" data-toc-modified-id=\"Often,-'a'-is-'a'-4.3\"><span class=\"toc-item-num\">4.3&nbsp;&nbsp;</span>Often, <code>'a' is 'a'</code></a></span></li></ul></li><li><span><a href=\"#None\" data-toc-modified-id=\"None-5\"><span class=\"toc-item-num\">5&nbsp;&nbsp;</span><code>None</code></a></span><ul class=\"toc-item\"><li><span><a href=\"#None-is-not-anything-but-None\" data-toc-modified-id=\"None-is-not-anything-but-None-5.1\"><span class=\"toc-item-num\">5.1&nbsp;&nbsp;</span>None is not anything but None</a></span></li><li><span><a href=\"#None-isn't-equal-to-anything-but-None\" data-toc-modified-id=\"None-isn't-equal-to-anything-but-None-5.2\"><span class=\"toc-item-num\">5.2&nbsp;&nbsp;</span>None isn't equal to anything but None</a></span></li><li><span><a href=\"#People-prefer-using-is-None\" data-toc-modified-id=\"People-prefer-using-is-None-5.3\"><span class=\"toc-item-num\">5.3&nbsp;&nbsp;</span>People prefer using <code>is None</code></a></span></li></ul></li><li><span><a href=\"#Range\" data-toc-modified-id=\"Range-6\"><span class=\"toc-item-num\">6&nbsp;&nbsp;</span>Range</a></span><ul class=\"toc-item\"><li><span><a href=\"#range(...)是range对象\" data-toc-modified-id=\"range(...)是range对象-6.1\"><span class=\"toc-item-num\">6.1&nbsp;&nbsp;</span>range(...)是range对象</a></span></li><li><span><a href=\"#range对象是iterative对象\" data-toc-modified-id=\"range对象是iterative对象-6.2\"><span class=\"toc-item-num\">6.2&nbsp;&nbsp;</span>range对象是iterative对象</a></span></li><li><span><a href=\"#iterative对象可以用于for循环\" data-toc-modified-id=\"iterative对象可以用于for循环-6.3\"><span class=\"toc-item-num\">6.3&nbsp;&nbsp;</span>iterative对象可以用于for循环</a></span></li><li><span><a href=\"#iter(range(...))对象是一个range_iterator对象\" data-toc-modified-id=\"iter(range(...))对象是一个range_iterator对象-6.4\"><span class=\"toc-item-num\">6.4&nbsp;&nbsp;</span>iter(range(...))对象是一个range_iterator对象</a></span></li><li><span><a href=\"#range_iterator对象是iterator对象\" data-toc-modified-id=\"range_iterator对象是iterator对象-6.5\"><span class=\"toc-item-num\">6.5&nbsp;&nbsp;</span>range_iterator对象是iterator对象</a></span></li><li><span><a href=\"#iter(range_iterator)依然是range_iterator\" data-toc-modified-id=\"iter(range_iterator)依然是range_iterator-6.6\"><span class=\"toc-item-num\">6.6&nbsp;&nbsp;</span>iter(range_iterator)依然是range_iterator</a></span></li><li><span><a href=\"#iterator对象可以用于for循环\" data-toc-modified-id=\"iterator对象可以用于for循环-6.7\"><span class=\"toc-item-num\">6.7&nbsp;&nbsp;</span>iterator对象可以用于for循环</a></span></li></ul></li><li><span><a href=\"#Generator\" data-toc-modified-id=\"Generator-7\"><span class=\"toc-item-num\">7&nbsp;&nbsp;</span>Generator</a></span><ul class=\"toc-item\"><li><span><a href=\"#yield定义generator\" data-toc-modified-id=\"yield定义generator-7.1\"><span class=\"toc-item-num\">7.1&nbsp;&nbsp;</span>yield定义generator</a></span></li><li><span><a href=\"#()定义generator\" data-toc-modified-id=\"()定义generator-7.2\"><span class=\"toc-item-num\">7.2&nbsp;&nbsp;</span>()定义generator</a></span></li><li><span><a href=\"#generator是iterator\" data-toc-modified-id=\"generator是iterator-7.3\"><span class=\"toc-item-num\">7.3&nbsp;&nbsp;</span>generator是iterator</a></span></li><li><span><a href=\"#generator可以用于循环\" data-toc-modified-id=\"generator可以用于循环-7.4\"><span class=\"toc-item-num\">7.4&nbsp;&nbsp;</span>generator可以用于循环</a></span></li></ul></li></ul></div>"
   ]
  },
  {
   "cell_type": "markdown",
   "metadata": {},
   "source": [
    "# Python Note\n"
   ]
  },
  {
   "cell_type": "markdown",
   "metadata": {},
   "source": [
    "These are notes when I learned Python."
   ]
  },
  {
   "cell_type": "markdown",
   "metadata": {},
   "source": [
    "# Slice"
   ]
  },
  {
   "cell_type": "markdown",
   "metadata": {},
   "source": [
    "\n",
    "## define a slice with [start:end:step]\n"
   ]
  },
  {
   "cell_type": "code",
   "execution_count": 23,
   "metadata": {},
   "outputs": [
    {
     "name": "stdout",
     "output_type": "stream",
     "text": [
      "[0, 1]\n"
     ]
    }
   ],
   "source": [
    "a=[i for i in range(10)]\n",
    "print(a[0:2:1])"
   ]
  },
  {
   "cell_type": "markdown",
   "metadata": {},
   "source": [
    "## define a slice with slice()"
   ]
  },
  {
   "cell_type": "code",
   "execution_count": 24,
   "metadata": {},
   "outputs": [
    {
     "name": "stdout",
     "output_type": "stream",
     "text": [
      "[0, 1]\n"
     ]
    }
   ],
   "source": [
    "a=[i for i in range(10)]\n",
    "s=slice(0,2,1)\n",
    "print(a[s])"
   ]
  },
  {
   "cell_type": "markdown",
   "metadata": {},
   "source": [
    "# 1. Indexing"
   ]
  },
  {
   "cell_type": "markdown",
   "metadata": {},
   "source": [
    "## 自定义index"
   ]
  },
  {
   "cell_type": "code",
   "execution_count": 2,
   "metadata": {},
   "outputs": [
    {
     "name": "stdout",
     "output_type": "stream",
     "text": [
      "getitem with: <class 'str'> something\n",
      "setitem with: <class 'str'> something <class 'str'> something\n",
      "getitem with: <class 'slice'> slice(0, 2, None)\n",
      "setitem with: <class 'slice'> slice(0, 2, None) <class 'int'> 1\n"
     ]
    }
   ],
   "source": [
    "class A():     \n",
    "        \n",
    "    def __getitem__(self, s):\n",
    "        print(\"getitem with:\", type(s),s)\n",
    "        \n",
    "    def __setitem__(self, s, v):\n",
    "        print(\"setitem with:\", type(s), s, type(v), v)\n",
    "    \n",
    "a=A()\n",
    "\n",
    "# getitem and setitem are different\n",
    "a['something']\n",
    "a['something']='something'\n",
    "\n",
    "# slice often used with indexing\n",
    "a[0:2]    # getting\n",
    "a[0:2]=1  # setting\n",
    "\n"
   ]
  },
  {
   "cell_type": "markdown",
   "metadata": {},
   "source": [
    "## Index with dict"
   ]
  },
  {
   "cell_type": "code",
   "execution_count": 3,
   "metadata": {},
   "outputs": [
    {
     "name": "stdout",
     "output_type": "stream",
     "text": [
      "1\n",
      "<class 'KeyError'> '3'\n",
      "One\n",
      "Three\n"
     ]
    }
   ],
   "source": [
    "a={'1':1, '2':2}\n",
    "\n",
    "# getitem, key存在\n",
    "print(a['1'])\n",
    "\n",
    "# getitem, key不存在\n",
    "try:\n",
    "    a['3']\n",
    "except KeyError as err:\n",
    "    print(type(err), err)\n",
    "# work like c++ std::map\n",
    "    \n",
    "# setitem, key存在\n",
    "a['1']='One'\n",
    "print(a['1'])\n",
    "    \n",
    "# setitem, key不存在\n",
    "a['3']='Three'\n",
    "print(a['3'])\n",
    "    "
   ]
  },
  {
   "cell_type": "markdown",
   "metadata": {},
   "source": [
    "# `id`"
   ]
  },
  {
   "cell_type": "markdown",
   "metadata": {},
   "source": [
    "## True is always True, False is always False"
   ]
  },
  {
   "cell_type": "code",
   "execution_count": 4,
   "metadata": {},
   "outputs": [
    {
     "name": "stdout",
     "output_type": "stream",
     "text": [
      "True\n",
      "True\n",
      "1940638128 1940638128\n",
      "1940638160 1940638160\n"
     ]
    }
   ],
   "source": [
    "print((0==0) is (1==1))\n",
    "print((0!=1) is (1!=0))\n",
    "print(id(True), id(0==0))\n",
    "print(id(False), id(0!=0))"
   ]
  },
  {
   "cell_type": "markdown",
   "metadata": {},
   "source": [
    "## `'== True'` is not equal to `'is True'`"
   ]
  },
  {
   "cell_type": "code",
   "execution_count": 5,
   "metadata": {},
   "outputs": [
    {
     "name": "stdout",
     "output_type": "stream",
     "text": [
      "True\n",
      "False\n",
      "True\n"
     ]
    }
   ],
   "source": [
    "print(1 == True)\n",
    "print(1 is True)\n",
    "print(bool(1) is True)"
   ]
  },
  {
   "cell_type": "markdown",
   "metadata": {},
   "source": [
    "## Often, `'a' is 'a'`"
   ]
  },
  {
   "cell_type": "code",
   "execution_count": 6,
   "metadata": {},
   "outputs": [
    {
     "name": "stdout",
     "output_type": "stream",
     "text": [
      "34602824\n",
      "a\n",
      "34602824\n"
     ]
    }
   ],
   "source": [
    "print(id('a'))\n",
    "print('ab'[0:1])\n",
    "print(id('ab'[0:1]))\n"
   ]
  },
  {
   "cell_type": "markdown",
   "metadata": {},
   "source": [
    "# `None`"
   ]
  },
  {
   "cell_type": "markdown",
   "metadata": {},
   "source": [
    "## None is not anything but None"
   ]
  },
  {
   "cell_type": "code",
   "execution_count": 7,
   "metadata": {},
   "outputs": [
    {
     "name": "stdout",
     "output_type": "stream",
     "text": [
      "True\n",
      "False\n",
      "False\n",
      "False\n"
     ]
    }
   ],
   "source": [
    "print(None is None)\n",
    "print(None is False)\n",
    "print(None is 0)\n",
    "print(None is '')\n"
   ]
  },
  {
   "cell_type": "markdown",
   "metadata": {},
   "source": [
    "## None isn't equal to anything but None"
   ]
  },
  {
   "cell_type": "code",
   "execution_count": 8,
   "metadata": {},
   "outputs": [
    {
     "name": "stdout",
     "output_type": "stream",
     "text": [
      "True\n",
      "False\n",
      "False\n",
      "False\n"
     ]
    }
   ],
   "source": [
    "print(None == None)\n",
    "print(None == False)\n",
    "print(None == 0)\n",
    "print(None == '')\n"
   ]
  },
  {
   "cell_type": "markdown",
   "metadata": {},
   "source": [
    "## People prefer using `is None`"
   ]
  },
  {
   "cell_type": "code",
   "execution_count": 9,
   "metadata": {},
   "outputs": [],
   "source": [
    "a='a'\n",
    "# OK\n",
    "if a is None:\n",
    "    pass\n",
    "    \n",
    "# BAD\n",
    "if a == None:\n",
    "    pass\n"
   ]
  },
  {
   "cell_type": "markdown",
   "metadata": {},
   "source": [
    "# Range"
   ]
  },
  {
   "cell_type": "markdown",
   "metadata": {},
   "source": [
    "## range(...)是range对象"
   ]
  },
  {
   "cell_type": "code",
   "execution_count": 10,
   "metadata": {},
   "outputs": [
    {
     "name": "stdout",
     "output_type": "stream",
     "text": [
      "<class 'range'>\n"
     ]
    }
   ],
   "source": [
    "print(type(range(100)))"
   ]
  },
  {
   "cell_type": "markdown",
   "metadata": {},
   "source": [
    "## range对象是iterative对象\n",
    "iterative对象(定义为)具有iter方法，没有next方法"
   ]
  },
  {
   "cell_type": "code",
   "execution_count": 11,
   "metadata": {},
   "outputs": [
    {
     "name": "stdout",
     "output_type": "stream",
     "text": [
      "True\n",
      "False\n"
     ]
    }
   ],
   "source": [
    "print('__iter__' in dir(range))\n",
    "print('__next__' in dir(range))"
   ]
  },
  {
   "cell_type": "markdown",
   "metadata": {},
   "source": [
    "## iterative对象可以用于for循环"
   ]
  },
  {
   "cell_type": "code",
   "execution_count": 12,
   "metadata": {},
   "outputs": [
    {
     "name": "stdout",
     "output_type": "stream",
     "text": [
      "0 1 2 3 4 5 6 7 8 9 "
     ]
    }
   ],
   "source": [
    "for i in range(10):\n",
    "    print(i,end=' ')"
   ]
  },
  {
   "cell_type": "markdown",
   "metadata": {},
   "source": [
    "## iter(range(...))对象是一个range_iterator对象"
   ]
  },
  {
   "cell_type": "code",
   "execution_count": 13,
   "metadata": {},
   "outputs": [
    {
     "name": "stdout",
     "output_type": "stream",
     "text": [
      "<class 'range_iterator'>\n"
     ]
    }
   ],
   "source": [
    "print(type(iter(range(100))))"
   ]
  },
  {
   "cell_type": "markdown",
   "metadata": {},
   "source": [
    "## range_iterator对象是iterator对象\n",
    "iterator对象(定义为)具有iter方法和next方法"
   ]
  },
  {
   "cell_type": "code",
   "execution_count": 14,
   "metadata": {},
   "outputs": [
    {
     "name": "stdout",
     "output_type": "stream",
     "text": [
      "True\n",
      "True\n"
     ]
    }
   ],
   "source": [
    "print('__iter__' in dir(type(iter(range(100)))))\n",
    "print('__next__' in dir(type(iter(range(100)))))"
   ]
  },
  {
   "cell_type": "markdown",
   "metadata": {},
   "source": [
    "## iter(range_iterator)依然是range_iterator\n",
    "实际上是同一对象"
   ]
  },
  {
   "cell_type": "code",
   "execution_count": 15,
   "metadata": {},
   "outputs": [
    {
     "name": "stdout",
     "output_type": "stream",
     "text": [
      "<class 'range_iterator'>\n",
      "True\n"
     ]
    }
   ],
   "source": [
    "a=iter(range(10))\n",
    "print(type(iter(a)))\n",
    "print(a==iter(a))"
   ]
  },
  {
   "cell_type": "markdown",
   "metadata": {},
   "source": [
    "## iterator对象可以用于for循环\n"
   ]
  },
  {
   "cell_type": "code",
   "execution_count": 16,
   "metadata": {},
   "outputs": [
    {
     "name": "stdout",
     "output_type": "stream",
     "text": [
      "0 1 2 3 4 5 6 7 8 9 "
     ]
    }
   ],
   "source": [
    "for i in iter(range(10)):\n",
    "    print(i, end=' ')    \n"
   ]
  },
  {
   "cell_type": "markdown",
   "metadata": {},
   "source": [
    "# Generator"
   ]
  },
  {
   "cell_type": "markdown",
   "metadata": {},
   "source": [
    "## yield定义generator"
   ]
  },
  {
   "cell_type": "code",
   "execution_count": 17,
   "metadata": {},
   "outputs": [
    {
     "name": "stdout",
     "output_type": "stream",
     "text": [
      "<class 'generator'>\n"
     ]
    }
   ],
   "source": [
    "def gen():\n",
    "    for i in range(10):\n",
    "        yield i\n",
    "print(type(gen()))\n"
   ]
  },
  {
   "cell_type": "markdown",
   "metadata": {},
   "source": [
    "## ()定义generator"
   ]
  },
  {
   "cell_type": "code",
   "execution_count": 18,
   "metadata": {},
   "outputs": [
    {
     "name": "stdout",
     "output_type": "stream",
     "text": [
      "<class 'generator'>\n"
     ]
    }
   ],
   "source": [
    "a=(i for i in range(10))\n",
    "print(type(a))\n"
   ]
  },
  {
   "cell_type": "markdown",
   "metadata": {},
   "source": [
    "## generator是iterator"
   ]
  },
  {
   "cell_type": "code",
   "execution_count": 19,
   "metadata": {},
   "outputs": [
    {
     "name": "stdout",
     "output_type": "stream",
     "text": [
      "True\n",
      "True\n"
     ]
    }
   ],
   "source": [
    "a=(i for i in range(10))\n",
    "print('__iter__' in dir(type(a)))\n",
    "print('__next__' in dir(type(a)))"
   ]
  },
  {
   "cell_type": "markdown",
   "metadata": {},
   "source": [
    "## generator可以用于循环"
   ]
  },
  {
   "cell_type": "code",
   "execution_count": 20,
   "metadata": {},
   "outputs": [
    {
     "name": "stdout",
     "output_type": "stream",
     "text": [
      "0 1 2 3 4 5 6 7 8 9 "
     ]
    }
   ],
   "source": [
    "a=(i for i in range(10))\n",
    "for i in a:\n",
    "    print(i, end=' ')"
   ]
  },
  {
   "cell_type": "code",
   "execution_count": null,
   "metadata": {},
   "outputs": [],
   "source": []
  }
 ],
 "metadata": {
  "kernelspec": {
   "display_name": "Python 3",
   "language": "python",
   "name": "python3"
  },
  "language_info": {
   "codemirror_mode": {
    "name": "ipython",
    "version": 3
   },
   "file_extension": ".py",
   "mimetype": "text/x-python",
   "name": "python",
   "nbconvert_exporter": "python",
   "pygments_lexer": "ipython3",
   "version": "3.6.7"
  },
  "toc": {
   "base_numbering": 1,
   "nav_menu": {},
   "number_sections": true,
   "sideBar": true,
   "skip_h1_title": false,
   "title_cell": "Table of Contents",
   "title_sidebar": "Contents",
   "toc_cell": true,
   "toc_position": {},
   "toc_section_display": true,
   "toc_window_display": true
  }
 },
 "nbformat": 4,
 "nbformat_minor": 2
}
