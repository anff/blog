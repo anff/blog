{
 "cells": [
  {
   "cell_type": "markdown",
   "metadata": {
    "toc": true
   },
   "source": [
    "<h1>Table of Contents<span class=\"tocSkip\"></span></h1>\n",
    "<div class=\"toc\"><ul class=\"toc-item\"><li><span><a href=\"#Python-Note\" data-toc-modified-id=\"Python-Note-1\"><span class=\"toc-item-num\">1&nbsp;&nbsp;</span>Python Note</a></span></li><li><span><a href=\"#List\" data-toc-modified-id=\"List-2\"><span class=\"toc-item-num\">2&nbsp;&nbsp;</span>List</a></span><ul class=\"toc-item\"><li><span><a href=\"#构造list\" data-toc-modified-id=\"构造list-2.1\"><span class=\"toc-item-num\">2.1&nbsp;&nbsp;</span>构造list</a></span></li><li><span><a href=\"#添加元素\" data-toc-modified-id=\"添加元素-2.2\"><span class=\"toc-item-num\">2.2&nbsp;&nbsp;</span>添加元素</a></span></li><li><span><a href=\"#删除元素\" data-toc-modified-id=\"删除元素-2.3\"><span class=\"toc-item-num\">2.3&nbsp;&nbsp;</span>删除元素</a></span></li><li><span><a href=\"#list-切片\" data-toc-modified-id=\"list-切片-2.4\"><span class=\"toc-item-num\">2.4&nbsp;&nbsp;</span>list 切片</a></span><ul class=\"toc-item\"><li><span><a href=\"#list的__getitem__是浅复制\" data-toc-modified-id=\"list的__getitem__是浅复制-2.4.1\"><span class=\"toc-item-num\">2.4.1&nbsp;&nbsp;</span>list的<code>__getitem__</code>是浅复制</a></span></li><li><span><a href=\"#list的__setitem__和__getitem__不同\" data-toc-modified-id=\"list的__setitem__和__getitem__不同-2.4.2\"><span class=\"toc-item-num\">2.4.2&nbsp;&nbsp;</span>list的<code>__setitem__</code>和<code>__getitem__</code>不同</a></span></li></ul></li></ul></li><li><span><a href=\"#Slice\" data-toc-modified-id=\"Slice-3\"><span class=\"toc-item-num\">3&nbsp;&nbsp;</span>Slice</a></span><ul class=\"toc-item\"><li><span><a href=\"#define-a-slice-with-[start:end:step]\" data-toc-modified-id=\"define-a-slice-with-[start:end:step]-3.1\"><span class=\"toc-item-num\">3.1&nbsp;&nbsp;</span>define a slice with [start:end:step]</a></span></li><li><span><a href=\"#define-a-slice-with-slice()\" data-toc-modified-id=\"define-a-slice-with-slice()-3.2\"><span class=\"toc-item-num\">3.2&nbsp;&nbsp;</span>define a slice with slice()</a></span></li></ul></li><li><span><a href=\"#Indexing\" data-toc-modified-id=\"Indexing-4\"><span class=\"toc-item-num\">4&nbsp;&nbsp;</span>Indexing</a></span><ul class=\"toc-item\"><li><span><a href=\"#自定义index\" data-toc-modified-id=\"自定义index-4.1\"><span class=\"toc-item-num\">4.1&nbsp;&nbsp;</span>自定义index</a></span></li><li><span><a href=\"#Index-with-dict\" data-toc-modified-id=\"Index-with-dict-4.2\"><span class=\"toc-item-num\">4.2&nbsp;&nbsp;</span>Index with dict</a></span></li></ul></li><li><span><a href=\"#id\" data-toc-modified-id=\"id-5\"><span class=\"toc-item-num\">5&nbsp;&nbsp;</span><code>id</code></a></span><ul class=\"toc-item\"><li><span><a href=\"#id-of-empty-object\" data-toc-modified-id=\"id-of-empty-object-5.1\"><span class=\"toc-item-num\">5.1&nbsp;&nbsp;</span><code>id</code> of empty object</a></span><ul class=\"toc-item\"><li><span><a href=\"#id([])-==-id([])\" data-toc-modified-id=\"id([])-==-id([])-5.1.1\"><span class=\"toc-item-num\">5.1.1&nbsp;&nbsp;</span><code>id([]) == id([])</code></a></span></li></ul></li><li><span><a href=\"#True-is-always-True,-False-is-always-False\" data-toc-modified-id=\"True-is-always-True,-False-is-always-False-5.2\"><span class=\"toc-item-num\">5.2&nbsp;&nbsp;</span><code>True</code> is always <code>True</code>, <code>False</code> is always <code>False</code></a></span></li><li><span><a href=\"#'==-True'-is-not-equal-to-'is-True'\" data-toc-modified-id=\"'==-True'-is-not-equal-to-'is-True'-5.3\"><span class=\"toc-item-num\">5.3&nbsp;&nbsp;</span><code>'== True'</code> is not equal to <code>'is True'</code></a></span></li><li><span><a href=\"#Often,-'a'-is-'a'\" data-toc-modified-id=\"Often,-'a'-is-'a'-5.4\"><span class=\"toc-item-num\">5.4&nbsp;&nbsp;</span>Often, <code>'a' is 'a'</code></a></span></li></ul></li><li><span><a href=\"#None\" data-toc-modified-id=\"None-6\"><span class=\"toc-item-num\">6&nbsp;&nbsp;</span><code>None</code></a></span><ul class=\"toc-item\"><li><span><a href=\"#None-is-not-anything-but-None\" data-toc-modified-id=\"None-is-not-anything-but-None-6.1\"><span class=\"toc-item-num\">6.1&nbsp;&nbsp;</span>None is not anything but None</a></span></li><li><span><a href=\"#None-isn't-equal-to-anything-but-None\" data-toc-modified-id=\"None-isn't-equal-to-anything-but-None-6.2\"><span class=\"toc-item-num\">6.2&nbsp;&nbsp;</span>None isn't equal to anything but None</a></span></li><li><span><a href=\"#People-prefer-using-is-None\" data-toc-modified-id=\"People-prefer-using-is-None-6.3\"><span class=\"toc-item-num\">6.3&nbsp;&nbsp;</span>People prefer using <code>is None</code></a></span></li></ul></li><li><span><a href=\"#Range\" data-toc-modified-id=\"Range-7\"><span class=\"toc-item-num\">7&nbsp;&nbsp;</span>Range</a></span><ul class=\"toc-item\"><li><span><a href=\"#range(...)是range对象\" data-toc-modified-id=\"range(...)是range对象-7.1\"><span class=\"toc-item-num\">7.1&nbsp;&nbsp;</span>range(...)是range对象</a></span></li><li><span><a href=\"#range对象是iterative对象\" data-toc-modified-id=\"range对象是iterative对象-7.2\"><span class=\"toc-item-num\">7.2&nbsp;&nbsp;</span>range对象是iterative对象</a></span></li><li><span><a href=\"#iterative对象可以用于for循环\" data-toc-modified-id=\"iterative对象可以用于for循环-7.3\"><span class=\"toc-item-num\">7.3&nbsp;&nbsp;</span>iterative对象可以用于for循环</a></span></li><li><span><a href=\"#iter(range(...))对象是一个range_iterator对象\" data-toc-modified-id=\"iter(range(...))对象是一个range_iterator对象-7.4\"><span class=\"toc-item-num\">7.4&nbsp;&nbsp;</span>iter(range(...))对象是一个range_iterator对象</a></span></li><li><span><a href=\"#range_iterator对象是iterator对象\" data-toc-modified-id=\"range_iterator对象是iterator对象-7.5\"><span class=\"toc-item-num\">7.5&nbsp;&nbsp;</span>range_iterator对象是iterator对象</a></span></li><li><span><a href=\"#iter(range_iterator)依然是range_iterator\" data-toc-modified-id=\"iter(range_iterator)依然是range_iterator-7.6\"><span class=\"toc-item-num\">7.6&nbsp;&nbsp;</span>iter(range_iterator)依然是range_iterator</a></span></li><li><span><a href=\"#iterator对象可以用于for循环\" data-toc-modified-id=\"iterator对象可以用于for循环-7.7\"><span class=\"toc-item-num\">7.7&nbsp;&nbsp;</span>iterator对象可以用于for循环</a></span></li></ul></li><li><span><a href=\"#Generator\" data-toc-modified-id=\"Generator-8\"><span class=\"toc-item-num\">8&nbsp;&nbsp;</span>Generator</a></span><ul class=\"toc-item\"><li><span><a href=\"#yield定义generator\" data-toc-modified-id=\"yield定义generator-8.1\"><span class=\"toc-item-num\">8.1&nbsp;&nbsp;</span>yield定义generator</a></span></li><li><span><a href=\"#()定义generator\" data-toc-modified-id=\"()定义generator-8.2\"><span class=\"toc-item-num\">8.2&nbsp;&nbsp;</span>()定义generator</a></span></li><li><span><a href=\"#generator是iterator\" data-toc-modified-id=\"generator是iterator-8.3\"><span class=\"toc-item-num\">8.3&nbsp;&nbsp;</span>generator是iterator</a></span></li><li><span><a href=\"#generator可以用于循环\" data-toc-modified-id=\"generator可以用于循环-8.4\"><span class=\"toc-item-num\">8.4&nbsp;&nbsp;</span>generator可以用于循环</a></span></li></ul></li><li><span><a href=\"#del\" data-toc-modified-id=\"del-9\"><span class=\"toc-item-num\">9&nbsp;&nbsp;</span><code>del</code></a></span><ul class=\"toc-item\"><li><span><a href=\"#del-remove-variable-from-local-variables-list\" data-toc-modified-id=\"del-remove-variable-from-local-variables-list-9.1\"><span class=\"toc-item-num\">9.1&nbsp;&nbsp;</span><code>del</code> remove variable from local variables list</a></span></li><li><span><a href=\"#used=None和del-used不同\" data-toc-modified-id=\"used=None和del-used不同-9.2\"><span class=\"toc-item-num\">9.2&nbsp;&nbsp;</span><code>used=None</code>和<code>del used</code>不同</a></span></li></ul></li></ul></div>"
   ]
  },
  {
   "cell_type": "markdown",
   "metadata": {},
   "source": [
    "# Python Note\n"
   ]
  },
  {
   "cell_type": "markdown",
   "metadata": {},
   "source": [
    "前提是你已经会Python了，这篇note只是提一些重要的点。"
   ]
  },
  {
   "cell_type": "markdown",
   "metadata": {},
   "source": [
    "# List"
   ]
  },
  {
   "cell_type": "markdown",
   "metadata": {},
   "source": [
    "## 构造list "
   ]
  },
  {
   "cell_type": "code",
   "execution_count": 1,
   "metadata": {},
   "outputs": [
    {
     "name": "stdout",
     "output_type": "stream",
     "text": [
      "[]\n",
      "note [] is not []: True\n",
      "but [] equals []: True\n",
      "[]\n",
      "[0, '1', 2]\n",
      "[0, 1, 2]\n"
     ]
    }
   ],
   "source": [
    "print([])\n",
    "print(\"note [] is not []:\", [] is not [])\n",
    "print(\"but [] equals []:\", [] == [])\n",
    "print(list())\n",
    "print([0,'1',2])\n",
    "print([i for i in range(3)])\n",
    "\n"
   ]
  },
  {
   "cell_type": "markdown",
   "metadata": {},
   "source": [
    "## 添加元素\n",
    "append, extend, insert,+\n"
   ]
  },
  {
   "cell_type": "code",
   "execution_count": 2,
   "metadata": {},
   "outputs": [
    {
     "name": "stdout",
     "output_type": "stream",
     "text": [
      "[1]\n",
      "[1, [2, 3]]\n",
      "[1, [2, 3], 4, 5]\n",
      "['first', 1, [2, 3], 4, 5]\n",
      "['first', 1, [2, 3], 4, 5, 6, 7]\n",
      "['first', 1, [2, 3], 4, 5, 6, 7]\n"
     ]
    }
   ],
   "source": [
    "a=[]\n",
    "\n",
    "# appending single element\n",
    "a.append(1)\n",
    "print(a)\n",
    "\n",
    "# appending a list as a element\n",
    "a.append([2,3])\n",
    "print(a)\n",
    "\n",
    "# appending elements of a list\n",
    "a.extend([4,5])\n",
    "print(a)\n",
    "\n",
    "# insert a element at a position\n",
    "a.insert(0, 'first')\n",
    "print(a)\n",
    "\n",
    "# copy and append elements of a list\n",
    "b=a+[6,7]\n",
    "print(b)\n",
    "a[0]='second'\n",
    "print(b)"
   ]
  },
  {
   "cell_type": "markdown",
   "metadata": {},
   "source": [
    "## 删除元素\n",
    "pop, remove, del\n"
   ]
  },
  {
   "cell_type": "code",
   "execution_count": 3,
   "metadata": {},
   "outputs": [
    {
     "name": "stdout",
     "output_type": "stream",
     "text": [
      "[0, 1, 2, 3, 4]\n",
      "[0, 1, 2, 4]\n",
      "[0, 1, 2]\n",
      "[0, 1]\n",
      "[0]\n",
      "[]\n"
     ]
    }
   ],
   "source": [
    "a=[i for i in range(5)]\n",
    "print(a)\n",
    "\n",
    "# remove first occurrence of *VALUE*\n",
    "# Raises ValueError if the value is not present.\n",
    "a.remove(3)\n",
    "print(a)\n",
    "\n",
    "# remove and return item at index (default last).\n",
    "a.pop()\n",
    "print(a)\n",
    "a.pop(2) # 2 is the *INDEX*\n",
    "print(a)\n",
    "\n",
    "# remove item at *INDEX*\n",
    "del a[1]\n",
    "# del a[0:3] delete a range is also OK\n",
    "print(a)\n",
    "\n",
    "# remove all items from list\n",
    "a.clear()\n",
    "print(a)\n"
   ]
  },
  {
   "cell_type": "markdown",
   "metadata": {},
   "source": [
    " ## list 切片\n",
    " "
   ]
  },
  {
   "cell_type": "markdown",
   "metadata": {},
   "source": [
    "### list的`__getitem__`是浅复制"
   ]
  },
  {
   "cell_type": "code",
   "execution_count": 4,
   "metadata": {},
   "outputs": [
    {
     "name": "stdout",
     "output_type": "stream",
     "text": [
      "[9, 1, 2, 3, 4, 5, 6, 7, 8, 9]\n",
      "[0, 1, 2, 3, 4, 5, 6, 7, 8, 9]\n",
      "True\n"
     ]
    }
   ],
   "source": [
    "a=[i for i in range(10)]\n",
    "b=a[:]\n",
    "a[0]=9\n",
    "print(a)\n",
    "print(b)\n",
    "print(a[1] is b[1])"
   ]
  },
  {
   "cell_type": "markdown",
   "metadata": {},
   "source": [
    "### list的`__setitem__`和`__getitem__`不同"
   ]
  },
  {
   "cell_type": "code",
   "execution_count": 5,
   "metadata": {},
   "outputs": [
    {
     "name": "stdout",
     "output_type": "stream",
     "text": [
      "['a', 'b', 'c', 'd', 3, 4, 5, 6, 7, 8, 9]\n"
     ]
    }
   ],
   "source": [
    "a=[i for i in range(10)]\n",
    "a[:3]=['a','b','c','d']\n",
    "print(a)"
   ]
  },
  {
   "cell_type": "markdown",
   "metadata": {},
   "source": [
    "# Slice"
   ]
  },
  {
   "cell_type": "markdown",
   "metadata": {},
   "source": [
    "\n",
    "## define a slice with [start:end:step]\n"
   ]
  },
  {
   "cell_type": "code",
   "execution_count": 6,
   "metadata": {},
   "outputs": [
    {
     "name": "stdout",
     "output_type": "stream",
     "text": [
      "[0, 1]\n"
     ]
    }
   ],
   "source": [
    "a=[i for i in range(10)]\n",
    "print(a[0:2:1])"
   ]
  },
  {
   "cell_type": "markdown",
   "metadata": {},
   "source": [
    "## define a slice with slice()"
   ]
  },
  {
   "cell_type": "code",
   "execution_count": 7,
   "metadata": {},
   "outputs": [
    {
     "name": "stdout",
     "output_type": "stream",
     "text": [
      "[0, 1]\n"
     ]
    }
   ],
   "source": [
    "a=[i for i in range(10)]\n",
    "s=slice(0,2,1)\n",
    "print(a[s])"
   ]
  },
  {
   "cell_type": "markdown",
   "metadata": {},
   "source": [
    "# Indexing"
   ]
  },
  {
   "cell_type": "markdown",
   "metadata": {},
   "source": [
    "## 自定义index"
   ]
  },
  {
   "cell_type": "code",
   "execution_count": 8,
   "metadata": {},
   "outputs": [
    {
     "name": "stdout",
     "output_type": "stream",
     "text": [
      "getitem with: <class 'str'> something\n",
      "setitem with: <class 'str'> something <class 'str'> something\n",
      "getitem with: <class 'slice'> slice(0, 2, None)\n",
      "setitem with: <class 'slice'> slice(0, 2, None) <class 'int'> 1\n"
     ]
    }
   ],
   "source": [
    "class A():     \n",
    "        \n",
    "    def __getitem__(self, s):\n",
    "        print(\"getitem with:\", type(s),s)\n",
    "        \n",
    "    def __setitem__(self, s, v):\n",
    "        print(\"setitem with:\", type(s), s, type(v), v)\n",
    "    \n",
    "a=A()\n",
    "\n",
    "# getitem and setitem are different\n",
    "a['something']\n",
    "a['something']='something'\n",
    "\n",
    "# slice often used with indexing\n",
    "a[0:2]    # getting\n",
    "a[0:2]=1  # setting\n",
    "\n"
   ]
  },
  {
   "cell_type": "markdown",
   "metadata": {},
   "source": [
    "## Index with dict"
   ]
  },
  {
   "cell_type": "code",
   "execution_count": 9,
   "metadata": {},
   "outputs": [
    {
     "name": "stdout",
     "output_type": "stream",
     "text": [
      "1\n",
      "<class 'KeyError'> '3'\n",
      "One\n",
      "Three\n"
     ]
    }
   ],
   "source": [
    "a={'1':1, '2':2}\n",
    "\n",
    "# getitem, key存在\n",
    "print(a['1'])\n",
    "\n",
    "# getitem, key不存在\n",
    "try:\n",
    "    a['3']\n",
    "except KeyError as err:\n",
    "    print(type(err), err)\n",
    "# work like c++ std::map\n",
    "    \n",
    "# setitem, key存在\n",
    "a['1']='One'\n",
    "print(a['1'])\n",
    "    \n",
    "# setitem, key不存在\n",
    "a['3']='Three'\n",
    "print(a['3'])\n",
    "    "
   ]
  },
  {
   "cell_type": "markdown",
   "metadata": {},
   "source": [
    "# `id`"
   ]
  },
  {
   "cell_type": "markdown",
   "metadata": {},
   "source": [
    "## `id` of empty object\n"
   ]
  },
  {
   "cell_type": "code",
   "execution_count": 10,
   "metadata": {},
   "outputs": [
    {
     "name": "stdout",
     "output_type": "stream",
     "text": [
      "id(a), id(b):  83946248 83873352\n",
      "id(a) == id(b):  False\n",
      "a is not b:  True\n",
      "a == b:  True\n"
     ]
    }
   ],
   "source": [
    "a,b=[],[]\n",
    "print(\"id(a), id(b): \", id(a), id(b))\n",
    "print(\"id(a) == id(b): \", id(a) == id(b))\n",
    "print(\"a is not b: \", a is not b)\n",
    "print(\"a == b: \", a == b)\n",
    "\n"
   ]
  },
  {
   "cell_type": "markdown",
   "metadata": {},
   "source": [
    "### `id([]) == id([])`\n",
    "Some times,"
   ]
  },
  {
   "cell_type": "code",
   "execution_count": 11,
   "metadata": {},
   "outputs": [
    {
     "name": "stdout",
     "output_type": "stream",
     "text": [
      "True\n"
     ]
    }
   ],
   "source": [
    "print(id([]) == id([]))"
   ]
  },
  {
   "cell_type": "markdown",
   "metadata": {},
   "source": [
    "This is because of memory re-usage.\n",
    "They have the same id, but they don't live at the same time"
   ]
  },
  {
   "cell_type": "markdown",
   "metadata": {},
   "source": [
    "## `True` is always `True`, `False` is always `False`"
   ]
  },
  {
   "cell_type": "code",
   "execution_count": 12,
   "metadata": {},
   "outputs": [
    {
     "name": "stdout",
     "output_type": "stream",
     "text": [
      "True\n",
      "True\n",
      "1380633008 1380633008\n",
      "1380633040 1380633040\n"
     ]
    }
   ],
   "source": [
    "print((0==0) is (1==1))\n",
    "print((0!=1) is (1!=0))\n",
    "print(id(True), id(0==0))\n",
    "print(id(False), id(0!=0))"
   ]
  },
  {
   "cell_type": "markdown",
   "metadata": {},
   "source": [
    "## `'== True'` is not equal to `'is True'`"
   ]
  },
  {
   "cell_type": "code",
   "execution_count": 13,
   "metadata": {},
   "outputs": [
    {
     "name": "stdout",
     "output_type": "stream",
     "text": [
      "True\n",
      "False\n",
      "True\n"
     ]
    }
   ],
   "source": [
    "print(1 == True)\n",
    "print(1 is True)\n",
    "print(bool(1) is True)"
   ]
  },
  {
   "cell_type": "markdown",
   "metadata": {},
   "source": [
    "## Often, `'a' is 'a'`"
   ]
  },
  {
   "cell_type": "code",
   "execution_count": 14,
   "metadata": {},
   "outputs": [
    {
     "name": "stdout",
     "output_type": "stream",
     "text": [
      "39583560\n",
      "a\n",
      "39583560\n"
     ]
    }
   ],
   "source": [
    "print(id('a'))\n",
    "print('ab'[0:1])\n",
    "print(id('ab'[0:1]))\n"
   ]
  },
  {
   "cell_type": "markdown",
   "metadata": {},
   "source": [
    "# `None`"
   ]
  },
  {
   "cell_type": "markdown",
   "metadata": {},
   "source": [
    "## None is not anything but None"
   ]
  },
  {
   "cell_type": "code",
   "execution_count": 15,
   "metadata": {},
   "outputs": [
    {
     "name": "stdout",
     "output_type": "stream",
     "text": [
      "True\n",
      "False\n",
      "False\n",
      "False\n"
     ]
    }
   ],
   "source": [
    "print(None is None)\n",
    "print(None is False)\n",
    "print(None is 0)\n",
    "print(None is '')\n"
   ]
  },
  {
   "cell_type": "markdown",
   "metadata": {},
   "source": [
    "## None isn't equal to anything but None"
   ]
  },
  {
   "cell_type": "code",
   "execution_count": 16,
   "metadata": {},
   "outputs": [
    {
     "name": "stdout",
     "output_type": "stream",
     "text": [
      "True\n",
      "False\n",
      "False\n",
      "False\n"
     ]
    }
   ],
   "source": [
    "print(None == None)\n",
    "print(None == False)\n",
    "print(None == 0)\n",
    "print(None == '')\n"
   ]
  },
  {
   "cell_type": "markdown",
   "metadata": {},
   "source": [
    "## People prefer using `is None`"
   ]
  },
  {
   "cell_type": "code",
   "execution_count": 17,
   "metadata": {},
   "outputs": [],
   "source": [
    "a='a'\n",
    "# OK\n",
    "if a is None:\n",
    "    pass\n",
    "    \n",
    "# BAD\n",
    "if a == None:\n",
    "    pass\n"
   ]
  },
  {
   "cell_type": "markdown",
   "metadata": {},
   "source": [
    "# Range"
   ]
  },
  {
   "cell_type": "markdown",
   "metadata": {},
   "source": [
    "## range(...)是range对象"
   ]
  },
  {
   "cell_type": "code",
   "execution_count": 18,
   "metadata": {},
   "outputs": [
    {
     "name": "stdout",
     "output_type": "stream",
     "text": [
      "<class 'range'>\n"
     ]
    }
   ],
   "source": [
    "print(type(range(100)))"
   ]
  },
  {
   "cell_type": "markdown",
   "metadata": {},
   "source": [
    "## range对象是iterative对象\n",
    "iterative对象(定义为)具有iter方法，没有next方法"
   ]
  },
  {
   "cell_type": "code",
   "execution_count": 19,
   "metadata": {},
   "outputs": [
    {
     "name": "stdout",
     "output_type": "stream",
     "text": [
      "True\n",
      "False\n"
     ]
    }
   ],
   "source": [
    "print('__iter__' in dir(range))\n",
    "print('__next__' in dir(range))"
   ]
  },
  {
   "cell_type": "markdown",
   "metadata": {},
   "source": [
    "## iterative对象可以用于for循环"
   ]
  },
  {
   "cell_type": "code",
   "execution_count": 20,
   "metadata": {},
   "outputs": [
    {
     "name": "stdout",
     "output_type": "stream",
     "text": [
      "0 1 2 3 4 5 6 7 8 9 "
     ]
    }
   ],
   "source": [
    "for i in range(10):\n",
    "    print(i,end=' ')"
   ]
  },
  {
   "cell_type": "markdown",
   "metadata": {},
   "source": [
    "## iter(range(...))对象是一个range_iterator对象"
   ]
  },
  {
   "cell_type": "code",
   "execution_count": 21,
   "metadata": {},
   "outputs": [
    {
     "name": "stdout",
     "output_type": "stream",
     "text": [
      "<class 'range_iterator'>\n"
     ]
    }
   ],
   "source": [
    "print(type(iter(range(100))))"
   ]
  },
  {
   "cell_type": "markdown",
   "metadata": {},
   "source": [
    "## range_iterator对象是iterator对象\n",
    "iterator对象(定义为)具有iter方法和next方法"
   ]
  },
  {
   "cell_type": "code",
   "execution_count": 22,
   "metadata": {},
   "outputs": [
    {
     "name": "stdout",
     "output_type": "stream",
     "text": [
      "True\n",
      "True\n"
     ]
    }
   ],
   "source": [
    "print('__iter__' in dir(type(iter(range(100)))))\n",
    "print('__next__' in dir(type(iter(range(100)))))"
   ]
  },
  {
   "cell_type": "markdown",
   "metadata": {},
   "source": [
    "## iter(range_iterator)依然是range_iterator\n",
    "实际上是同一对象"
   ]
  },
  {
   "cell_type": "code",
   "execution_count": 23,
   "metadata": {},
   "outputs": [
    {
     "name": "stdout",
     "output_type": "stream",
     "text": [
      "<class 'range_iterator'>\n",
      "True\n"
     ]
    }
   ],
   "source": [
    "a=iter(range(10))\n",
    "print(type(iter(a)))\n",
    "print(a==iter(a))"
   ]
  },
  {
   "cell_type": "markdown",
   "metadata": {},
   "source": [
    "## iterator对象可以用于for循环\n"
   ]
  },
  {
   "cell_type": "code",
   "execution_count": 24,
   "metadata": {},
   "outputs": [
    {
     "name": "stdout",
     "output_type": "stream",
     "text": [
      "0 1 2 3 4 5 6 7 8 9 "
     ]
    }
   ],
   "source": [
    "for i in iter(range(10)):\n",
    "    print(i, end=' ')    \n"
   ]
  },
  {
   "cell_type": "markdown",
   "metadata": {},
   "source": [
    "# Generator"
   ]
  },
  {
   "cell_type": "markdown",
   "metadata": {},
   "source": [
    "## yield定义generator"
   ]
  },
  {
   "cell_type": "code",
   "execution_count": 25,
   "metadata": {},
   "outputs": [
    {
     "name": "stdout",
     "output_type": "stream",
     "text": [
      "<class 'generator'>\n"
     ]
    }
   ],
   "source": [
    "def gen():\n",
    "    for i in range(10):\n",
    "        yield i\n",
    "print(type(gen()))\n"
   ]
  },
  {
   "cell_type": "markdown",
   "metadata": {},
   "source": [
    "## ()定义generator"
   ]
  },
  {
   "cell_type": "code",
   "execution_count": 26,
   "metadata": {},
   "outputs": [
    {
     "name": "stdout",
     "output_type": "stream",
     "text": [
      "<class 'generator'>\n"
     ]
    }
   ],
   "source": [
    "a=(i for i in range(10))\n",
    "print(type(a))\n"
   ]
  },
  {
   "cell_type": "markdown",
   "metadata": {},
   "source": [
    "## generator是iterator"
   ]
  },
  {
   "cell_type": "code",
   "execution_count": 27,
   "metadata": {},
   "outputs": [
    {
     "name": "stdout",
     "output_type": "stream",
     "text": [
      "True\n",
      "True\n"
     ]
    }
   ],
   "source": [
    "a=(i for i in range(10))\n",
    "print('__iter__' in dir(type(a)))\n",
    "print('__next__' in dir(type(a)))"
   ]
  },
  {
   "cell_type": "markdown",
   "metadata": {},
   "source": [
    "## generator可以用于循环"
   ]
  },
  {
   "cell_type": "code",
   "execution_count": 28,
   "metadata": {},
   "outputs": [
    {
     "name": "stdout",
     "output_type": "stream",
     "text": [
      "0 1 2 3 4 5 6 7 8 9 "
     ]
    }
   ],
   "source": [
    "a=(i for i in range(10))\n",
    "for i in a:\n",
    "    print(i, end=' ')"
   ]
  },
  {
   "cell_type": "markdown",
   "metadata": {},
   "source": [
    "# `del`"
   ]
  },
  {
   "cell_type": "markdown",
   "metadata": {},
   "source": [
    "## `del` remove variable from local variables list"
   ]
  },
  {
   "cell_type": "code",
   "execution_count": 29,
   "metadata": {},
   "outputs": [
    {
     "name": "stdout",
     "output_type": "stream",
     "text": [
      "name 'a' is not defined\n"
     ]
    }
   ],
   "source": [
    "a=1\n",
    "del a\n",
    "try:\n",
    "    print(a)\n",
    "except NameError as err:\n",
    "    print(err)\n",
    "    "
   ]
  },
  {
   "cell_type": "markdown",
   "metadata": {},
   "source": [
    "## `used=None`和`del used`不同\n",
    "对于垃圾收集器来说是相同的，但是`del used`彻底从局部变量列表删除了这个变量"
   ]
  },
  {
   "cell_type": "code",
   "execution_count": 30,
   "metadata": {},
   "outputs": [
    {
     "name": "stdout",
     "output_type": "stream",
     "text": [
      "None\n"
     ]
    }
   ],
   "source": [
    "a=1\n",
    "a=None\n",
    "try:\n",
    "    print(a)\n",
    "except NameError as err:\n",
    "    print(err)"
   ]
  },
  {
   "cell_type": "code",
   "execution_count": null,
   "metadata": {},
   "outputs": [],
   "source": []
  }
 ],
 "metadata": {
  "kernelspec": {
   "display_name": "Python 3",
   "language": "python",
   "name": "python3"
  },
  "language_info": {
   "codemirror_mode": {
    "name": "ipython",
    "version": 3
   },
   "file_extension": ".py",
   "mimetype": "text/x-python",
   "name": "python",
   "nbconvert_exporter": "python",
   "pygments_lexer": "ipython3",
   "version": "3.6.7"
  },
  "toc": {
   "base_numbering": 1,
   "nav_menu": {
    "height": "346px",
    "width": "261px"
   },
   "number_sections": true,
   "sideBar": true,
   "skip_h1_title": false,
   "title_cell": "Table of Contents",
   "title_sidebar": "Contents",
   "toc_cell": true,
   "toc_position": {
    "height": "calc(100% - 180px)",
    "left": "10px",
    "top": "150px",
    "width": "422px"
   },
   "toc_section_display": true,
   "toc_window_display": false
  }
 },
 "nbformat": 4,
 "nbformat_minor": 2
}
