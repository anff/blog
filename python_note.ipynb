{
  "nbformat": 4,
  "nbformat_minor": 0,
  "metadata": {
    "kernelspec": {
      "display_name": "Python 3",
      "language": "python",
      "name": "python3"
    },
    "language_info": {
      "codemirror_mode": {
        "name": "ipython",
        "version": 3
      },
      "file_extension": ".py",
      "mimetype": "text/x-python",
      "name": "python",
      "nbconvert_exporter": "python",
      "pygments_lexer": "ipython3",
      "version": "3.6.7"
    },
    "toc": {
      "base_numbering": 1,
      "nav_menu": {
        "height": "346px",
        "width": "261px"
      },
      "number_sections": true,
      "sideBar": true,
      "skip_h1_title": false,
      "title_cell": "Table of Contents",
      "title_sidebar": "Contents",
      "toc_cell": true,
      "toc_position": {
        "height": "calc(100% - 180px)",
        "left": "10px",
        "top": "150px",
        "width": "165px"
      },
      "toc_section_display": true,
      "toc_window_display": true
    },
    "colab": {
      "name": "python_note.ipynb",
      "provenance": [],
      "toc_visible": true
    }
  },
  "cells": [
    {
      "cell_type": "markdown",
      "metadata": {
        "toc": true,
        "id": "SCWDCah7aMFn",
        "colab_type": "text"
      },
      "source": [
        "<h1>Table of Contents<span class=\"tocSkip\"></span></h1>\n",
        "<div class=\"toc\"><ul class=\"toc-item\"><li><span><a href=\"#Python-Note\" data-toc-modified-id=\"Python-Note-1\"><span class=\"toc-item-num\">1&nbsp;&nbsp;</span>Python Note</a></span></li><li><span><a href=\"#List\" data-toc-modified-id=\"List-2\"><span class=\"toc-item-num\">2&nbsp;&nbsp;</span>List</a></span><ul class=\"toc-item\"><li><span><a href=\"#构造list\" data-toc-modified-id=\"构造list-2.1\"><span class=\"toc-item-num\">2.1&nbsp;&nbsp;</span>构造list</a></span></li><li><span><a href=\"#添加元素\" data-toc-modified-id=\"添加元素-2.2\"><span class=\"toc-item-num\">2.2&nbsp;&nbsp;</span>添加元素</a></span></li><li><span><a href=\"#删除元素\" data-toc-modified-id=\"删除元素-2.3\"><span class=\"toc-item-num\">2.3&nbsp;&nbsp;</span>删除元素</a></span></li><li><span><a href=\"#list-切片\" data-toc-modified-id=\"list-切片-2.4\"><span class=\"toc-item-num\">2.4&nbsp;&nbsp;</span>list 切片</a></span><ul class=\"toc-item\"><li><span><a href=\"#list的__getitem__是浅复制\" data-toc-modified-id=\"list的__getitem__是浅复制-2.4.1\"><span class=\"toc-item-num\">2.4.1&nbsp;&nbsp;</span>list的<code>__getitem__</code>是浅复制</a></span></li><li><span><a href=\"#list的__setitem__和__getitem__不同\" data-toc-modified-id=\"list的__setitem__和__getitem__不同-2.4.2\"><span class=\"toc-item-num\">2.4.2&nbsp;&nbsp;</span>list的<code>__setitem__</code>和<code>__getitem__</code>不同</a></span></li></ul></li></ul></li><li><span><a href=\"#Slice\" data-toc-modified-id=\"Slice-3\"><span class=\"toc-item-num\">3&nbsp;&nbsp;</span>Slice</a></span><ul class=\"toc-item\"><li><span><a href=\"#define-a-slice-with-[start:end:step]\" data-toc-modified-id=\"define-a-slice-with-[start:end:step]-3.1\"><span class=\"toc-item-num\">3.1&nbsp;&nbsp;</span>define a slice with [start:end:step]</a></span></li><li><span><a href=\"#define-a-slice-with-slice()\" data-toc-modified-id=\"define-a-slice-with-slice()-3.2\"><span class=\"toc-item-num\">3.2&nbsp;&nbsp;</span>define a slice with slice()</a></span></li></ul></li><li><span><a href=\"#Dictionary\" data-toc-modified-id=\"Dictionary-4\"><span class=\"toc-item-num\">4&nbsp;&nbsp;</span>Dictionary</a></span><ul class=\"toc-item\"><li><span><a href=\"#create-new-dictionary\" data-toc-modified-id=\"create-new-dictionary-4.1\"><span class=\"toc-item-num\">4.1&nbsp;&nbsp;</span>create new dictionary</a></span></li><li><span><a href=\"#Adding-new-elements\" data-toc-modified-id=\"Adding-new-elements-4.2\"><span class=\"toc-item-num\">4.2&nbsp;&nbsp;</span>Adding new elements</a></span></li><li><span><a href=\"#Accessing-elements\" data-toc-modified-id=\"Accessing-elements-4.3\"><span class=\"toc-item-num\">4.3&nbsp;&nbsp;</span>Accessing elements</a></span><ul class=\"toc-item\"><li><span><a href=\"#[]\" data-toc-modified-id=\"[]-4.3.1\"><span class=\"toc-item-num\">4.3.1&nbsp;&nbsp;</span><code>[]</code></a></span></li><li><span><a href=\"#get\" data-toc-modified-id=\"get-4.3.2\"><span class=\"toc-item-num\">4.3.2&nbsp;&nbsp;</span><code>get</code></a></span></li></ul></li><li><span><a href=\"#Removing-elements\" data-toc-modified-id=\"Removing-elements-4.4\"><span class=\"toc-item-num\">4.4&nbsp;&nbsp;</span>Removing elements</a></span><ul class=\"toc-item\"><li><span><a href=\"#del-[]\" data-toc-modified-id=\"del-[]-4.4.1\"><span class=\"toc-item-num\">4.4.1&nbsp;&nbsp;</span><code>del []</code></a></span></li><li><span><a href=\"#pop\" data-toc-modified-id=\"pop-4.4.2\"><span class=\"toc-item-num\">4.4.2&nbsp;&nbsp;</span><code>pop</code></a></span></li></ul></li><li><span><a href=\"#Dictionary-view-objects\" data-toc-modified-id=\"Dictionary-view-objects-4.5\"><span class=\"toc-item-num\">4.5&nbsp;&nbsp;</span>Dictionary view objects</a></span><ul class=\"toc-item\"><li><span><a href=\"#len\" data-toc-modified-id=\"len-4.5.1\"><span class=\"toc-item-num\">4.5.1&nbsp;&nbsp;</span><code>len</code></a></span></li><li><span><a href=\"#iter\" data-toc-modified-id=\"iter-4.5.2\"><span class=\"toc-item-num\">4.5.2&nbsp;&nbsp;</span><code>iter</code></a></span></li><li><span><a href=\"#keys\" data-toc-modified-id=\"keys-4.5.3\"><span class=\"toc-item-num\">4.5.3&nbsp;&nbsp;</span><code>keys</code></a></span></li><li><span><a href=\"#values\" data-toc-modified-id=\"values-4.5.4\"><span class=\"toc-item-num\">4.5.4&nbsp;&nbsp;</span><code>values</code></a></span></li><li><span><a href=\"#items\" data-toc-modified-id=\"items-4.5.5\"><span class=\"toc-item-num\">4.5.5&nbsp;&nbsp;</span><code>items</code></a></span></li></ul></li></ul></li><li><span><a href=\"#Indexing\" data-toc-modified-id=\"Indexing-5\"><span class=\"toc-item-num\">5&nbsp;&nbsp;</span>Indexing</a></span><ul class=\"toc-item\"><li><span><a href=\"#自定义index\" data-toc-modified-id=\"自定义index-5.1\"><span class=\"toc-item-num\">5.1&nbsp;&nbsp;</span>自定义index</a></span></li><li><span><a href=\"#Index-with-dict\" data-toc-modified-id=\"Index-with-dict-5.2\"><span class=\"toc-item-num\">5.2&nbsp;&nbsp;</span>Index with dict</a></span></li></ul></li><li><span><a href=\"#id\" data-toc-modified-id=\"id-6\"><span class=\"toc-item-num\">6&nbsp;&nbsp;</span><code>id</code></a></span><ul class=\"toc-item\"><li><span><a href=\"#id-of-empty-object\" data-toc-modified-id=\"id-of-empty-object-6.1\"><span class=\"toc-item-num\">6.1&nbsp;&nbsp;</span><code>id</code> of empty object</a></span><ul class=\"toc-item\"><li><span><a href=\"#id([])-==-id([])\" data-toc-modified-id=\"id([])-==-id([])-6.1.1\"><span class=\"toc-item-num\">6.1.1&nbsp;&nbsp;</span><code>id([]) == id([])</code></a></span></li></ul></li><li><span><a href=\"#True-is-always-True,-False-is-always-False\" data-toc-modified-id=\"True-is-always-True,-False-is-always-False-6.2\"><span class=\"toc-item-num\">6.2&nbsp;&nbsp;</span><code>True</code> is always <code>True</code>, <code>False</code> is always <code>False</code></a></span></li><li><span><a href=\"#'==-True'-is-not-equal-to-'is-True'\" data-toc-modified-id=\"'==-True'-is-not-equal-to-'is-True'-6.3\"><span class=\"toc-item-num\">6.3&nbsp;&nbsp;</span><code>'== True'</code> is not equal to <code>'is True'</code></a></span></li><li><span><a href=\"#Often,-'a'-is-'a'\" data-toc-modified-id=\"Often,-'a'-is-'a'-6.4\"><span class=\"toc-item-num\">6.4&nbsp;&nbsp;</span>Often, <code>'a' is 'a'</code></a></span></li></ul></li><li><span><a href=\"#None\" data-toc-modified-id=\"None-7\"><span class=\"toc-item-num\">7&nbsp;&nbsp;</span><code>None</code></a></span><ul class=\"toc-item\"><li><span><a href=\"#None-is-not-anything-but-None\" data-toc-modified-id=\"None-is-not-anything-but-None-7.1\"><span class=\"toc-item-num\">7.1&nbsp;&nbsp;</span><code>None</code> is not anything but <code>None</code></a></span></li><li><span><a href=\"#None-isn't-equal-to-anything-but-None\" data-toc-modified-id=\"None-isn't-equal-to-anything-but-None-7.2\"><span class=\"toc-item-num\">7.2&nbsp;&nbsp;</span><code>None</code> isn't equal to anything but <code>None</code></a></span></li><li><span><a href=\"#People-prefer-using-is-None\" data-toc-modified-id=\"People-prefer-using-is-None-7.3\"><span class=\"toc-item-num\">7.3&nbsp;&nbsp;</span>People prefer using <code>is None</code></a></span></li></ul></li><li><span><a href=\"#Range\" data-toc-modified-id=\"Range-8\"><span class=\"toc-item-num\">8&nbsp;&nbsp;</span>Range</a></span><ul class=\"toc-item\"><li><span><a href=\"#range(...)是range对象\" data-toc-modified-id=\"range(...)是range对象-8.1\"><span class=\"toc-item-num\">8.1&nbsp;&nbsp;</span>range(...)是range对象</a></span></li><li><span><a href=\"#range对象是iterative对象\" data-toc-modified-id=\"range对象是iterative对象-8.2\"><span class=\"toc-item-num\">8.2&nbsp;&nbsp;</span>range对象是iterative对象</a></span></li><li><span><a href=\"#iterative对象可以用于for循环\" data-toc-modified-id=\"iterative对象可以用于for循环-8.3\"><span class=\"toc-item-num\">8.3&nbsp;&nbsp;</span>iterative对象可以用于for循环</a></span></li><li><span><a href=\"#iter(range(...))对象是一个range_iterator对象\" data-toc-modified-id=\"iter(range(...))对象是一个range_iterator对象-8.4\"><span class=\"toc-item-num\">8.4&nbsp;&nbsp;</span>iter(range(...))对象是一个range_iterator对象</a></span></li><li><span><a href=\"#range_iterator对象是iterator对象\" data-toc-modified-id=\"range_iterator对象是iterator对象-8.5\"><span class=\"toc-item-num\">8.5&nbsp;&nbsp;</span>range_iterator对象是iterator对象</a></span></li><li><span><a href=\"#iter(range_iterator)依然是range_iterator\" data-toc-modified-id=\"iter(range_iterator)依然是range_iterator-8.6\"><span class=\"toc-item-num\">8.6&nbsp;&nbsp;</span>iter(range_iterator)依然是range_iterator</a></span></li><li><span><a href=\"#iterator对象可以用于for循环\" data-toc-modified-id=\"iterator对象可以用于for循环-8.7\"><span class=\"toc-item-num\">8.7&nbsp;&nbsp;</span>iterator对象可以用于for循环</a></span></li></ul></li><li><span><a href=\"#Generator\" data-toc-modified-id=\"Generator-9\"><span class=\"toc-item-num\">9&nbsp;&nbsp;</span>Generator</a></span><ul class=\"toc-item\"><li><span><a href=\"#yield定义generator\" data-toc-modified-id=\"yield定义generator-9.1\"><span class=\"toc-item-num\">9.1&nbsp;&nbsp;</span>yield定义generator</a></span></li><li><span><a href=\"#()定义generator\" data-toc-modified-id=\"()定义generator-9.2\"><span class=\"toc-item-num\">9.2&nbsp;&nbsp;</span>()定义generator</a></span></li><li><span><a href=\"#generator是iterator\" data-toc-modified-id=\"generator是iterator-9.3\"><span class=\"toc-item-num\">9.3&nbsp;&nbsp;</span>generator是iterator</a></span></li><li><span><a href=\"#generator可以用于循环\" data-toc-modified-id=\"generator可以用于循环-9.4\"><span class=\"toc-item-num\">9.4&nbsp;&nbsp;</span>generator可以用于循环</a></span></li></ul></li><li><span><a href=\"#del\" data-toc-modified-id=\"del-10\"><span class=\"toc-item-num\">10&nbsp;&nbsp;</span><code>del</code></a></span><ul class=\"toc-item\"><li><span><a href=\"#del-remove-variable-from-local-variables-list\" data-toc-modified-id=\"del-remove-variable-from-local-variables-list-10.1\"><span class=\"toc-item-num\">10.1&nbsp;&nbsp;</span><code>del</code> remove variable from local variables list</a></span></li><li><span><a href=\"#used=None和del-used不同\" data-toc-modified-id=\"used=None和del-used不同-10.2\"><span class=\"toc-item-num\">10.2&nbsp;&nbsp;</span><code>used=None</code>和<code>del used</code>不同</a></span></li></ul></li><li><span><a href=\"#IO\" data-toc-modified-id=\"IO-11\"><span class=\"toc-item-num\">11&nbsp;&nbsp;</span>IO</a></span><ul class=\"toc-item\"><li><ul class=\"toc-item\"><li><span><a href=\"#open-file-as-binary\" data-toc-modified-id=\"open-file-as-binary-11.0.1\"><span class=\"toc-item-num\">11.0.1&nbsp;&nbsp;</span>open file as binary</a></span></li><li><span><a href=\"#open-file-as-text\" data-toc-modified-id=\"open-file-as-text-11.0.2\"><span class=\"toc-item-num\">11.0.2&nbsp;&nbsp;</span>open file as text</a></span></li><li><span><a href=\"#readline\" data-toc-modified-id=\"readline-11.0.3\"><span class=\"toc-item-num\">11.0.3&nbsp;&nbsp;</span>readline</a></span></li></ul></li></ul></li></ul></div>"
      ]
    },
    {
      "cell_type": "markdown",
      "metadata": {
        "id": "ReyHVzrpaMFt",
        "colab_type": "text"
      },
      "source": [
        "# Python Note\n"
      ]
    },
    {
      "cell_type": "markdown",
      "metadata": {
        "id": "_f_TRUY-aMFv",
        "colab_type": "text"
      },
      "source": [
        "前提是你已经会Python了，这篇note只是提一些重要的点。"
      ]
    },
    {
      "cell_type": "markdown",
      "metadata": {
        "id": "MZigMfRbaMFy",
        "colab_type": "text"
      },
      "source": [
        "# List"
      ]
    },
    {
      "cell_type": "markdown",
      "metadata": {
        "id": "wcbPRLe2aMF0",
        "colab_type": "text"
      },
      "source": [
        "## 构造list "
      ]
    },
    {
      "cell_type": "code",
      "metadata": {
        "id": "1Gk2AQS6aMF2",
        "colab_type": "code",
        "colab": {},
        "outputId": "ad102ffa-20e1-465a-8603-08799a40c95a"
      },
      "source": [
        "print([])\n",
        "print(\"note [] is not []:\", [] is not [])\n",
        "print(\"but [] equals []:\", [] == [])\n",
        "print(list())\n",
        "print([0,'1',2])\n",
        "# list expression\n",
        "print([i for i in range(3)])\n",
        "\n"
      ],
      "execution_count": 0,
      "outputs": [
        {
          "output_type": "stream",
          "text": [
            "[]\n",
            "note [] is not []: True\n",
            "but [] equals []: True\n",
            "[]\n",
            "[0, '1', 2]\n",
            "[0, 1, 2]\n"
          ],
          "name": "stdout"
        }
      ]
    },
    {
      "cell_type": "markdown",
      "metadata": {
        "id": "HGs8VNyWaMF8",
        "colab_type": "text"
      },
      "source": [
        "## 添加元素\n",
        "append, extend, insert,+\n"
      ]
    },
    {
      "cell_type": "code",
      "metadata": {
        "id": "M0nJKMI1aMF9",
        "colab_type": "code",
        "colab": {},
        "outputId": "e8f2ebe6-51d2-44a1-d177-7639f44f6fb1"
      },
      "source": [
        "a=[]\n",
        "\n",
        "# appending single element\n",
        "a.append(1)\n",
        "print(a)\n",
        "\n",
        "# appending a list as a element\n",
        "a.append([2,3])\n",
        "print(a)\n",
        "\n",
        "# appending elements of a list\n",
        "a.extend([4,5])\n",
        "print(a)\n",
        "\n",
        "# insert a element at a position\n",
        "a.insert(0, 'first')\n",
        "print(a)\n",
        "\n",
        "# copy and append elements of a list\n",
        "b=a+[6,7]\n",
        "print(b)\n",
        "a[0]='second'\n",
        "print(b)"
      ],
      "execution_count": 0,
      "outputs": [
        {
          "output_type": "stream",
          "text": [
            "[1]\n",
            "[1, [2, 3]]\n",
            "[1, [2, 3], 4, 5]\n",
            "['first', 1, [2, 3], 4, 5]\n",
            "['first', 1, [2, 3], 4, 5, 6, 7]\n",
            "['first', 1, [2, 3], 4, 5, 6, 7]\n"
          ],
          "name": "stdout"
        }
      ]
    },
    {
      "cell_type": "markdown",
      "metadata": {
        "id": "j-Ij2VaRaMGA",
        "colab_type": "text"
      },
      "source": [
        "## 删除元素\n",
        "pop, remove, del\n"
      ]
    },
    {
      "cell_type": "code",
      "metadata": {
        "id": "0uRqHph5aMGB",
        "colab_type": "code",
        "colab": {},
        "outputId": "c3b78459-72cf-4f94-e20f-f0bd34ab3637"
      },
      "source": [
        "a=[i for i in range(5)]\n",
        "print(a)\n",
        "\n",
        "# remove first occurrence of *VALUE*\n",
        "# Raises ValueError if the value is not present.\n",
        "a.remove(3)\n",
        "print(a)\n",
        "\n",
        "# remove and return item at index (default last).\n",
        "a.pop()\n",
        "print(a)\n",
        "a.pop(2) # 2 is the *INDEX*\n",
        "print(a)\n",
        "\n",
        "# remove item at *INDEX*\n",
        "del a[1]\n",
        "# del a[0:3] delete a range is also OK\n",
        "print(a)\n",
        "\n",
        "# remove all items from list\n",
        "a.clear()\n",
        "print(a)\n"
      ],
      "execution_count": 0,
      "outputs": [
        {
          "output_type": "stream",
          "text": [
            "[0, 1, 2, 3, 4]\n",
            "[0, 1, 2, 4]\n",
            "[0, 1, 2]\n",
            "[0, 1]\n",
            "[0]\n",
            "[]\n"
          ],
          "name": "stdout"
        }
      ]
    },
    {
      "cell_type": "markdown",
      "metadata": {
        "id": "A62iOc9eaMGF",
        "colab_type": "text"
      },
      "source": [
        " ## list 切片\n",
        " "
      ]
    },
    {
      "cell_type": "markdown",
      "metadata": {
        "id": "zVsa_gjyaMGG",
        "colab_type": "text"
      },
      "source": [
        "### list的`__getitem__`是浅复制"
      ]
    },
    {
      "cell_type": "code",
      "metadata": {
        "id": "OeDe8yVFaMGH",
        "colab_type": "code",
        "colab": {},
        "outputId": "08ebd3cc-bf41-4350-83e3-eae3223057ee"
      },
      "source": [
        "a=[i for i in range(10)]\n",
        "b=a[:]\n",
        "a[0]=9\n",
        "print(a)\n",
        "print(b)\n",
        "print(a[1] is b[1])"
      ],
      "execution_count": 0,
      "outputs": [
        {
          "output_type": "stream",
          "text": [
            "[9, 1, 2, 3, 4, 5, 6, 7, 8, 9]\n",
            "[0, 1, 2, 3, 4, 5, 6, 7, 8, 9]\n",
            "True\n"
          ],
          "name": "stdout"
        }
      ]
    },
    {
      "cell_type": "markdown",
      "metadata": {
        "id": "guXaC0UOaMGJ",
        "colab_type": "text"
      },
      "source": [
        "### list的`__setitem__`和`__getitem__`不同"
      ]
    },
    {
      "cell_type": "code",
      "metadata": {
        "id": "E8EIjth1aMGK",
        "colab_type": "code",
        "colab": {},
        "outputId": "9dcdd4a7-d72c-46e7-d8fd-86b5ff902055"
      },
      "source": [
        "a=[i for i in range(10)]\n",
        "a[:3]=['a','b','c','d']\n",
        "print(a)"
      ],
      "execution_count": 0,
      "outputs": [
        {
          "output_type": "stream",
          "text": [
            "['a', 'b', 'c', 'd', 3, 4, 5, 6, 7, 8, 9]\n"
          ],
          "name": "stdout"
        }
      ]
    },
    {
      "cell_type": "markdown",
      "metadata": {
        "id": "IspgWVS3aMGN",
        "colab_type": "text"
      },
      "source": [
        "# Slice"
      ]
    },
    {
      "cell_type": "markdown",
      "metadata": {
        "id": "y1aRCqE-aMGO",
        "colab_type": "text"
      },
      "source": [
        "\n",
        "## define a slice with [start:end:step]\n"
      ]
    },
    {
      "cell_type": "code",
      "metadata": {
        "id": "PHcBS4smaMGP",
        "colab_type": "code",
        "colab": {},
        "outputId": "2a3dd2f3-2600-4474-8f95-df7e66351132"
      },
      "source": [
        "a=[i for i in range(10)]\n",
        "print(a[0:2:1])"
      ],
      "execution_count": 0,
      "outputs": [
        {
          "output_type": "stream",
          "text": [
            "[0, 1]\n"
          ],
          "name": "stdout"
        }
      ]
    },
    {
      "cell_type": "markdown",
      "metadata": {
        "id": "k3TwCrs4aMGT",
        "colab_type": "text"
      },
      "source": [
        "## define a slice with slice()"
      ]
    },
    {
      "cell_type": "code",
      "metadata": {
        "id": "Xny7VypXaMGT",
        "colab_type": "code",
        "colab": {},
        "outputId": "6e2e02aa-28c7-4179-c2d5-ae13787f7f10"
      },
      "source": [
        "a=[i for i in range(10)]\n",
        "s=slice(0,2,1)\n",
        "print(a[s])"
      ],
      "execution_count": 0,
      "outputs": [
        {
          "output_type": "stream",
          "text": [
            "[0, 1]\n"
          ],
          "name": "stdout"
        }
      ]
    },
    {
      "cell_type": "markdown",
      "metadata": {
        "id": "F95O3RYHaMGV",
        "colab_type": "text"
      },
      "source": [
        "# Dictionary"
      ]
    },
    {
      "cell_type": "markdown",
      "metadata": {
        "id": "Xwkxx4AsaMGW",
        "colab_type": "text"
      },
      "source": [
        "## create new dictionary"
      ]
    },
    {
      "cell_type": "code",
      "metadata": {
        "id": "DCiDpDtZaMGX",
        "colab_type": "code",
        "colab": {},
        "outputId": "9d76d3f6-f6c7-4da7-faf9-6f297c7070df"
      },
      "source": [
        "print(\"create empty dict\")\n",
        "print({})\n",
        "print(\"note {} is not {}:\", {} is not {})\n",
        "print(\"but {} equals{}:\", {} == {})\n",
        "\n",
        "print(\"\\ncreate with mapping\")\n",
        "print({\"a\":1, \"b\":2})\n",
        "\n",
        "print(\"\\ncreate with iterator of (k,v)\")\n",
        "iterator_of_tuple=((k,chr(ord('a')+k)) for k in range(2))\n",
        "d=dict(iterator_of_tuple)\n",
        "print(d)\n"
      ],
      "execution_count": 0,
      "outputs": [
        {
          "output_type": "stream",
          "text": [
            "create empty dict\n",
            "{}\n",
            "note {} is not {}: True\n",
            "but {} equals{}: True\n",
            "\n",
            "create with mapping\n",
            "{'a': 1, 'b': 2}\n",
            "\n",
            "create with iterator of (k,v)\n",
            "{0: 'a', 1: 'b'}\n"
          ],
          "name": "stdout"
        }
      ]
    },
    {
      "cell_type": "markdown",
      "metadata": {
        "id": "T7I-fVGKaMGY",
        "colab_type": "text"
      },
      "source": [
        "## Adding new elements"
      ]
    },
    {
      "cell_type": "code",
      "metadata": {
        "id": "RqQbJEM2aMGZ",
        "colab_type": "code",
        "colab": {},
        "outputId": "757cbbd3-f567-4434-cc2b-8edb03cfa778"
      },
      "source": [
        "print(\"Adding new element with indexing\")\n",
        "d={}\n",
        "d[0] ='a'\n",
        "print(d)\n",
        "\n",
        "print(\"\\nUpdating new element with indexing\")\n",
        "d={}\n",
        "d[0] ='a'\n",
        "d[0] ='A'\n",
        "print(d)\n"
      ],
      "execution_count": 0,
      "outputs": [
        {
          "output_type": "stream",
          "text": [
            "Adding new element with indexing\n",
            "{0: 'a'}\n",
            "\n",
            "Updating new element with indexing\n",
            "{0: 'A'}\n"
          ],
          "name": "stdout"
        }
      ]
    },
    {
      "cell_type": "markdown",
      "metadata": {
        "id": "UwFA8VvSaMGb",
        "colab_type": "text"
      },
      "source": [
        "## Accessing elements"
      ]
    },
    {
      "cell_type": "markdown",
      "metadata": {
        "id": "ttMcYww4aMGc",
        "colab_type": "text"
      },
      "source": [
        "### `[]`"
      ]
    },
    {
      "cell_type": "code",
      "metadata": {
        "id": "uxd7QE6RaMGc",
        "colab_type": "code",
        "colab": {},
        "outputId": "a1293186-e382-4030-a14b-32221ae029e5"
      },
      "source": [
        "d={}\n",
        "d[0] ='a'\n",
        "print(d[0])\n",
        "try:\n",
        "    print(d[1])\n",
        "except:\n",
        "    print(\"except while the key not found\")\n"
      ],
      "execution_count": 0,
      "outputs": [
        {
          "output_type": "stream",
          "text": [
            "a\n",
            "except while the key not found\n"
          ],
          "name": "stdout"
        }
      ]
    },
    {
      "cell_type": "markdown",
      "metadata": {
        "id": "rxjaCcuNaMGe",
        "colab_type": "text"
      },
      "source": [
        "### `get`\n",
        "Return the value for key if key is in the dictionary, else default. If default is not given, it defaults to None, so that this method never raises a `KeyError`.\n"
      ]
    },
    {
      "cell_type": "code",
      "metadata": {
        "id": "H9WCiPMYaMGf",
        "colab_type": "code",
        "colab": {},
        "outputId": "beccdad6-a5e5-4df1-d448-3b8dd130d2ca"
      },
      "source": [
        "d={}\n",
        "d[0] ='a'\n",
        "print(d.get(0))\n",
        "print(\"key not found, return:\", d.get(1))\n",
        "print(\"key not found, custom return:\", d.get(1,'<KNF>'))\n"
      ],
      "execution_count": 0,
      "outputs": [
        {
          "output_type": "stream",
          "text": [
            "a\n",
            "key not found, return: None\n",
            "key not found, custom return: <KNF>\n"
          ],
          "name": "stdout"
        }
      ]
    },
    {
      "cell_type": "markdown",
      "metadata": {
        "id": "X1Qd8LOTaMGg",
        "colab_type": "text"
      },
      "source": [
        "## Removing elements"
      ]
    },
    {
      "cell_type": "markdown",
      "metadata": {
        "id": "lLdGCtBxaMGh",
        "colab_type": "text"
      },
      "source": [
        "### `del []`"
      ]
    },
    {
      "cell_type": "code",
      "metadata": {
        "id": "-8F-D1jlaMGi",
        "colab_type": "code",
        "colab": {},
        "outputId": "bdf8caee-06ae-4013-d9eb-51b6677a37a3"
      },
      "source": [
        "d={}\n",
        "d[0] ='a'\n",
        "del d[0]\n",
        "try:\n",
        "    del d[1]\n",
        "except:\n",
        "    print(\"raise except if the key not found\")\n",
        "\n",
        "\n"
      ],
      "execution_count": 0,
      "outputs": [
        {
          "output_type": "stream",
          "text": [
            "raise except if the key not found\n"
          ],
          "name": "stdout"
        }
      ]
    },
    {
      "cell_type": "markdown",
      "metadata": {
        "id": "ptPXFIO_aMGk",
        "colab_type": "text"
      },
      "source": [
        "### `pop`\n",
        "\n",
        "    If key is in the dictionary, remove it and return its value, else return default. If default is not given and key is not in the dictionary, a KeyError is raised.\n"
      ]
    },
    {
      "cell_type": "code",
      "metadata": {
        "id": "sZ4RPTK0aMGl",
        "colab_type": "code",
        "colab": {},
        "outputId": "f896fb02-d763-4473-e5c0-11ea2ef4da4a"
      },
      "source": [
        "print(\"\\nRemoving a element with pop\")\n",
        "d={}\n",
        "d[0] ='a'\n",
        "print(d.pop(0))\n",
        "print(d.pop(1, 'b'))\n",
        "try:\n",
        "    d.pop(1)\n",
        "except:\n",
        "    print(\"raise except if the key not found\")\n"
      ],
      "execution_count": 0,
      "outputs": [
        {
          "output_type": "stream",
          "text": [
            "\n",
            "Removing a element with pop\n",
            "a\n",
            "b\n",
            "raise except if the key not found\n"
          ],
          "name": "stdout"
        }
      ]
    },
    {
      "cell_type": "markdown",
      "metadata": {
        "id": "NUYwAh6FaMGn",
        "colab_type": "text"
      },
      "source": [
        "## Dictionary view objects"
      ]
    },
    {
      "cell_type": "markdown",
      "metadata": {
        "id": "bnyZSo2MaMGn",
        "colab_type": "text"
      },
      "source": [
        "### `len`\n",
        "Return the number of entries in the dictionary."
      ]
    },
    {
      "cell_type": "code",
      "metadata": {
        "id": "P16CE551aMGo",
        "colab_type": "code",
        "colab": {},
        "outputId": "468b5224-07d5-4977-8667-3f0e6c2bf073"
      },
      "source": [
        "d={1:'a', 2:'b'}\n",
        "len(d)"
      ],
      "execution_count": 0,
      "outputs": [
        {
          "output_type": "execute_result",
          "data": {
            "text/plain": [
              "2"
            ]
          },
          "metadata": {
            "tags": []
          },
          "execution_count": 66
        }
      ]
    },
    {
      "cell_type": "markdown",
      "metadata": {
        "id": "7DdaoxQYaMGr",
        "colab_type": "text"
      },
      "source": [
        "### `iter`\n",
        "dict is an iterative object"
      ]
    },
    {
      "cell_type": "code",
      "metadata": {
        "id": "e0A7qAAhaMGs",
        "colab_type": "code",
        "colab": {},
        "outputId": "da0dc23f-1b0e-4c25-f73d-7523c7bd1a0d"
      },
      "source": [
        "d={1:'a', 2:'b'}\n",
        "\n",
        "print(iter(d))\n",
        "\n",
        "for k in d:\n",
        "    print(k)\n",
        "    "
      ],
      "execution_count": 0,
      "outputs": [
        {
          "output_type": "stream",
          "text": [
            "<dict_keyiterator object at 0x0000000005022B38>\n",
            "1\n",
            "2\n"
          ],
          "name": "stdout"
        }
      ]
    },
    {
      "cell_type": "markdown",
      "metadata": {
        "id": "XzJLtKH6aMGu",
        "colab_type": "text"
      },
      "source": [
        "### `keys`\n",
        "Return a new view of the dictionary’s keys. "
      ]
    },
    {
      "cell_type": "code",
      "metadata": {
        "id": "FoSbTBz5aMGv",
        "colab_type": "code",
        "colab": {},
        "outputId": "52712b4d-0bec-4750-ae9d-5ebae496750b"
      },
      "source": [
        "d={1:'a', 2:'b'}\n",
        "\n",
        "print(d.keys())\n",
        "print(iter(d.keys()))\n",
        "\n",
        "for k in d.keys():\n",
        "    print(k)\n",
        "    \n",
        "print(\"__iter__\" in dir(d.keys()))\n",
        "print(\"__next__\" in dir(d.keys()))\n",
        "print(\"__next__\" in dir(iter(d.keys())))\n",
        "print(\"__next__\" in dir(iter(d.keys())))\n"
      ],
      "execution_count": 0,
      "outputs": [
        {
          "output_type": "stream",
          "text": [
            "dict_keys([1, 2])\n",
            "<dict_keyiterator object at 0x00000000050221D8>\n",
            "1\n",
            "2\n",
            "True\n",
            "False\n",
            "True\n",
            "True\n"
          ],
          "name": "stdout"
        }
      ]
    },
    {
      "cell_type": "markdown",
      "metadata": {
        "id": "nOTCT3RkaMGx",
        "colab_type": "text"
      },
      "source": [
        "### `values`"
      ]
    },
    {
      "cell_type": "code",
      "metadata": {
        "id": "JFg1f4-gaMGx",
        "colab_type": "code",
        "colab": {},
        "outputId": "c046b36c-016d-4884-e84b-ea778d2a6c0e"
      },
      "source": [
        "d={1:'a', 2:'b'}\n",
        "\n",
        "print(d.values())\n",
        "print(iter(d.values()))\n",
        "\n",
        "for k in d.values():\n",
        "    print(k)\n",
        "\n",
        "print(\"__iter__\" in dir(d.values()))\n",
        "print(\"__next__\" in dir(d.values()))\n",
        "print(\"__next__\" in dir(iter(d.values())))\n",
        "print(\"__next__\" in dir(iter(d.values())))"
      ],
      "execution_count": 0,
      "outputs": [
        {
          "output_type": "stream",
          "text": [
            "dict_values(['a', 'b'])\n",
            "<dict_valueiterator object at 0x0000000005022368>\n",
            "a\n",
            "b\n",
            "True\n",
            "False\n",
            "True\n",
            "True\n"
          ],
          "name": "stdout"
        }
      ]
    },
    {
      "cell_type": "markdown",
      "metadata": {
        "id": "gbAg-VdSaMGz",
        "colab_type": "text"
      },
      "source": [
        "### `items`"
      ]
    },
    {
      "cell_type": "code",
      "metadata": {
        "id": "zHMpprHBaMG0",
        "colab_type": "code",
        "colab": {},
        "outputId": "295e2156-fd61-4f98-f1d4-0aac31a33038"
      },
      "source": [
        "d={1:'a', 2:'b'}\n",
        "\n",
        "print(d.items())\n",
        "print(iter(d.items()))\n",
        "\n",
        "for k,v in d.items():\n",
        "    print(k,v)\n",
        "\n",
        "print(\"__iter__\" in dir(d.items()))\n",
        "print(\"__next__\" in dir(d.items()))\n",
        "print(\"__next__\" in dir(iter(d.items())))\n",
        "print(\"__next__\" in dir(iter(d.items())))"
      ],
      "execution_count": 0,
      "outputs": [
        {
          "output_type": "stream",
          "text": [
            "dict_items([(1, 'a'), (2, 'b')])\n",
            "<dict_itemiterator object at 0x0000000005022318>\n",
            "1 a\n",
            "2 b\n",
            "True\n",
            "False\n",
            "True\n",
            "True\n"
          ],
          "name": "stdout"
        }
      ]
    },
    {
      "cell_type": "markdown",
      "metadata": {
        "id": "3auAzGjraMG2",
        "colab_type": "text"
      },
      "source": [
        "# Indexing"
      ]
    },
    {
      "cell_type": "markdown",
      "metadata": {
        "id": "Pv2vwlxPaMG3",
        "colab_type": "text"
      },
      "source": [
        "## 自定义index"
      ]
    },
    {
      "cell_type": "code",
      "metadata": {
        "id": "1oDjvNYCaMG4",
        "colab_type": "code",
        "colab": {},
        "outputId": "f8f2f084-3853-4f23-ce56-a69aa8ac5577"
      },
      "source": [
        "class A():     \n",
        "        \n",
        "    def __getitem__(self, s):\n",
        "        print(\"getitem with:\", type(s),s)\n",
        "        \n",
        "    def __setitem__(self, s, v):\n",
        "        print(\"setitem with:\", type(s), s, type(v), v)\n",
        "    \n",
        "a=A()\n",
        "\n",
        "# getitem and setitem are different\n",
        "a['something']\n",
        "a['something']='something'\n",
        "\n",
        "# slice often used with indexing\n",
        "a[0:2]    # getting\n",
        "a[0:2]=1  # setting\n",
        "\n"
      ],
      "execution_count": 0,
      "outputs": [
        {
          "output_type": "stream",
          "text": [
            "getitem with: <class 'str'> something\n",
            "setitem with: <class 'str'> something <class 'str'> something\n",
            "getitem with: <class 'slice'> slice(0, 2, None)\n",
            "setitem with: <class 'slice'> slice(0, 2, None) <class 'int'> 1\n"
          ],
          "name": "stdout"
        }
      ]
    },
    {
      "cell_type": "markdown",
      "metadata": {
        "id": "LcRSKS9JaMG6",
        "colab_type": "text"
      },
      "source": [
        "## Index with dict"
      ]
    },
    {
      "cell_type": "code",
      "metadata": {
        "id": "gEVy4KffaMG7",
        "colab_type": "code",
        "colab": {},
        "outputId": "43409bf5-11eb-409b-c899-00a90928b459"
      },
      "source": [
        "a={'1':1, '2':2}\n",
        "\n",
        "# getitem, key存在\n",
        "print(a['1'])\n",
        "\n",
        "# getitem, key不存在\n",
        "try:\n",
        "    a['3']\n",
        "except KeyError as err:\n",
        "    print(type(err), err)\n",
        "# work like c++ std::map\n",
        "    \n",
        "# setitem, key存在\n",
        "a['1']='One'\n",
        "print(a['1'])\n",
        "    \n",
        "# setitem, key不存在\n",
        "a['3']='Three'\n",
        "print(a['3'])\n",
        "    "
      ],
      "execution_count": 0,
      "outputs": [
        {
          "output_type": "stream",
          "text": [
            "1\n",
            "<class 'KeyError'> '3'\n",
            "One\n",
            "Three\n"
          ],
          "name": "stdout"
        }
      ]
    },
    {
      "cell_type": "markdown",
      "metadata": {
        "id": "fAvds4J8aMG8",
        "colab_type": "text"
      },
      "source": [
        "# `id`"
      ]
    },
    {
      "cell_type": "markdown",
      "metadata": {
        "id": "Ryc1yk7OaMG9",
        "colab_type": "text"
      },
      "source": [
        "## `id` of empty object\n"
      ]
    },
    {
      "cell_type": "code",
      "metadata": {
        "id": "9q5b6CMRaMG-",
        "colab_type": "code",
        "colab": {},
        "outputId": "2afae434-b211-46e6-df19-d8eb9a390663"
      },
      "source": [
        "a,b=[],[]\n",
        "print(\"id(a), id(b): \", id(a), id(b))\n",
        "print(\"id(a) == id(b): \", id(a) == id(b))\n",
        "print(\"a is not b: \", a is not b)\n",
        "print(\"a == b: \", a == b)\n",
        "\n"
      ],
      "execution_count": 0,
      "outputs": [
        {
          "output_type": "stream",
          "text": [
            "id(a), id(b):  83946248 83873352\n",
            "id(a) == id(b):  False\n",
            "a is not b:  True\n",
            "a == b:  True\n"
          ],
          "name": "stdout"
        }
      ]
    },
    {
      "cell_type": "markdown",
      "metadata": {
        "id": "vwJ1X2HMaMHB",
        "colab_type": "text"
      },
      "source": [
        "### `id([]) == id([])`\n",
        "Some times,"
      ]
    },
    {
      "cell_type": "code",
      "metadata": {
        "id": "hNqInoiqaMHC",
        "colab_type": "code",
        "colab": {},
        "outputId": "dbd0d16b-cfc7-4b9b-e950-a301ba457e48"
      },
      "source": [
        "print(id([]) == id([]))"
      ],
      "execution_count": 0,
      "outputs": [
        {
          "output_type": "stream",
          "text": [
            "True\n"
          ],
          "name": "stdout"
        }
      ]
    },
    {
      "cell_type": "markdown",
      "metadata": {
        "id": "9T_bfyneaMHE",
        "colab_type": "text"
      },
      "source": [
        "This is because of memory re-usage.\n",
        "They have the same id, but they don't live at the same time"
      ]
    },
    {
      "cell_type": "markdown",
      "metadata": {
        "id": "mfpWkuFqaMHF",
        "colab_type": "text"
      },
      "source": [
        "## `True` is always `True`, `False` is always `False`"
      ]
    },
    {
      "cell_type": "code",
      "metadata": {
        "id": "vpOH7sH2aMHF",
        "colab_type": "code",
        "colab": {},
        "outputId": "ace2087d-d1f4-41bf-ddce-a639e8872eba"
      },
      "source": [
        "print((0==0) is (1==1))\n",
        "print((0!=1) is (1!=0))\n",
        "print(id(True), id(0==0))\n",
        "print(id(False), id(0!=0))"
      ],
      "execution_count": 0,
      "outputs": [
        {
          "output_type": "stream",
          "text": [
            "True\n",
            "True\n",
            "1380633008 1380633008\n",
            "1380633040 1380633040\n"
          ],
          "name": "stdout"
        }
      ]
    },
    {
      "cell_type": "markdown",
      "metadata": {
        "id": "JjxlLbs9aMHH",
        "colab_type": "text"
      },
      "source": [
        "## `'== True'` is not equal to `'is True'`"
      ]
    },
    {
      "cell_type": "code",
      "metadata": {
        "id": "kJvWybvQaMHI",
        "colab_type": "code",
        "colab": {},
        "outputId": "7237ffe7-473c-4302-f753-e5591f9128cf"
      },
      "source": [
        "print(1 == True)\n",
        "print(1 is True)\n",
        "print(bool(1) is True)"
      ],
      "execution_count": 0,
      "outputs": [
        {
          "output_type": "stream",
          "text": [
            "True\n",
            "False\n",
            "True\n"
          ],
          "name": "stdout"
        }
      ]
    },
    {
      "cell_type": "markdown",
      "metadata": {
        "id": "YoZg8ZtDaMHJ",
        "colab_type": "text"
      },
      "source": [
        "## Often, `'a' is 'a'`"
      ]
    },
    {
      "cell_type": "code",
      "metadata": {
        "id": "FRqh19t7aMHK",
        "colab_type": "code",
        "colab": {},
        "outputId": "ff0fb2e6-550f-4c4b-a1d0-1c781441a323"
      },
      "source": [
        "print(id('a'))\n",
        "print('ab'[0:1])\n",
        "print(id('ab'[0:1]))\n"
      ],
      "execution_count": 0,
      "outputs": [
        {
          "output_type": "stream",
          "text": [
            "39583560\n",
            "a\n",
            "39583560\n"
          ],
          "name": "stdout"
        }
      ]
    },
    {
      "cell_type": "markdown",
      "metadata": {
        "id": "LcFzmwMeaMHL",
        "colab_type": "text"
      },
      "source": [
        "# `None`"
      ]
    },
    {
      "cell_type": "markdown",
      "metadata": {
        "id": "vY6uZ6VQaMHM",
        "colab_type": "text"
      },
      "source": [
        "## `None` is not anything but `None`"
      ]
    },
    {
      "cell_type": "code",
      "metadata": {
        "id": "5Lgy00xAaMHM",
        "colab_type": "code",
        "colab": {},
        "outputId": "de630305-ae69-4c4f-e346-a09aeefd970c"
      },
      "source": [
        "print(None is not False)\n",
        "print(None is not 0)\n",
        "print(None is not '')\n",
        "print(None is None)\n"
      ],
      "execution_count": 0,
      "outputs": [
        {
          "output_type": "stream",
          "text": [
            "True\n",
            "True\n",
            "True\n",
            "True\n"
          ],
          "name": "stdout"
        }
      ]
    },
    {
      "cell_type": "markdown",
      "metadata": {
        "id": "06NnCUi_aMHO",
        "colab_type": "text"
      },
      "source": [
        "## `None` isn't equal to anything but `None`"
      ]
    },
    {
      "cell_type": "code",
      "metadata": {
        "id": "PzE8JUaqaMHO",
        "colab_type": "code",
        "colab": {},
        "outputId": "f7ee3b8a-ad21-4f3f-8344-d36d42842c0e"
      },
      "source": [
        "print(None != False)\n",
        "print(None != 0)\n",
        "print(None != '')\n",
        "print(None == None)\n"
      ],
      "execution_count": 0,
      "outputs": [
        {
          "output_type": "stream",
          "text": [
            "True\n",
            "True\n",
            "True\n",
            "True\n"
          ],
          "name": "stdout"
        }
      ]
    },
    {
      "cell_type": "markdown",
      "metadata": {
        "id": "18K-4IXFaMHR",
        "colab_type": "text"
      },
      "source": [
        "## People prefer using `is None`"
      ]
    },
    {
      "cell_type": "code",
      "metadata": {
        "id": "Fr5ehyvzaMHS",
        "colab_type": "code",
        "colab": {},
        "outputId": "03efcfc5-4da7-4436-8a52-beb2fe8ac9d8"
      },
      "source": [
        "a=None\n",
        "# GOOD\n",
        "if a is None:\n",
        "    print(\"a is None\")\n",
        "    \n",
        "# BAD\n",
        "if a == None:\n",
        "    print(\"a == None\")\n"
      ],
      "execution_count": 0,
      "outputs": [
        {
          "output_type": "stream",
          "text": [
            "a is None\n",
            "a == None\n"
          ],
          "name": "stdout"
        }
      ]
    },
    {
      "cell_type": "markdown",
      "metadata": {
        "id": "hvmav--HaMHU",
        "colab_type": "text"
      },
      "source": [
        "# Range"
      ]
    },
    {
      "cell_type": "markdown",
      "metadata": {
        "id": "6Xu094_5aMHU",
        "colab_type": "text"
      },
      "source": [
        "## range(...)是range对象"
      ]
    },
    {
      "cell_type": "code",
      "metadata": {
        "id": "Lo_dX5HfaMHU",
        "colab_type": "code",
        "colab": {},
        "outputId": "3831a4e4-98e6-4b28-e6c7-ae5c1ac72534"
      },
      "source": [
        "print(type(range(100)))"
      ],
      "execution_count": 0,
      "outputs": [
        {
          "output_type": "stream",
          "text": [
            "<class 'range'>\n"
          ],
          "name": "stdout"
        }
      ]
    },
    {
      "cell_type": "markdown",
      "metadata": {
        "id": "ugm4qbqdaMHX",
        "colab_type": "text"
      },
      "source": [
        "## range对象是iterative对象\n",
        "iterative对象(定义为)具有iter方法，没有next方法"
      ]
    },
    {
      "cell_type": "code",
      "metadata": {
        "id": "jzTSgfBOaMHX",
        "colab_type": "code",
        "colab": {},
        "outputId": "b36752e7-0d76-40da-83f9-c1c586e7d0d6"
      },
      "source": [
        "print('__iter__' in dir(range))\n",
        "print('__next__' in dir(range))"
      ],
      "execution_count": 0,
      "outputs": [
        {
          "output_type": "stream",
          "text": [
            "True\n",
            "False\n"
          ],
          "name": "stdout"
        }
      ]
    },
    {
      "cell_type": "markdown",
      "metadata": {
        "id": "6iPwDuYCaMHb",
        "colab_type": "text"
      },
      "source": [
        "## iterative对象可以用于for循环"
      ]
    },
    {
      "cell_type": "code",
      "metadata": {
        "id": "J6gQENwGaMHc",
        "colab_type": "code",
        "colab": {},
        "outputId": "45c53798-58f0-4e6f-fbdb-e3c83e015201"
      },
      "source": [
        "for i in range(10):\n",
        "    print(i,end=' ')"
      ],
      "execution_count": 0,
      "outputs": [
        {
          "output_type": "stream",
          "text": [
            "0 1 2 3 4 5 6 7 8 9 "
          ],
          "name": "stdout"
        }
      ]
    },
    {
      "cell_type": "markdown",
      "metadata": {
        "id": "YYMk6S7AaMHe",
        "colab_type": "text"
      },
      "source": [
        "## iter(range(...))对象是一个range_iterator对象"
      ]
    },
    {
      "cell_type": "code",
      "metadata": {
        "id": "gA7e24sfaMHe",
        "colab_type": "code",
        "colab": {},
        "outputId": "b3303786-a4e2-4588-ed0d-ff1fc48518a1"
      },
      "source": [
        "print(type(iter(range(100))))"
      ],
      "execution_count": 0,
      "outputs": [
        {
          "output_type": "stream",
          "text": [
            "<class 'range_iterator'>\n"
          ],
          "name": "stdout"
        }
      ]
    },
    {
      "cell_type": "markdown",
      "metadata": {
        "id": "aYReLAoMaMHf",
        "colab_type": "text"
      },
      "source": [
        "## range_iterator对象是iterator对象\n",
        "iterator对象(定义为)具有iter方法和next方法"
      ]
    },
    {
      "cell_type": "code",
      "metadata": {
        "id": "ugW-e3EMaMHg",
        "colab_type": "code",
        "colab": {},
        "outputId": "293f0aa1-a140-4208-ac70-ca120be992e6"
      },
      "source": [
        "print('__iter__' in dir(type(iter(range(100)))))\n",
        "print('__next__' in dir(type(iter(range(100)))))"
      ],
      "execution_count": 0,
      "outputs": [
        {
          "output_type": "stream",
          "text": [
            "True\n",
            "True\n"
          ],
          "name": "stdout"
        }
      ]
    },
    {
      "cell_type": "markdown",
      "metadata": {
        "id": "-a1nPBy3aMHh",
        "colab_type": "text"
      },
      "source": [
        "## iter(range_iterator)依然是range_iterator\n",
        "实际上是同一对象"
      ]
    },
    {
      "cell_type": "code",
      "metadata": {
        "id": "C19SsJZJaMHi",
        "colab_type": "code",
        "colab": {},
        "outputId": "e476bd0a-8737-447c-eea5-541532a13807"
      },
      "source": [
        "a=iter(range(10))\n",
        "print(type(iter(a)))\n",
        "print(a==iter(a))"
      ],
      "execution_count": 0,
      "outputs": [
        {
          "output_type": "stream",
          "text": [
            "<class 'range_iterator'>\n",
            "True\n"
          ],
          "name": "stdout"
        }
      ]
    },
    {
      "cell_type": "markdown",
      "metadata": {
        "id": "BxjjFMaJaMHj",
        "colab_type": "text"
      },
      "source": [
        "## iterator对象可以用于for循环\n"
      ]
    },
    {
      "cell_type": "code",
      "metadata": {
        "id": "8RkG1RYqaMHk",
        "colab_type": "code",
        "colab": {},
        "outputId": "472f8756-6778-4e1e-8ac7-0b6e78af327a"
      },
      "source": [
        "for i in iter(range(10)):\n",
        "    print(i, end=' ')    \n"
      ],
      "execution_count": 0,
      "outputs": [
        {
          "output_type": "stream",
          "text": [
            "0 1 2 3 4 5 6 7 8 9 "
          ],
          "name": "stdout"
        }
      ]
    },
    {
      "cell_type": "markdown",
      "metadata": {
        "id": "Ha-ikYv2aMHm",
        "colab_type": "text"
      },
      "source": [
        "# Generator"
      ]
    },
    {
      "cell_type": "markdown",
      "metadata": {
        "id": "KKFckwpqaMHn",
        "colab_type": "text"
      },
      "source": [
        "## yield定义generator"
      ]
    },
    {
      "cell_type": "code",
      "metadata": {
        "id": "oBIk2AkyaMHo",
        "colab_type": "code",
        "colab": {},
        "outputId": "24f922d7-3bd5-461f-e97e-9a5b4ec4a2f7"
      },
      "source": [
        "def gen():\n",
        "    for i in range(10):\n",
        "        yield i\n",
        "print(type(gen()))\n"
      ],
      "execution_count": 0,
      "outputs": [
        {
          "output_type": "stream",
          "text": [
            "<class 'generator'>\n"
          ],
          "name": "stdout"
        }
      ]
    },
    {
      "cell_type": "markdown",
      "metadata": {
        "id": "yg_3oTaXaMHp",
        "colab_type": "text"
      },
      "source": [
        "## ()定义generator"
      ]
    },
    {
      "cell_type": "code",
      "metadata": {
        "id": "6Zb1g6KDaMHp",
        "colab_type": "code",
        "colab": {},
        "outputId": "acb9224b-9c68-49df-a82c-2d421dec0eb6"
      },
      "source": [
        "a=(i for i in range(10))\n",
        "print(type(a))\n"
      ],
      "execution_count": 0,
      "outputs": [
        {
          "output_type": "stream",
          "text": [
            "<class 'generator'>\n"
          ],
          "name": "stdout"
        }
      ]
    },
    {
      "cell_type": "markdown",
      "metadata": {
        "id": "P5665gGUaMHr",
        "colab_type": "text"
      },
      "source": [
        "## generator是iterator"
      ]
    },
    {
      "cell_type": "code",
      "metadata": {
        "id": "a1S4l4y9aMHs",
        "colab_type": "code",
        "colab": {},
        "outputId": "345f5e82-cc26-47da-d148-6c0b09bb82f2"
      },
      "source": [
        "a=(i for i in range(10))\n",
        "print('__iter__' in dir(type(a)))\n",
        "print('__next__' in dir(type(a)))"
      ],
      "execution_count": 0,
      "outputs": [
        {
          "output_type": "stream",
          "text": [
            "True\n",
            "True\n"
          ],
          "name": "stdout"
        }
      ]
    },
    {
      "cell_type": "markdown",
      "metadata": {
        "id": "jjo-P2ReaMHt",
        "colab_type": "text"
      },
      "source": [
        "## generator可以用于循环"
      ]
    },
    {
      "cell_type": "code",
      "metadata": {
        "id": "1Eji3lEsaMHu",
        "colab_type": "code",
        "colab": {},
        "outputId": "39a42247-4295-463d-c479-17ebd811c36c"
      },
      "source": [
        "a=(i for i in range(10))\n",
        "for i in a:\n",
        "    print(i, end=' ')"
      ],
      "execution_count": 0,
      "outputs": [
        {
          "output_type": "stream",
          "text": [
            "0 1 2 3 4 5 6 7 8 9 "
          ],
          "name": "stdout"
        }
      ]
    },
    {
      "cell_type": "markdown",
      "metadata": {
        "id": "U_qfWR0NaMHv",
        "colab_type": "text"
      },
      "source": [
        "# `del`"
      ]
    },
    {
      "cell_type": "markdown",
      "metadata": {
        "id": "ioXht9DeaMHw",
        "colab_type": "text"
      },
      "source": [
        "## `del` remove variable from local variables list"
      ]
    },
    {
      "cell_type": "code",
      "metadata": {
        "id": "L5dXEynLaMHx",
        "colab_type": "code",
        "colab": {},
        "outputId": "786b487a-035a-4dc0-ca0b-dc2f9ec10157"
      },
      "source": [
        "a=1\n",
        "del a\n",
        "try:\n",
        "    print(a)\n",
        "except NameError as err:\n",
        "    print(err)\n",
        "    "
      ],
      "execution_count": 0,
      "outputs": [
        {
          "output_type": "stream",
          "text": [
            "name 'a' is not defined\n"
          ],
          "name": "stdout"
        }
      ]
    },
    {
      "cell_type": "markdown",
      "metadata": {
        "id": "Ydrp7Lk8aMHy",
        "colab_type": "text"
      },
      "source": [
        "## `used=None`和`del used`不同\n",
        "对于垃圾收集器来说是相同的，但是`del used`彻底从局部变量列表删除了这个变量"
      ]
    },
    {
      "cell_type": "code",
      "metadata": {
        "id": "IbNy8lSpaMHy",
        "colab_type": "code",
        "colab": {},
        "outputId": "23824536-4fd8-4255-cbd0-e1b80d1aef41"
      },
      "source": [
        "a=1\n",
        "a=None\n",
        "try:\n",
        "    print(a)\n",
        "except NameError as err:\n",
        "    print(err)"
      ],
      "execution_count": 0,
      "outputs": [
        {
          "output_type": "stream",
          "text": [
            "None\n"
          ],
          "name": "stdout"
        }
      ]
    },
    {
      "cell_type": "markdown",
      "metadata": {
        "id": "dm6diJMWaMH0",
        "colab_type": "text"
      },
      "source": [
        "# IO"
      ]
    },
    {
      "cell_type": "markdown",
      "metadata": {
        "id": "_tAxNYUyaMH0",
        "colab_type": "text"
      },
      "source": [
        "### open file as binary"
      ]
    },
    {
      "cell_type": "code",
      "metadata": {
        "id": "t_DrabzsaMH1",
        "colab_type": "code",
        "colab": {},
        "outputId": "5303db0f-7324-406d-e96a-9e7bfb620576"
      },
      "source": [
        "with open('a.txt', 'rb') as f:\n",
        "    content = f.read()\n",
        "print(type(content))\n",
        "print(content)\n"
      ],
      "execution_count": 0,
      "outputs": [
        {
          "output_type": "stream",
          "text": [
            "<class 'bytes'>\n",
            "b'1\\r\\n2\\r\\n'\n"
          ],
          "name": "stdout"
        }
      ]
    },
    {
      "cell_type": "markdown",
      "metadata": {
        "id": "7egmsMKBaMH2",
        "colab_type": "text"
      },
      "source": [
        "### open file as text"
      ]
    },
    {
      "cell_type": "code",
      "metadata": {
        "id": "MpWs_Xi8aMH2",
        "colab_type": "code",
        "colab": {},
        "outputId": "e4f8a21f-8f24-4eb9-a55a-b7b63863a685"
      },
      "source": [
        "#import sys\n",
        "#print(sys.getdefaultencoding())\n",
        "\n",
        "with open('a.txt', encoding='utf-8') as f:\n",
        "    content=f.read()\n",
        "print(type(content))\n",
        "    \n",
        "with open('a.txt', encoding='utf-8') as f:\n",
        "    content=f.readlines()\n",
        "print(type(content), type(content[0]))\n"
      ],
      "execution_count": 0,
      "outputs": [
        {
          "output_type": "stream",
          "text": [
            "<class 'str'>\n",
            "<class 'list'> <class 'str'>\n"
          ],
          "name": "stdout"
        }
      ]
    },
    {
      "cell_type": "markdown",
      "metadata": {
        "id": "-qTOnQK7aMH3",
        "colab_type": "text"
      },
      "source": [
        "### readline\n",
        "f.readline() reads a single line from the file; a newline character (\\n) is left at the end of the string, and is only omitted on the last line of the file if the file doesn’t end in a newline. This makes the return value unambiguous; if f.readline() returns an empty string, the end of the file has been reached, while a blank line is represented by '\\n', a string containing only a single newline.\n"
      ]
    },
    {
      "cell_type": "code",
      "metadata": {
        "id": "OzbBQgIZaMH5",
        "colab_type": "code",
        "colab": {},
        "outputId": "d93bbda4-3b89-417a-c7e4-39f7aae78c12"
      },
      "source": [
        "with open('a.txt', encoding='utf-8') as f:\n",
        "    while True:\n",
        "        l = f.readline()\n",
        "        print(l,end='')\n",
        "        if len(l) == 0:\n",
        "            break\n",
        "\n",
        "with open('a.txt', encoding='utf-8') as f:\n",
        "    while True:\n",
        "        l = f.readline().strip()\n",
        "        print(l)\n",
        "        if len(l) == 0:\n",
        "            break\n"
      ],
      "execution_count": 0,
      "outputs": [
        {
          "output_type": "stream",
          "text": [
            "1\n",
            "2\n",
            "1\n",
            "2\n",
            "\n"
          ],
          "name": "stdout"
        }
      ]
    },
    {
      "cell_type": "code",
      "metadata": {
        "id": "tOJf6PLiaMH7",
        "colab_type": "code",
        "colab": {}
      },
      "source": [
        ""
      ],
      "execution_count": 0,
      "outputs": []
    }
  ]
}