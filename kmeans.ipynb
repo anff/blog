{
 "cells": [
  {
   "cell_type": "markdown",
   "metadata": {
    "toc": true
   },
   "source": [
    "<h1>Table of Contents<span class=\"tocSkip\"></span></h1>\n",
    "<div class=\"toc\"><ul class=\"toc-item\"><li><span><a href=\"#KMeans\" data-toc-modified-id=\"KMeans-1\"><span class=\"toc-item-num\">1&nbsp;&nbsp;</span>KMeans</a></span><ul class=\"toc-item\"><li><span><a href=\"#Generating-two-clusters\" data-toc-modified-id=\"Generating-two-clusters-1.1\"><span class=\"toc-item-num\">1.1&nbsp;&nbsp;</span>Generating two clusters</a></span></li><li><span><a href=\"#Clustering-data\" data-toc-modified-id=\"Clustering-data-1.2\"><span class=\"toc-item-num\">1.2&nbsp;&nbsp;</span>Clustering data</a></span></li><li><span><a href=\"#Iterations\" data-toc-modified-id=\"Iterations-1.3\"><span class=\"toc-item-num\">1.3&nbsp;&nbsp;</span>Iterations</a></span></li></ul></li></ul></div>"
   ]
  },
  {
   "cell_type": "markdown",
   "metadata": {},
   "source": [
    "# KMeans"
   ]
  },
  {
   "cell_type": "code",
   "execution_count": 1,
   "metadata": {},
   "outputs": [],
   "source": [
    "import numpy as np\n",
    "\n",
    "class KMeans:\n",
    "        \n",
    "    def __init__(self, n_clusters=2):\n",
    "        self.K = n_clusters\n",
    "    \n",
    "    def fit(self, X, max_iter=10):\n",
    "        assert X.ndim == 2, X.shape\n",
    "        \n",
    "        K = self.K\n",
    "        ndata = X.shape[0]\n",
    "        nfeatures=X.shape[1]\n",
    "        \n",
    "        # initial center\n",
    "        center_examples=np.random.choice(ndata, self.K)\n",
    "        center=X[center_examples]\n",
    "        assert center.shape == (K,nfeatures)\n",
    "\n",
    "        \n",
    "        self.cs=[]\n",
    "        self.ls=[]\n",
    "        \n",
    "        last_labels=None\n",
    "        for it in range(max_iter):\n",
    "            labels=self.get_labels(center,X)\n",
    "\n",
    "            if (i > 0) and np.array_equal(last_labels, labels):\n",
    "                break\n",
    "\n",
    "            # save data\n",
    "            self.center_=center\n",
    "            self.labels_=labels\n",
    "            self.cs.append(center)\n",
    "            self.ls.append(labels)\n",
    "            \n",
    "            # update center\n",
    "            center=np.zeros(shape=(K,nfeatures),dtype=X.dtype)\n",
    "            for k in range(K):\n",
    "                center[k,:]=np.mean(X[labels==k],axis=0)\n",
    "                \n",
    "            last_labels=labels\n",
    "                \n",
    "    def predict(self, X):\n",
    "        return self.get_labels(self.center_, X)\n",
    "    \n",
    "    def get_labels(self, center, X):\n",
    "        K = self.K\n",
    "        ndata = X.shape[0]\n",
    "        nfeatures=X.shape[1]\n",
    "        \n",
    "        center3=center.reshape(1,K,nfeatures)\n",
    "        X3=X.reshape(ndata,1,nfeatures)\n",
    "        \n",
    "        #[ndata, K, nfeatures]\n",
    "        diff=X3-center3\n",
    "        assert diff.shape == (ndata, K, nfeatures)\n",
    "\n",
    "        #distance square [ndata, K]\n",
    "        dist=np.sum(np.square(diff), axis=2)\n",
    "        assert dist.shape == (ndata, K)\n",
    "\n",
    "        #labels [ndata]\n",
    "        labels=np.argmin(dist,axis=1)\n",
    "        assert labels.shape == (ndata,), labels.shape\n",
    "        return labels\n",
    "    \n"
   ]
  },
  {
   "cell_type": "markdown",
   "metadata": {},
   "source": [
    "## Generating two clusters "
   ]
  },
  {
   "cell_type": "code",
   "execution_count": 2,
   "metadata": {},
   "outputs": [
    {
     "ename": "SyntaxError",
     "evalue": "invalid syntax (<ipython-input-2-1eea1b8cf3c3>, line 19)",
     "output_type": "error",
     "traceback": [
      "\u001b[1;36m  File \u001b[1;32m\"<ipython-input-2-1eea1b8cf3c3>\"\u001b[1;36m, line \u001b[1;32m19\u001b[0m\n\u001b[1;33m    plt.xlabel(\"x\")t\u001b[0m\n\u001b[1;37m                   ^\u001b[0m\n\u001b[1;31mSyntaxError\u001b[0m\u001b[1;31m:\u001b[0m invalid syntax\n"
     ]
    }
   ],
   "source": [
    "import numpy as np\n",
    "import matplotlib.pyplot as plt\n",
    "%matplotlib inline\n",
    "\n",
    "np.random.seed(21)\n",
    "N=100\n",
    "X1=np.random.randn(N)\n",
    "Y1=np.random.randn(N)\n",
    "X2=np.random.randn(N)+2\n",
    "Y2=np.random.randn(N)\n",
    "\n",
    "X=np.hstack((X1,X2))\n",
    "Y=np.hstack((Y1,Y2))\n",
    "XY=np.c_[X,Y]\n",
    "\n",
    "plt.figure()\n",
    "plt.scatter(X1,Y1,label=\"0\")\n",
    "plt.scatter(X2,Y2,label=\"1\")\n",
    "plt.xlabel(\"x\")t\n",
    "plt.ylabel(\"y\")\n",
    "plt.legend()\n",
    "plt.show()"
   ]
  },
  {
   "cell_type": "markdown",
   "metadata": {},
   "source": [
    "## Clustering data"
   ]
  },
  {
   "cell_type": "code",
   "execution_count": null,
   "metadata": {},
   "outputs": [],
   "source": [
    "kmeans=KMeans()\n",
    "kmeans.fit(XY)\n",
    "XY1_=XY[kmeans.labels_==0]\n",
    "XY2_=XY[kmeans.labels_==1]\n",
    "\n",
    "\n",
    "plt.figure()\n",
    "plt.scatter(XY1_[:,0], XY1_[:,1],label=\"0\")\n",
    "plt.scatter(XY2_[:,0], XY2_[:,1],label=\"1\")\n",
    "plt.xlabel(\"x\")\n",
    "plt.ylabel(\"y\")\n",
    "plt.legend()\n",
    "plt.show()\n"
   ]
  },
  {
   "cell_type": "markdown",
   "metadata": {},
   "source": [
    "## Iterations"
   ]
  },
  {
   "cell_type": "code",
   "execution_count": null,
   "metadata": {},
   "outputs": [],
   "source": [
    "np.random.seed(13)\n",
    "N=100\n",
    "X1=np.random.randn(N)\n",
    "Y1=np.random.randn(N)\n",
    "X2=np.random.randn(N)+2\n",
    "Y2=np.random.randn(N)\n",
    "\n",
    "X=np.hstack((X1,X2))\n",
    "Y=np.hstack((Y1,Y2))\n",
    "XY=np.c_[X,Y]\n",
    "\n",
    "kmeans=KMeans()\n",
    "kmeans.fit(XY,max_iter=10)\n",
    "\n",
    "M=3\n",
    "N=2\n",
    "f,ax=plt.subplots(M,N,figsize=(10,8))\n",
    "for i in range(M):\n",
    "    for j in range(N):\n",
    "        fig_iter=i*N+j\n",
    "        iter=min(fig_iter,len(kmeans.ls)-1)        \n",
    "        XY1_=XY[kmeans.ls[iter]==0]\n",
    "        XY2_=XY[kmeans.ls[iter]==1]\n",
    "        ax[i][j].scatter(XY1_[:,0], XY1_[:,1],label=\"0\")\n",
    "        ax[i][j].scatter(XY2_[:,0], XY2_[:,1],label=\"1\")\n",
    "        ax[i][j].scatter(kmeans.cs[iter][0:1,0], kmeans.cs[iter][0:1,1],marker='+',s=200)\n",
    "        ax[i][j].scatter(kmeans.cs[iter][1:2,0], kmeans.cs[iter][1:2,1],marker='+',s=200)\n",
    "        ax[i][j].set_title(str(fig_iter))\n",
    "    \n",
    "    "
   ]
  }
 ],
 "metadata": {
  "kernelspec": {
   "display_name": "Python 3",
   "language": "python",
   "name": "python3"
  },
  "language_info": {
   "codemirror_mode": {
    "name": "ipython",
    "version": 3
   },
   "file_extension": ".py",
   "mimetype": "text/x-python",
   "name": "python",
   "nbconvert_exporter": "python",
   "pygments_lexer": "ipython3",
   "version": "3.6.7"
  },
  "toc": {
   "base_numbering": 1,
   "nav_menu": {},
   "number_sections": true,
   "sideBar": true,
   "skip_h1_title": false,
   "title_cell": "Table of Contents",
   "title_sidebar": "Contents",
   "toc_cell": true,
   "toc_position": {},
   "toc_section_display": true,
   "toc_window_display": false
  }
 },
 "nbformat": 4,
 "nbformat_minor": 2
}
