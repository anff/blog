{
 "cells": [
  {
   "cell_type": "markdown",
   "metadata": {
    "toc": true
   },
   "source": [
    "<h1>Table of Contents<span class=\"tocSkip\"></span></h1>\n",
    "<div class=\"toc\"><ul class=\"toc-item\"><li><span><a href=\"#Implementation\" data-toc-modified-id=\"Implementation-1\"><span class=\"toc-item-num\">1&nbsp;&nbsp;</span>Implementation</a></span></li><li><span><a href=\"#Linear-Regression\" data-toc-modified-id=\"Linear-Regression-2\"><span class=\"toc-item-num\">2&nbsp;&nbsp;</span>Linear Regression</a></span></li><li><span><a href=\"#Ridge-Regression\" data-toc-modified-id=\"Ridge-Regression-3\"><span class=\"toc-item-num\">3&nbsp;&nbsp;</span>Ridge Regression</a></span></li><li><span><a href=\"#Lasso\" data-toc-modified-id=\"Lasso-4\"><span class=\"toc-item-num\">4&nbsp;&nbsp;</span>Lasso</a></span></li><li><span><a href=\"#Comparison\" data-toc-modified-id=\"Comparison-5\"><span class=\"toc-item-num\">5&nbsp;&nbsp;</span>Comparison</a></span></li><li><span><a href=\"#Benchmark\" data-toc-modified-id=\"Benchmark-6\"><span class=\"toc-item-num\">6&nbsp;&nbsp;</span>Benchmark</a></span><ul class=\"toc-item\"><li><span><a href=\"#Linear-Regression\" data-toc-modified-id=\"Linear-Regression-6.1\"><span class=\"toc-item-num\">6.1&nbsp;&nbsp;</span>Linear Regression</a></span></li><li><span><a href=\"#Lasso\" data-toc-modified-id=\"Lasso-6.2\"><span class=\"toc-item-num\">6.2&nbsp;&nbsp;</span>Lasso</a></span></li><li><span><a href=\"#inner-or-sum\" data-toc-modified-id=\"inner-or-sum-6.3\"><span class=\"toc-item-num\">6.3&nbsp;&nbsp;</span><code>inner</code> or <code>sum</code></a></span></li><li><span><a href=\"#einsum-or-sum\" data-toc-modified-id=\"einsum-or-sum-6.4\"><span class=\"toc-item-num\">6.4&nbsp;&nbsp;</span><code>einsum</code> or <code>sum</code></a></span></li></ul></li></ul></div>"
   ]
  },
  {
   "cell_type": "markdown",
   "metadata": {},
   "source": [
    "# Implementation"
   ]
  },
  {
   "cell_type": "code",
   "execution_count": 1,
   "metadata": {},
   "outputs": [],
   "source": [
    "import numpy as np\n",
    "class LinearRegression:\n",
    "    \n",
    "    def __init__(self):\n",
    "        pass\n",
    "     \n",
    "    def fitQR(self, X, y):\n",
    "        X=np.c_[X,np.ones(shape=(X.shape[0],1),dtype=X.dtype)]\n",
    "        Q,R=np.linalg.qr(X, mode='reduced')\n",
    "        W=np.linalg.solve(R, Q.T.dot(y))\n",
    "        self.coeff_=W\n",
    "\n",
    "    def fitSVD(self, X, y):\n",
    "        X=np.c_[X,np.ones(shape=(X.shape[0],1),dtype=X.dtype)]\n",
    "        U,D,VT=np.linalg.svd(X, full_matrices=False)\n",
    "        W=VT.T.dot((1/D*U.T.dot(y)))\n",
    "        self.coeff_=W\n",
    "        \n",
    "    \n",
    "    def fit(self,X,y):\n",
    "        self.fitSVD(X,y)\n",
    "        \n",
    "    def predict(self, X):\n",
    "        X=np.c_[X,np.ones(shape=(X.shape[0],1),dtype=X.dtype)]\n",
    "        return np.dot(X,self.coeff_)\n",
    "        \n",
    "        \n",
    "class Ridge:\n",
    "    \n",
    "    def __init__(self,alpha=0.0):\n",
    "        self.alpha_ = alpha\n",
    "        pass\n",
    "    \n",
    "    def fit(self,X,y):\n",
    "        self.fitSVD(X,y)\n",
    "    \n",
    "\n",
    "    def fitSVD(self, X, y):\n",
    "        X=np.c_[X,np.ones(shape=(X.shape[0],1),dtype=X.dtype)]\n",
    "        U,D,VT=np.linalg.svd(X, full_matrices=False)\n",
    "        invD=1/(np.square(D)+self.alpha_)*D\n",
    "        W=VT.T.dot(invD*U.T.dot(y))\n",
    "        self.coeff_=W\n",
    "                \n",
    "    def predict(self, X):\n",
    "        X=np.c_[X,np.ones(shape=(X.shape[0],1),dtype=X.dtype)]\n",
    "        return np.dot(X,self.coeff_)\n",
    "\n",
    "class Lasso:\n",
    "    \n",
    "    def __init__(self,alpha=0.0):\n",
    "        self.alpha_ = alpha\n",
    "        pass\n",
    "    \n",
    "    def fit(self,X,y):\n",
    "\n",
    "        nfeatures=X.shape[1]\n",
    "        \n",
    "        W=np.zeros(nfeatures,dtype=X.dtype)        \n",
    "        b=0\n",
    "        \n",
    "        XTX=X.T.dot(X)\n",
    "        assert XTX.shape == (nfeatures,nfeatures)\n",
    "        \n",
    "        #Bs=np.einsum(\"ij,ij->j\", X, X)\n",
    "        #assert Bs.shape == (nfeatures,)\n",
    "        \n",
    "        XTy=X.T.dot(y)\n",
    "        assert XTy.shape == (nfeatures,)\n",
    "        \n",
    "        XT1=np.sum(X, axis=0)\n",
    "        assert XT1.shape == (nfeatures,)\n",
    "        \n",
    "        y_mean = np.mean(y)\n",
    "        \n",
    "        for it in range(100):\n",
    "            for f in range(nfeatures):\n",
    "                \n",
    "                A=XTy[f]-XTX[f].dot(W)-b*XT1[f]+XTX[f][f]*W[f]\n",
    "                B=XTX[f][f]                \n",
    "                                \n",
    "                if A > self.alpha_:\n",
    "                    weight=(A-self.alpha_)/B\n",
    "                elif A < -self.alpha_:\n",
    "                    weight=(A+self.alpha_)/B\n",
    "                else:\n",
    "                    weight=0.0\n",
    "                    \n",
    "                W[f]=weight\n",
    "\n",
    "            b=y_mean-XT1.dot(W)/X.shape[0]                \n",
    "            \n",
    "        self.coeff_=np.append(W,b)\n",
    "                            \n",
    "    def predict(self, X):\n",
    "        X=np.c_[X,np.ones(shape=(X.shape[0],1),dtype=X.dtype)]\n",
    "        return np.dot(X,self.coeff_)\n",
    "\n"
   ]
  },
  {
   "cell_type": "markdown",
   "metadata": {},
   "source": [
    "# Linear Regression"
   ]
  },
  {
   "cell_type": "code",
   "execution_count": 2,
   "metadata": {},
   "outputs": [
    {
     "name": "stdout",
     "output_type": "stream",
     "text": [
      "[-0.00567927  0.740728    2.50934544  2.99813507  3.64563901  0.03629598]\n",
      "[-0.00567927  0.740728    2.50934544  2.99813507  3.64563901  0.03629598]\n",
      "Test prediction\n",
      "[9.92446424]\n"
     ]
    }
   ],
   "source": [
    "def data():\n",
    "    N=100\n",
    "    M=5\n",
    "    np.random.seed(0)\n",
    "    X=np.random.rand(N,M)\n",
    "    w=np.arange(M)\n",
    "    y=np.sum(w.reshape(1,M)*X, axis=1) + np.random.randn(N)\n",
    "    return X,y\n",
    "\n",
    "X,y=data()\n",
    "\n",
    "lr=LinearRegression()\n",
    "lr.fitSVD(X,y)\n",
    "print(lr.coeff_)\n",
    "lr.fitQR(X,y)\n",
    "print(lr.coeff_)\n",
    "\n",
    "print(\"Test prediction\")\n",
    "yhat=lr.predict(np.ones(shape=(1,X.shape[1])))\n",
    "print(yhat)\n"
   ]
  },
  {
   "cell_type": "markdown",
   "metadata": {},
   "source": [
    "# Ridge Regression"
   ]
  },
  {
   "cell_type": "code",
   "execution_count": 3,
   "metadata": {},
   "outputs": [
    {
     "name": "stdout",
     "output_type": "stream",
     "text": [
      "[-0.00567927  0.740728    2.50934544  2.99813507  3.64563901  0.03629598]\n",
      "Test prediction\n",
      "[9.92446424]\n"
     ]
    }
   ],
   "source": [
    "X,y=data()\n",
    "\n",
    "lr=Ridge()\n",
    "lr.fitSVD(X,y)\n",
    "print(lr.coeff_)\n",
    "\n",
    "print(\"Test prediction\")\n",
    "yhat=lr.predict(np.ones(shape=(1,X.shape[1])))\n",
    "print(yhat)"
   ]
  },
  {
   "cell_type": "markdown",
   "metadata": {},
   "source": [
    "# Lasso"
   ]
  },
  {
   "cell_type": "code",
   "execution_count": 4,
   "metadata": {},
   "outputs": [
    {
     "name": "stdout",
     "output_type": "stream",
     "text": [
      "[-0.00567927  0.740728    2.50934544  2.99813507  3.64563901  0.03629598]\n",
      "[-0.00567942  0.74073203  2.50935022  2.99813567  3.6456346   0.03629366]\n",
      "[0.         0.63769806 2.41214042 2.91478495 3.56033953 0.21823494]\n",
      "Test prediction\n",
      "[9.74319789]\n"
     ]
    }
   ],
   "source": [
    "X,y=data()\n",
    "\n",
    "lr=LinearRegression()\n",
    "lr.fit(X,y)\n",
    "print(lr.coeff_)\n",
    "\n",
    "lr=Lasso()\n",
    "lr.fit(X,y)\n",
    "print(lr.coeff_)\n",
    "\n",
    "lr=Lasso(1)\n",
    "lr.fit(X,y)\n",
    "print(lr.coeff_)\n",
    "\n",
    "print(\"Test prediction\")\n",
    "yhat=lr.predict(np.ones(shape=(1,X.shape[1])))\n",
    "print(yhat)"
   ]
  },
  {
   "cell_type": "markdown",
   "metadata": {},
   "source": [
    "# Comparison"
   ]
  },
  {
   "cell_type": "code",
   "execution_count": 5,
   "metadata": {},
   "outputs": [
    {
     "name": "stdout",
     "output_type": "stream",
     "text": [
      "[1.42855661 0.34030425 0.69539092 3.13976547 3.12470413 0.96805321]\n",
      "[1.42855661 0.34030425 0.69539092 3.13976547 3.12470413 0.96805321]\n",
      "[1.20183503 0.63078254 0.90930615 2.26309712 2.15159384 1.61753605]\n",
      "[1.42854656 0.34115163 0.69573482 3.13945548 3.12472082 0.96765855]\n",
      "[1.17314293 0.         0.34534902 2.59372845 2.50793675 1.96148342]\n"
     ]
    }
   ],
   "source": [
    "\n",
    "N=20\n",
    "M=5\n",
    "np.random.seed(0)\n",
    "X=np.random.rand(N,M)\n",
    "w=np.arange(M)\n",
    "y=np.sum(w.reshape(1,M)*X, axis=1) + np.random.randn(N)\n",
    "\n",
    "lr=LinearRegression()\n",
    "lr.fit(X,y)\n",
    "print(lr.coeff_)\n",
    "\n",
    "lr=Ridge(0)\n",
    "lr.fit(X,y)\n",
    "print(lr.coeff_)\n",
    "\n",
    "lr=Ridge(1)\n",
    "lr.fit(X,y)\n",
    "print(lr.coeff_)\n",
    "\n",
    "\n",
    "lr=Lasso(0)\n",
    "lr.fit(X,y)\n",
    "print(lr.coeff_)\n",
    "\n",
    "lr=Lasso(1)\n",
    "lr.fit(X,y)\n",
    "print(lr.coeff_)"
   ]
  },
  {
   "cell_type": "markdown",
   "metadata": {},
   "source": [
    "# Benchmark"
   ]
  },
  {
   "cell_type": "markdown",
   "metadata": {},
   "source": [
    "## Linear Regression"
   ]
  },
  {
   "cell_type": "code",
   "execution_count": 6,
   "metadata": {},
   "outputs": [
    {
     "name": "stdout",
     "output_type": "stream",
     "text": [
      "[-0.13699284  1.03452305  1.98131832  2.95835867  3.86685136  5.08281453\n",
      "  5.84551664  7.01901397  7.92140524  8.83446845  0.23926682]\n",
      "[-0.13699284  1.03452305  1.98131832  2.95835867  3.86685136  5.08281453\n",
      "  5.84551664  7.01901397  7.92140524  8.83446845  0.23926682]\n",
      "[-0.13699284  1.03452305  1.98131832  2.95835867  3.86685136  5.08281453\n",
      "  5.84551664  7.01901397  7.92140524  8.83446845  0.23926682]\n",
      "[-0.13699284  1.03452305  1.98131832  2.95835867  3.86685136  5.08281453\n",
      "  5.84551664  7.01901397  7.92140524  8.83446845  0.23926682]\n",
      "[-0.13699284  1.03452305  1.98131832  2.95835867  3.86685136  5.08281453\n",
      "  5.84551664  7.01901397  7.92140524  8.83446845  0.23926682]\n",
      "[-0.13699284  1.03452305  1.98131832  2.95835867  3.86685136  5.08281453\n",
      "  5.84551664  7.01901397  7.92140524  8.83446845  0.23926682]\n",
      "[-0.13699284  1.03452305  1.98131832  2.95835867  3.86685136  5.08281453\n",
      "  5.84551664  7.01901397  7.92140524  8.83446845  0.23926682]\n",
      "[-0.13699284  1.03452305  1.98131832  2.95835867  3.86685136  5.08281453\n",
      "  5.84551664  7.01901397  7.92140524  8.83446845  0.23926682]\n",
      "[-0.13699284  1.03452305  1.98131832  2.95835867  3.86685136  5.08281453\n",
      "  5.84551664  7.01901397  7.92140524  8.83446845  0.23926682]\n",
      "[-0.13694932  1.03451856  1.98128697  2.95814519  3.86692335  5.08312933\n",
      "  5.84598238  7.01970256  7.92231814  8.83593838  0.23739356]\n",
      "linear\n",
      "218 µs ± 9.63 µs per loop (mean ± std. dev. of 7 runs, 1000 loops each)\n",
      "ridge\n",
      "217 µs ± 5.85 µs per loop (mean ± std. dev. of 7 runs, 1000 loops each)\n",
      "lasso\n",
      "3.11 ms ± 111 µs per loop (mean ± std. dev. of 7 runs, 100 loops each)\n",
      "467 µs ± 13 µs per loop (mean ± std. dev. of 7 runs, 1000 loops each)\n",
      "361 µs ± 11.7 µs per loop (mean ± std. dev. of 7 runs, 1000 loops each)\n",
      "415 µs ± 13.5 µs per loop (mean ± std. dev. of 7 runs, 1000 loops each)\n",
      "linear\n",
      "90.6 µs ± 3.12 µs per loop (mean ± std. dev. of 7 runs, 10000 loops each)\n",
      "86.9 µs ± 6.9 µs per loop (mean ± std. dev. of 7 runs, 10000 loops each)\n",
      "77.9 µs ± 2.52 µs per loop (mean ± std. dev. of 7 runs, 10000 loops each)\n",
      "135 µs ± 4.17 µs per loop (mean ± std. dev. of 7 runs, 10000 loops each)\n",
      "151 µs ± 8.32 µs per loop (mean ± std. dev. of 7 runs, 10000 loops each)\n",
      "235 µs ± 13.9 µs per loop (mean ± std. dev. of 7 runs, 1000 loops each)\n",
      "235 µs ± 13.8 µs per loop (mean ± std. dev. of 7 runs, 1000 loops each)\n",
      "225 µs ± 20.4 µs per loop (mean ± std. dev. of 7 runs, 1000 loops each)\n",
      "225 µs ± 14.4 µs per loop (mean ± std. dev. of 7 runs, 1000 loops each)\n",
      "216 µs ± 13.8 µs per loop (mean ± std. dev. of 7 runs, 1000 loops each)\n"
     ]
    }
   ],
   "source": [
    "import numpy as np\n",
    "        \n",
    "class LinearRegression1:\n",
    "    \n",
    "    def __init__(self):\n",
    "        pass\n",
    "    \n",
    "    def fit(self,X,y):\n",
    "        fitSVD1(X,y)\n",
    "    \n",
    "    def fitInv1(self, X, y):\n",
    "        '''\n",
    "        W=(X^T X)^-1 X^T y\n",
    "        calculate from left to right\n",
    "        '''\n",
    "        X=np.c_[X,np.ones(shape=(X.shape[0],1),dtype=X.dtype)]\n",
    "        W=np.linalg.inv(X.T.dot(X)).dot(X.T).dot(y)\n",
    "        self.coeff_=W\n",
    "\n",
    "    def fitInv2(self, X, y):        \n",
    "        '''\n",
    "        W=(X^T X)^-1 X^T y\n",
    "        calculate from right to left\n",
    "        '''\n",
    "        X=np.c_[X,np.ones(shape=(X.shape[0],1),dtype=X.dtype)]\n",
    "        W=np.linalg.inv(X.T.dot(X)).dot(X.T.dot(y))\n",
    "        self.coeff_=W\n",
    "\n",
    "    def fitInv3(self, X, y):        \n",
    "        '''\n",
    "        W=(X^T X)^-1 X^T y\n",
    "        calculate from right to left\n",
    "        '''\n",
    "        X=np.c_[X,np.ones(shape=(X.shape[0],1),dtype=X.dtype)]\n",
    "        W=np.linalg.solve(X.T.dot(X), X.T.dot(y))\n",
    "        self.coeff_=W\n",
    "        \n",
    "    def fitQR1(self, X, y):\n",
    "        X=np.c_[X,np.ones(shape=(X.shape[0],1),dtype=X.dtype)]\n",
    "        Q,R=np.linalg.qr(X.T.dot(X))\n",
    "        W=np.linalg.inv(R).dot(Q.T.dot(X.T.dot(y)))\n",
    "        self.coeff_=W\n",
    "\n",
    "    def fitQR2(self, X, y):\n",
    "        X=np.c_[X,np.ones(shape=(X.shape[0],1),dtype=X.dtype)]\n",
    "        Q,R=np.linalg.qr(X, mode='reduced')\n",
    "        W=np.linalg.inv(R).dot(Q.T.dot(y))\n",
    "        self.coeff_=W\n",
    "\n",
    "    def fitQR3(self, X, y):\n",
    "        X=np.c_[X,np.ones(shape=(X.shape[0],1),dtype=X.dtype)]\n",
    "        Q,R=np.linalg.qr(X, mode='reduced')\n",
    "        W=np.linalg.solve(R, Q.T.dot(y))\n",
    "        self.coeff_=W\n",
    "\n",
    "    def fitSVD1(self, X, y):\n",
    "        X=np.c_[X,np.ones(shape=(X.shape[0],1),dtype=X.dtype)]\n",
    "        U,D,VT=np.linalg.svd(X, full_matrices=False)\n",
    "        W=VT.T.dot((1/D*U.T.dot(y)))\n",
    "        self.coeff_=W\n",
    "\n",
    "N=1000\n",
    "M=10\n",
    "np.random.seed(0)\n",
    "X=np.random.rand(N,M)\n",
    "w=np.arange(M)\n",
    "w=np.power(w,1)\n",
    "y=np.sum(w.reshape(1,M)*X, axis=1) + np.random.randn(N)\n",
    "\n",
    "lr=LinearRegression1()\n",
    "\n",
    "lr.fitQR1(X,y)\n",
    "print(lr.coeff_)\n",
    "lr.fitQR2(X,y)\n",
    "print(lr.coeff_)\n",
    "lr.fitQR3(X,y)\n",
    "print(lr.coeff_)\n",
    "\n",
    "lr.fitInv1(X,y)\n",
    "print(lr.coeff_)\n",
    "lr.fitInv2(X,y)\n",
    "print(lr.coeff_)\n",
    "lr.fitInv3(X,y)\n",
    "print(lr.coeff_)\n",
    "\n",
    "lr.fitSVD1(X,y)\n",
    "print(lr.coeff_)\n",
    "\n",
    "linear=LinearRegression()\n",
    "linear.fit(X,y)\n",
    "print(linear.coeff_)\n",
    "\n",
    "ridge=Ridge()\n",
    "ridge.fit(X,y)\n",
    "print(ridge.coeff_)\n",
    "\n",
    "lasso=Lasso()\n",
    "lasso.fit(X,y)\n",
    "print(lasso.coeff_)\n",
    "\n",
    "import sklearn as sk\n",
    "import sklearn.linear_model\n",
    "sklr=sk.linear_model.LinearRegression()\n",
    "sklasso=sk.linear_model.Lasso()\n",
    "skridge=sk.linear_model.Ridge()\n",
    "\n",
    "print(\"linear\")\n",
    "%timeit linear.fit(X,y)\n",
    "print(\"ridge\")\n",
    "%timeit ridge.fit(X,y)\n",
    "print(\"lasso\")\n",
    "%timeit lasso.fit(X,y)\n",
    "%timeit sklr.fit(X,y)\n",
    "%timeit sklasso.fit(X,y)\n",
    "%timeit skridge.fit(X,y)\n",
    "\n",
    "\n",
    "print(\"linear\")\n",
    "%timeit lr.fitInv1(X,y)\n",
    "%timeit lr.fitInv2(X,y)\n",
    "%timeit lr.fitInv3(X,y)\n",
    "%timeit np.linalg.qr(X)\n",
    "%timeit lr.fitQR1(X,y)\n",
    "%timeit lr.fitQR2(X,y)\n",
    "%timeit lr.fitQR3(X,y)\n",
    "%timeit lr.fitSVD1(X,y)\n",
    "%timeit lr.fitSVD1(X,y)\n",
    "%timeit lr.fitSVD1(X,y)\n"
   ]
  },
  {
   "cell_type": "markdown",
   "metadata": {},
   "source": [
    "## Lasso"
   ]
  },
  {
   "cell_type": "code",
   "execution_count": 7,
   "metadata": {},
   "outputs": [
    {
     "name": "stdout",
     "output_type": "stream",
     "text": [
      "[-0.13694932  1.03451856  1.98128697  2.95814519  3.86692335  5.08312933\n",
      "  5.84598238  7.01970256  7.92231814  8.83593838  0.23739356]\n",
      "[-0.13694932  1.03451856  1.98128697  2.95814519  3.86692335  5.08312933\n",
      "  5.84598238  7.01970256  7.92231814  8.83593838  0.23739356]\n",
      "4.01 ms ± 104 µs per loop (mean ± std. dev. of 7 runs, 100 loops each)\n",
      "27.7 ms ± 485 µs per loop (mean ± std. dev. of 7 runs, 10 loops each)\n"
     ]
    }
   ],
   "source": [
    "class Lasso1:\n",
    "    \n",
    "    def __init__(self,alpha=0.0):\n",
    "        self.alpha_ = alpha\n",
    "        pass\n",
    "                \n",
    "    def fit(self,X,y):\n",
    "\n",
    "        nfeatures=X.shape[1]\n",
    "        \n",
    "        W=np.zeros(nfeatures,dtype=X.dtype)        \n",
    "        b=0\n",
    "        \n",
    "        for it in range(100):\n",
    "            for f in range(nfeatures):\n",
    "                residual=y-X.dot(W)-b+X[:,f]*W[f]\n",
    "                x=X[:,f]\n",
    "                A=np.sum(residual*x)\n",
    "                B=np.sum(np.square(x))\n",
    "                #print('A',A)\n",
    "                #print('B',B)\n",
    "                if A > self.alpha_:\n",
    "                    weight=(A-self.alpha_)/B\n",
    "                elif A < -self.alpha_:\n",
    "                    weight=(A+self.alpha_)/B\n",
    "                else:\n",
    "                    weight=0.0\n",
    "                W[f]=weight\n",
    "\n",
    "            residual=y-X.dot(W)\n",
    "            b=residual.mean()\n",
    "\n",
    "        self.coeff_=np.append(W,b)\n",
    "                \n",
    "    def predict(self, X):\n",
    "        X=np.c_[X,np.ones(shape=(X.shape[0],1),dtype=X.dtype)]\n",
    "        return np.dot(X,self.coeff_)\n",
    "\n",
    "\n",
    "N=1000\n",
    "M=10\n",
    "np.random.seed(0)\n",
    "X=np.random.rand(N,M)\n",
    "w=np.arange(M)\n",
    "w=np.power(w,1)\n",
    "y=np.sum(w.reshape(1,M)*X, axis=1) + np.random.randn(N)\n",
    "\n",
    "lasso0=Lasso()\n",
    "lasso.fit(X,y)\n",
    "print(lasso.coeff_)\n",
    "\n",
    "lasso1=Lasso1()\n",
    "lasso.fit(X,y)\n",
    "print(lasso.coeff_)\n",
    "\n",
    "%timeit lasso.fit(X,y)\n",
    "%timeit lasso1.fit(X,y)"
   ]
  },
  {
   "cell_type": "markdown",
   "metadata": {},
   "source": [
    "## `inner` or `sum`"
   ]
  },
  {
   "cell_type": "code",
   "execution_count": 8,
   "metadata": {},
   "outputs": [
    {
     "name": "stdout",
     "output_type": "stream",
     "text": [
      "4.9 µs ± 104 ns per loop (mean ± std. dev. of 7 runs, 100000 loops each)\n",
      "5.19 µs ± 229 ns per loop (mean ± std. dev. of 7 runs, 100000 loops each)\n",
      "821 ns ± 16.9 ns per loop (mean ± std. dev. of 7 runs, 1000000 loops each)\n",
      "836 ns ± 13.7 ns per loop (mean ± std. dev. of 7 runs, 1000000 loops each)\n",
      "4.3 µs ± 81.2 ns per loop (mean ± std. dev. of 7 runs, 100000 loops each)\n"
     ]
    }
   ],
   "source": [
    "N=1000\n",
    "x=np.random.randn(N)\n",
    "%timeit np.sum(x*x)\n",
    "%timeit np.sum(np.square(x))\n",
    "%timeit np.dot(x,x)\n",
    "%timeit np.inner(x,x)\n",
    "%timeit np.linalg.norm(x,ord=2)**2\n"
   ]
  },
  {
   "cell_type": "markdown",
   "metadata": {},
   "source": [
    "## `einsum` or `sum` "
   ]
  },
  {
   "cell_type": "code",
   "execution_count": 9,
   "metadata": {},
   "outputs": [
    {
     "name": "stdout",
     "output_type": "stream",
     "text": [
      "[8.31991292 3.78045401]\n",
      "[8.31991292 3.78045401]\n",
      "15.8 µs ± 314 ns per loop (mean ± std. dev. of 7 runs, 100000 loops each)\n",
      "8.55 µs ± 122 ns per loop (mean ± std. dev. of 7 runs, 100000 loops each)\n"
     ]
    }
   ],
   "source": [
    "N=2\n",
    "X=np.random.randn(N,N)\n",
    "print(np.sum(X*X, axis=0))\n",
    "print(np.einsum(\"ij,ij->j\",X,X))\n",
    "\n",
    "N=100\n",
    "X=np.random.randn(N,N)\n",
    "%timeit np.sum(X*X, axis=0)\n",
    "%timeit np.einsum(\"ij,ij->j\",X,X)\n"
   ]
  }
 ],
 "metadata": {
  "kernelspec": {
   "display_name": "Python 3",
   "language": "python",
   "name": "python3"
  },
  "language_info": {
   "codemirror_mode": {
    "name": "ipython",
    "version": 3
   },
   "file_extension": ".py",
   "mimetype": "text/x-python",
   "name": "python",
   "nbconvert_exporter": "python",
   "pygments_lexer": "ipython3",
   "version": "3.6.7"
  },
  "toc": {
   "base_numbering": 1,
   "nav_menu": {},
   "number_sections": true,
   "sideBar": true,
   "skip_h1_title": false,
   "title_cell": "Table of Contents",
   "title_sidebar": "Contents",
   "toc_cell": true,
   "toc_position": {},
   "toc_section_display": true,
   "toc_window_display": false
  }
 },
 "nbformat": 4,
 "nbformat_minor": 2
}
