{
 "cells": [
  {
   "cell_type": "markdown",
   "metadata": {
    "toc": true
   },
   "source": [
    "<h1>Table of Contents<span class=\"tocSkip\"></span></h1>\n",
    "<div class=\"toc\"><ul class=\"toc-item\"><li><span><a href=\"#Check-numba-version\" data-toc-modified-id=\"Check-numba-version-1\"><span class=\"toc-item-num\">1&nbsp;&nbsp;</span>Check <code>numba</code> version</a></span></li><li><span><a href=\"#First-numba-example\" data-toc-modified-id=\"First-numba-example-2\"><span class=\"toc-item-num\">2&nbsp;&nbsp;</span>First <code>numba</code> example</a></span></li><li><span><a href=\"#Second-example\" data-toc-modified-id=\"Second-example-3\"><span class=\"toc-item-num\">3&nbsp;&nbsp;</span>Second example</a></span></li></ul></div>"
   ]
  },
  {
   "cell_type": "markdown",
   "metadata": {},
   "source": [
    "# Check `numba` version\n"
   ]
  },
  {
   "cell_type": "code",
   "execution_count": 1,
   "metadata": {},
   "outputs": [
    {
     "name": "stdout",
     "output_type": "stream",
     "text": [
      "0.46.0\n"
     ]
    }
   ],
   "source": [
    "import numba as nb\n",
    "print(nb.__version__)"
   ]
  },
  {
   "cell_type": "markdown",
   "metadata": {},
   "source": [
    "# First `numba` example"
   ]
  },
  {
   "cell_type": "code",
   "execution_count": 2,
   "metadata": {},
   "outputs": [
    {
     "name": "stdout",
     "output_type": "stream",
     "text": [
      "n= 100\n",
      "131 µs ± 891 ns per loop (mean ± std. dev. of 7 runs, 10000 loops each)\n",
      "6.28 µs ± 21.5 ns per loop (mean ± std. dev. of 7 runs, 100000 loops each)\n",
      "947 ns ± 7.24 ns per loop (mean ± std. dev. of 7 runs, 1000000 loops each)\n",
      "n= 1000\n",
      "1.35 ms ± 27 µs per loop (mean ± std. dev. of 7 runs, 1000 loops each)\n",
      "18.7 µs ± 186 ns per loop (mean ± std. dev. of 7 runs, 100000 loops each)\n",
      "8.62 µs ± 264 ns per loop (mean ± std. dev. of 7 runs, 100000 loops each)\n",
      "n= 5000\n",
      "6.95 ms ± 84.7 µs per loop (mean ± std. dev. of 7 runs, 100 loops each)\n",
      "81.5 µs ± 1.62 µs per loop (mean ± std. dev. of 7 runs, 10000 loops each)\n",
      "68.6 µs ± 2.18 µs per loop (mean ± std. dev. of 7 runs, 10000 loops each)\n"
     ]
    }
   ],
   "source": [
    "import numpy as np\n",
    "import numba as nb\n",
    "\n",
    "def trace_python(a):\n",
    "    trace = 0\n",
    "    for i in range(a.shape[0]):\n",
    "        trace += np.tanh(a[i, i]) \n",
    "    return trace\n",
    "\n",
    "@nb.jit(nopython=True)\n",
    "def trace_numba(a):\n",
    "    '''\n",
    "    a[N,N]\n",
    "    '''\n",
    "    trace = 0\n",
    "    for i in range(a.shape[0]):\n",
    "        trace += np.tanh(a[i, i]) \n",
    "    return trace\n",
    "\n",
    "def trace_numpy(a):\n",
    "    trace = np.tanh(np.diag(a)).sum()\n",
    "    return trace\n",
    "\n",
    "\n",
    "\n",
    "for n in [100,1000, 5000]:\n",
    "    print(\"n=\",n)\n",
    "    a=np.random.rand(n,n)\n",
    "    %timeit trace_python(a)\n",
    "    %timeit trace_numpy(a)\n",
    "    %timeit trace_numba(a)\n",
    "\n"
   ]
  },
  {
   "cell_type": "markdown",
   "metadata": {},
   "source": [
    "# Second example"
   ]
  },
  {
   "cell_type": "code",
   "execution_count": 4,
   "metadata": {},
   "outputs": [
    {
     "name": "stdout",
     "output_type": "stream",
     "text": [
      "pure python:\n",
      "1.13 ms ± 6.94 µs per loop (mean ± std. dev. of 7 runs, 1000 loops each)\n",
      "numpy:\n",
      "4.93 µs ± 60.6 ns per loop (mean ± std. dev. of 7 runs, 100000 loops each)\n",
      "python jit:\n",
      "485 ns ± 1.67 ns per loop (mean ± std. dev. of 7 runs, 1000000 loops each)\n"
     ]
    }
   ],
   "source": [
    "import numpy as np\n",
    "import numba as nb\n",
    "\n",
    "def sum_py(v,idx):\n",
    "    sm=0\n",
    "    for i in range(idx.shape[0]):\n",
    "        sm += v[i]\n",
    "    return sm\n",
    "\n",
    "sum_jit=nb.jit(nopython=True)(sum_py)\n",
    "\n",
    "def sum_numpy(v,idx):\n",
    "    return np.sum(v[idx])\n",
    "\n",
    "a=np.random.randn(1000)\n",
    "idx=np.random.randint(1000,size=100)\n",
    "\n",
    "print(\"pure python:\")\n",
    "%timeit sum(a,idx)\n",
    "print(\"numpy:\")\n",
    "%timeit sum_numpy(a,idx)\n",
    "print(\"python jit:\")\n",
    "%timeit sum_jit(a,idx)\n"
   ]
  }
 ],
 "metadata": {
  "kernelspec": {
   "display_name": "Python 3",
   "language": "python",
   "name": "python3"
  },
  "language_info": {
   "codemirror_mode": {
    "name": "ipython",
    "version": 3
   },
   "file_extension": ".py",
   "mimetype": "text/x-python",
   "name": "python",
   "nbconvert_exporter": "python",
   "pygments_lexer": "ipython3",
   "version": "3.6.7"
  },
  "toc": {
   "base_numbering": 1,
   "nav_menu": {},
   "number_sections": true,
   "sideBar": true,
   "skip_h1_title": false,
   "title_cell": "Table of Contents",
   "title_sidebar": "Contents",
   "toc_cell": true,
   "toc_position": {},
   "toc_section_display": true,
   "toc_window_display": false
  }
 },
 "nbformat": 4,
 "nbformat_minor": 2
}
