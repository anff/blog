{
 "cells": [
  {
   "cell_type": "markdown",
   "metadata": {
    "toc": true
   },
   "source": [
    "<h1>Table of Contents<span class=\"tocSkip\"></span></h1>\n",
    "<div class=\"toc\"><ul class=\"toc-item\"><li><span><a href=\"#Bootstrap\" data-toc-modified-id=\"Bootstrap-1\"><span class=\"toc-item-num\">1&nbsp;&nbsp;</span>Bootstrap</a></span></li><li><span><a href=\"#Statistical-property-of-[mean-of-the-N-numbers]\" data-toc-modified-id=\"Statistical-property-of-[mean-of-the-N-numbers]-2\"><span class=\"toc-item-num\">2&nbsp;&nbsp;</span>Statistical property of [mean of the N numbers]</a></span><ul class=\"toc-item\"><li><span><a href=\"#Generating-N-random-numbers\" data-toc-modified-id=\"Generating-N-random-numbers-2.1\"><span class=\"toc-item-num\">2.1&nbsp;&nbsp;</span>Generating N random numbers</a></span></li><li><span><a href=\"#By-theory\" data-toc-modified-id=\"By-theory-2.2\"><span class=\"toc-item-num\">2.2&nbsp;&nbsp;</span>By theory</a></span></li><li><span><a href=\"#Or,-doing-monate-carlo,-because-we-know-how-the-N-numbers-were-generated!\" data-toc-modified-id=\"Or,-doing-monate-carlo,-because-we-know-how-the-N-numbers-were-generated!-2.3\"><span class=\"toc-item-num\">2.3&nbsp;&nbsp;</span>Or, doing monate carlo, because we know how the N numbers were generated!</a></span></li><li><span><a href=\"#Or,-we-can-bootstrap-with-original-sample\" data-toc-modified-id=\"Or,-we-can-bootstrap-with-original-sample-2.4\"><span class=\"toc-item-num\">2.4&nbsp;&nbsp;</span>Or, we can bootstrap with original sample</a></span></li><li><span><a href=\"#Comparison\" data-toc-modified-id=\"Comparison-2.5\"><span class=\"toc-item-num\">2.5&nbsp;&nbsp;</span>Comparison</a></span></li></ul></li><li><span><a href=\"#Exercise\" data-toc-modified-id=\"Exercise-3\"><span class=\"toc-item-num\">3&nbsp;&nbsp;</span>Exercise</a></span><ul class=\"toc-item\"><li><span><a href=\"#Generating-N-numbers\" data-toc-modified-id=\"Generating-N-numbers-3.1\"><span class=\"toc-item-num\">3.1&nbsp;&nbsp;</span>Generating N numbers</a></span></li><li><span><a href=\"#Estimation-of-the-error\" data-toc-modified-id=\"Estimation-of-the-error-3.2\"><span class=\"toc-item-num\">3.2&nbsp;&nbsp;</span>Estimation of the error</a></span></li><li><span><a href=\"#Using-bootstrap!\" data-toc-modified-id=\"Using-bootstrap!-3.3\"><span class=\"toc-item-num\">3.3&nbsp;&nbsp;</span>Using bootstrap!</a></span></li></ul></li></ul></div>"
   ]
  },
  {
   "cell_type": "markdown",
   "metadata": {},
   "source": [
    "# Bootstrap\n"
   ]
  },
  {
   "cell_type": "markdown",
   "metadata": {},
   "source": [
    " # Statistical property of [mean of the N numbers]"
   ]
  },
  {
   "cell_type": "markdown",
   "metadata": {},
   "source": [
    "## Generating N random numbers"
   ]
  },
  {
   "cell_type": "code",
   "execution_count": 1,
   "metadata": {},
   "outputs": [
    {
     "data": {
      "image/png": "[encoded data removed]",
      "text/plain": [
       "<Figure size 432x288 with 1 Axes>"
      ]
     },
     "metadata": {},
     "output_type": "display_data"
    }
   ],
   "source": [
    "import numpy as np\n",
    "import matplotlib.pyplot as plt\n",
    "%matplotlib inline\n",
    "\n",
    "N=100\n",
    "np.random.seed(0)\n",
    "X=np.random.randn(N)\n",
    "plt.scatter(X,np.zeros(N), s=1)\n",
    "plt.show()\n"
   ]
  },
  {
   "cell_type": "markdown",
   "metadata": {},
   "source": [
    "## By theory"
   ]
  },
  {
   "cell_type": "code",
   "execution_count": 2,
   "metadata": {},
   "outputs": [
    {
     "name": "stdout",
     "output_type": "stream",
     "text": [
      "the expectation of [mean of N numbers] (theory) 0\n",
      "the       stdev of [mean of N numbers] (theory) 0.1\n"
     ]
    }
   ],
   "source": [
    "print(\"the expectation of [mean of N numbers] (theory)\", 0)\n",
    "print(\"the       stdev of [mean of N numbers] (theory)\", 1/np.sqrt(N))"
   ]
  },
  {
   "cell_type": "markdown",
   "metadata": {},
   "source": [
    "## Or, doing monate carlo, because we know how the N numbers were generated!"
   ]
  },
  {
   "cell_type": "code",
   "execution_count": 3,
   "metadata": {},
   "outputs": [
    {
     "name": "stdout",
     "output_type": "stream",
     "text": [
      "the expectation of [mean of N numbers] (monte carlo) 4.335782196302293e-05\n",
      "the       stdev of [mean of N numbers] (monte carlo) 0.10020249094145829\n"
     ]
    }
   ],
   "source": [
    "np.random.seed(234)\n",
    "Xs=np.random.randn(100000,N)\n",
    "rmeans=np.mean(Xs,axis=1)\n",
    "rmean=np.mean(rmeans)\n",
    "rstddev=np.std(rmeans, ddof=1)\n",
    "print(\"the expectation of [mean of N numbers] (monte carlo)\", rmean)\n",
    "print(\"the       stdev of [mean of N numbers] (monte carlo)\", rstddev)"
   ]
  },
  {
   "cell_type": "markdown",
   "metadata": {},
   "source": [
    "## Or, we can bootstrap with original sample"
   ]
  },
  {
   "cell_type": "code",
   "execution_count": 4,
   "metadata": {},
   "outputs": [
    {
     "name": "stdout",
     "output_type": "stream",
     "text": [
      "the expectation of [mean of N numbers] (bootstrap sampling) 0.06064693264093737\n",
      "the       stdev of [mean of N numbers] (bootstrap sampling) 0.10097970829675619\n"
     ]
    }
   ],
   "source": [
    "np.random.seed(234)\n",
    "sample=np.random.choice(X,size=[100000,N],replace=True)\n",
    "bmeans=np.mean(sample,axis=1)\n",
    "bmean=np.mean(bmeans)\n",
    "bstddev=np.std(bmeans, ddof=1)\n",
    "print(\"the expectation of [mean of N numbers] (bootstrap sampling)\", bmean)\n",
    "print(\"the       stdev of [mean of N numbers] (bootstrap sampling)\", bstddev)\n"
   ]
  },
  {
   "cell_type": "markdown",
   "metadata": {},
   "source": [
    "## Comparison"
   ]
  },
  {
   "cell_type": "code",
   "execution_count": 5,
   "metadata": {},
   "outputs": [
    {
     "name": "stdout",
     "output_type": "stream",
     "text": [
      "the expectation of [mean of N numbers] (theory) 0\n",
      "the       stdev of [mean of N numbers] (theory) 0.1\n",
      "the expectation of [mean of N numbers] (monte carlo) 4.335782196302293e-05\n",
      "the       stdev of [mean of N numbers] (monte carlo) 0.10020249094145829\n",
      "the expectation of [mean of N numbers] (bootstrap sampling) 0.06064693264093737\n",
      "the       stdev of [mean of N numbers] (bootstrap sampling) 0.10097970829675619\n"
     ]
    },
    {
     "data": {
      "image/png": "[encoded data removed]",
      "text/plain": [
       "<Figure size 432x288 with 1 Axes>"
      ]
     },
     "metadata": {},
     "output_type": "display_data"
    }
   ],
   "source": [
    "print(\"the expectation of [mean of N numbers] (theory)\", 0)\n",
    "print(\"the       stdev of [mean of N numbers] (theory)\", 1/np.sqrt(N))\n",
    "print(\"the expectation of [mean of N numbers] (monte carlo)\", rmean)\n",
    "print(\"the       stdev of [mean of N numbers] (monte carlo)\", rstddev)\n",
    "print(\"the expectation of [mean of N numbers] (bootstrap sampling)\", bmean)\n",
    "print(\"the       stdev of [mean of N numbers] (bootstrap sampling)\", bstddev)\n",
    "\n",
    "\n",
    "l2=plt.plot(np.linspace(-1,1,100), 1/np.sqrt(2*np.pi)/0.1*np.exp( -np.linspace(-1,1,100)**2 / (2*0.01)), label=\"theory\")\n",
    "l2=plt.hist(rmeans,density=True,histtype='step',label=\"monte carlo\")\n",
    "l1=plt.hist(bmeans,density=True,histtype='step',label=\"bootstrap\")\n",
    "plt.legend()\n",
    "plt.xlabel(\"mean of N numbers\")\n",
    "plt.ylabel(\"PDF\")\n",
    "plt.show()\n",
    "\n"
   ]
  },
  {
   "cell_type": "markdown",
   "metadata": {},
   "source": [
    "# Exercise"
   ]
  },
  {
   "cell_type": "markdown",
   "metadata": {},
   "source": [
    "## Generating N numbers\n",
    "\n",
    "we can estimate the mean and stddev"
   ]
  },
  {
   "cell_type": "code",
   "execution_count": 6,
   "metadata": {},
   "outputs": [
    {
     "data": {
      "image/png": "[encoded data removed]",
      "text/plain": [
       "<Figure size 432x288 with 1 Axes>"
      ]
     },
     "metadata": {},
     "output_type": "display_data"
    },
    {
     "name": "stdout",
     "output_type": "stream",
     "text": [
      "  mean = 0.054\n",
      "stddev = 1.046\n"
     ]
    }
   ],
   "source": [
    "def data_of_unkonw_distribution():\n",
    "    np.random.seed(0)\n",
    "    N=100\n",
    "    X=np.random.randn(N) + np.random.rand(N) - 0.5\n",
    "    return X\n",
    "    \n",
    "X=data_of_unkonw_distribution()\n",
    "plt.scatter(X,np.zeros(N))\n",
    "plt.show()\n",
    "\n",
    "mean=np.mean(X)\n",
    "stddev=np.std(X, ddof=1)\n",
    "print(\"  mean = %.3f\"%(mean))\n",
    "print(\"stddev = %.3f\"%(stddev))\n"
   ]
  },
  {
   "cell_type": "markdown",
   "metadata": {},
   "source": [
    "## Estimation of the error\n",
    "We can estimate the error of mean. But how to estimate the error of stddev?\n",
    "we can't do monte carlo, because we have don't the exact distribution of the data."
   ]
  },
  {
   "cell_type": "code",
   "execution_count": 9,
   "metadata": {},
   "outputs": [
    {
     "name": "stdout",
     "output_type": "stream",
     "text": [
      "  mean = 0.054 +- 0.105\n",
      "stddev = 1.046 +- ?\n"
     ]
    }
   ],
   "source": [
    "print(\"  mean = %.3f +- %.3f\"%(mean,stddev/np.sqrt(N)))\n",
    "print(\"stddev = %.3f +- ?\"%(stddev))"
   ]
  },
  {
   "cell_type": "markdown",
   "metadata": {},
   "source": [
    "## Using bootstrap!"
   ]
  },
  {
   "cell_type": "code",
   "execution_count": 10,
   "metadata": {},
   "outputs": [
    {
     "name": "stdout",
     "output_type": "stream",
     "text": [
      "bootstrap 1 sigma error of mean    = 0.104135\n",
      "bootstrap 1 sigma error of stddev  = 0.068363\n"
     ]
    }
   ],
   "source": [
    "np.random.seed(234)\n",
    "sample=np.random.choice(X,size=[1000000,N],replace=True)\n",
    "bmeans=np.mean(sample,axis=1)\n",
    "bstddevs=np.std( sample, axis=1 , ddof=1)\n",
    "\n",
    "bmeanstddev=np.std(bmeans, ddof=1)\n",
    "bstddevstddev=np.std(bstddevs, ddof=1)\n",
    "\n",
    "print(\"bootstrap 1 sigma error of mean    = %f\"%(bmeanstddev))\n",
    "print(\"bootstrap 1 sigma error of stddev  = %f\"%(bstddevstddev))\n"
   ]
  },
  {
   "cell_type": "markdown",
   "metadata": {},
   "source": [
    "Wow, the 1 sigma error of mean is closed to the one of theory!\n",
    "We believe the 1 sigma error of stddev is also closed to the one of theory!"
   ]
  }
 ],
 "metadata": {
  "kernelspec": {
   "display_name": "Python 3",
   "language": "python",
   "name": "python3"
  },
  "language_info": {
   "codemirror_mode": {
    "name": "ipython",
    "version": 3
   },
   "file_extension": ".py",
   "mimetype": "text/x-python",
   "name": "python",
   "nbconvert_exporter": "python",
   "pygments_lexer": "ipython3",
   "version": "3.6.7"
  },
  "toc": {
   "base_numbering": 1,
   "nav_menu": {},
   "number_sections": true,
   "sideBar": true,
   "skip_h1_title": false,
   "title_cell": "Table of Contents",
   "title_sidebar": "Contents",
   "toc_cell": true,
   "toc_position": {},
   "toc_section_display": true,
   "toc_window_display": true
  }
 },
 "nbformat": 4,
 "nbformat_minor": 2
}
