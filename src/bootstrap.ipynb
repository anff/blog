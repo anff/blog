{
 "cells": [
  {
   "cell_type": "markdown",
   "metadata": {
    "toc": true
   },
   "source": [
    "<h1>Table of Contents<span class=\"tocSkip\"></span></h1>\n",
    "<div class=\"toc\"><ul class=\"toc-item\"><li><span><a href=\"#Bootstrap\" data-toc-modified-id=\"Bootstrap-1\"><span class=\"toc-item-num\">1&nbsp;&nbsp;</span>Bootstrap</a></span></li><li><span><a href=\"#Statistical-property-of-[mean-of-the-N-numbers]\" data-toc-modified-id=\"Statistical-property-of-[mean-of-the-N-numbers]-2\"><span class=\"toc-item-num\">2&nbsp;&nbsp;</span>Statistical property of [mean of the N numbers]</a></span><ul class=\"toc-item\"><li><span><a href=\"#Generating-N-random-numbers\" data-toc-modified-id=\"Generating-N-random-numbers-2.1\"><span class=\"toc-item-num\">2.1&nbsp;&nbsp;</span>Generating N random numbers</a></span></li><li><span><a href=\"#By-theory\" data-toc-modified-id=\"By-theory-2.2\"><span class=\"toc-item-num\">2.2&nbsp;&nbsp;</span>By theory</a></span></li><li><span><a href=\"#Or,-doing-monate-carlo,-because-we-know-how-the-N-numbers-were-generated!\" data-toc-modified-id=\"Or,-doing-monate-carlo,-because-we-know-how-the-N-numbers-were-generated!-2.3\"><span class=\"toc-item-num\">2.3&nbsp;&nbsp;</span>Or, doing monate carlo, because we know how the N numbers were generated!</a></span></li><li><span><a href=\"#Or,-we-can-bootstrap-with-original-sample\" data-toc-modified-id=\"Or,-we-can-bootstrap-with-original-sample-2.4\"><span class=\"toc-item-num\">2.4&nbsp;&nbsp;</span>Or, we can bootstrap with original sample</a></span></li><li><span><a href=\"#Comparison\" data-toc-modified-id=\"Comparison-2.5\"><span class=\"toc-item-num\">2.5&nbsp;&nbsp;</span>Comparison</a></span></li></ul></li><li><span><a href=\"#Exercise\" data-toc-modified-id=\"Exercise-3\"><span class=\"toc-item-num\">3&nbsp;&nbsp;</span>Exercise</a></span><ul class=\"toc-item\"><li><span><a href=\"#Generating-N-numbers\" data-toc-modified-id=\"Generating-N-numbers-3.1\"><span class=\"toc-item-num\">3.1&nbsp;&nbsp;</span>Generating N numbers</a></span></li><li><span><a href=\"#Parameter-estimation\" data-toc-modified-id=\"Parameter-estimation-3.2\"><span class=\"toc-item-num\">3.2&nbsp;&nbsp;</span>Parameter estimation</a></span></li><li><span><a href=\"#Error-of-the-estimation\" data-toc-modified-id=\"Error-of-the-estimation-3.3\"><span class=\"toc-item-num\">3.3&nbsp;&nbsp;</span>Error of the estimation</a></span></li><li><span><a href=\"#Using-bootstrap!\" data-toc-modified-id=\"Using-bootstrap!-3.4\"><span class=\"toc-item-num\">3.4&nbsp;&nbsp;</span>Using bootstrap!</a></span></li><li><span><a href=\"#Variance-of-the-error\" data-toc-modified-id=\"Variance-of-the-error-3.5\"><span class=\"toc-item-num\">3.5&nbsp;&nbsp;</span>Variance of the error</a></span></li></ul></li><li><span><a href=\"#Appendix:-Estimators\" data-toc-modified-id=\"Appendix:-Estimators-4\"><span class=\"toc-item-num\">4&nbsp;&nbsp;</span>Appendix: Estimators</a></span></li></ul></div>"
   ]
  },
  {
   "cell_type": "markdown",
   "metadata": {},
   "source": [
    "# Bootstrap\n"
   ]
  },
  {
   "cell_type": "markdown",
   "metadata": {},
   "source": [
    " # Statistical property of [mean of the N numbers]"
   ]
  },
  {
   "cell_type": "markdown",
   "metadata": {},
   "source": [
    "## Generating N random numbers"
   ]
  },
  {
   "cell_type": "code",
   "execution_count": 1,
   "metadata": {},
   "outputs": [
    {
     "data": {
      "image/png": "[encoded data removed]",
      "text/plain": [
       "<Figure size 432x288 with 1 Axes>"
      ]
     },
     "metadata": {
      "needs_background": "light"
     },
     "output_type": "display_data"
    }
   ],
   "source": [
    "import numpy as np\n",
    "import matplotlib.pyplot as plt\n",
    "%matplotlib inline\n",
    "\n",
    "N=100\n",
    "np.random.seed(0)\n",
    "X=np.random.randn(N)\n",
    "plt.scatter(X,np.zeros(N), s=1)\n",
    "plt.show()\n"
   ]
  },
  {
   "cell_type": "markdown",
   "metadata": {},
   "source": [
    "## By theory"
   ]
  },
  {
   "cell_type": "code",
   "execution_count": 2,
   "metadata": {},
   "outputs": [
    {
     "name": "stdout",
     "output_type": "stream",
     "text": [
      "the expectation of [mean of N numbers] (theory) 0\n",
      "the       stdev of [mean of N numbers] (theory) 0.1\n"
     ]
    }
   ],
   "source": [
    "print(\"the expectation of [mean of N numbers] (theory)\", 0)\n",
    "print(\"the       stdev of [mean of N numbers] (theory)\", 1/np.sqrt(N))"
   ]
  },
  {
   "cell_type": "markdown",
   "metadata": {},
   "source": [
    "## Or, doing monate carlo, because we know how the N numbers were generated!"
   ]
  },
  {
   "cell_type": "code",
   "execution_count": null,
   "metadata": {},
   "outputs": [],
   "source": [
    "np.random.seed(234)\n",
    "Xs=np.random.randn(100000,N)\n",
    "rmeans=np.mean(Xs,axis=1)\n",
    "rmean=np.mean(rmeans)\n",
    "rstddev=np.std(rmeans, ddof=1)\n",
    "print(\"the expectation of [mean of N numbers] (monte carlo)\", rmean)\n",
    "print(\"the       stdev of [mean of N numbers] (monte carlo)\", rstddev)"
   ]
  },
  {
   "cell_type": "markdown",
   "metadata": {},
   "source": [
    "## Or, we can bootstrap with original sample"
   ]
  },
  {
   "cell_type": "code",
   "execution_count": null,
   "metadata": {},
   "outputs": [],
   "source": [
    "np.random.seed(234)\n",
    "sample=np.random.choice(X,size=[100000,N],replace=True)\n",
    "bmeans=np.mean(sample,axis=1)\n",
    "bmean=np.mean(bmeans)\n",
    "bstddev=np.std(bmeans, ddof=1)\n",
    "print(\"the expectation of [mean of N numbers] (bootstrap sampling)\", bmean)\n",
    "print(\"the       stdev of [mean of N numbers] (bootstrap sampling)\", bstddev)\n"
   ]
  },
  {
   "cell_type": "markdown",
   "metadata": {},
   "source": [
    "## Comparison"
   ]
  },
  {
   "cell_type": "code",
   "execution_count": null,
   "metadata": {},
   "outputs": [],
   "source": [
    "print(\"the expectation of [mean of N numbers] (theory)\", 0)\n",
    "print(\"the       stdev of [mean of N numbers] (theory)\", 1/np.sqrt(N))\n",
    "print(\"the expectation of [mean of N numbers] (monte carlo)\", rmean)\n",
    "print(\"the       stdev of [mean of N numbers] (monte carlo)\", rstddev)\n",
    "print(\"the expectation of [mean of N numbers] (bootstrap sampling)\", bmean)\n",
    "print(\"the       stdev of [mean of N numbers] (bootstrap sampling)\", bstddev)\n",
    "\n",
    "\n",
    "l2=plt.plot(np.linspace(-1,1,100), 1/np.sqrt(2*np.pi)/0.1*np.exp( -np.linspace(-1,1,100)**2 / (2*0.01)), label=\"theory\")\n",
    "l2=plt.hist(rmeans,density=True,histtype='step',label=\"monte carlo\")\n",
    "l1=plt.hist(bmeans,density=True,histtype='step',label=\"bootstrap\")\n",
    "plt.legend()\n",
    "plt.xlabel(\"mean of N numbers\")\n",
    "plt.ylabel(\"PDF\")\n",
    "plt.show()\n",
    "\n"
   ]
  },
  {
   "cell_type": "markdown",
   "metadata": {},
   "source": [
    "# Exercise"
   ]
  },
  {
   "cell_type": "markdown",
   "metadata": {},
   "source": [
    "## Generating N numbers\n",
    "\n",
    "We can estimate the expectation and standard deviation"
   ]
  },
  {
   "cell_type": "code",
   "execution_count": null,
   "metadata": {},
   "outputs": [],
   "source": [
    "def data_of_unkonw_distribution():\n",
    "    np.random.seed(0)\n",
    "    N = 100\n",
    "    X = np.random.randn(N) + np.random.rand(N) - 0.5\n",
    "    return X\n",
    "\n",
    "    X = data_of_unkonw_distribution()\n",
    "\n",
    "\n",
    "plt.scatter(X, np.zeros(N))\n",
    "plt.show()\n",
    "\n"
   ]
  },
  {
   "cell_type": "markdown",
   "metadata": {},
   "source": [
    "## Parameter estimation"
   ]
  },
  {
   "cell_type": "code",
   "execution_count": null,
   "metadata": {},
   "outputs": [],
   "source": [
    "mean = np.mean(X)\n",
    "stddev = np.std(X, ddof=1)\n",
    "print(\"  mean = %.3f\" % (mean))\n",
    "print(\"stddev = %.3f\" % (stddev))"
   ]
  },
  {
   "cell_type": "markdown",
   "metadata": {},
   "source": [
    "## Error of the estimation\n",
    "We can estimate the error of mean. But how to estimate the error of stddev?\n",
    "we can't do monte carlo, because we have don't the exact distribution of the data."
   ]
  },
  {
   "cell_type": "code",
   "execution_count": null,
   "metadata": {},
   "outputs": [],
   "source": [
    "print(\"  mean = %.3f +- %.3f\"%(mean,stddev/np.sqrt(N)))\n",
    "print(\"stddev = %.3f +- ?\"%(stddev))"
   ]
  },
  {
   "cell_type": "markdown",
   "metadata": {},
   "source": [
    "## Using bootstrap!"
   ]
  },
  {
   "cell_type": "code",
   "execution_count": null,
   "metadata": {},
   "outputs": [],
   "source": [
    "np.random.seed(234)\n",
    "sample = np.random.choice(X, size=[1000000, N], replace=True)\n",
    "bmeans = np.mean(sample, axis=1)\n",
    "bstddevs = np.std(sample, axis=1, ddof=1)\n",
    "\n",
    "bmeanstddev = np.std(bmeans, ddof=1)\n",
    "bstddevstddev = np.std(bstddevs, ddof=1)\n",
    "\n",
    "print(\"bootstrap 1 sigma error of mean    = %f\" % (bmeanstddev))\n",
    "print(\"bootstrap 1 sigma error of stddev  = %f\" % (bstddevstddev))"
   ]
  },
  {
   "cell_type": "markdown",
   "metadata": {},
   "source": [
    "Wow, the 1 sigma error of mean is closed to the one of theory!\n",
    "This let use be very confident that standard deviation is also closed to the one of theory!"
   ]
  },
  {
   "cell_type": "markdown",
   "metadata": {},
   "source": [
    "## Variance of the error\n",
    "\n",
    "We are lucky there is a formula to calculate the variance of the variance estimator, ${\\rm Var}(\\hat{\\sigma^2})$, in theory. Then we known the standard deviation of the variance estimator, ${\\rm Std}[\\hat{\\sigma^2}]$.\n",
    "At the first order approximation, we can the calculate the standard deviation of square root of the variance estimator by\n",
    "$$\n",
    "{\\rm Std}[\\sqrt{\\hat{\\sigma^2}}] \\approx \\frac{{\\rm Std}[\\hat{\\sigma^2}]}{2\\hat{\\sigma}}\n",
    "$$"
   ]
  },
  {
   "cell_type": "code",
   "execution_count": null,
   "metadata": {},
   "outputs": [],
   "source": [
    "def estimate_std_of_std(X):\n",
    "    n = X.shape[0]\n",
    "    mean = np.mean(X)\n",
    "    sigma2 = np.sum((X - mean)**2)/(n-1)\n",
    "    mu_4 = np.mean((X - mean)**4)\n",
    "    sigma = np.sqrt(sigma2)\n",
    "    sigma4 = sigma2 *sigma2\n",
    "    # although sigma2 is unbias, sigma4 is still bias, but it's OK\n",
    "    var_of_var = mu_4 / n - sigma2**2 * (n - 3) / (n * (n - 1))\n",
    "    std_of_std = np.sqrt(var_of_var) / (2 * sigma)\n",
    "    return std_of_std\n",
    "\n",
    "\n",
    "print(estimate_var_of_std(X))"
   ]
  },
  {
   "cell_type": "markdown",
   "metadata": {},
   "source": [
    "# Appendix: Estimators"
   ]
  },
  {
   "cell_type": "markdown",
   "metadata": {},
   "source": [
    "\n",
    "|  <div style=\"width:150px\">  </div> | <div style=\"width:150px\"> symbol </div> |  <div style=\"width:150px\"> formula </div> |\n",
    "| - | - |    -    |\n",
    "| expectation,mean|   $\\mu$   | $E[x]$ |\n",
    "| variance|   $\\sigma^2$ | $E[(x-\\mu)^2]$|\n",
    "| fourth central moment|  $\\mu_4$  |    $E[(x-\\mu)^4]$  |\n",
    "| estimator of mean | $\\hat{\\mu}$ | $\\frac{1}{n} \\sum_i x_i$  |\n",
    "| estimator of variance | $\\hat{\\sigma^2}$ | $ \\frac{1}{n-1}\\sum_i (x_i - \\hat{\\mu})^2 $\n",
    "| estimator of $\\mu_4$ | $\\hat{\\mu_4}$ | $ \\frac{1}{n-1}\\sum_i (x_i - \\hat{\\mu})^4 $\n",
    "| variance of estimator of expectation |${\\rm Var}[\\hat{\\mu}]$| $\\frac{\\sigma^2}{n}$|\n",
    "| variance of estimator of variance | ${\\rm Var}[\\hat{\\sigma^2}]$ | $ {\\mu_4\\over n}-{\\sigma^4\\,(n-3)\\over n\\,(n-1)} $\n",
    "\n"
   ]
  }
 ],
 "metadata": {
  "hide_input": false,
  "kernelspec": {
   "display_name": "Python 3",
   "language": "python",
   "name": "python3"
  },
  "language_info": {
   "codemirror_mode": {
    "name": "ipython",
    "version": 3
   },
   "file_extension": ".py",
   "mimetype": "text/x-python",
   "name": "python",
   "nbconvert_exporter": "python",
   "pygments_lexer": "ipython3",
   "version": "3.6.7"
  },
  "toc": {
   "base_numbering": 1,
   "nav_menu": {},
   "number_sections": true,
   "sideBar": true,
   "skip_h1_title": false,
   "title_cell": "Table of Contents",
   "title_sidebar": "Contents",
   "toc_cell": true,
   "toc_position": {},
   "toc_section_display": true,
   "toc_window_display": false
  },
  "varInspector": {
   "cols": {
    "lenName": "24",
    "lenType": "16",
    "lenVar": 40
   },
   "kernels_config": {
    "python": {
     "delete_cmd_postfix": "",
     "delete_cmd_prefix": "del ",
     "library": "var_list.py",
     "varRefreshCmd": "print(var_dic_list())"
    },
    "r": {
     "delete_cmd_postfix": ") ",
     "delete_cmd_prefix": "rm(",
     "library": "var_list.r",
     "varRefreshCmd": "cat(var_dic_list()) "
    }
   },
   "types_to_exclude": [
    "module",
    "function",
    "builtin_function_or_method",
    "instance",
    "_Feature"
   ],
   "window_display": false
  }
 },
 "nbformat": 4,
 "nbformat_minor": 2
}
